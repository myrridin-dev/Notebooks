{
 "cells": [
  {
   "cell_type": "code",
   "execution_count": 11,
   "metadata": {},
   "outputs": [],
   "source": [
    "# splitting function for chunking up filing information to avoid hitting LLM token limits\n",
    "import re\n",
    "import numpy as np\n",
    "\n",
    "def split_filing_info(s, chunk_size=5):\n",
    "    pattern = '(</(\\w+:)?infoTable>)' # first group of matcher is outermost (), second group is innermost ()\n",
    "    print(re.findall(pattern, s))\n",
    "    splitter = re.findall(pattern, s)[0][0] # this just the first match's first group, which is '</infoTable>' (the splitter), used in line 14 to join back with the split parts\n",
    "    _parts = s.split(splitter)\n",
    "    if len(_parts) > chunk_size:\n",
    "        chunks_of_list = np.array_split(_parts, len(_parts)/chunk_size) # max 5 filings per part\n",
    "        chunks_of_str = map(lambda x: splitter.join(x), chunks_of_list)\n",
    "        return list(chunks_of_str)\n",
    "    else:\n",
    "        return [s]"
   ]
  },
  {
   "cell_type": "code",
   "execution_count": 12,
   "metadata": {},
   "outputs": [],
   "source": [
    "s = '''\n",
    "    <infoTable>\n",
    "        <nameOfIssuer>AAON INC</nameOfIssuer>\n",
    "        <titleOfClass>COM PAR $0.004</titleOfClass>\n",
    "        <cusip>000360206</cusip>\n",
    "        <value>25000</value>\n",
    "        <shrsOrPrnAmt>\n",
    "            <sshPrnamt>262</sshPrnamt>\n",
    "            <sshPrnamtType>SH</sshPrnamtType>\n",
    "        </shrsOrPrnAmt>\n",
    "        <investmentDiscretion>DFND</investmentDiscretion>\n",
    "        <otherManager>5</otherManager>\n",
    "        <votingAuthority>\n",
    "            <Sole>262</Sole>\n",
    "            <Shared>0</Shared>\n",
    "            <None>0</None>\n",
    "        </votingAuthority>\n",
    "    </infoTable>\n",
    "    <infoTable>\n",
    "        <nameOfIssuer>AAON INC</nameOfIssuer>\n",
    "        <titleOfClass>COM PAR $0.004</titleOfClass>\n",
    "        <cusip>000360206</cusip>\n",
    "        <value>13000</value>\n",
    "        <shrsOrPrnAmt>\n",
    "            <sshPrnamt>138</sshPrnamt>\n",
    "            <sshPrnamtType>SH</sshPrnamtType>\n",
    "        </shrsOrPrnAmt>\n",
    "        <investmentDiscretion>DFND</investmentDiscretion>\n",
    "        <otherManager>15</otherManager>\n",
    "        <votingAuthority>\n",
    "            <Sole>138</Sole>\n",
    "            <Shared>0</Shared>\n",
    "            <None>0</None>\n",
    "        </votingAuthority>\n",
    "    </infoTable>\n",
    "        <infoTable>\n",
    "        <nameOfIssuer>AAON INC</nameOfIssuer>\n",
    "        <titleOfClass>COM PAR $0.004</titleOfClass>\n",
    "        <cusip>000360206</cusip>\n",
    "        <value>237000</value>\n",
    "        <shrsOrPrnAmt>\n",
    "            <sshPrnamt>2454</sshPrnamt>\n",
    "            <sshPrnamtType>SH</sshPrnamtType>\n",
    "        </shrsOrPrnAmt>\n",
    "        <investmentDiscretion>SOLE</investmentDiscretion>\n",
    "        <votingAuthority>\n",
    "            <Sole>2454</Sole>\n",
    "            <Shared>0</Shared>\n",
    "            <None>0</None>\n",
    "        </votingAuthority>\n",
    "    </infoTable>\n",
    "    <infoTable>\n",
    "        <nameOfIssuer>AAR CORP</nameOfIssuer>\n",
    "        <titleOfClass>COM</titleOfClass>\n",
    "        <cusip>000361105</cusip>\n",
    "        <value>80000</value>\n",
    "        <shrsOrPrnAmt>\n",
    "            <sshPrnamt>1459</sshPrnamt>\n",
    "            <sshPrnamtType>SH</sshPrnamtType>\n",
    "        </shrsOrPrnAmt>\n",
    "        <investmentDiscretion>DFND</investmentDiscretion>\n",
    "        <otherManager>3</otherManager>\n",
    "        <votingAuthority>\n",
    "            <Sole>1459</Sole>\n",
    "            <Shared>0</Shared>\n",
    "            <None>0</None>\n",
    "        </votingAuthority>\n",
    "    </infoTable>\n",
    "'''"
   ]
  },
  {
   "cell_type": "code",
   "execution_count": 13,
   "metadata": {},
   "outputs": [
    {
     "name": "stdout",
     "output_type": "stream",
     "text": [
      "[('</infoTable>', ''), ('</infoTable>', ''), ('</infoTable>', ''), ('</infoTable>', '')]\n"
     ]
    },
    {
     "data": {
      "text/plain": [
       "['\\n    <infoTable>\\n        <nameOfIssuer>AAON INC</nameOfIssuer>\\n        <titleOfClass>COM PAR $0.004</titleOfClass>\\n        <cusip>000360206</cusip>\\n        <value>25000</value>\\n        <shrsOrPrnAmt>\\n            <sshPrnamt>262</sshPrnamt>\\n            <sshPrnamtType>SH</sshPrnamtType>\\n        </shrsOrPrnAmt>\\n        <investmentDiscretion>DFND</investmentDiscretion>\\n        <otherManager>5</otherManager>\\n        <votingAuthority>\\n            <Sole>262</Sole>\\n            <Shared>0</Shared>\\n            <None>0</None>\\n        </votingAuthority>\\n    </infoTable>\\n    <infoTable>\\n        <nameOfIssuer>AAON INC</nameOfIssuer>\\n        <titleOfClass>COM PAR $0.004</titleOfClass>\\n        <cusip>000360206</cusip>\\n        <value>13000</value>\\n        <shrsOrPrnAmt>\\n            <sshPrnamt>138</sshPrnamt>\\n            <sshPrnamtType>SH</sshPrnamtType>\\n        </shrsOrPrnAmt>\\n        <investmentDiscretion>DFND</investmentDiscretion>\\n        <otherManager>15</otherManager>\\n        <votingAuthority>\\n            <Sole>138</Sole>\\n            <Shared>0</Shared>\\n            <None>0</None>\\n        </votingAuthority>\\n    </infoTable>\\n        <infoTable>\\n        <nameOfIssuer>AAON INC</nameOfIssuer>\\n        <titleOfClass>COM PAR $0.004</titleOfClass>\\n        <cusip>000360206</cusip>\\n        <value>237000</value>\\n        <shrsOrPrnAmt>\\n            <sshPrnamt>2454</sshPrnamt>\\n            <sshPrnamtType>SH</sshPrnamtType>\\n        </shrsOrPrnAmt>\\n        <investmentDiscretion>SOLE</investmentDiscretion>\\n        <votingAuthority>\\n            <Sole>2454</Sole>\\n            <Shared>0</Shared>\\n            <None>0</None>\\n        </votingAuthority>\\n    ',\n",
       " '\\n    <infoTable>\\n        <nameOfIssuer>AAR CORP</nameOfIssuer>\\n        <titleOfClass>COM</titleOfClass>\\n        <cusip>000361105</cusip>\\n        <value>80000</value>\\n        <shrsOrPrnAmt>\\n            <sshPrnamt>1459</sshPrnamt>\\n            <sshPrnamtType>SH</sshPrnamtType>\\n        </shrsOrPrnAmt>\\n        <investmentDiscretion>DFND</investmentDiscretion>\\n        <otherManager>3</otherManager>\\n        <votingAuthority>\\n            <Sole>1459</Sole>\\n            <Shared>0</Shared>\\n            <None>0</None>\\n        </votingAuthority>\\n    </infoTable>\\n']"
      ]
     },
     "execution_count": 13,
     "metadata": {},
     "output_type": "execute_result"
    }
   ],
   "source": [
    "split_filing_info(s, 2)"
   ]
  },
  {
   "cell_type": "code",
   "execution_count": null,
   "metadata": {},
   "outputs": [],
   "source": []
  }
 ],
 "metadata": {
  "kernelspec": {
   "display_name": "dlbase",
   "language": "python",
   "name": "python3"
  },
  "language_info": {
   "codemirror_mode": {
    "name": "ipython",
    "version": 3
   },
   "file_extension": ".py",
   "mimetype": "text/x-python",
   "name": "python",
   "nbconvert_exporter": "python",
   "pygments_lexer": "ipython3",
   "version": "3.10.13"
  }
 },
 "nbformat": 4,
 "nbformat_minor": 2
}
