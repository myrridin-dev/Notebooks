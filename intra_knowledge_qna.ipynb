{
 "cells": [
  {
   "cell_type": "markdown",
   "metadata": {},
   "source": [
    "### [Intra knowledge QnA](https://github.com/GoogleCloudPlatform/generative-ai/blob/main/gemini/use-cases/retrieval-augmented-generation/intra_knowledge_qna.ipynb)"
   ]
  },
  {
   "cell_type": "markdown",
   "metadata": {},
   "source": [
    "#### Vertex AI embeddings"
   ]
  },
  {
   "cell_type": "code",
   "execution_count": 238,
   "metadata": {},
   "outputs": [],
   "source": [
    "PROJECT_ID='first-vertexai-project'\n",
    "REGION_ID=\"us-central1\""
   ]
  },
  {
   "cell_type": "code",
   "execution_count": 239,
   "metadata": {},
   "outputs": [],
   "source": [
    "from vertexai.preview.language_models import TextEmbeddingModel"
   ]
  },
  {
   "cell_type": "code",
   "execution_count": 240,
   "metadata": {},
   "outputs": [],
   "source": [
    "INDEX_PATH = \"../Data/IRS-P554/Dataset/\"\n",
    "PERSIST_PATH = \"../Data/IRS-P554/PersistentDB/\"\n",
    "\n",
    "TEXT_MODEL = \"gemini-1.0-pro\"\n",
    "EMBEDDING_MODEL = \"textembedding-gecko@003\""
   ]
  },
  {
   "cell_type": "code",
   "execution_count": 241,
   "metadata": {},
   "outputs": [],
   "source": [
    "model = TextEmbeddingModel.from_pretrained(EMBEDDING_MODEL)"
   ]
  },
  {
   "cell_type": "markdown",
   "metadata": {},
   "source": [
    "#### Test embeddings"
   ]
  },
  {
   "cell_type": "code",
   "execution_count": 242,
   "metadata": {},
   "outputs": [],
   "source": [
    "from scipy import spatial\n",
    "\n",
    "cat_embedding = model.get_embeddings([\"cat\"])[0].values\n",
    "mouse_embedding = model.get_embeddings([\"mouse\"])[0].values\n",
    "car_embedding = model.get_embeddings([\"car\"])[0].values"
   ]
  },
  {
   "cell_type": "code",
   "execution_count": 243,
   "metadata": {},
   "outputs": [
    {
     "name": "stdout",
     "output_type": "stream",
     "text": [
      "similarity between cat and mouse is 0.22889688625572613\n",
      "similarity between cat and car is 0.19975199464123117\n"
     ]
    }
   ],
   "source": [
    "cat_mouse_sim = spatial.distance.cosine(cat_embedding, mouse_embedding)\n",
    "cat_car_sim = spatial.distance.cosine(cat_embedding, car_embedding)\n",
    "\n",
    "print(f\"similarity between cat and mouse is {cat_mouse_sim}\")\n",
    "print(f\"similarity between cat and car is {cat_car_sim}\")"
   ]
  },
  {
   "cell_type": "code",
   "execution_count": 244,
   "metadata": {},
   "outputs": [
    {
     "name": "stdout",
     "output_type": "stream",
     "text": [
      "LangChain version: 0.1.14\n",
      "Vertex AI SDK version: 1.46.0\n",
      "PDF miner version: 20221105\n"
     ]
    }
   ],
   "source": [
    "# Utils\n",
    "import os\n",
    "import time\n",
    "from typing import List\n",
    "\n",
    "# Langchain\n",
    "import langchain\n",
    "from langchain.chains import create_retrieval_chain\n",
    "from langchain.chains.combine_documents import create_stuff_documents_chain\n",
    "from langchain.document_loaders import TextLoader, UnstructuredPDFLoader\n",
    "from langchain.prompts import PromptTemplate\n",
    "from langchain.text_splitter import CharacterTextSplitter\n",
    "from langchain.vectorstores.chroma import Chroma\n",
    "from langchain_google_vertexai import VertexAI, VertexAIEmbeddings\n",
    "\n",
    "print(f\"LangChain version: {langchain.__version__}\")\n",
    "\n",
    "# Vertex AI\n",
    "from google.cloud import aiplatform\n",
    "\n",
    "print(f\"Vertex AI SDK version: {aiplatform.__version__}\")\n",
    "\n",
    "# PDF\n",
    "import pdfminer\n",
    "\n",
    "print(f\"PDF miner version: {pdfminer.__version__}\") # has to be 20221105\n"
   ]
  },
  {
   "cell_type": "markdown",
   "metadata": {},
   "source": [
    "#### Data preparation\n",
    "We will be using the public Internal Revenue Service(IRS) document which states the details for each section of tax eligibility for seniors in the USA. It consists of 37 pages.\n",
    "\n",
    "This document serves as the input PDF for generating and indexing embeddings, querying the model, and facilitating Question and Answer scenarios based on the data corpus."
   ]
  },
  {
   "cell_type": "code",
   "execution_count": 245,
   "metadata": {},
   "outputs": [
    {
     "name": "stdout",
     "output_type": "stream",
     "text": [
      "File ‘../Data/IRS-P554/Dataset/p554.pdf’ already there; not retrieving.\n",
      "\n"
     ]
    }
   ],
   "source": [
    "# Create the folder for input files\n",
    "!mkdir -p $INDEX_PATH\n",
    "\n",
    "# Download the files\n",
    "!wget -nc https://www.irs.gov/pub/irs-pdf/p554.pdf -P $INDEX_PATH"
   ]
  },
  {
   "cell_type": "markdown",
   "metadata": {},
   "source": [
    "#### Define utility functions\n",
    "Document Loading: Read in the content of the documents from the provided directory.\n",
    "\n",
    "Document Splitting: Creates a CharacterTextSplitter object with parameters:\n",
    "\n",
    "`chunk_size`: Aiming for text chunks of around 8192 characters.\n",
    "`chunk_overlap`: A small overlap between chunks, likely to preserve context when documents are split.\n",
    "Applies the text_splitter to the loaded documents, breaking them into smaller, more manageable text chunks.\n",
    "\n",
    "Gathers all the split text chunks into a single list and return for furter processing."
   ]
  },
  {
   "cell_type": "code",
   "execution_count": 246,
   "metadata": {},
   "outputs": [],
   "source": [
    "chunk_size=1024\n",
    "chunk_overlap=128"
   ]
  },
  {
   "cell_type": "code",
   "execution_count": 247,
   "metadata": {},
   "outputs": [],
   "source": [
    "def get_split_documents(index_path: str) -> List[str]:\n",
    "    \"\"\"\n",
    "    This function is used to chunk documents and convert them into a list.\n",
    "\n",
    "    Args:\n",
    "    index_path: Path of the dataset folder containing the documents.\n",
    "\n",
    "    Returns:\n",
    "    List of chunked, or split documents.\n",
    "    \"\"\"\n",
    "\n",
    "    split_docs = []\n",
    "\n",
    "    for file_name in os.listdir(index_path):\n",
    "        print(f\"file_name : {file_name}\")\n",
    "        if file_name.endswith(\".pdf\"):\n",
    "            loader = UnstructuredPDFLoader(index_path + file_name)\n",
    "        else:\n",
    "            loader = TextLoader(index_path + file_name)\n",
    "\n",
    "        text_splitter = CharacterTextSplitter(chunk_size=chunk_size, chunk_overlap=chunk_overlap)\n",
    "        split_docs.extend(text_splitter.split_documents(loader.load()))\n",
    "\n",
    "    return split_docs"
   ]
  },
  {
   "cell_type": "markdown",
   "metadata": {},
   "source": [
    "#### Create Vector Database\n",
    "Instantiate a VertexAIEmbeddings embedding object that will efficiently generate text embeddings using the specified textembedding-gecko@003 model."
   ]
  },
  {
   "cell_type": "code",
   "execution_count": 248,
   "metadata": {},
   "outputs": [],
   "source": [
    "# Custom VertexAI Embeddings object\n",
    "EMBEDDING_NUM_BATCH = 5\n",
    "\n",
    "embeddings = VertexAIEmbeddings(\n",
    "    model_name=EMBEDDING_MODEL, batch_size=EMBEDDING_NUM_BATCH\n",
    ")"
   ]
  },
  {
   "cell_type": "markdown",
   "metadata": {},
   "source": [
    "- Load Documents: `get_split_documents` function retrieves and preprocesses documents from the specified `INDEX_PATH`.\n",
    "- Generate Embeddings: The code generates vector embeddings\n",
    "- Create Vector Database: A Chroma vector database (db) is initialized. This specialized database is designed for storing and efficiently searching vector embeddings.\n",
    "- Persist Database: The db.persist() command saves the newly created vector database to disk at the location defined by `PERSIST_PATH` environment variable."
   ]
  },
  {
   "cell_type": "code",
   "execution_count": 249,
   "metadata": {},
   "outputs": [
    {
     "name": "stdout",
     "output_type": "stream",
     "text": [
      "file_name : p554.pdf\n"
     ]
    },
    {
     "name": "stderr",
     "output_type": "stream",
     "text": [
      "Created a chunk of size 1047, which is longer than the specified 1024\n",
      "Created a chunk of size 1171, which is longer than the specified 1024\n"
     ]
    },
    {
     "name": "stdout",
     "output_type": "stream",
     "text": [
      "647\n"
     ]
    }
   ],
   "source": [
    "# Load documents, generate vectors and store in Vector database\n",
    "split_docs = get_split_documents(INDEX_PATH)\n",
    "\n",
    "chromadb = Chroma.from_documents(\n",
    "    documents=split_docs, embedding=embeddings, persist_directory=PERSIST_PATH\n",
    ")\n",
    "chromadb.persist()  # Ensure DB persist\n",
    "\n",
    "print(len(chromadb))"
   ]
  },
  {
   "cell_type": "code",
   "execution_count": 250,
   "metadata": {},
   "outputs": [
    {
     "name": "stdout",
     "output_type": "stream",
     "text": [
      "201\n"
     ]
    }
   ],
   "source": [
    "from langchain_community.vectorstores import FAISS\n",
    "\n",
    "faissdb = FAISS.from_documents(\n",
    "    split_docs, embeddings)\n",
    "\n",
    "print(faissdb.index.ntotal)"
   ]
  },
  {
   "cell_type": "markdown",
   "metadata": {},
   "source": [
    "#### Create the Retriever\n",
    "Load the gemini generative model with parameters."
   ]
  },
  {
   "cell_type": "code",
   "execution_count": 251,
   "metadata": {},
   "outputs": [],
   "source": [
    "max_output_tokens=8192  # Token limit determines the maximum amount of text output.\n",
    "temperature=0.9         # Temperature controls the degree of randomness in token selection.\n",
    "top_p=0.95              # Tokens are selected from most probable to least until the sum of their probabilities equals the top_p value.\n",
    "top_k=40                # A top_k of 1 means the selected token is the most probable among all tokens."
   ]
  },
  {
   "cell_type": "code",
   "execution_count": 252,
   "metadata": {},
   "outputs": [],
   "source": [
    "#  Intialising the Vertex Language model with required parameters\n",
    "llm = VertexAI(\n",
    "    model=TEXT_MODEL,\n",
    "    max_output_tokens=max_output_tokens,\n",
    "    temperature=temperature,\n",
    "    top_p=top_p,\n",
    "    top_k=top_k,\n",
    "    verbose=True,\n",
    ")"
   ]
  },
  {
   "cell_type": "markdown",
   "metadata": {},
   "source": [
    "#### Vector store retriever for similarity search."
   ]
  },
  {
   "cell_type": "markdown",
   "metadata": {},
   "source": [
    "#### Test similarity search"
   ]
  },
  {
   "cell_type": "code",
   "execution_count": 253,
   "metadata": {},
   "outputs": [],
   "source": [
    "k_relevant=10\n",
    "query = \"Tell me about MilTax\""
   ]
  },
  {
   "cell_type": "code",
   "execution_count": 255,
   "metadata": {},
   "outputs": [
    {
     "data": {
      "text/plain": [
       "[(Document(page_content=\"1. You expect to owe at least $1,000 in tax for 2024, after subtracting your withholding and tax credits.\\n\\n2. You expect your withholding and tax credits to be less than the smaller of:\\n\\n90% of the tax to be shown on your 2024 tax return, or • 100% of the tax shown on your 2023 tax return. The 2023 tax return must cover all 12 months.\\n\\nMilTax. Members of the U.S. Armed Forces and quali- fied veterans may use MilTax, a free tax service of- fered by the Department of Defense through Military OneSource. For more information, go to MilitaryOneSource (MilitaryOneSource.mil/MilTax). Also, the IRS offers Free Fillable Forms, which can be completed online and then e-filed regardless of in- come.\\n\\nIf all of your income is subject to income tax withholding and enough tax is withheld, you probably don't need to make estimated tax payments.\\n\\nFor more information on estimated tax, see Pub. 505.\\n\\nUsing online tools to help prepare your return. Go to IRS.gov/Tools for the following.\", metadata={'source': '../Data/IRS-P554/Dataset/p554.pdf'}),\n",
       "  0.6170050501823425),\n",
       " (Document(page_content=\"1. You expect to owe at least $1,000 in tax for 2024, after subtracting your withholding and tax credits.\\n\\n2. You expect your withholding and tax credits to be less than the smaller of:\\n\\n90% of the tax to be shown on your 2024 tax return, or • 100% of the tax shown on your 2023 tax return. The 2023 tax return must cover all 12 months.\\n\\nMilTax. Members of the U.S. Armed Forces and quali- fied veterans may use MilTax, a free tax service of- fered by the Department of Defense through Military OneSource. For more information, go to MilitaryOneSource (MilitaryOneSource.mil/MilTax). Also, the IRS offers Free Fillable Forms, which can be completed online and then e-filed regardless of in- come.\\n\\nIf all of your income is subject to income tax withholding and enough tax is withheld, you probably don't need to make estimated tax payments.\\n\\nFor more information on estimated tax, see Pub. 505.\\n\\nUsing online tools to help prepare your return. Go to IRS.gov/Tools for the following.\", metadata={'source': '../Data/IRS-P554/Dataset/p554.pdf'}),\n",
       "  0.6170050501823425),\n",
       " (Document(page_content=\"1. You expect to owe at least $1,000 in tax for 2024, after subtracting your withholding and tax credits.\\n\\n2. You expect your withholding and tax credits to be less than the smaller of:\\n\\n90% of the tax to be shown on your 2024 tax return, or • 100% of the tax shown on your 2023 tax return. The 2023 tax return must cover all 12 months.\\n\\nMilTax. Members of the U.S. Armed Forces and quali- fied veterans may use MilTax, a free tax service of- fered by the Department of Defense through Military OneSource. For more information, go to MilitaryOneSource (MilitaryOneSource.mil/MilTax). Also, the IRS offers Free Fillable Forms, which can be completed online and then e-filed regardless of in- come.\\n\\nIf all of your income is subject to income tax withholding and enough tax is withheld, you probably don't need to make estimated tax payments.\\n\\nFor more information on estimated tax, see Pub. 505.\\n\\nUsing online tools to help prepare your return. Go to IRS.gov/Tools for the following.\", metadata={'source': '../Data/IRS-P554/Dataset/p554.pdf'}),\n",
       "  0.6170052027658226),\n",
       " (Document(page_content=\"Medicare Part A. If you are covered under social security (or if you are a government employee who paid Medicare tax), you are enrolled in Medicare Part A. The payroll tax paid for Medicare Part A isn't a medical expense. If you aren't covered under social security (or weren't a govern- ment employee who paid Medicare tax), you can enroll voluntarily in Medicare Part A. In this situation, you can in- clude the premiums you paid for Medicare Part A as a medical expense.\\n\\nMedicare Part B. Medicare Part B is a supplemental medical insurance. Premiums you pay for Medicare Part B are a medical expense. Check the information you re- ceived from the SSA to find out your premium.\", metadata={'source': '../Data/IRS-P554/Dataset/p554.pdf'}),\n",
       "  0.7222607135772705),\n",
       " (Document(page_content=\"Medicare Part A. If you are covered under social security (or if you are a government employee who paid Medicare tax), you are enrolled in Medicare Part A. The payroll tax paid for Medicare Part A isn't a medical expense. If you aren't covered under social security (or weren't a govern- ment employee who paid Medicare tax), you can enroll voluntarily in Medicare Part A. In this situation, you can in- clude the premiums you paid for Medicare Part A as a medical expense.\\n\\nMedicare Part B. Medicare Part B is a supplemental medical insurance. Premiums you pay for Medicare Part B are a medical expense. Check the information you re- ceived from the SSA to find out your premium.\", metadata={'source': '../Data/IRS-P554/Dataset/p554.pdf'}),\n",
       "  0.7222607135772705),\n",
       " (Document(page_content=\"Medicare Part A. If you are covered under social security (or if you are a government employee who paid Medicare tax), you are enrolled in Medicare Part A. The payroll tax paid for Medicare Part A isn't a medical expense. If you aren't covered under social security (or weren't a govern- ment employee who paid Medicare tax), you can enroll voluntarily in Medicare Part A. In this situation, you can in- clude the premiums you paid for Medicare Part A as a medical expense.\\n\\nMedicare Part B. Medicare Part B is a supplemental medical insurance. Premiums you pay for Medicare Part B are a medical expense. Check the information you re- ceived from the SSA to find out your premium.\", metadata={'source': '../Data/IRS-P554/Dataset/p554.pdf'}),\n",
       "  0.7222607135772705),\n",
       " (Document(page_content='SalesTax) figures the amount you can claim if you itemize deductions on Schedule A (Form 1040).\\n\\nGetting answers to your tax questions. On IRS.gov, you can get up-to-date information on current events and changes in tax law. • IRS.gov/Help: A variety of tools to help you get an- swers to some of the most common tax questions. • IRS.gov/ITA: The Interactive Tax Assistant, a tool that will ask you questions and, based on your input, pro- vide answers on a number of tax topics.\\n\\nportal Watching (IRSVideos.gov) contains video and audio presentations for individuals, small businesses, and tax professionals.\\n\\nIRS\\n\\nvideos. The\\n\\nIRS Video\\n\\nOnline tax information in other languages. You can find information on IRS.gov/MyLanguage if English isn’t your native language.\\n\\nIRS.gov/Forms: Find forms, instructions, and publica- tions. You will find details on the most recent tax changes and interactive links to help you find answers to your questions.', metadata={'source': '../Data/IRS-P554/Dataset/p554.pdf'}),\n",
       "  0.7424228191375732),\n",
       " (Document(page_content='SalesTax) figures the amount you can claim if you itemize deductions on Schedule A (Form 1040).\\n\\nGetting answers to your tax questions. On IRS.gov, you can get up-to-date information on current events and changes in tax law. • IRS.gov/Help: A variety of tools to help you get an- swers to some of the most common tax questions. • IRS.gov/ITA: The Interactive Tax Assistant, a tool that will ask you questions and, based on your input, pro- vide answers on a number of tax topics.\\n\\nportal Watching (IRSVideos.gov) contains video and audio presentations for individuals, small businesses, and tax professionals.\\n\\nIRS\\n\\nvideos. The\\n\\nIRS Video\\n\\nOnline tax information in other languages. You can find information on IRS.gov/MyLanguage if English isn’t your native language.\\n\\nIRS.gov/Forms: Find forms, instructions, and publica- tions. You will find details on the most recent tax changes and interactive links to help you find answers to your questions.', metadata={'source': '../Data/IRS-P554/Dataset/p554.pdf'}),\n",
       "  0.7424228191375732),\n",
       " (Document(page_content='SalesTax) figures the amount you can claim if you itemize deductions on Schedule A (Form 1040).\\n\\nGetting answers to your tax questions. On IRS.gov, you can get up-to-date information on current events and changes in tax law. • IRS.gov/Help: A variety of tools to help you get an- swers to some of the most common tax questions. • IRS.gov/ITA: The Interactive Tax Assistant, a tool that will ask you questions and, based on your input, pro- vide answers on a number of tax topics.\\n\\nportal Watching (IRSVideos.gov) contains video and audio presentations for individuals, small businesses, and tax professionals.\\n\\nIRS\\n\\nvideos. The\\n\\nIRS Video\\n\\nOnline tax information in other languages. You can find information on IRS.gov/MyLanguage if English isn’t your native language.\\n\\nIRS.gov/Forms: Find forms, instructions, and publica- tions. You will find details on the most recent tax changes and interactive links to help you find answers to your questions.', metadata={'source': '../Data/IRS-P554/Dataset/p554.pdf'}),\n",
       "  0.7424231911704909),\n",
       " (Document(page_content='Q Qualified retirement plan 10\\n\\nTax counseling for the elderly\\n\\nMarried taxpayers:\\n\\n(TCE) 3 Tax help 32 Tax option, 10-year 10 Tax return preparers 2 Taxable income: Generally 6\\n\\nAge 65 or older spouse:\\n\\nStandard deduction 21\\n\\nR Railroad retirement benefits 11, 12 Repayments:\\n\\nBlind spouse:\\n\\nStandard deduction 21 Meals and lodging expenses 24 Medical expenses 21 Medicare 25 Benefits 19 Medicines 25 Imported 25\\n\\nSocial security benefits 12 Reporting pension income 9 Residence, sale of (See Sale of\\n\\nTaxation of benefits 12 Terminally ill, defined 16 Transportation expenses 25\\n\\nhome)\\n\\nRetirement plans, distributions 6 Returns:\\n\\nU U.S. citizen or resident alien:\\n\\nMilitary retirement pay 11 Minimum distributions 10 Missing children 2 Mortgage assistance payments 19\\n\\nDecedent 6 Executors and administrators 6 Filing requirements 5 Surviving spouse 6 Reverse mortgages 18\\n\\nEligibility for elderly or disabled\\n\\ncredit: Exceptions for certain\\n\\nnonresident aliens 27', metadata={'source': '../Data/IRS-P554/Dataset/p554.pdf'}),\n",
       "  0.7459747835299712)]"
      ]
     },
     "execution_count": 255,
     "metadata": {},
     "output_type": "execute_result"
    }
   ],
   "source": [
    "chromadb.similarity_search_with_score(query=query, k=k_relevant)"
   ]
  },
  {
   "cell_type": "code",
   "execution_count": 256,
   "metadata": {},
   "outputs": [
    {
     "data": {
      "text/plain": [
       "[(Document(page_content=\"1. You expect to owe at least $1,000 in tax for 2024, after subtracting your withholding and tax credits.\\n\\n2. You expect your withholding and tax credits to be less than the smaller of:\\n\\n90% of the tax to be shown on your 2024 tax return, or • 100% of the tax shown on your 2023 tax return. The 2023 tax return must cover all 12 months.\\n\\nMilTax. Members of the U.S. Armed Forces and quali- fied veterans may use MilTax, a free tax service of- fered by the Department of Defense through Military OneSource. For more information, go to MilitaryOneSource (MilitaryOneSource.mil/MilTax). Also, the IRS offers Free Fillable Forms, which can be completed online and then e-filed regardless of in- come.\\n\\nIf all of your income is subject to income tax withholding and enough tax is withheld, you probably don't need to make estimated tax payments.\\n\\nFor more information on estimated tax, see Pub. 505.\\n\\nUsing online tools to help prepare your return. Go to IRS.gov/Tools for the following.\", metadata={'source': '../Data/IRS-P554/Dataset/p554.pdf'}),\n",
       "  0.5637114185491741),\n",
       " (Document(page_content=\"Medicare Part A. If you are covered under social security (or if you are a government employee who paid Medicare tax), you are enrolled in Medicare Part A. The payroll tax paid for Medicare Part A isn't a medical expense. If you aren't covered under social security (or weren't a govern- ment employee who paid Medicare tax), you can enroll voluntarily in Medicare Part A. In this situation, you can in- clude the premiums you paid for Medicare Part A as a medical expense.\\n\\nMedicare Part B. Medicare Part B is a supplemental medical insurance. Premiums you pay for Medicare Part B are a medical expense. Check the information you re- ceived from the SSA to find out your premium.\", metadata={'source': '../Data/IRS-P554/Dataset/p554.pdf'}),\n",
       "  0.48928480452596845),\n",
       " (Document(page_content='SalesTax) figures the amount you can claim if you itemize deductions on Schedule A (Form 1040).\\n\\nGetting answers to your tax questions. On IRS.gov, you can get up-to-date information on current events and changes in tax law. • IRS.gov/Help: A variety of tools to help you get an- swers to some of the most common tax questions. • IRS.gov/ITA: The Interactive Tax Assistant, a tool that will ask you questions and, based on your input, pro- vide answers on a number of tax topics.\\n\\nportal Watching (IRSVideos.gov) contains video and audio presentations for individuals, small businesses, and tax professionals.\\n\\nIRS\\n\\nvideos. The\\n\\nIRS Video\\n\\nOnline tax information in other languages. You can find information on IRS.gov/MyLanguage if English isn’t your native language.\\n\\nIRS.gov/Forms: Find forms, instructions, and publica- tions. You will find details on the most recent tax changes and interactive links to help you find answers to your questions.', metadata={'source': '../Data/IRS-P554/Dataset/p554.pdf'}),\n",
       "  0.4750275371990972),\n",
       " (Document(page_content='Q Qualified retirement plan 10\\n\\nTax counseling for the elderly\\n\\nMarried taxpayers:\\n\\n(TCE) 3 Tax help 32 Tax option, 10-year 10 Tax return preparers 2 Taxable income: Generally 6\\n\\nAge 65 or older spouse:\\n\\nStandard deduction 21\\n\\nR Railroad retirement benefits 11, 12 Repayments:\\n\\nBlind spouse:\\n\\nStandard deduction 21 Meals and lodging expenses 24 Medical expenses 21 Medicare 25 Benefits 19 Medicines 25 Imported 25\\n\\nSocial security benefits 12 Reporting pension income 9 Residence, sale of (See Sale of\\n\\nTaxation of benefits 12 Terminally ill, defined 16 Transportation expenses 25\\n\\nhome)\\n\\nRetirement plans, distributions 6 Returns:\\n\\nU U.S. citizen or resident alien:\\n\\nMilitary retirement pay 11 Minimum distributions 10 Missing children 2 Mortgage assistance payments 19\\n\\nDecedent 6 Executors and administrators 6 Filing requirements 5 Surviving spouse 6 Reverse mortgages 18\\n\\nEligibility for elderly or disabled\\n\\ncredit: Exceptions for certain\\n\\nnonresident aliens 27', metadata={'source': '../Data/IRS-P554/Dataset/p554.pdf'}),\n",
       "  0.4725161750837271),\n",
       " (Document(page_content='Volunteer Income Tax Assistance and Tax Coun- seling for the Elderly. These programs provide free help for low-income taxpayers and taxpayers age 60 or older to prepare and file their returns. For the VITA/TCE site near- est you, contact your local IRS office. For more informa- tion, see Preparing and filing your tax return. under How To Get Tax Help.\\n\\nOrdering tax forms, instructions, and publications. Go to IRS.gov/OrderForms to order current forms, instruc- tions, and publications; call 800-829-3676 to order prior-year forms and instructions. The IRS will process your order for forms and publications as soon as possible. Don’t resubmit requests you’ve already sent us. You can get forms and publications faster online.\\n\\nAARP Tax-Aide. AARP Foundation Tax-Aide offers free tax preparation and has more than 5,000 locations in\\n\\nPublication 554 (2023)\\n\\n3\\n\\nPage 4 of 37 Fileid: … tions/p554/2023/a/xml/cycle06/source\\n\\n14:46 - 18-Jan-2024', metadata={'source': '../Data/IRS-P554/Dataset/p554.pdf'}),\n",
       "  0.46965377186710977),\n",
       " (Document(page_content='Employment taxes. You can include as a medical ex- pense social security tax, FUTA tax, Medicare tax, and state employment taxes you pay for a nurse, attendant, or other person who provides medical care. If the attendant also provides personal and household services, you can include as a medical expense only the amount of employ- ment taxes paid for medical services as explained earlier under Nursing Services. For information on employment tax responsibilities of household employers, see Pub. 926.\\n\\nPrepaid insurance premiums. Insurance premiums you pay before you are age 65 for medical care for yourself, your spouse, or your dependents after you reach age 65 are medical care expenses in the year paid if they are: • Payable in equal yearly installments or more often;\\n\\nand\\n\\nPayable for at least 10 years, or until you reach age 65 (but not for less than 5 years).\\n\\nTransportation\\n\\nMedicines\\n\\nYou can include in medical expenses amounts paid for transportation primarily for, and essential to, medical care.', metadata={'source': '../Data/IRS-P554/Dataset/p554.pdf'}),\n",
       "  0.46896816908238304),\n",
       " (Document(page_content='How Can You Learn About Your Taxpayer Rights?\\n\\nFiling an amended return. Go to IRS.gov/Form1040X for information and updates.\\n\\nThe Taxpayer Bill of Rights describes 10 basic rights that all taxpayers have when dealing with the IRS. Go to TaxpayerAdvocate.IRS.gov to help you understand what these rights mean to you and how they apply. These are your rights. Know them. Use them.\\n\\nChecking the status of your amended return. Go to IRS.gov/WMAR to track the status of Form 1040-X amen- ded returns.\\n\\nIt can take up to 3 weeks from the date you filed your amended return for it to show up in our sys- tem, and processing it can take up to 16 weeks.\\n\\nCAUTION!\\n\\nWhat Can TAS Do for You?', metadata={'source': '../Data/IRS-P554/Dataset/p554.pdf'}),\n",
       "  0.4641577806744406),\n",
       " (Document(page_content='Publication 554 (2023)\\n\\n3\\n\\nPage 4 of 37 Fileid: … tions/p554/2023/a/xml/cycle06/source\\n\\n14:46 - 18-Jan-2024\\n\\nThe type and rule above prints on all proofs including departmental reproduction proofs. MUST be removed before printing.\\n\\nTable I.\\n\\nWhat You Should Know About Federal Taxes\\n\\nNote. The following is a list of questions you may have about filling out your federal income tax return. To the right of each question is the location of the answer in this publication.\\n\\nWhat I Should Know\\n\\nWhere To Find the Answer\\n\\nDo I need to file a return?\\n\\nSee chapter 1.\\n\\nIs my income taxable or nontaxable?\\n\\nSee chapter 2.\\n\\nIf it is nontaxable, must I still report it?\\n\\nHow do I report benefits I received from the Social Security Administration or the Railroad Retirement Board?\\n\\nSee Social Security and Equivalent Railroad Retirement Benefits in chapter 2.\\n\\nAre these benefits taxable?\\n\\nMust I report the sale of my home?\\n\\nSee Sale of Home in chapter 2.\\n\\nIf I had a gain, is any part of it taxable?', metadata={'source': '../Data/IRS-P554/Dataset/p554.pdf'}),\n",
       "  0.46388096017342106),\n",
       " (Document(page_content=\"Estimated tax is a method used to pay tax on income that isn't subject to withholding. This income includes self-em- ployment income, interest, dividends, alimony, rent, gains from the sale of assets, prizes, and awards.\\n\\nFree File. This program lets you prepare and file your federal individual income tax return for free using soft- ware or Free File Fillable Forms. However, state tax preparation may not be available through Free File. Go to IRS.gov/FreeFile to see if you qualify for free online federal tax preparation, e-filing, and direct deposit or payment options.\\n\\nIncome tax is generally withheld from pensions and annu- ity payments you receive. However, if the tax withheld from your pension (or other) income isn't enough, you may have to pay estimated tax. If you don't pay enough tax through withholding, by making estimated tax payments, or both, you may be charged a penalty.\", metadata={'source': '../Data/IRS-P554/Dataset/p554.pdf'}),\n",
       "  0.46350812915149375),\n",
       " (Document(page_content=\"Sickness and Injury Benefits\\n\\nGenerally, you must report as income any amount you re- ceive for personal injury or sickness through an accident or health plan that is paid for by your employer. If both you and your employer pay for the plan, only the amount you receive that is due to your employer's payments is repor- ted as income. However, certain payments may not be taxable to you. Some of these payments are discussed later in this section. Also, see Military and Government Disability Pensions and Other Sickness and Injury Bene- fits in Pub. 525.\\n\\nLump-Sum Election\\n\\nYou must include the taxable part of a lump-sum (retroac- tive) payment of benefits received in 2023 in your 2023 in- come, even if the payment includes benefits for an earlier year.\", metadata={'source': '../Data/IRS-P554/Dataset/p554.pdf'}),\n",
       "  0.46261495313785084)]"
      ]
     },
     "execution_count": 256,
     "metadata": {},
     "output_type": "execute_result"
    }
   ],
   "source": [
    "faissdb.similarity_search_with_relevance_scores(query=query, k=k_relevant)"
   ]
  },
  {
   "cell_type": "markdown",
   "metadata": {},
   "source": [
    "#### Prompt template\n",
    "Define a prompt template for a language model that consists of a string template. It accepts a set of parameters from the user that can be used to generate a prompt for a language model."
   ]
  },
  {
   "cell_type": "code",
   "execution_count": 257,
   "metadata": {},
   "outputs": [],
   "source": [
    "prompt_template = \"\"\"\n",
    "You are a helpful AI assistant. You're tasked to answer the question given below, but only based on the context provided.\n",
    "context:\n",
    "<context>\n",
    "{context}\n",
    "</context>\n",
    "\n",
    "question:\n",
    "<question>\n",
    "{input}\n",
    "</question>\n",
    "\n",
    "If you cannot find an answer ask the user to rephrase the question.\n",
    "answer:\n",
    "\n",
    "\"\"\"\n",
    "prompt = PromptTemplate.from_template(prompt_template)"
   ]
  },
  {
   "cell_type": "markdown",
   "metadata": {},
   "source": [
    "### Create the retrieval chain\n",
    "Then invoke it by passing the question as an input. Documentation:\n",
    "- [create_stuff_documents_chain](https://api.python.langchain.com/en/latest/chains/langchain.chains.combine_documents.stuff.create_stuff_documents_chain.html)\n",
    "- [create_retrieval_chain](https://api.python.langchain.com/en/latest/chains/langchain.chains.retrieval.create_retrieval_chain.html)\n"
   ]
  },
  {
   "cell_type": "code",
   "execution_count": 258,
   "metadata": {},
   "outputs": [],
   "source": [
    "# Create a chain for passing a list of Documents to a model.\n",
    "# The input is a dictionary that must have a “context” key that maps to a List[Document], and any other input variables expected in the prompt.\n",
    "combine_docs_chain = create_stuff_documents_chain(llm, prompt)\n",
    "\n",
    "# retriever = chromadb.as_retriever(search_type=\"similarity\", search_kwargs={\"k\": k_relevant})\n",
    "# retriever = faissdb.as_retriever(search_type=\"similarity\", search_kwargs={\"k\": k_relevant})\n",
    "retriever = faissdb.as_retriever()\n",
    "\n",
    "# Create retrieval chain that retrieves documents and then passes them on.\n",
    "retrieval_chain = create_retrieval_chain(retriever, combine_docs_chain)"
   ]
  },
  {
   "cell_type": "code",
   "execution_count": 259,
   "metadata": {},
   "outputs": [],
   "source": [
    "langchain.globals.set_debug(False)"
   ]
  },
  {
   "cell_type": "markdown",
   "metadata": {},
   "source": [
    "#### Test the retrieval chain"
   ]
  },
  {
   "cell_type": "markdown",
   "metadata": {},
   "source": [
    "##### Example questions:\n",
    "- Special rules for joint returns.\n",
    "- Tell about persons not eligible for the standard deduction.\n",
    "- Tell me about Figuring the EIC.\n",
    "- Tell about contributions to Kay Bailey Hutchison Spousal IRAs.\n",
    "- Tell about standard deduction for dependents."
   ]
  },
  {
   "cell_type": "code",
   "execution_count": 260,
   "metadata": {},
   "outputs": [
    {
     "name": "stdout",
     "output_type": "stream",
     "text": [
      "MilTax is a free tax service offered by the Department of Defense through Military OneSource.  For more information, go to MilitaryOneSource (MilitaryOneSource.mil/MilTax).\n"
     ]
    }
   ],
   "source": [
    "response = retrieval_chain.invoke({\"input\": query})\n",
    "print(response[\"answer\"])"
   ]
  },
  {
   "cell_type": "markdown",
   "metadata": {},
   "source": [
    "#### Interactive UI Widget for Question-Answering\n",
    "Enter your question in the input box and choose one of the options:\n",
    "- Ask Me!: This option will generate an answer using similarity search on vector embeddings.\n",
    "- More Details: Select this option to input the generated answer into a Large Language Model (LLM) for a more elaborate response."
   ]
  },
  {
   "cell_type": "code",
   "execution_count": 261,
   "metadata": {},
   "outputs": [],
   "source": [
    "# HTML Widgets\n",
    "import ipywidgets as widgets\n",
    "from IPython.display import clear_output"
   ]
  },
  {
   "cell_type": "code",
   "execution_count": 262,
   "metadata": {},
   "outputs": [
    {
     "data": {
      "application/vnd.jupyter.widget-view+json": {
       "model_id": "83f030194814472d967700959d270e07",
       "version_major": 2,
       "version_minor": 0
      },
      "text/plain": [
       "Text(value='', description='Question:', layout=Layout(height='50px', width='80%'))"
      ]
     },
     "metadata": {},
     "output_type": "display_data"
    },
    {
     "data": {
      "application/vnd.jupyter.widget-view+json": {
       "model_id": "dd68f0685d5648c2ac01060937fcf047",
       "version_major": 2,
       "version_minor": 0
      },
      "text/plain": [
       "Button(description='Ask Me!', style=ButtonStyle())"
      ]
     },
     "metadata": {},
     "output_type": "display_data"
    },
    {
     "data": {
      "application/vnd.jupyter.widget-view+json": {
       "model_id": "2f29cfa6266341c49188c974bfb29760",
       "version_major": 2,
       "version_minor": 0
      },
      "text/plain": [
       "Button(description='More details', style=ButtonStyle())"
      ]
     },
     "metadata": {},
     "output_type": "display_data"
    },
    {
     "data": {
      "application/vnd.jupyter.widget-view+json": {
       "model_id": "8f509a30f65a4786afa75334ef29ea83",
       "version_major": 2,
       "version_minor": 0
      },
      "text/plain": [
       "Output()"
      ]
     },
     "metadata": {},
     "output_type": "display_data"
    }
   ],
   "source": [
    "button = widgets.Button(description=\"Ask Me!\")\n",
    "output = widgets.Output()\n",
    "button_stp = widgets.Button(description=\"More details\")\n",
    "output = widgets.Output()\n",
    "text = widgets.Text(\n",
    "    description=\"Question:\", layout=widgets.Layout(width=\"80%\", height=\"50px\")\n",
    ")\n",
    "display(text, button, button_stp, output)\n",
    "\n",
    "@output.capture()\n",
    "def on_button_clicked(b):\n",
    "    clear_output()\n",
    "    question = text.value\n",
    "\n",
    "    result = retrieval_chain.invoke({\"input\": question})\n",
    "    source_documents = list({doc.metadata[\"source\"] for doc in result[\"context\"]})\n",
    "\n",
    "    answer = result[\"answer\"]\n",
    "    print(f\"\\nAnswer: '{answer}'\")\n",
    "    print(\"\\nSource-\", \"\\n\".join(source_documents))\n",
    "    print(\"\\n\")\n",
    "\n",
    "\n",
    "@output.capture()\n",
    "def on_stp_clicked(b):\n",
    "    clear_output()\n",
    "    question = text.value\n",
    "    query = question + \"Give detailed information as much as possible. \"\n",
    "    result = retrieval_chain.invoke({\"input\": query})\n",
    "    source_documents = list({doc.metadata[\"source\"] for doc in result[\"context\"]})\n",
    "\n",
    "    answer = result[\"answer\"]\n",
    "    print(f\"\\nAnswer: '{answer}'\")\n",
    "    print(\"\\nSource-\", \"\\n\".join(source_documents))\n",
    "    print(\"\\n\")\n",
    "\n",
    "\n",
    "button.on_click(on_button_clicked)\n",
    "button_stp.on_click(on_stp_clicked)"
   ]
  }
 ],
 "metadata": {
  "kernelspec": {
   "display_name": "base",
   "language": "python",
   "name": "python3"
  },
  "language_info": {
   "codemirror_mode": {
    "name": "ipython",
    "version": 3
   },
   "file_extension": ".py",
   "mimetype": "text/x-python",
   "name": "python",
   "nbconvert_exporter": "python",
   "pygments_lexer": "ipython3",
   "version": "3.11.8"
  }
 },
 "nbformat": 4,
 "nbformat_minor": 2
}
