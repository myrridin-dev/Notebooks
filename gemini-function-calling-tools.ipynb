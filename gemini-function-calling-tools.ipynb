{
 "cells": [
  {
   "cell_type": "markdown",
   "metadata": {},
   "source": [
    "### Gemini function calling\n",
    "\n",
    "Inspired by:\n",
    "- Gen AI startup skills lab: week 3\n",
    "- [Gemini function calling documentation](https://cloud.google.com/vertex-ai/generative-ai/docs/multimodal/function-calling)"
   ]
  },
  {
   "cell_type": "code",
   "execution_count": 17,
   "metadata": {},
   "outputs": [],
   "source": [
    "import os"
   ]
  },
  {
   "cell_type": "code",
   "execution_count": 18,
   "metadata": {},
   "outputs": [],
   "source": [
    "project_id = os.getenv('PROJECT_ID')\n",
    "region_id = os.getenv('REGION_ID')\n",
    "llm_model_id = os.getenv('CHAT_MODEL')\n",
    "embedding_model_id = os.getenv('EMB_MODEL')"
   ]
  },
  {
   "cell_type": "code",
   "execution_count": 19,
   "metadata": {},
   "outputs": [],
   "source": [
    "!pip install --upgrade --user --quiet google-cloud-aiplatform"
   ]
  },
  {
   "cell_type": "code",
   "execution_count": 20,
   "metadata": {},
   "outputs": [],
   "source": [
    "import vertexai\n",
    "\n",
    "vertexai.init(project=project_id, location=region_id)"
   ]
  },
  {
   "cell_type": "code",
   "execution_count": 21,
   "metadata": {},
   "outputs": [],
   "source": [
    "import requests\n",
    "from vertexai.generative_models import (\n",
    "    Content,\n",
    "    FunctionDeclaration,\n",
    "    GenerationConfig,\n",
    "    GenerativeModel,\n",
    "    Part,\n",
    "    Tool,\n",
    ")"
   ]
  },
  {
   "cell_type": "markdown",
   "metadata": {},
   "source": [
    "### Example 1. Chat: Using Function Calling in a chat session to answer user's questions about the Google Store"
   ]
  },
  {
   "cell_type": "markdown",
   "metadata": {},
   "source": [
    "#### Define three functions:\n",
    "- one to get product information\n",
    "- another to get the location of the closest stores\n",
    "- one more to place an order\n",
    "\n",
    "Function parameters specified as a Python dictionary in accordance with the [OpenAPI JSON schema format](https://spec.openapis.org/oas/v3.0.3#schemawr)"
   ]
  },
  {
   "cell_type": "code",
   "execution_count": 22,
   "metadata": {},
   "outputs": [],
   "source": [
    "get_product_info = FunctionDeclaration(\n",
    "    name=\"get_product_info\",\n",
    "    description=\"Get the stock amount and identifier for a given product\",\n",
    "    parameters={\n",
    "        'type': 'object',\n",
    "        'properties': {\n",
    "            'product_name': {\n",
    "                'type': 'string',\n",
    "                'description': 'Product name'\n",
    "            }\n",
    "        }\n",
    "    }\n",
    ")"
   ]
  },
  {
   "cell_type": "code",
   "execution_count": 23,
   "metadata": {},
   "outputs": [],
   "source": [
    "get_store_location = FunctionDeclaration(\n",
    "    name='get_store_location',\n",
    "    description='Get the location of the nearest store',\n",
    "    parameters={\n",
    "        'type': 'object',\n",
    "        'properties': {\n",
    "            'location': {\n",
    "                'type': 'string',\n",
    "                'description': \"Location\"\n",
    "            }\n",
    "        }\n",
    "    }\n",
    ")"
   ]
  },
  {
   "cell_type": "code",
   "execution_count": 24,
   "metadata": {},
   "outputs": [],
   "source": [
    "place_order = FunctionDeclaration(\n",
    "    name='place_order',\n",
    "    description='Place an order',\n",
    "    parameters={\n",
    "        'type': 'object',\n",
    "        'properties': {\n",
    "            'product': {\n",
    "                'type': 'string',\n",
    "                'description': 'Product name'\n",
    "            },\n",
    "            'address': {\n",
    "                'type': 'string',\n",
    "                'description': 'Shipping address'\n",
    "            }\n",
    "        }\n",
    "    }\n",
    ")"
   ]
  },
  {
   "cell_type": "markdown",
   "metadata": {},
   "source": [
    "#### Define a tool that allows the Gemini model to select from the set of 3 functions\n",
    "- a collection of functions that the model may use to generate a response"
   ]
  },
  {
   "cell_type": "code",
   "execution_count": 25,
   "metadata": {},
   "outputs": [],
   "source": [
    "retail_tools = Tool(\n",
    "    function_declarations=[\n",
    "        get_product_info, get_store_location, place_order]\n",
    ")"
   ]
  },
  {
   "cell_type": "markdown",
   "metadata": {},
   "source": [
    "#### Initialize the Gemini model with Function Calling in a multi-turn chat session"
   ]
  },
  {
   "cell_type": "code",
   "execution_count": 26,
   "metadata": {},
   "outputs": [],
   "source": [
    "chat_model = GenerativeModel(\n",
    "    model_name=llm_model_id,\n",
    "    generation_config=GenerationConfig(temperature=0),\n",
    "    tools=[retail_tools]\n",
    ")\n",
    "chat = chat_model.start_chat()"
   ]
  },
  {
   "cell_type": "markdown",
   "metadata": {},
   "source": [
    "#### Start chat"
   ]
  },
  {
   "cell_type": "code",
   "execution_count": 29,
   "metadata": {},
   "outputs": [],
   "source": [
    "question = \"\"\"\n",
    "Do you have the iPhone 15 Pro in stock?\n",
    "\"\"\""
   ]
  },
  {
   "cell_type": "markdown",
   "metadata": {},
   "source": [
    "#### Define the user's prompt in a Content object that we can reuse in model calls"
   ]
  },
  {
   "cell_type": "code",
   "execution_count": 61,
   "metadata": {},
   "outputs": [],
   "source": [
    "user_question_content = Content(\n",
    "    role=\"user\",\n",
    "    parts=[\n",
    "        Part.from_text(question),\n",
    "    ],\n",
    ")"
   ]
  },
  {
   "cell_type": "code",
   "execution_count": 62,
   "metadata": {},
   "outputs": [
    {
     "data": {
      "text/plain": [
       "role: \"user\"\n",
       "parts {\n",
       "  text: \"\\nDo you have the iPhone 15 Pro in stock?\\n\"\n",
       "}"
      ]
     },
     "execution_count": 62,
     "metadata": {},
     "output_type": "execute_result"
    }
   ],
   "source": [
    "user_question_content"
   ]
  },
  {
   "cell_type": "markdown",
   "metadata": {},
   "source": [
    "#### Send the user question to the model\n",
    "- Note the model returns `function_call` `name: get_product_info` in the response, indicating a function of that name has to be called\n",
    "- You are next supposed to call the function and get a response from that function...\n",
    "- Then you send the result of that function call to the model in a subsequent message which has `name = get_product_info` with structure:\n",
    "```\n",
    "parts = [\n",
    "        Part.from_function_response(\n",
    "            name=\"get_product_info\",\n",
    "            response={\n",
    "                \"content\": <response_from_the_function>\n",
    "            }\n",
    "        )\n",
    "]\n",
    "```"
   ]
  },
  {
   "cell_type": "code",
   "execution_count": 69,
   "metadata": {},
   "outputs": [
    {
     "data": {
      "text/plain": [
       "role: \"model\"\n",
       "parts {\n",
       "  function_call {\n",
       "    name: \"get_product_info\"\n",
       "    args {\n",
       "      fields {\n",
       "        key: \"product_name\"\n",
       "        value {\n",
       "          string_value: \"iPhone 15 Pro\"\n",
       "        }\n",
       "      }\n",
       "    }\n",
       "  }\n",
       "}"
      ]
     },
     "execution_count": 69,
     "metadata": {},
     "output_type": "execute_result"
    }
   ],
   "source": [
    "response = chat.send_message(user_question_content)\n",
    "response_function_call_content = response.candidates[0].content\n",
    "response_function_call_content"
   ]
  },
  {
   "cell_type": "markdown",
   "metadata": {},
   "source": [
    "#### Make the function call Gemini asked us to\n",
    "- Note: here we just assume we call it and get a dummy response back"
   ]
  },
  {
   "cell_type": "code",
   "execution_count": 70,
   "metadata": {},
   "outputs": [],
   "source": [
    "# assume get_product_info returned this dummy response\n",
    "get_product_info_api_response = {\"sku\": \"GA04834-US\", \"in_stock\": \"yes\"}"
   ]
  },
  {
   "cell_type": "markdown",
   "metadata": {},
   "source": [
    "#### Send the model the response from function call\n",
    "- See the candidate text part for the model's response\n",
    "- Note: `send_message` turn is to say this is the response for the `get_product_info` function that we were asked to call\n",
    "- Note: see the `finish_reason: STOP` in the response"
   ]
  },
  {
   "cell_type": "code",
   "execution_count": 72,
   "metadata": {},
   "outputs": [
    {
     "name": "stdout",
     "output_type": "stream",
     "text": [
      "candidates {\n",
      "  content {\n",
      "    role: \"model\"\n",
      "    parts {\n",
      "      text: \"Yes, the iPhone 15 Pro is in stock. The SKU is GA04834-US.\\n\\n\"\n",
      "    }\n",
      "  }\n",
      "  finish_reason: STOP\n",
      "  safety_ratings {\n",
      "    category: HARM_CATEGORY_HATE_SPEECH\n",
      "    probability: NEGLIGIBLE\n",
      "    probability_score: 0.0849471\n",
      "    severity: HARM_SEVERITY_NEGLIGIBLE\n",
      "    severity_score: 0.178239584\n",
      "  }\n",
      "  safety_ratings {\n",
      "    category: HARM_CATEGORY_DANGEROUS_CONTENT\n",
      "    probability: NEGLIGIBLE\n",
      "    probability_score: 0.163045257\n",
      "    severity: HARM_SEVERITY_NEGLIGIBLE\n",
      "    severity_score: 0.194980219\n",
      "  }\n",
      "  safety_ratings {\n",
      "    category: HARM_CATEGORY_HARASSMENT\n",
      "    probability: NEGLIGIBLE\n",
      "    probability_score: 0.0706877932\n",
      "    severity: HARM_SEVERITY_NEGLIGIBLE\n",
      "    severity_score: 0.0294794086\n",
      "  }\n",
      "  safety_ratings {\n",
      "    category: HARM_CATEGORY_SEXUALLY_EXPLICIT\n",
      "    probability: NEGLIGIBLE\n",
      "    probability_score: 0.0302718692\n",
      "    severity: HARM_SEVERITY_NEGLIGIBLE\n",
      "    severity_score: 0.0177122988\n",
      "  }\n",
      "}\n",
      "usage_metadata {\n",
      "  prompt_token_count: 572\n",
      "  candidates_token_count: 25\n",
      "  total_token_count: 597\n",
      "}\n",
      "\n"
     ]
    }
   ],
   "source": [
    "response = chat.send_message(\n",
    "    Part.from_function_response(\n",
    "        name=\"get_product_info\",\n",
    "        response={\n",
    "            \"content\": get_product_info_api_response,\n",
    "        },\n",
    "    ),\n",
    ")\n",
    "print(response)"
   ]
  },
  {
   "cell_type": "markdown",
   "metadata": {},
   "source": [
    "#### User might ask where they can buy a different phone from a nearby store\n",
    "- This starts a new turn..\n",
    "- Note: `get_store_location` function_call has to be called now"
   ]
  },
  {
   "cell_type": "code",
   "execution_count": 75,
   "metadata": {},
   "outputs": [
    {
     "data": {
      "text/plain": [
       "function_call {\n",
       "  name: \"get_store_location\"\n",
       "  args {\n",
       "    fields {\n",
       "      key: \"location\"\n",
       "      value {\n",
       "        string_value: \"Mountain View, CA\"\n",
       "      }\n",
       "    }\n",
       "  }\n",
       "}"
      ]
     },
     "execution_count": 75,
     "metadata": {},
     "output_type": "execute_result"
    }
   ],
   "source": [
    "prompt = \"\"\"\n",
    "What about the Pixel 8? Is there a store in\n",
    "Mountain View, CA that I can visit to try one out?\n",
    "\"\"\"\n",
    "\n",
    "response = chat.send_message(prompt)\n",
    "response.candidates[0].content.parts[0]"
   ]
  },
  {
   "cell_type": "markdown",
   "metadata": {},
   "source": [
    "#### Make the function call Gemini asked us to"
   ]
  },
  {
   "cell_type": "code",
   "execution_count": 76,
   "metadata": {},
   "outputs": [],
   "source": [
    "# dummy response for get_store_location\n",
    "get_store_location_api_response = { \n",
    "    'location': '2000 N Shoreline Blvd, Mountain View, CA 94043, US'\n",
    "}"
   ]
  },
  {
   "cell_type": "markdown",
   "metadata": {},
   "source": [
    "#### Pass the function response from the (mock) API request back to the Gemini model\n",
    "- Gemini will enforce the turn-by-turn. For eg. that Part.from_function_response is sent to the model after a function call\n",
    "- Note: `send_message` sends a `Part` saying the `get_store_location` function's response is what we're sending\n",
    "- Note: `finish_reason: STOP` in the response payload, indicating we should stop"
   ]
  },
  {
   "cell_type": "code",
   "execution_count": 77,
   "metadata": {},
   "outputs": [
    {
     "name": "stdout",
     "output_type": "stream",
     "text": [
      "candidates {\n",
      "  content {\n",
      "    role: \"model\"\n",
      "    parts {\n",
      "      text: \"Yes, there is a Google Store in Mountain View, CA that you can visit to try out the Pixel 8. The address is 2000 N Shoreline Blvd, Mountain View, CA 94043, US. \"\n",
      "    }\n",
      "  }\n",
      "  finish_reason: STOP\n",
      "  safety_ratings {\n",
      "    category: HARM_CATEGORY_HATE_SPEECH\n",
      "    probability: NEGLIGIBLE\n",
      "    probability_score: 0.0758581758\n",
      "    severity: HARM_SEVERITY_NEGLIGIBLE\n",
      "    severity_score: 0.104660198\n",
      "  }\n",
      "  safety_ratings {\n",
      "    category: HARM_CATEGORY_DANGEROUS_CONTENT\n",
      "    probability: NEGLIGIBLE\n",
      "    probability_score: 0.233356759\n",
      "    severity: HARM_SEVERITY_NEGLIGIBLE\n",
      "    severity_score: 0.122418255\n",
      "  }\n",
      "  safety_ratings {\n",
      "    category: HARM_CATEGORY_HARASSMENT\n",
      "    probability: NEGLIGIBLE\n",
      "    probability_score: 0.0905744731\n",
      "    severity: HARM_SEVERITY_NEGLIGIBLE\n",
      "    severity_score: 0.0327131264\n",
      "  }\n",
      "  safety_ratings {\n",
      "    category: HARM_CATEGORY_SEXUALLY_EXPLICIT\n",
      "    probability: NEGLIGIBLE\n",
      "    probability_score: 0.0532062054\n",
      "    severity: HARM_SEVERITY_NEGLIGIBLE\n",
      "    severity_score: 0.0516537763\n",
      "  }\n",
      "}\n",
      "usage_metadata {\n",
      "  prompt_token_count: 700\n",
      "  candidates_token_count: 50\n",
      "  total_token_count: 750\n",
      "}\n",
      "\n"
     ]
    }
   ],
   "source": [
    "response = chat.send_message(\n",
    "    Part.from_function_response(\n",
    "        name=\"get_store_location\",\n",
    "        response={\n",
    "            \"content\": get_store_location_api_response,\n",
    "        },\n",
    "    ),\n",
    ")\n",
    "print(response)\n",
    "# print(response.candidates[0].content.parts[0])"
   ]
  },
  {
   "cell_type": "markdown",
   "metadata": {},
   "source": [
    "#### Finally, the user might ask to order a phone and have it shipped to their address\n",
    "- Note: function_call `place_order` has to be called"
   ]
  },
  {
   "cell_type": "code",
   "execution_count": 78,
   "metadata": {},
   "outputs": [
    {
     "name": "stdout",
     "output_type": "stream",
     "text": [
      "candidates {\n",
      "  content {\n",
      "    role: \"model\"\n",
      "    parts {\n",
      "      function_call {\n",
      "        name: \"place_order\"\n",
      "        args {\n",
      "          fields {\n",
      "            key: \"product\"\n",
      "            value {\n",
      "              string_value: \"Pixel 8 Pro\"\n",
      "            }\n",
      "          }\n",
      "          fields {\n",
      "            key: \"address\"\n",
      "            value {\n",
      "              string_value: \"1155 Borregas Ave, Sunnyvale, CA 94089\"\n",
      "            }\n",
      "          }\n",
      "        }\n",
      "      }\n",
      "    }\n",
      "  }\n",
      "  finish_reason: STOP\n",
      "  safety_ratings {\n",
      "    category: HARM_CATEGORY_HATE_SPEECH\n",
      "    probability: NEGLIGIBLE\n",
      "    probability_score: 0.148047194\n",
      "    severity: HARM_SEVERITY_NEGLIGIBLE\n",
      "    severity_score: 0.102664009\n",
      "  }\n",
      "  safety_ratings {\n",
      "    category: HARM_CATEGORY_DANGEROUS_CONTENT\n",
      "    probability: NEGLIGIBLE\n",
      "    probability_score: 0.400046021\n",
      "    severity: HARM_SEVERITY_LOW\n",
      "    severity_score: 0.214197889\n",
      "  }\n",
      "  safety_ratings {\n",
      "    category: HARM_CATEGORY_HARASSMENT\n",
      "    probability: NEGLIGIBLE\n",
      "    probability_score: 0.119819485\n",
      "    severity: HARM_SEVERITY_NEGLIGIBLE\n",
      "    severity_score: 0.075312309\n",
      "  }\n",
      "  safety_ratings {\n",
      "    category: HARM_CATEGORY_SEXUALLY_EXPLICIT\n",
      "    probability: NEGLIGIBLE\n",
      "    probability_score: 0.0689125\n",
      "    severity: HARM_SEVERITY_NEGLIGIBLE\n",
      "    severity_score: 0.0367694683\n",
      "  }\n",
      "}\n",
      "usage_metadata {\n",
      "  prompt_token_count: 788\n",
      "  candidates_token_count: 27\n",
      "  total_token_count: 815\n",
      "}\n",
      "\n"
     ]
    }
   ],
   "source": [
    "prompt = \"\"\"\n",
    "I'd like to order a Pixel 8 Pro and have it shipped to 1155 Borregas Ave, Sunnyvale, CA 94089.\n",
    "\"\"\"\n",
    "\n",
    "response = chat.send_message(prompt)\n",
    "print(response)"
   ]
  },
  {
   "cell_type": "markdown",
   "metadata": {},
   "source": [
    "#### Make the function call Gemini asked us to\n",
    "- Note: here we just assume we call it and get a dummy response back"
   ]
  },
  {
   "cell_type": "code",
   "execution_count": 79,
   "metadata": {},
   "outputs": [],
   "source": [
    "# dummy api response of `place_order`\n",
    "place_order_dummy_api_response = {\n",
    "    \"payment_status\": \"paid\",\n",
    "    \"order_number\": 12345,\n",
    "    \"est_arrival\": \"2 days\",\n",
    "}"
   ]
  },
  {
   "cell_type": "markdown",
   "metadata": {},
   "source": [
    "#### Pass the function response from the (mock) API request back to the Gemini model\n",
    "- Gemini will enforce the turn-by-turn. For eg. that Part.from_function_response is sent to the model after a function call\n",
    "- Note: `send_message` sends a `Part` saying the `place_order` function's response is what we're sending\n",
    "- Note: `finish_reason: STOP` in the response payload, indicating we should stop"
   ]
  },
  {
   "cell_type": "code",
   "execution_count": 80,
   "metadata": {},
   "outputs": [
    {
     "name": "stdout",
     "output_type": "stream",
     "text": [
      "candidates {\n",
      "  content {\n",
      "    role: \"model\"\n",
      "    parts {\n",
      "      text: \"OK. I have placed your order for a Pixel 8 Pro. It will be shipped to 1155 Borregas Ave, Sunnyvale, CA 94089. The estimated arrival time is 2 days. Your order number is 12345. The payment has been processed. \\n\"\n",
      "    }\n",
      "  }\n",
      "  finish_reason: STOP\n",
      "  safety_ratings {\n",
      "    category: HARM_CATEGORY_HATE_SPEECH\n",
      "    probability: NEGLIGIBLE\n",
      "    probability_score: 0.0941766649\n",
      "    severity: HARM_SEVERITY_NEGLIGIBLE\n",
      "    severity_score: 0.0899330154\n",
      "  }\n",
      "  safety_ratings {\n",
      "    category: HARM_CATEGORY_DANGEROUS_CONTENT\n",
      "    probability: NEGLIGIBLE\n",
      "    probability_score: 0.218169227\n",
      "    severity: HARM_SEVERITY_NEGLIGIBLE\n",
      "    severity_score: 0.118793398\n",
      "  }\n",
      "  safety_ratings {\n",
      "    category: HARM_CATEGORY_HARASSMENT\n",
      "    probability: NEGLIGIBLE\n",
      "    probability_score: 0.142828658\n",
      "    severity: HARM_SEVERITY_NEGLIGIBLE\n",
      "    severity_score: 0.0532062054\n",
      "  }\n",
      "  safety_ratings {\n",
      "    category: HARM_CATEGORY_SEXUALLY_EXPLICIT\n",
      "    probability: NEGLIGIBLE\n",
      "    probability_score: 0.0292012896\n",
      "    severity: HARM_SEVERITY_NEGLIGIBLE\n",
      "    severity_score: 0.0356114134\n",
      "  }\n",
      "}\n",
      "usage_metadata {\n",
      "  prompt_token_count: 831\n",
      "  candidates_token_count: 67\n",
      "  total_token_count: 898\n",
      "}\n",
      "\n"
     ]
    }
   ],
   "source": [
    "response = chat.send_message(\n",
    "    Part.from_function_response(\n",
    "        name=\"place_order\",\n",
    "        response={\n",
    "            \"content\": place_order_dummy_api_response,\n",
    "        },\n",
    "    ),\n",
    ")\n",
    "print(response)"
   ]
  },
  {
   "cell_type": "markdown",
   "metadata": {},
   "source": [
    "### Example 2. Chat: Using Function Calling to geocode addresses with a maps API"
   ]
  },
  {
   "cell_type": "code",
   "execution_count": 81,
   "metadata": {},
   "outputs": [],
   "source": [
    "get_location = FunctionDeclaration(\n",
    "    name=\"get_location\",\n",
    "    description=\"Get latitude and longitude for a given location\",\n",
    "    parameters={\n",
    "        \"type\": \"object\",\n",
    "        \"properties\": {\n",
    "            \"poi\": {\"type\": \"string\", \"description\": \"Point of interest\"},\n",
    "            \"street\": {\"type\": \"string\", \"description\": \"Street name\"},\n",
    "            \"city\": {\"type\": \"string\", \"description\": \"City name\"},\n",
    "            \"county\": {\"type\": \"string\", \"description\": \"County name\"},\n",
    "            \"state\": {\"type\": \"string\", \"description\": \"State name\"},\n",
    "            \"country\": {\"type\": \"string\", \"description\": \"Country name\"},\n",
    "            \"postal_code\": {\"type\": \"string\", \"description\": \"Postal code\"},\n",
    "        },\n",
    "    },\n",
    ")\n",
    "\n",
    "location_tool = Tool(\n",
    "    function_declarations=[get_location],\n",
    ")"
   ]
  },
  {
   "cell_type": "code",
   "execution_count": 83,
   "metadata": {},
   "outputs": [
    {
     "data": {
      "text/plain": [
       "candidates {\n",
       "  content {\n",
       "    role: \"model\"\n",
       "    parts {\n",
       "      function_call {\n",
       "        name: \"get_location\"\n",
       "        args {\n",
       "          fields {\n",
       "            key: \"street\"\n",
       "            value {\n",
       "              string_value: \"1600 Amphitheatre Pkwy\"\n",
       "            }\n",
       "          }\n",
       "          fields {\n",
       "            key: \"state\"\n",
       "            value {\n",
       "              string_value: \"CA\"\n",
       "            }\n",
       "          }\n",
       "          fields {\n",
       "            key: \"postal_code\"\n",
       "            value {\n",
       "              string_value: \"94043\"\n",
       "            }\n",
       "          }\n",
       "          fields {\n",
       "            key: \"country\"\n",
       "            value {\n",
       "              string_value: \"US\"\n",
       "            }\n",
       "          }\n",
       "          fields {\n",
       "            key: \"city\"\n",
       "            value {\n",
       "              string_value: \"Mountain View\"\n",
       "            }\n",
       "          }\n",
       "        }\n",
       "      }\n",
       "    }\n",
       "  }\n",
       "  finish_reason: STOP\n",
       "  safety_ratings {\n",
       "    category: HARM_CATEGORY_HATE_SPEECH\n",
       "    probability: NEGLIGIBLE\n",
       "    probability_score: 0.0841910839\n",
       "    severity: HARM_SEVERITY_NEGLIGIBLE\n",
       "    severity_score: 0.0764076859\n",
       "  }\n",
       "  safety_ratings {\n",
       "    category: HARM_CATEGORY_DANGEROUS_CONTENT\n",
       "    probability: NEGLIGIBLE\n",
       "    probability_score: 0.449181199\n",
       "    severity: HARM_SEVERITY_NEGLIGIBLE\n",
       "    severity_score: 0.199619874\n",
       "  }\n",
       "  safety_ratings {\n",
       "    category: HARM_CATEGORY_HARASSMENT\n",
       "    probability: NEGLIGIBLE\n",
       "    probability_score: 0.12231338\n",
       "    severity: HARM_SEVERITY_NEGLIGIBLE\n",
       "    severity_score: 0.110663228\n",
       "  }\n",
       "  safety_ratings {\n",
       "    category: HARM_CATEGORY_SEXUALLY_EXPLICIT\n",
       "    probability: NEGLIGIBLE\n",
       "    probability_score: 0.0761324763\n",
       "    severity: HARM_SEVERITY_NEGLIGIBLE\n",
       "    severity_score: 0.0477800667\n",
       "  }\n",
       "}\n",
       "usage_metadata {\n",
       "  prompt_token_count: 70\n",
       "  candidates_token_count: 27\n",
       "  total_token_count: 97\n",
       "}"
      ]
     },
     "execution_count": 83,
     "metadata": {},
     "output_type": "execute_result"
    }
   ],
   "source": [
    "prompt = \"\"\"\n",
    "I want to get the coordinates for the following address:\n",
    "1600 Amphitheatre Pkwy, Mountain View, CA 94043, US\n",
    "\"\"\"\n",
    "\n",
    "response = chat_model.generate_content(\n",
    "    prompt,\n",
    "    generation_config=GenerationConfig(temperature=0),\n",
    "    tools=[location_tool],\n",
    ")\n",
    "response"
   ]
  },
  {
   "cell_type": "markdown",
   "metadata": {},
   "source": [
    "#### reference the parameters from the function call and make a live API request"
   ]
  },
  {
   "cell_type": "code",
   "execution_count": 84,
   "metadata": {},
   "outputs": [
    {
     "data": {
      "text/plain": [
       "[{'place_id': 377680635,\n",
       "  'licence': 'Data © OpenStreetMap contributors, ODbL 1.0. http://osm.org/copyright',\n",
       "  'osm_type': 'node',\n",
       "  'osm_id': 2192620021,\n",
       "  'lat': '37.4217636',\n",
       "  'lon': '-122.084614',\n",
       "  'class': 'office',\n",
       "  'type': 'it',\n",
       "  'place_rank': 30,\n",
       "  'importance': 0.6949356759210291,\n",
       "  'addresstype': 'office',\n",
       "  'name': 'Google Headquarters',\n",
       "  'display_name': 'Google Headquarters, 1600, Amphitheatre Parkway, Mountain View, Santa Clara County, California, 94043, United States',\n",
       "  'boundingbox': ['37.4217136', '37.4218136', '-122.0846640', '-122.0845640']}]"
      ]
     },
     "execution_count": 84,
     "metadata": {},
     "output_type": "execute_result"
    }
   ],
   "source": [
    "x = response.candidates[0].content.parts[0].function_call.args\n",
    "\n",
    "url = \"https://nominatim.openstreetmap.org/search?\"\n",
    "for i in x:\n",
    "    url += '{}=\"{}\"&'.format(i, x[i])\n",
    "url += \"format=json\"\n",
    "\n",
    "headers = {\n",
    "    \"User-Agent\": \"Mozilla/5.0 (Macintosh; Intel Mac OS X 10_15_7) AppleWebKit/537.36 (KHTML, like Gecko) Chrome/123.0.0.0 Safari/537.36\"\n",
    "}\n",
    "x = requests.get(url, headers=headers)\n",
    "content = x.json()\n",
    "content\n",
    "\n",
    "# Note: if you get a JSONDecodeError when running this cell, try modifying the\n",
    "# user agent string in the `headers=` line of code in this cell and re-run."
   ]
  },
  {
   "cell_type": "markdown",
   "metadata": {},
   "source": [
    "### Example 3. Logging example: Using Function Calling for entity extraction only"
   ]
  },
  {
   "cell_type": "code",
   "execution_count": 85,
   "metadata": {},
   "outputs": [],
   "source": [
    "extract_log_data = FunctionDeclaration(\n",
    "    name=\"extract_log_data\",\n",
    "    description=\"Extract details from error messages in raw log data\",\n",
    "    parameters={\n",
    "        \"type\": \"object\",\n",
    "        \"properties\": {\n",
    "            \"locations\": {\n",
    "                \"type\": \"array\",\n",
    "                \"description\": \"Errors\",\n",
    "                \"items\": {\n",
    "                    \"description\": \"Details of the error\",\n",
    "                    \"type\": \"object\",\n",
    "                    \"properties\": {\n",
    "                        \"error_message\": {\n",
    "                            \"type\": \"string\",\n",
    "                            \"description\": \"Full error message\",\n",
    "                        },\n",
    "                        \"error_code\": {\"type\": \"string\", \"description\": \"Error code\"},\n",
    "                        \"error_type\": {\"type\": \"string\", \"description\": \"Error type\"},\n",
    "                    },\n",
    "                },\n",
    "            }\n",
    "        },\n",
    "    },\n",
    ")"
   ]
  },
  {
   "cell_type": "markdown",
   "metadata": {},
   "source": [
    "#### define a tool for the generative model to call that includes the `extract_log_data`"
   ]
  },
  {
   "cell_type": "code",
   "execution_count": 86,
   "metadata": {},
   "outputs": [],
   "source": [
    "extraction_tool = Tool(\n",
    "    function_declarations=[extract_log_data],\n",
    ")"
   ]
  },
  {
   "cell_type": "markdown",
   "metadata": {},
   "source": [
    "#### pass the sample log data to the Gemini model\n",
    "- The model will call the log extractor function, and the model output will be a Function Call response.\n",
    "- response includes a structured data object that contains the details of the error messages that appear in the log."
   ]
  },
  {
   "cell_type": "code",
   "execution_count": 87,
   "metadata": {},
   "outputs": [
    {
     "data": {
      "text/plain": [
       "candidates {\n",
       "  content {\n",
       "    role: \"model\"\n",
       "    parts {\n",
       "      function_call {\n",
       "        name: \"extract_log_data\"\n",
       "        args {\n",
       "          fields {\n",
       "            key: \"locations\"\n",
       "            value {\n",
       "              list_value {\n",
       "                values {\n",
       "                  struct_value {\n",
       "                    fields {\n",
       "                      key: \"error_type\"\n",
       "                      value {\n",
       "                        string_value: \"ERROR\"\n",
       "                      }\n",
       "                    }\n",
       "                    fields {\n",
       "                      key: \"error_message\"\n",
       "                      value {\n",
       "                        string_value: \"Could not process image upload: Unsupported file format.\"\n",
       "                      }\n",
       "                    }\n",
       "                    fields {\n",
       "                      key: \"error_code\"\n",
       "                      value {\n",
       "                        string_value: \"308\"\n",
       "                      }\n",
       "                    }\n",
       "                  }\n",
       "                }\n",
       "                values {\n",
       "                  struct_value {\n",
       "                    fields {\n",
       "                      key: \"error_type\"\n",
       "                      value {\n",
       "                        string_value: \"ERROR\"\n",
       "                      }\n",
       "                    }\n",
       "                    fields {\n",
       "                      key: \"error_message\"\n",
       "                      value {\n",
       "                        string_value: \"Service dependency unavailable (payment gateway). Retrying...\"\n",
       "                      }\n",
       "                    }\n",
       "                    fields {\n",
       "                      key: \"error_code\"\n",
       "                      value {\n",
       "                        string_value: \"5522\"\n",
       "                      }\n",
       "                    }\n",
       "                  }\n",
       "                }\n",
       "                values {\n",
       "                  struct_value {\n",
       "                    fields {\n",
       "                      key: \"error_type\"\n",
       "                      value {\n",
       "                        string_value: \"ERROR\"\n",
       "                      }\n",
       "                    }\n",
       "                    fields {\n",
       "                      key: \"error_message\"\n",
       "                      value {\n",
       "                        string_value: \"Application crashed due to out-of-memory exception.\"\n",
       "                      }\n",
       "                    }\n",
       "                    fields {\n",
       "                      key: \"error_code\"\n",
       "                      value {\n",
       "                        string_value: \"9001\"\n",
       "                      }\n",
       "                    }\n",
       "                  }\n",
       "                }\n",
       "              }\n",
       "            }\n",
       "          }\n",
       "        }\n",
       "      }\n",
       "    }\n",
       "  }\n",
       "  finish_reason: STOP\n",
       "  safety_ratings {\n",
       "    category: HARM_CATEGORY_HATE_SPEECH\n",
       "    probability: NEGLIGIBLE\n",
       "    probability_score: 0.207054347\n",
       "    severity: HARM_SEVERITY_NEGLIGIBLE\n",
       "    severity_score: 0.141162992\n",
       "  }\n",
       "  safety_ratings {\n",
       "    category: HARM_CATEGORY_DANGEROUS_CONTENT\n",
       "    probability: NEGLIGIBLE\n",
       "    probability_score: 0.367156833\n",
       "    severity: HARM_SEVERITY_NEGLIGIBLE\n",
       "    severity_score: 0.133980751\n",
       "  }\n",
       "  safety_ratings {\n",
       "    category: HARM_CATEGORY_HARASSMENT\n",
       "    probability: NEGLIGIBLE\n",
       "    probability_score: 0.227297768\n",
       "    severity: HARM_SEVERITY_NEGLIGIBLE\n",
       "    severity_score: 0.0985988677\n",
       "  }\n",
       "  safety_ratings {\n",
       "    category: HARM_CATEGORY_SEXUALLY_EXPLICIT\n",
       "    probability: NEGLIGIBLE\n",
       "    probability_score: 0.125172272\n",
       "    severity: HARM_SEVERITY_NEGLIGIBLE\n",
       "    severity_score: 0.100524865\n",
       "  }\n",
       "}\n",
       "usage_metadata {\n",
       "  prompt_token_count: 154\n",
       "  candidates_token_count: 78\n",
       "  total_token_count: 232\n",
       "}"
      ]
     },
     "execution_count": 87,
     "metadata": {},
     "output_type": "execute_result"
    }
   ],
   "source": [
    "prompt = \"\"\"\n",
    "[15:43:28] ERROR: Could not process image upload: Unsupported file format. (Error Code: 308)\n",
    "[15:44:10] INFO: Search index updated successfully.\n",
    "[15:45:02] ERROR: Service dependency unavailable (payment gateway). Retrying... (Error Code: 5522)\n",
    "[15:45:33] ERROR: Application crashed due to out-of-memory exception. (Error Code: 9001)\n",
    "\"\"\"\n",
    "\n",
    "response = chat_model.generate_content(\n",
    "    prompt,\n",
    "    generation_config=GenerationConfig(temperature=0),\n",
    "    tools=[extraction_tool],\n",
    ")\n",
    "response"
   ]
  },
  {
   "cell_type": "code",
   "execution_count": null,
   "metadata": {},
   "outputs": [],
   "source": []
  }
 ],
 "metadata": {
  "kernelspec": {
   "display_name": "base",
   "language": "python",
   "name": "python3"
  },
  "language_info": {
   "codemirror_mode": {
    "name": "ipython",
    "version": 3
   },
   "file_extension": ".py",
   "mimetype": "text/x-python",
   "name": "python",
   "nbconvert_exporter": "python",
   "pygments_lexer": "ipython3",
   "version": "3.11.8"
  }
 },
 "nbformat": 4,
 "nbformat_minor": 2
}
