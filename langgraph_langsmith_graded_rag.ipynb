{
  "cells": [
    {
      "cell_type": "markdown",
      "id": "919fe33c-0149-4f7d-b200-544a18986c9a",
      "metadata": {
        "id": "919fe33c-0149-4f7d-b200-544a18986c9a"
      },
      "source": [
        "# [Self RAG](https://blog.langchain.dev/agentic-rag-with-langgraph/)\n",
        "\n",
        "Self-RAG is a strategy for RAG that incorporates self-reflection / self-grading on retrieved documents and generations.\n",
        "\n",
        "In the [paper](https://arxiv.org/abs/2310.11511), a few decisions are made:\n",
        "\n",
        "1. Should I retrieve from retriever, `R` -\n",
        "\n",
        "* Input: `x (question)` OR `x (question)`, `y (generation)`\n",
        "* Decides when to retrieve `D` chunks with `R`\n",
        "* Output: `yes, no, continue`\n",
        "\n",
        "2. Are the retrieved passages `D` relevant to the question `x` -\n",
        "\n",
        "* * Input: (`x (question)`, `d (chunk)`) for `d` in `D`\n",
        "* `d` provides useful information to solve `x`\n",
        "* Output: `relevant, irrelevant`\n",
        "\n",
        "3. Are the LLM generation from each chunk in `D` is relevant to the chunk (hallucinations, etc)  -\n",
        "\n",
        "* Input: `x (question)`, `d (chunk)`,  `y (generation)` for `d` in `D`\n",
        "* All of the verification-worthy statements in `y (generation)` are supported by `d`\n",
        "* Output: `{fully supported, partially supported, no support`\n",
        "\n",
        "4. The LLM generation from each chunk in `D` is a useful response to `x (question)` -\n",
        "\n",
        "* Input: `x (question)`, `y (generation)` for `d` in `D`\n",
        "* `y (generation)` is a useful response to `x (question)`.\n",
        "* Output: `{5, 4, 3, 2, 1}`\n",
        "\n",
        "We will implement some of these ideas from scratch using [LangGraph](https://python.langchain.com/docs/langgraph).\n",
        "\n"
      ]
    },
    {
      "cell_type": "markdown",
      "id": "72f3ee57-68ab-4040-bd36-4014e2a23d96",
      "metadata": {
        "id": "72f3ee57-68ab-4040-bd36-4014e2a23d96"
      },
      "source": [
        "# Environment"
      ]
    },
    {
      "cell_type": "code",
      "execution_count": 22,
      "id": "E11MmSx6qWpW",
      "metadata": {
        "id": "E11MmSx6qWpW"
      },
      "outputs": [],
      "source": [
        "import os"
      ]
    },
    {
      "cell_type": "code",
      "execution_count": 23,
      "id": "TlSuahxeqYOu",
      "metadata": {
        "id": "TlSuahxeqYOu"
      },
      "outputs": [],
      "source": [
        "# workaround https://stackoverflow.com/questions/54382643/colab-suddenly-unable-to-navigate-through-directories\n",
        "\n",
        "os.chdir('/content')"
      ]
    },
    {
      "cell_type": "code",
      "execution_count": 24,
      "id": "a384cc48-0425-4e8f-aafc-cfb8e56025c9",
      "metadata": {
        "colab": {
          "base_uri": "https://localhost:8080/"
        },
        "id": "a384cc48-0425-4e8f-aafc-cfb8e56025c9",
        "outputId": "0baf1185-a511-47c6-a66f-5a54b4b196d6"
      },
      "outputs": [
        {
          "output_type": "stream",
          "name": "stdout",
          "text": [
            "Requirement already satisfied: langchain_community in /usr/local/lib/python3.10/dist-packages (0.2.1)\n",
            "Requirement already satisfied: langchainhub in /usr/local/lib/python3.10/dist-packages (0.1.15)\n",
            "Requirement already satisfied: chromadb in /usr/local/lib/python3.10/dist-packages (0.5.0)\n",
            "Requirement already satisfied: langchain in /usr/local/lib/python3.10/dist-packages (0.2.1)\n",
            "Requirement already satisfied: langgraph in /usr/local/lib/python3.10/dist-packages (0.0.55)\n",
            "Requirement already satisfied: langsmith in /usr/local/lib/python3.10/dist-packages (0.1.63)\n",
            "Requirement already satisfied: langchain_google_vertexai in /usr/local/lib/python3.10/dist-packages (1.0.4)\n",
            "Requirement already satisfied: PyYAML>=5.3 in /usr/local/lib/python3.10/dist-packages (from langchain_community) (6.0.1)\n",
            "Requirement already satisfied: SQLAlchemy<3,>=1.4 in /usr/local/lib/python3.10/dist-packages (from langchain_community) (2.0.30)\n",
            "Requirement already satisfied: aiohttp<4.0.0,>=3.8.3 in /usr/local/lib/python3.10/dist-packages (from langchain_community) (3.9.5)\n",
            "Requirement already satisfied: dataclasses-json<0.7,>=0.5.7 in /usr/local/lib/python3.10/dist-packages (from langchain_community) (0.6.6)\n",
            "Requirement already satisfied: langchain-core<0.3.0,>=0.2.0 in /usr/local/lib/python3.10/dist-packages (from langchain_community) (0.2.1)\n",
            "Requirement already satisfied: numpy<2,>=1 in /usr/local/lib/python3.10/dist-packages (from langchain_community) (1.25.2)\n",
            "Requirement already satisfied: requests<3,>=2 in /usr/local/lib/python3.10/dist-packages (from langchain_community) (2.31.0)\n",
            "Requirement already satisfied: tenacity<9.0.0,>=8.1.0 in /usr/local/lib/python3.10/dist-packages (from langchain_community) (8.3.0)\n",
            "Requirement already satisfied: types-requests<3.0.0.0,>=2.31.0.2 in /usr/local/lib/python3.10/dist-packages (from langchainhub) (2.32.0.20240523)\n",
            "Requirement already satisfied: build>=1.0.3 in /usr/local/lib/python3.10/dist-packages (from chromadb) (1.2.1)\n",
            "Requirement already satisfied: pydantic>=1.9 in /usr/local/lib/python3.10/dist-packages (from chromadb) (2.7.1)\n",
            "Requirement already satisfied: chroma-hnswlib==0.7.3 in /usr/local/lib/python3.10/dist-packages (from chromadb) (0.7.3)\n",
            "Requirement already satisfied: fastapi>=0.95.2 in /usr/local/lib/python3.10/dist-packages (from chromadb) (0.111.0)\n",
            "Requirement already satisfied: uvicorn[standard]>=0.18.3 in /usr/local/lib/python3.10/dist-packages (from chromadb) (0.29.0)\n",
            "Requirement already satisfied: posthog>=2.4.0 in /usr/local/lib/python3.10/dist-packages (from chromadb) (3.5.0)\n",
            "Requirement already satisfied: typing-extensions>=4.5.0 in /usr/local/lib/python3.10/dist-packages (from chromadb) (4.11.0)\n",
            "Requirement already satisfied: onnxruntime>=1.14.1 in /usr/local/lib/python3.10/dist-packages (from chromadb) (1.18.0)\n",
            "Requirement already satisfied: opentelemetry-api>=1.2.0 in /usr/local/lib/python3.10/dist-packages (from chromadb) (1.24.0)\n",
            "Requirement already satisfied: opentelemetry-exporter-otlp-proto-grpc>=1.2.0 in /usr/local/lib/python3.10/dist-packages (from chromadb) (1.24.0)\n",
            "Requirement already satisfied: opentelemetry-instrumentation-fastapi>=0.41b0 in /usr/local/lib/python3.10/dist-packages (from chromadb) (0.45b0)\n",
            "Requirement already satisfied: opentelemetry-sdk>=1.2.0 in /usr/local/lib/python3.10/dist-packages (from chromadb) (1.24.0)\n",
            "Requirement already satisfied: tokenizers>=0.13.2 in /usr/local/lib/python3.10/dist-packages (from chromadb) (0.19.1)\n",
            "Requirement already satisfied: pypika>=0.48.9 in /usr/local/lib/python3.10/dist-packages (from chromadb) (0.48.9)\n",
            "Requirement already satisfied: tqdm>=4.65.0 in /usr/local/lib/python3.10/dist-packages (from chromadb) (4.66.4)\n",
            "Requirement already satisfied: overrides>=7.3.1 in /usr/local/lib/python3.10/dist-packages (from chromadb) (7.7.0)\n",
            "Requirement already satisfied: importlib-resources in /usr/local/lib/python3.10/dist-packages (from chromadb) (6.4.0)\n",
            "Requirement already satisfied: grpcio>=1.58.0 in /usr/local/lib/python3.10/dist-packages (from chromadb) (1.64.0)\n",
            "Requirement already satisfied: bcrypt>=4.0.1 in /usr/local/lib/python3.10/dist-packages (from chromadb) (4.1.3)\n",
            "Requirement already satisfied: typer>=0.9.0 in /usr/local/lib/python3.10/dist-packages (from chromadb) (0.12.3)\n",
            "Requirement already satisfied: kubernetes>=28.1.0 in /usr/local/lib/python3.10/dist-packages (from chromadb) (29.0.0)\n",
            "Requirement already satisfied: mmh3>=4.0.1 in /usr/local/lib/python3.10/dist-packages (from chromadb) (4.1.0)\n",
            "Requirement already satisfied: orjson>=3.9.12 in /usr/local/lib/python3.10/dist-packages (from chromadb) (3.10.3)\n",
            "Requirement already satisfied: async-timeout<5.0.0,>=4.0.0 in /usr/local/lib/python3.10/dist-packages (from langchain) (4.0.3)\n",
            "Requirement already satisfied: langchain-text-splitters<0.3.0,>=0.2.0 in /usr/local/lib/python3.10/dist-packages (from langchain) (0.2.0)\n",
            "Requirement already satisfied: uuid6<2025.0.0,>=2024.1.12 in /usr/local/lib/python3.10/dist-packages (from langgraph) (2024.1.12)\n",
            "Requirement already satisfied: google-cloud-aiplatform<2.0.0,>=1.47.0 in /usr/local/lib/python3.10/dist-packages (from langchain_google_vertexai) (1.52.0)\n",
            "Requirement already satisfied: google-cloud-storage<3.0.0,>=2.14.0 in /usr/local/lib/python3.10/dist-packages (from langchain_google_vertexai) (2.16.0)\n",
            "Requirement already satisfied: aiosignal>=1.1.2 in /usr/local/lib/python3.10/dist-packages (from aiohttp<4.0.0,>=3.8.3->langchain_community) (1.3.1)\n",
            "Requirement already satisfied: attrs>=17.3.0 in /usr/local/lib/python3.10/dist-packages (from aiohttp<4.0.0,>=3.8.3->langchain_community) (23.2.0)\n",
            "Requirement already satisfied: frozenlist>=1.1.1 in /usr/local/lib/python3.10/dist-packages (from aiohttp<4.0.0,>=3.8.3->langchain_community) (1.4.1)\n",
            "Requirement already satisfied: multidict<7.0,>=4.5 in /usr/local/lib/python3.10/dist-packages (from aiohttp<4.0.0,>=3.8.3->langchain_community) (6.0.5)\n",
            "Requirement already satisfied: yarl<2.0,>=1.0 in /usr/local/lib/python3.10/dist-packages (from aiohttp<4.0.0,>=3.8.3->langchain_community) (1.9.4)\n",
            "Requirement already satisfied: packaging>=19.1 in /usr/local/lib/python3.10/dist-packages (from build>=1.0.3->chromadb) (23.2)\n",
            "Requirement already satisfied: pyproject_hooks in /usr/local/lib/python3.10/dist-packages (from build>=1.0.3->chromadb) (1.1.0)\n",
            "Requirement already satisfied: tomli>=1.1.0 in /usr/local/lib/python3.10/dist-packages (from build>=1.0.3->chromadb) (2.0.1)\n",
            "Requirement already satisfied: marshmallow<4.0.0,>=3.18.0 in /usr/local/lib/python3.10/dist-packages (from dataclasses-json<0.7,>=0.5.7->langchain_community) (3.21.2)\n",
            "Requirement already satisfied: typing-inspect<1,>=0.4.0 in /usr/local/lib/python3.10/dist-packages (from dataclasses-json<0.7,>=0.5.7->langchain_community) (0.9.0)\n",
            "Requirement already satisfied: starlette<0.38.0,>=0.37.2 in /usr/local/lib/python3.10/dist-packages (from fastapi>=0.95.2->chromadb) (0.37.2)\n",
            "Requirement already satisfied: fastapi-cli>=0.0.2 in /usr/local/lib/python3.10/dist-packages (from fastapi>=0.95.2->chromadb) (0.0.4)\n",
            "Requirement already satisfied: httpx>=0.23.0 in /usr/local/lib/python3.10/dist-packages (from fastapi>=0.95.2->chromadb) (0.27.0)\n",
            "Requirement already satisfied: jinja2>=2.11.2 in /usr/local/lib/python3.10/dist-packages (from fastapi>=0.95.2->chromadb) (3.1.4)\n",
            "Requirement already satisfied: python-multipart>=0.0.7 in /usr/local/lib/python3.10/dist-packages (from fastapi>=0.95.2->chromadb) (0.0.9)\n",
            "Requirement already satisfied: ujson!=4.0.2,!=4.1.0,!=4.2.0,!=4.3.0,!=5.0.0,!=5.1.0,>=4.0.1 in /usr/local/lib/python3.10/dist-packages (from fastapi>=0.95.2->chromadb) (5.10.0)\n",
            "Requirement already satisfied: email_validator>=2.0.0 in /usr/local/lib/python3.10/dist-packages (from fastapi>=0.95.2->chromadb) (2.1.1)\n",
            "Requirement already satisfied: google-api-core[grpc]!=2.0.*,!=2.1.*,!=2.2.*,!=2.3.*,!=2.4.*,!=2.5.*,!=2.6.*,!=2.7.*,<3.0.0dev,>=1.34.1 in /usr/local/lib/python3.10/dist-packages (from google-cloud-aiplatform<2.0.0,>=1.47.0->langchain_google_vertexai) (2.19.0)\n",
            "Requirement already satisfied: google-auth<3.0.0dev,>=2.14.1 in /usr/local/lib/python3.10/dist-packages (from google-cloud-aiplatform<2.0.0,>=1.47.0->langchain_google_vertexai) (2.27.0)\n",
            "Requirement already satisfied: proto-plus<2.0.0dev,>=1.22.0 in /usr/local/lib/python3.10/dist-packages (from google-cloud-aiplatform<2.0.0,>=1.47.0->langchain_google_vertexai) (1.23.0)\n",
            "Requirement already satisfied: protobuf!=3.20.0,!=3.20.1,!=4.21.0,!=4.21.1,!=4.21.2,!=4.21.3,!=4.21.4,!=4.21.5,<5.0.0dev,>=3.19.5 in /usr/local/lib/python3.10/dist-packages (from google-cloud-aiplatform<2.0.0,>=1.47.0->langchain_google_vertexai) (3.20.3)\n",
            "Requirement already satisfied: google-cloud-bigquery!=3.20.0,<4.0.0dev,>=1.15.0 in /usr/local/lib/python3.10/dist-packages (from google-cloud-aiplatform<2.0.0,>=1.47.0->langchain_google_vertexai) (3.21.0)\n",
            "Requirement already satisfied: google-cloud-resource-manager<3.0.0dev,>=1.3.3 in /usr/local/lib/python3.10/dist-packages (from google-cloud-aiplatform<2.0.0,>=1.47.0->langchain_google_vertexai) (1.12.3)\n",
            "Requirement already satisfied: shapely<3.0.0dev in /usr/local/lib/python3.10/dist-packages (from google-cloud-aiplatform<2.0.0,>=1.47.0->langchain_google_vertexai) (2.0.4)\n",
            "Requirement already satisfied: docstring-parser<1 in /usr/local/lib/python3.10/dist-packages (from google-cloud-aiplatform<2.0.0,>=1.47.0->langchain_google_vertexai) (0.16)\n",
            "Requirement already satisfied: google-cloud-core<3.0dev,>=2.3.0 in /usr/local/lib/python3.10/dist-packages (from google-cloud-storage<3.0.0,>=2.14.0->langchain_google_vertexai) (2.3.3)\n",
            "Requirement already satisfied: google-resumable-media>=2.6.0 in /usr/local/lib/python3.10/dist-packages (from google-cloud-storage<3.0.0,>=2.14.0->langchain_google_vertexai) (2.7.0)\n",
            "Requirement already satisfied: google-crc32c<2.0dev,>=1.0 in /usr/local/lib/python3.10/dist-packages (from google-cloud-storage<3.0.0,>=2.14.0->langchain_google_vertexai) (1.5.0)\n",
            "Requirement already satisfied: certifi>=14.05.14 in /usr/local/lib/python3.10/dist-packages (from kubernetes>=28.1.0->chromadb) (2024.2.2)\n",
            "Requirement already satisfied: six>=1.9.0 in /usr/local/lib/python3.10/dist-packages (from kubernetes>=28.1.0->chromadb) (1.16.0)\n",
            "Requirement already satisfied: python-dateutil>=2.5.3 in /usr/local/lib/python3.10/dist-packages (from kubernetes>=28.1.0->chromadb) (2.8.2)\n",
            "Requirement already satisfied: websocket-client!=0.40.0,!=0.41.*,!=0.42.*,>=0.32.0 in /usr/local/lib/python3.10/dist-packages (from kubernetes>=28.1.0->chromadb) (1.8.0)\n",
            "Requirement already satisfied: requests-oauthlib in /usr/local/lib/python3.10/dist-packages (from kubernetes>=28.1.0->chromadb) (1.3.1)\n",
            "Requirement already satisfied: oauthlib>=3.2.2 in /usr/local/lib/python3.10/dist-packages (from kubernetes>=28.1.0->chromadb) (3.2.2)\n",
            "Requirement already satisfied: urllib3>=1.24.2 in /usr/local/lib/python3.10/dist-packages (from kubernetes>=28.1.0->chromadb) (2.0.7)\n",
            "Requirement already satisfied: jsonpatch<2.0,>=1.33 in /usr/local/lib/python3.10/dist-packages (from langchain-core<0.3.0,>=0.2.0->langchain_community) (1.33)\n",
            "Requirement already satisfied: coloredlogs in /usr/local/lib/python3.10/dist-packages (from onnxruntime>=1.14.1->chromadb) (15.0.1)\n",
            "Requirement already satisfied: flatbuffers in /usr/local/lib/python3.10/dist-packages (from onnxruntime>=1.14.1->chromadb) (24.3.25)\n",
            "Requirement already satisfied: sympy in /usr/local/lib/python3.10/dist-packages (from onnxruntime>=1.14.1->chromadb) (1.12)\n",
            "Requirement already satisfied: deprecated>=1.2.6 in /usr/local/lib/python3.10/dist-packages (from opentelemetry-api>=1.2.0->chromadb) (1.2.14)\n",
            "Requirement already satisfied: importlib-metadata<=7.0,>=6.0 in /usr/local/lib/python3.10/dist-packages (from opentelemetry-api>=1.2.0->chromadb) (7.0.0)\n",
            "Requirement already satisfied: googleapis-common-protos~=1.52 in /usr/local/lib/python3.10/dist-packages (from opentelemetry-exporter-otlp-proto-grpc>=1.2.0->chromadb) (1.63.0)\n",
            "Requirement already satisfied: opentelemetry-exporter-otlp-proto-common==1.24.0 in /usr/local/lib/python3.10/dist-packages (from opentelemetry-exporter-otlp-proto-grpc>=1.2.0->chromadb) (1.24.0)\n",
            "Requirement already satisfied: opentelemetry-proto==1.24.0 in /usr/local/lib/python3.10/dist-packages (from opentelemetry-exporter-otlp-proto-grpc>=1.2.0->chromadb) (1.24.0)\n",
            "Requirement already satisfied: opentelemetry-instrumentation-asgi==0.45b0 in /usr/local/lib/python3.10/dist-packages (from opentelemetry-instrumentation-fastapi>=0.41b0->chromadb) (0.45b0)\n",
            "Requirement already satisfied: opentelemetry-instrumentation==0.45b0 in /usr/local/lib/python3.10/dist-packages (from opentelemetry-instrumentation-fastapi>=0.41b0->chromadb) (0.45b0)\n",
            "Requirement already satisfied: opentelemetry-semantic-conventions==0.45b0 in /usr/local/lib/python3.10/dist-packages (from opentelemetry-instrumentation-fastapi>=0.41b0->chromadb) (0.45b0)\n",
            "Requirement already satisfied: opentelemetry-util-http==0.45b0 in /usr/local/lib/python3.10/dist-packages (from opentelemetry-instrumentation-fastapi>=0.41b0->chromadb) (0.45b0)\n",
            "Requirement already satisfied: setuptools>=16.0 in /usr/local/lib/python3.10/dist-packages (from opentelemetry-instrumentation==0.45b0->opentelemetry-instrumentation-fastapi>=0.41b0->chromadb) (67.7.2)\n",
            "Requirement already satisfied: wrapt<2.0.0,>=1.0.0 in /usr/local/lib/python3.10/dist-packages (from opentelemetry-instrumentation==0.45b0->opentelemetry-instrumentation-fastapi>=0.41b0->chromadb) (1.14.1)\n",
            "Requirement already satisfied: asgiref~=3.0 in /usr/local/lib/python3.10/dist-packages (from opentelemetry-instrumentation-asgi==0.45b0->opentelemetry-instrumentation-fastapi>=0.41b0->chromadb) (3.8.1)\n",
            "Requirement already satisfied: monotonic>=1.5 in /usr/local/lib/python3.10/dist-packages (from posthog>=2.4.0->chromadb) (1.6)\n",
            "Requirement already satisfied: backoff>=1.10.0 in /usr/local/lib/python3.10/dist-packages (from posthog>=2.4.0->chromadb) (2.2.1)\n",
            "Requirement already satisfied: annotated-types>=0.4.0 in /usr/local/lib/python3.10/dist-packages (from pydantic>=1.9->chromadb) (0.7.0)\n",
            "Requirement already satisfied: pydantic-core==2.18.2 in /usr/local/lib/python3.10/dist-packages (from pydantic>=1.9->chromadb) (2.18.2)\n",
            "Requirement already satisfied: charset-normalizer<4,>=2 in /usr/local/lib/python3.10/dist-packages (from requests<3,>=2->langchain_community) (3.3.2)\n",
            "Requirement already satisfied: idna<4,>=2.5 in /usr/local/lib/python3.10/dist-packages (from requests<3,>=2->langchain_community) (3.7)\n",
            "Requirement already satisfied: greenlet!=0.4.17 in /usr/local/lib/python3.10/dist-packages (from SQLAlchemy<3,>=1.4->langchain_community) (3.0.3)\n",
            "Requirement already satisfied: huggingface-hub<1.0,>=0.16.4 in /usr/local/lib/python3.10/dist-packages (from tokenizers>=0.13.2->chromadb) (0.23.1)\n",
            "Requirement already satisfied: click>=8.0.0 in /usr/local/lib/python3.10/dist-packages (from typer>=0.9.0->chromadb) (8.1.7)\n",
            "Requirement already satisfied: shellingham>=1.3.0 in /usr/local/lib/python3.10/dist-packages (from typer>=0.9.0->chromadb) (1.5.4)\n",
            "Requirement already satisfied: rich>=10.11.0 in /usr/local/lib/python3.10/dist-packages (from typer>=0.9.0->chromadb) (13.7.1)\n",
            "Requirement already satisfied: h11>=0.8 in /usr/local/lib/python3.10/dist-packages (from uvicorn[standard]>=0.18.3->chromadb) (0.14.0)\n",
            "Requirement already satisfied: httptools>=0.5.0 in /usr/local/lib/python3.10/dist-packages (from uvicorn[standard]>=0.18.3->chromadb) (0.6.1)\n",
            "Requirement already satisfied: python-dotenv>=0.13 in /usr/local/lib/python3.10/dist-packages (from uvicorn[standard]>=0.18.3->chromadb) (1.0.1)\n",
            "Requirement already satisfied: uvloop!=0.15.0,!=0.15.1,>=0.14.0 in /usr/local/lib/python3.10/dist-packages (from uvicorn[standard]>=0.18.3->chromadb) (0.19.0)\n",
            "Requirement already satisfied: watchfiles>=0.13 in /usr/local/lib/python3.10/dist-packages (from uvicorn[standard]>=0.18.3->chromadb) (0.21.0)\n",
            "Requirement already satisfied: websockets>=10.4 in /usr/local/lib/python3.10/dist-packages (from uvicorn[standard]>=0.18.3->chromadb) (12.0)\n",
            "Requirement already satisfied: dnspython>=2.0.0 in /usr/local/lib/python3.10/dist-packages (from email_validator>=2.0.0->fastapi>=0.95.2->chromadb) (2.6.1)\n",
            "Requirement already satisfied: grpcio-status<2.0.dev0,>=1.33.2 in /usr/local/lib/python3.10/dist-packages (from google-api-core[grpc]!=2.0.*,!=2.1.*,!=2.2.*,!=2.3.*,!=2.4.*,!=2.5.*,!=2.6.*,!=2.7.*,<3.0.0dev,>=1.34.1->google-cloud-aiplatform<2.0.0,>=1.47.0->langchain_google_vertexai) (1.48.2)\n",
            "Requirement already satisfied: cachetools<6.0,>=2.0.0 in /usr/local/lib/python3.10/dist-packages (from google-auth<3.0.0dev,>=2.14.1->google-cloud-aiplatform<2.0.0,>=1.47.0->langchain_google_vertexai) (5.3.3)\n",
            "Requirement already satisfied: pyasn1-modules>=0.2.1 in /usr/local/lib/python3.10/dist-packages (from google-auth<3.0.0dev,>=2.14.1->google-cloud-aiplatform<2.0.0,>=1.47.0->langchain_google_vertexai) (0.4.0)\n",
            "Requirement already satisfied: rsa<5,>=3.1.4 in /usr/local/lib/python3.10/dist-packages (from google-auth<3.0.0dev,>=2.14.1->google-cloud-aiplatform<2.0.0,>=1.47.0->langchain_google_vertexai) (4.9)\n",
            "Requirement already satisfied: grpc-google-iam-v1<1.0.0dev,>=0.12.4 in /usr/local/lib/python3.10/dist-packages (from google-cloud-resource-manager<3.0.0dev,>=1.3.3->google-cloud-aiplatform<2.0.0,>=1.47.0->langchain_google_vertexai) (0.13.0)\n",
            "Requirement already satisfied: anyio in /usr/local/lib/python3.10/dist-packages (from httpx>=0.23.0->fastapi>=0.95.2->chromadb) (3.7.1)\n",
            "Requirement already satisfied: httpcore==1.* in /usr/local/lib/python3.10/dist-packages (from httpx>=0.23.0->fastapi>=0.95.2->chromadb) (1.0.5)\n",
            "Requirement already satisfied: sniffio in /usr/local/lib/python3.10/dist-packages (from httpx>=0.23.0->fastapi>=0.95.2->chromadb) (1.3.1)\n",
            "Requirement already satisfied: filelock in /usr/local/lib/python3.10/dist-packages (from huggingface-hub<1.0,>=0.16.4->tokenizers>=0.13.2->chromadb) (3.14.0)\n",
            "Requirement already satisfied: fsspec>=2023.5.0 in /usr/local/lib/python3.10/dist-packages (from huggingface-hub<1.0,>=0.16.4->tokenizers>=0.13.2->chromadb) (2023.6.0)\n",
            "Requirement already satisfied: zipp>=0.5 in /usr/local/lib/python3.10/dist-packages (from importlib-metadata<=7.0,>=6.0->opentelemetry-api>=1.2.0->chromadb) (3.18.2)\n",
            "Requirement already satisfied: MarkupSafe>=2.0 in /usr/local/lib/python3.10/dist-packages (from jinja2>=2.11.2->fastapi>=0.95.2->chromadb) (2.1.5)\n",
            "Requirement already satisfied: jsonpointer>=1.9 in /usr/local/lib/python3.10/dist-packages (from jsonpatch<2.0,>=1.33->langchain-core<0.3.0,>=0.2.0->langchain_community) (2.4)\n",
            "Requirement already satisfied: markdown-it-py>=2.2.0 in /usr/local/lib/python3.10/dist-packages (from rich>=10.11.0->typer>=0.9.0->chromadb) (3.0.0)\n",
            "Requirement already satisfied: pygments<3.0.0,>=2.13.0 in /usr/local/lib/python3.10/dist-packages (from rich>=10.11.0->typer>=0.9.0->chromadb) (2.16.1)\n",
            "Requirement already satisfied: mypy-extensions>=0.3.0 in /usr/local/lib/python3.10/dist-packages (from typing-inspect<1,>=0.4.0->dataclasses-json<0.7,>=0.5.7->langchain_community) (1.0.0)\n",
            "Requirement already satisfied: humanfriendly>=9.1 in /usr/local/lib/python3.10/dist-packages (from coloredlogs->onnxruntime>=1.14.1->chromadb) (10.0)\n",
            "Requirement already satisfied: mpmath>=0.19 in /usr/local/lib/python3.10/dist-packages (from sympy->onnxruntime>=1.14.1->chromadb) (1.3.0)\n",
            "Requirement already satisfied: exceptiongroup in /usr/local/lib/python3.10/dist-packages (from anyio->httpx>=0.23.0->fastapi>=0.95.2->chromadb) (1.2.1)\n",
            "Requirement already satisfied: mdurl~=0.1 in /usr/local/lib/python3.10/dist-packages (from markdown-it-py>=2.2.0->rich>=10.11.0->typer>=0.9.0->chromadb) (0.1.2)\n",
            "Requirement already satisfied: pyasn1<0.7.0,>=0.4.6 in /usr/local/lib/python3.10/dist-packages (from pyasn1-modules>=0.2.1->google-auth<3.0.0dev,>=2.14.1->google-cloud-aiplatform<2.0.0,>=1.47.0->langchain_google_vertexai) (0.6.0)\n"
          ]
        }
      ],
      "source": [
        "!pip install langchain_community langchainhub chromadb langchain langgraph langsmith langchain_google_vertexai"
      ]
    },
    {
      "cell_type": "code",
      "source": [
        "from langchain.globals import set_debug"
      ],
      "metadata": {
        "id": "GBexPUNepr19"
      },
      "id": "GBexPUNepr19",
      "execution_count": 78,
      "outputs": []
    },
    {
      "cell_type": "code",
      "source": [
        "set_debug(False)"
      ],
      "metadata": {
        "id": "exRuzxNdpsoZ"
      },
      "id": "exRuzxNdpsoZ",
      "execution_count": 79,
      "outputs": []
    },
    {
      "cell_type": "markdown",
      "id": "15569b93-3c68-4aac-838c-37112d33987a",
      "metadata": {
        "id": "15569b93-3c68-4aac-838c-37112d33987a"
      },
      "source": [
        "### Setup"
      ]
    },
    {
      "cell_type": "markdown",
      "id": "6xrAQfaK-tMY",
      "metadata": {
        "id": "6xrAQfaK-tMY"
      },
      "source": [
        "#### Setup GCP and VertexAI"
      ]
    },
    {
      "cell_type": "code",
      "execution_count": 25,
      "id": "iajyHcYKBBu2",
      "metadata": {
        "id": "iajyHcYKBBu2"
      },
      "outputs": [],
      "source": [
        "from google.colab import auth"
      ]
    },
    {
      "cell_type": "code",
      "execution_count": 26,
      "id": "pyOCF2dN-3Uc",
      "metadata": {
        "id": "pyOCF2dN-3Uc"
      },
      "outputs": [],
      "source": [
        "import vertexai\n",
        "\n",
        "PROJECT_ID='langgraph-graded-rag'\n",
        "REGION_ID='us-central1'\n",
        "\n",
        "TEXT_EMBEDDING_MODEL = 'textembedding-gecko'\n",
        "LLM_MODEL = \"gemini-1.0-pro\""
      ]
    },
    {
      "cell_type": "code",
      "execution_count": 27,
      "id": "CxeBf4dPCuqc",
      "metadata": {
        "id": "CxeBf4dPCuqc"
      },
      "outputs": [],
      "source": [
        "auth.authenticate_user(project_id=PROJECT_ID)"
      ]
    },
    {
      "cell_type": "code",
      "execution_count": 28,
      "id": "ukaOawDbDW2p",
      "metadata": {
        "id": "ukaOawDbDW2p"
      },
      "outputs": [],
      "source": [
        "vertexai.init(project=PROJECT_ID, location=REGION_ID)"
      ]
    },
    {
      "cell_type": "markdown",
      "id": "532d91fb-381e-4e11-b3b1-254321351773",
      "metadata": {
        "id": "532d91fb-381e-4e11-b3b1-254321351773"
      },
      "source": [
        "### Tracing\n",
        "\n",
        "Optionally, use [LangSmith](https://docs.smith.langchain.com/) for tracing (shown at bottom)"
      ]
    },
    {
      "cell_type": "code",
      "execution_count": 29,
      "id": "ccc3dae5-1df6-48ca-af8a-50f0e6128876",
      "metadata": {
        "id": "ccc3dae5-1df6-48ca-af8a-50f0e6128876"
      },
      "outputs": [],
      "source": [
        "import os\n",
        "\n",
        "os.environ['LANGCHAIN_TRACING_V2'] = 'true'\n",
        "os.environ['LANGCHAIN_ENDPOINT'] = 'https://api.smith.langchain.com'\n",
        "os.environ['LANGCHAIN_API_KEY'] = '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'"
      ]
    },
    {
      "cell_type": "markdown",
      "id": "c27bebdc-be71-4130-ab9d-42f09f87658b",
      "metadata": {
        "id": "c27bebdc-be71-4130-ab9d-42f09f87658b"
      },
      "source": [
        "## Retriever grading"
      ]
    },
    {
      "cell_type": "code",
      "execution_count": 30,
      "id": "1fafad21-60cc-483e-92a3-6a7edb1838e3",
      "metadata": {
        "id": "1fafad21-60cc-483e-92a3-6a7edb1838e3"
      },
      "outputs": [],
      "source": [
        "from typing import Literal\n",
        "\n",
        "from langchain_core.prompts import ChatPromptTemplate\n",
        "from langchain_core.pydantic_v1 import BaseModel, Field\n",
        "# from langchain_openai import ChatOpenAI\n",
        "from langchain_google_vertexai import ChatVertexAI"
      ]
    },
    {
      "cell_type": "markdown",
      "id": "SAzvJAJUPdD2",
      "metadata": {
        "id": "SAzvJAJUPdD2"
      },
      "source": [
        "### Setup retriever\n",
        "\n",
        "Let's index 3 blog posts."
      ]
    },
    {
      "cell_type": "code",
      "execution_count": 31,
      "id": "565a6d44-2c9f-4fff-b1ec-eea05df9350d",
      "metadata": {
        "id": "565a6d44-2c9f-4fff-b1ec-eea05df9350d"
      },
      "outputs": [],
      "source": [
        "from langchain.text_splitter import RecursiveCharacterTextSplitter\n",
        "from langchain_community.document_loaders import WebBaseLoader\n",
        "from langchain_community.vectorstores import Chroma\n",
        "# from langchain_openai import OpenAIEmbeddings\n",
        "from langchain_google_vertexai import VertexAIEmbeddings\n",
        "\n",
        "urls = [\n",
        "    \"https://lilianweng.github.io/posts/2023-06-23-agent/\",\n",
        "    \"https://lilianweng.github.io/posts/2023-03-15-prompt-engineering/\",\n",
        "    \"https://lilianweng.github.io/posts/2023-10-25-adv-attack-llm/\",\n",
        "]\n",
        "\n",
        "docs = [WebBaseLoader(url).load() for url in urls]\n",
        "docs_list = [item for sublist in docs for item in sublist]\n",
        "\n",
        "# Skip tiktoken encoder as we're using VertexAIEmbeddings\n",
        "# text_splitter = RecursiveCharacterTextSplitter.from_tiktoken_encoder(\n",
        "#     chunk_size=250, chunk_overlap=0\n",
        "# )\n",
        "text_splitter = RecursiveCharacterTextSplitter(chunk_size=250, chunk_overlap=0)\n",
        "doc_splits = text_splitter.split_documents(docs_list)\n",
        "\n",
        "# Add to vectorDB\n",
        "vectorstore = Chroma.from_documents(\n",
        "    documents=doc_splits,\n",
        "    collection_name=\"rag-chroma\",\n",
        "    embedding=VertexAIEmbeddings(model_name=TEXT_EMBEDDING_MODEL),\n",
        ")\n",
        "retriever = vectorstore.as_retriever()"
      ]
    },
    {
      "cell_type": "markdown",
      "id": "83u6UwEAN9Lm",
      "metadata": {
        "id": "83u6UwEAN9Lm"
      },
      "source": [
        "#### Structure LLM output to enable grading"
      ]
    },
    {
      "cell_type": "code",
      "execution_count": 32,
      "id": "lCq6ntLXJ_t2",
      "metadata": {
        "id": "lCq6ntLXJ_t2"
      },
      "outputs": [],
      "source": [
        "# Data model\n",
        "class GradeDocuments(BaseModel):\n",
        "    \"\"\"Binary score for relevance check on retrieved documents.\"\"\"\n",
        "\n",
        "    binary_score: str = Field(\n",
        "        description=\"Documents are relevant to the question, 'yes' or 'no'\"\n",
        "    )"
      ]
    },
    {
      "cell_type": "code",
      "execution_count": 33,
      "id": "Ugcq2saCKDyq",
      "metadata": {
        "id": "Ugcq2saCKDyq"
      },
      "outputs": [],
      "source": [
        "# LLM with function call\n",
        "# llm = ChatOpenAI(model=\"gpt-3.5-turbo-0125\", temperature=0)\n",
        "llm = ChatVertexAI(model=LLM_MODEL, temperature=0)\n",
        "structured_llm_grader = llm.with_structured_output(GradeDocuments)"
      ]
    },
    {
      "cell_type": "markdown",
      "id": "iu91j7NFLmcQ",
      "metadata": {
        "id": "iu91j7NFLmcQ"
      },
      "source": [
        "#### Setup prompt & chain for retriever grading"
      ]
    },
    {
      "cell_type": "code",
      "execution_count": 34,
      "id": "i7ZEqtZVKOaF",
      "metadata": {
        "id": "i7ZEqtZVKOaF"
      },
      "outputs": [],
      "source": [
        "system = \"\"\"You are a grader assessing relevance of a retrieved document to a user question. \\n\n",
        "    It does not need to be a stringent test. The goal is to filter out erroneous retrievals. \\n\n",
        "    If the document contains keyword(s) or semantic meaning related to the user question, grade it as relevant. \\n\n",
        "    Give a binary score 'yes' or 'no' score to indicate whether the document is relevant to the question.\"\"\"\n",
        "grade_prompt = ChatPromptTemplate.from_messages(\n",
        "    [\n",
        "        (\"system\", system),\n",
        "        (\"human\", \"Retrieved document: \\n\\n {document} \\n\\n User question: {question}\"),\n",
        "    ]\n",
        ")\n",
        "\n",
        "retrieval_grader = grade_prompt | structured_llm_grader"
      ]
    },
    {
      "cell_type": "markdown",
      "id": "ZTvB-BroNab_",
      "metadata": {
        "id": "ZTvB-BroNab_"
      },
      "source": [
        "#### Invoke chain and perform grading"
      ]
    },
    {
      "cell_type": "code",
      "execution_count": 35,
      "id": "SWVQv8RGM8Tl",
      "metadata": {
        "colab": {
          "base_uri": "https://localhost:8080/"
        },
        "id": "SWVQv8RGM8Tl",
        "outputId": "5456a466-f06c-4d3e-b771-77f3b81bb917"
      },
      "outputs": [
        {
          "output_type": "stream",
          "name": "stdout",
          "text": [
            "[Document(page_content='Memory stream: is a long-term memory module (external database) that records a comprehensive list of agents’ experience in natural language.', metadata={'description': 'Building agents with LLM (large language model) as its core controller is a cool concept. Several proof-of-concepts demos, such as AutoGPT, GPT-Engineer and BabyAGI, serve as inspiring examples. The potentiality of LLM extends beyond generating well-written copies, stories, essays and programs; it can be framed as a powerful general problem solver.\\nAgent System Overview In a LLM-powered autonomous agent system, LLM functions as the agent’s brain, complemented by several key components:', 'language': 'en', 'source': 'https://lilianweng.github.io/posts/2023-06-23-agent/', 'title': \"LLM Powered Autonomous Agents | Lil'Log\"}), Document(page_content='Memory stream: is a long-term memory module (external database) that records a comprehensive list of agents’ experience in natural language.', metadata={'description': 'Building agents with LLM (large language model) as its core controller is a cool concept. Several proof-of-concepts demos, such as AutoGPT, GPT-Engineer and BabyAGI, serve as inspiring examples. The potentiality of LLM extends beyond generating well-written copies, stories, essays and programs; it can be framed as a powerful general problem solver.\\nAgent System Overview In a LLM-powered autonomous agent system, LLM functions as the agent’s brain, complemented by several key components:', 'language': 'en', 'source': 'https://lilianweng.github.io/posts/2023-06-23-agent/', 'title': \"LLM Powered Autonomous Agents | Lil'Log\"}), Document(page_content='Long-term memory: This provides the agent with the capability to retain and recall (infinite) information over extended periods, often by leveraging an external vector store and fast retrieval.', metadata={'description': 'Building agents with LLM (large language model) as its core controller is a cool concept. Several proof-of-concepts demos, such as AutoGPT, GPT-Engineer and BabyAGI, serve as inspiring examples. The potentiality of LLM extends beyond generating well-written copies, stories, essays and programs; it can be framed as a powerful general problem solver.\\nAgent System Overview In a LLM-powered autonomous agent system, LLM functions as the agent’s brain, complemented by several key components:', 'language': 'en', 'source': 'https://lilianweng.github.io/posts/2023-06-23-agent/', 'title': \"LLM Powered Autonomous Agents | Lil'Log\"}), Document(page_content='Long-term memory: This provides the agent with the capability to retain and recall (infinite) information over extended periods, often by leveraging an external vector store and fast retrieval.', metadata={'description': 'Building agents with LLM (large language model) as its core controller is a cool concept. Several proof-of-concepts demos, such as AutoGPT, GPT-Engineer and BabyAGI, serve as inspiring examples. The potentiality of LLM extends beyond generating well-written copies, stories, essays and programs; it can be framed as a powerful general problem solver.\\nAgent System Overview In a LLM-powered autonomous agent system, LLM functions as the agent’s brain, complemented by several key components:', 'language': 'en', 'source': 'https://lilianweng.github.io/posts/2023-06-23-agent/', 'title': \"LLM Powered Autonomous Agents | Lil'Log\"})]\n",
            "Score: binary_score='yes' for question: 'agent memory' and document: 'Memory stream: is a long-term memory module (external database) that records a comprehensive list of agents’ experience in natural language.'\n",
            "yes\n"
          ]
        }
      ],
      "source": [
        "question = \"agent memory\"\n",
        "# get_relevant_documents is deprecated\n",
        "# docs = retriever.get_relevant_documents(question)\n",
        "docs = retriever.invoke(question)\n",
        "print(docs)\n",
        "doc_txt = docs[1].page_content\n",
        "score = retrieval_grader.invoke({\"question\": question, \"document\": doc_txt})\n",
        "print(f\"Score: {score} for question: '{question}' and document: '{doc_txt}'\")\n",
        "print(score.binary_score)"
      ]
    },
    {
      "cell_type": "markdown",
      "id": "3TtROAOgMDRY",
      "metadata": {
        "id": "3TtROAOgMDRY"
      },
      "source": [
        "## Hallucination grading"
      ]
    },
    {
      "cell_type": "markdown",
      "id": "1an98tohOdis",
      "metadata": {
        "id": "1an98tohOdis"
      },
      "source": [
        "### Setup generation reusing `docs` retrieved for `question`"
      ]
    },
    {
      "cell_type": "code",
      "execution_count": 36,
      "id": "dcd77cc1-4587-40ec-b633-5364eab9e1ec",
      "metadata": {
        "colab": {
          "base_uri": "https://localhost:8080/"
        },
        "id": "dcd77cc1-4587-40ec-b633-5364eab9e1ec",
        "outputId": "7debd296-69b6-413d-c8b5-e4ab12356c6c"
      },
      "outputs": [
        {
          "output_type": "stream",
          "name": "stdout",
          "text": [
            "Agent memory is a long-term memory module that records a comprehensive list of agents' experiences in natural language. It provides the agent with the capability to retain and recall information over extended periods. This information is often stored in an external vector store and retrieved quickly. \n"
          ]
        }
      ],
      "source": [
        "from langchain import hub\n",
        "from langchain_core.output_parsers import StrOutputParser\n",
        "\n",
        "# Prompt\n",
        "prompt = hub.pull(\"rlm/rag-prompt\")\n",
        "\n",
        "# LLM\n",
        "# llm = ChatOpenAI(model_name=\"gpt-3.5-turbo\", temperature=0)\n",
        "llm = ChatVertexAI(model=LLM_MODEL, temperature=0)\n",
        "\n",
        "# Post-processing\n",
        "def format_docs(docs):\n",
        "    return \"\\n\\n\".join(doc.page_content for doc in docs)\n",
        "\n",
        "\n",
        "# Chain\n",
        "rag_chain = prompt | llm | StrOutputParser()\n",
        "\n",
        "# Run\n",
        "generation = rag_chain.invoke({\"context\": docs, \"question\": question})\n",
        "print(generation)"
      ]
    },
    {
      "cell_type": "markdown",
      "id": "YHTE5WfrMUBp",
      "metadata": {
        "id": "YHTE5WfrMUBp"
      },
      "source": [
        "#### Structure LLM output to enable grading"
      ]
    },
    {
      "cell_type": "code",
      "execution_count": 37,
      "id": "e78931ec-940c-46ad-a0b2-f43f953f1fd7",
      "metadata": {
        "id": "e78931ec-940c-46ad-a0b2-f43f953f1fd7"
      },
      "outputs": [],
      "source": [
        "# Data model\n",
        "class GradeHallucinations(BaseModel):\n",
        "    \"\"\"Binary score for hallucination present in generation answer.\"\"\"\n",
        "\n",
        "    binary_score: str = Field(\n",
        "        description=\"Answer is grounded in the facts, 'yes' or 'no'\"\n",
        "    )"
      ]
    },
    {
      "cell_type": "code",
      "execution_count": 38,
      "id": "tTKQztF4Mb7x",
      "metadata": {
        "id": "tTKQztF4Mb7x"
      },
      "outputs": [],
      "source": [
        "# llm = ChatOpenAI(model=\"gpt-3.5-turbo-0125\", temperature=0)\n",
        "llm = ChatVertexAI(model=LLM_MODEL, temperature=0)\n",
        "structured_llm_grader = llm.with_structured_output(GradeHallucinations)"
      ]
    },
    {
      "cell_type": "markdown",
      "id": "DleWxZ2SOmum",
      "metadata": {
        "id": "DleWxZ2SOmum"
      },
      "source": [
        "#### Setup prompt & chain for hallucination grading"
      ]
    },
    {
      "cell_type": "code",
      "execution_count": 39,
      "id": "9qGh14njOsXd",
      "metadata": {
        "colab": {
          "base_uri": "https://localhost:8080/"
        },
        "id": "9qGh14njOsXd",
        "outputId": "cc124590-7adb-4c25-bf10-9e3ff4afefad"
      },
      "outputs": [
        {
          "output_type": "stream",
          "name": "stdout",
          "text": [
            "binary_score='yes'\n"
          ]
        }
      ],
      "source": [
        "system = \"\"\"You are a grader assessing whether an LLM generation is grounded in / supported by a set of retrieved facts. \\n\n",
        "     Give a binary score 'yes' or 'no'. 'Yes' means that the answer is grounded in / supported by the set of facts.\"\"\"\n",
        "hallucination_prompt = ChatPromptTemplate.from_messages(\n",
        "    [\n",
        "        (\"system\", system),\n",
        "        (\"human\", \"Set of facts: \\n\\n {documents} \\n\\n LLM generation: {generation}\"),\n",
        "    ]\n",
        ")\n",
        "\n",
        "hallucination_grader = hallucination_prompt | structured_llm_grader\n",
        "print(hallucination_grader.invoke({\"documents\": docs, \"generation\": generation}))"
      ]
    },
    {
      "cell_type": "markdown",
      "id": "I_DjsViGR2qQ",
      "metadata": {
        "id": "I_DjsViGR2qQ"
      },
      "source": [
        "## Answer grading"
      ]
    },
    {
      "cell_type": "markdown",
      "id": "GvbSIRejR8DF",
      "metadata": {
        "id": "GvbSIRejR8DF"
      },
      "source": [
        "### Structure LLM output to enable grading"
      ]
    },
    {
      "cell_type": "code",
      "execution_count": 40,
      "id": "bd62276f-bf26-40d0-8cff-e07b10e00321",
      "metadata": {
        "id": "bd62276f-bf26-40d0-8cff-e07b10e00321"
      },
      "outputs": [],
      "source": [
        "# Data model\n",
        "class GradeAnswer(BaseModel):\n",
        "    \"\"\"Binary score to assess answer addresses question.\"\"\"\n",
        "\n",
        "    binary_score: str = Field(\n",
        "        description=\"Answer addresses the question, 'yes' or 'no'\"\n",
        "    )"
      ]
    },
    {
      "cell_type": "code",
      "execution_count": 41,
      "id": "tdJTfnXESE93",
      "metadata": {
        "id": "tdJTfnXESE93"
      },
      "outputs": [],
      "source": [
        "# LLM with function call\n",
        "# llm = ChatOpenAI(model=\"gpt-3.5-turbo-0125\", temperature=0)\n",
        "llm = ChatVertexAI(model=LLM_MODEL, temperature=0)\n",
        "structured_llm_grader = llm.with_structured_output(GradeAnswer)"
      ]
    },
    {
      "cell_type": "markdown",
      "id": "hyzNMsg2SSEn",
      "metadata": {
        "id": "hyzNMsg2SSEn"
      },
      "source": [
        "### Setup prompt & chain for answer grading\n"
      ]
    },
    {
      "cell_type": "code",
      "execution_count": 42,
      "id": "XDHq1sAtSU7I",
      "metadata": {
        "colab": {
          "base_uri": "https://localhost:8080/"
        },
        "id": "XDHq1sAtSU7I",
        "outputId": "04ed7a5d-a780-4bc5-9f3e-ecff50bdacf2"
      },
      "outputs": [
        {
          "output_type": "stream",
          "name": "stdout",
          "text": [
            "None\n"
          ]
        }
      ],
      "source": [
        "system = \"\"\"You are a grader assessing whether an answer addresses / resolves a question \\n\n",
        "     Give a binary score 'yes' or 'no'. Yes' means that the answer resolves the question.\"\"\"\n",
        "answer_prompt = ChatPromptTemplate.from_messages(\n",
        "    [\n",
        "        (\"system\", system),\n",
        "        (\"human\", \"User question: \\n\\n {question} \\n\\n LLM generation: {generation}\"),\n",
        "    ]\n",
        ")\n",
        "\n",
        "answer_grader = answer_prompt | structured_llm_grader\n",
        "print(answer_grader.invoke({\"question\": question, \"generation\": generation}))"
      ]
    },
    {
      "cell_type": "markdown",
      "id": "lpvz9LC5SuHS",
      "metadata": {
        "id": "lpvz9LC5SuHS"
      },
      "source": [
        "## Question Re-writer"
      ]
    },
    {
      "cell_type": "code",
      "execution_count": 43,
      "id": "c6f4c70e-1660-4149-82c0-837f19fc9fb5",
      "metadata": {
        "colab": {
          "base_uri": "https://localhost:8080/"
        },
        "id": "c6f4c70e-1660-4149-82c0-837f19fc9fb5",
        "outputId": "977ebd1a-43c2-4a5a-a6f5-b23274d1a09e"
      },
      "outputs": [
        {
          "output_type": "stream",
          "name": "stdout",
          "text": [
            "Here is an improved question:\n",
            "\n",
            "What is agent memory and how does it work?\n"
          ]
        }
      ],
      "source": [
        "# LLM\n",
        "# llm = ChatOpenAI(model=\"gpt-3.5-turbo-0125\", temperature=0)\n",
        "llm = ChatVertexAI(model=LLM_MODEL, temperature=0)\n",
        "\n",
        "# Prompt\n",
        "system = \"\"\"You a question re-writer that converts an input question to a better version that is optimized \\n\n",
        "     for vectorstore retrieval. Look at the input and try to reason about the underlying semantic intent / meaning.\"\"\"\n",
        "re_write_prompt = ChatPromptTemplate.from_messages(\n",
        "    [\n",
        "        (\"system\", system),\n",
        "        (\"human\", \"Here is the initial question: \\n\\n {question} \\n Formulate an improved question.\",),\n",
        "    ]\n",
        ")\n",
        "\n",
        "question_rewriter = re_write_prompt | llm | StrOutputParser()\n",
        "print(question_rewriter.invoke({\"question\": question}))"
      ]
    },
    {
      "cell_type": "markdown",
      "id": "276001c5-c079-4e5b-9f42-81a06704d200",
      "metadata": {
        "id": "276001c5-c079-4e5b-9f42-81a06704d200"
      },
      "source": [
        "# Graph\n",
        "\n",
        "Capture the flow in as a graph."
      ]
    },
    {
      "cell_type": "markdown",
      "id": "lJxZD6aHVeJX",
      "metadata": {
        "id": "lJxZD6aHVeJX"
      },
      "source": [
        "### Imports"
      ]
    },
    {
      "cell_type": "code",
      "execution_count": 44,
      "id": "5nXQsPRZVf66",
      "metadata": {
        "id": "5nXQsPRZVf66"
      },
      "outputs": [],
      "source": [
        "from typing_extensions import TypedDict\n",
        "from typing import List\n",
        "\n",
        "from langchain.schema import Document"
      ]
    },
    {
      "cell_type": "markdown",
      "id": "WZL-D2XGVF48",
      "metadata": {
        "id": "WZL-D2XGVF48"
      },
      "source": [
        "### Graph state\n",
        "\n",
        "- question\n",
        "- generation\n",
        "- documents"
      ]
    },
    {
      "cell_type": "code",
      "execution_count": 45,
      "id": "f1617e9e-66a8-4c1a-a1fe-cc936284c085",
      "metadata": {
        "id": "f1617e9e-66a8-4c1a-a1fe-cc936284c085"
      },
      "outputs": [],
      "source": [
        "class GraphState(TypedDict):\n",
        "    \"\"\"\n",
        "    Represents the state of our graph.\n",
        "\n",
        "    Attributes:\n",
        "        question: question\n",
        "        generation: LLM generation\n",
        "        documents: list of documents\n",
        "    \"\"\"\n",
        "\n",
        "    question: str\n",
        "    generation: str\n",
        "    documents: List[str]"
      ]
    },
    {
      "cell_type": "markdown",
      "id": "m44p5a1tVJh8",
      "metadata": {
        "id": "m44p5a1tVJh8"
      },
      "source": [
        "### Graph nodes\n",
        "\n",
        "- Nodes accept a graph state and return a graph state\n",
        "- Nodes could use a chain with an llm, vectordb etc to do some work to update graph state\n"
      ]
    },
    {
      "cell_type": "markdown",
      "id": "bfwgvsqtcWOj",
      "metadata": {
        "id": "bfwgvsqtcWOj"
      },
      "source": [
        "### Constants\n",
        "\n",
        "- To minimize brittleness in using strings for node names\n",
        "- TODO: better way to map node names to functions for nodes"
      ]
    },
    {
      "cell_type": "code",
      "execution_count": 46,
      "id": "J6kkIK1zcj6H",
      "metadata": {
        "id": "J6kkIK1zcj6H"
      },
      "outputs": [],
      "source": [
        "# nodes\n",
        "RETRIEVE_DOCS_NODE=\"retrieve_docs\"\n",
        "GENERATE_ANS_NODE=\"generate_ans\"\n",
        "GRADE_AND_FILTER_DOCS_NODE=\"grade_and_filter_docs\"\n",
        "REWRITE_QUESTION_NODE=\"rewrite_question\"\n",
        "\n",
        "# decisions\n",
        "NO_RELEVANT_DOCS_SHOULD_REWRITE_QUESTION=\"no_relevant_docs_should_rewrite_question\"\n",
        "HAS_RELEVANT_DOCS_SHOULD_GENERATE_ANSWER=\"have_relevant_docs_should_generate_ans\"\n",
        "RETRIEVE_DECISION=\"decision_retrieve\" # not used\n",
        "GRADE_DECISION=\"decision_grade\"       # not used\n",
        "\n",
        "\n",
        "# verdicts\n",
        "ANSWER_SUPPORTED_AND_USEFUL_VERDICT=\"ans_supported_and_useful\"\n",
        "ANSWER_SUPPORTED_BUT_NOT_USEFUL_VERDICT=\"ans_supported_but_not_useful\"\n",
        "ANSWER_HALLUCINATION_NOT_SUPPORTED_BY_DOCS_VERDICT=\"ans_hallucination_not_supported_by_docs\""
      ]
    },
    {
      "cell_type": "markdown",
      "id": "9ZrLemjaVjIy",
      "metadata": {
        "id": "9ZrLemjaVjIy"
      },
      "source": [
        "#### Retrieval node\n",
        "\n",
        "- Input: `question` graph state\n",
        "- Ouput: `documents` graph state with associated `question` graph state"
      ]
    },
    {
      "cell_type": "code",
      "execution_count": 80,
      "id": "add509d8-6682-4127-8d95-13dd37d79702",
      "metadata": {
        "id": "add509d8-6682-4127-8d95-13dd37d79702"
      },
      "outputs": [],
      "source": [
        "# Constant: RETRIEVE_DOCS_NODE\n",
        "\n",
        "def retrieve_docs(state):\n",
        "    \"\"\"\n",
        "    Retrieve documents\n",
        "\n",
        "    Args:\n",
        "        state (dict): The current graph state\n",
        "\n",
        "    Returns:\n",
        "        state (dict): New key added to state, documents, that contains retrieved documents\n",
        "    \"\"\"\n",
        "    # print(\"---RETRIEVE DOCS---\")\n",
        "    question = state[\"question\"]\n",
        "\n",
        "    # Retrieval\n",
        "    documents = retriever.get_relevant_documents(question)\n",
        "    return {\"documents\": documents, \"question\": question}"
      ]
    },
    {
      "cell_type": "markdown",
      "id": "Z959lj8QVr1B",
      "metadata": {
        "id": "Z959lj8QVr1B"
      },
      "source": [
        "### Generation node\n",
        "\n",
        "- Input: `question` graph state with ssociated RAG `documents` graph state\n",
        "- Output: `question`, `documents` with associated LLM `generation`"
      ]
    },
    {
      "cell_type": "code",
      "execution_count": 81,
      "id": "WEV3YqP0Vpm8",
      "metadata": {
        "id": "WEV3YqP0Vpm8"
      },
      "outputs": [],
      "source": [
        "# Constant: GENERATE_ANS_NODE\n",
        "\n",
        "def generate_ans(state):\n",
        "    \"\"\"\n",
        "    Generate answer\n",
        "\n",
        "    Args:\n",
        "        state (dict): The current graph state\n",
        "\n",
        "    Returns:\n",
        "        state (dict): New key added to state, generation, that contains LLM generation\n",
        "    \"\"\"\n",
        "    # print(\"---GENERATE ANS---\")\n",
        "    question = state[\"question\"]\n",
        "    documents = state[\"documents\"]\n",
        "\n",
        "    # RAG generation\n",
        "    generation = rag_chain.invoke({\"context\": documents, \"question\": question})\n",
        "    return {\"documents\": documents, \"question\": question, \"generation\": generation}"
      ]
    },
    {
      "cell_type": "markdown",
      "id": "2Tv-IMc9WBcU",
      "metadata": {
        "id": "2Tv-IMc9WBcU"
      },
      "source": [
        "### Grading node\n",
        "\n",
        "- Input: `question` and `documents` graph state\n",
        "- Output: `question` and `documents` graph state, where documents in input that fail retrieval grading are filtered out"
      ]
    },
    {
      "cell_type": "code",
      "execution_count": 83,
      "id": "eSBBCNVNWRg_",
      "metadata": {
        "id": "eSBBCNVNWRg_"
      },
      "outputs": [],
      "source": [
        "# Constant: GRADE_AND_FILTER_DOCS_NODE\n",
        "\n",
        "def grade_and_filter_docs(state):\n",
        "    \"\"\"\n",
        "    Determines whether the retrieved documents are relevant to the question.\n",
        "\n",
        "    Args:\n",
        "        state (dict): The current graph state\n",
        "\n",
        "    Returns:\n",
        "        state (dict): Updates documents key with only filtered relevant documents\n",
        "    \"\"\"\n",
        "\n",
        "    # print(\"---GRADE DOCUMENTS RELEVANCE TO QUESTION---\")\n",
        "    question = state[\"question\"]\n",
        "    documents = state[\"documents\"]\n",
        "\n",
        "    # Score each doc\n",
        "    filtered_docs = []\n",
        "    for d in documents:\n",
        "        score = retrieval_grader.invoke(\n",
        "            {\"question\": question, \"document\": d.page_content}\n",
        "        )\n",
        "        # DEBUG\n",
        "        # print(f\"retrieval_grader score: '{score}' for question: '{question}' and document: '{d.page_content}'\")\n",
        "        # TODO: sometimes llm doesn't structure output to have a binary_score\n",
        "        if score is None:\n",
        "          # print(\"---GRADE: NONE. DOCUMENT IS NOT RELEVANT TO QUESTION---\")\n",
        "          continue\n",
        "        if score.binary_score == \"yes\":\n",
        "          # print(\"---GRADE: YES. DOCUMENT IS RELEVANT TO QUESTION---\")\n",
        "          filtered_docs.append(d)\n",
        "        # else:\n",
        "          # print(\"---GRADE: NO. DOCUMENT IS NOT RELEVANT TO QUESTION---\")\n",
        "\n",
        "    return {\"documents\": filtered_docs, \"question\": question}"
      ]
    },
    {
      "cell_type": "markdown",
      "id": "3fgrfWvCWFII",
      "metadata": {
        "id": "3fgrfWvCWFII"
      },
      "source": [
        "### Rewrite question node\n",
        "\n",
        "- Input: `question` and `documents` graph state\n",
        "- Output: rewritten `question` and `documents` graph state using question rewriter"
      ]
    },
    {
      "cell_type": "code",
      "execution_count": 84,
      "id": "nShCeuVeYb5-",
      "metadata": {
        "id": "nShCeuVeYb5-"
      },
      "outputs": [],
      "source": [
        "# Constant: REWRITE_QUESTION_NODE\n",
        "\n",
        "def rewrite_question(state):\n",
        "    \"\"\"\n",
        "    Transform the query to produce a better question.\n",
        "\n",
        "    Args:\n",
        "        state (dict): The current graph state\n",
        "\n",
        "    Returns:\n",
        "        state (dict): Updates question key with a re-phrased question\n",
        "    \"\"\"\n",
        "\n",
        "    # print(\"---REWRITE QUESTION---\")\n",
        "    question = state[\"question\"]\n",
        "    documents = state[\"documents\"]\n",
        "\n",
        "    # Re-write question\n",
        "    better_question = question_rewriter.invoke({\"question\": question})\n",
        "    return {\"documents\": documents, \"question\": better_question}"
      ]
    },
    {
      "cell_type": "markdown",
      "id": "obaYO9B6WLlD",
      "metadata": {
        "id": "obaYO9B6WLlD"
      },
      "source": [
        "## Graph edges"
      ]
    },
    {
      "cell_type": "markdown",
      "id": "__UWyMbrZPZs",
      "metadata": {
        "id": "__UWyMbrZPZs"
      },
      "source": [
        "### Evaluate graded docs against question and return a decision\n",
        "\n",
        "- Input: dict of current graph state\n",
        "- Output: Decision: `TRANSFORM_DECISION` or `GENERATE_DECISION`\n",
        "\n",
        "Based on question vs documents graph state after filtering out by retrieval grading\n"
      ]
    },
    {
      "cell_type": "code",
      "execution_count": 85,
      "id": "rxhYqKcNV-HF",
      "metadata": {
        "id": "rxhYqKcNV-HF"
      },
      "outputs": [],
      "source": [
        "def eval_graded_docs_v_question(state):\n",
        "    \"\"\"\n",
        "    Determines whether to generate an answer, or re-generate a question.\n",
        "\n",
        "    Args:\n",
        "        state (dict): The current graph state\n",
        "\n",
        "    Returns:\n",
        "        str: Binary decision for next node to call\n",
        "    \"\"\"\n",
        "\n",
        "    # print(\"---CHECK FOR FILTERED DOCUMENTS---\")\n",
        "    question = state[\"question\"]\n",
        "    filtered_documents = state[\"documents\"]\n",
        "\n",
        "    if not filtered_documents:\n",
        "        # All documents have been filtered check_relevance\n",
        "        # We will re-generate a new query\n",
        "        # print(\"---DECISION: NO DOCUMENTS RELEVANT TO QUESTION, REWRITE QUESTION---\")\n",
        "        return NO_RELEVANT_DOCS_SHOULD_REWRITE_QUESTION\n",
        "    else:\n",
        "        # We have relevant documents, so generate answer\n",
        "        # print(\"---DECISION: HAVE RELEVANT DOCUMENTS, GENERATE ANSWER---\")\n",
        "        return HAS_RELEVANT_DOCS_SHOULD_GENERATE_ANSWER"
      ]
    },
    {
      "cell_type": "markdown",
      "id": "rGNuV-JZaIQE",
      "metadata": {
        "id": "rGNuV-JZaIQE"
      },
      "source": [
        "### Grade docs against question and answer against docs and return verdicts\n",
        "- Input: dict of graph state\n",
        "- Output: Verdict\n",
        "\n",
        "Based on hallucination grade of generation vs. documents, verdics are:\n",
        "  - If no hallucination, answer grade of question vs. generation:\n",
        "    - `ANSWER_SUPPORTED_AND_USEFUL_VERDICT` if passsed answer grading\n",
        "    - `ANSWER_SUPPORTED_BUT_NOT_USEFUL_VERDICT` if fails answer grading\n",
        "  - If yes hallucination, `ANSWER_HALLUCINATION_NOT_SUPPORTED_BY_DOCS_VERDICT`\n",
        "\n"
      ]
    },
    {
      "cell_type": "code",
      "execution_count": 86,
      "id": "o8kBwA5lZ951",
      "metadata": {
        "id": "o8kBwA5lZ951"
      },
      "outputs": [],
      "source": [
        "def grade_answer_v_documents_and_question(state):\n",
        "    \"\"\"\n",
        "    Determines whether the gen answer is grounded in the document and\n",
        "    answers the question.\n",
        "\n",
        "    Args:\n",
        "        state (dict): The current graph state\n",
        "\n",
        "    Returns:\n",
        "        str: Decision for next node to call\n",
        "    \"\"\"\n",
        "\n",
        "    # print(\"---CHECK HALLUCINATIONS---\")\n",
        "    question = state[\"question\"]\n",
        "    documents = state[\"documents\"]\n",
        "    generation = state[\"generation\"]\n",
        "\n",
        "    score = hallucination_grader.invoke(\n",
        "        {\"documents\": documents, \"generation\": generation}\n",
        "    )\n",
        "\n",
        "    # Check hallucination\n",
        "\n",
        "    # TODO: sometimes llm doesn't structure output to have a binary_score\n",
        "    # grade = score.binary_score\n",
        "    # DEBUG\n",
        "    # print(f\"hallucination_grader: '{score}' for grounding '{generation}' in documents: '{documents}'\")\n",
        "\n",
        "    if score is None:\n",
        "      # pprint(\"---DECISION: NO SCORE. GENERATION POSSIBLY NOT GROUNDED IN DOCUMENTS, RE-TRY---\")\n",
        "      return ANSWER_HALLUCINATION_NOT_SUPPORTED_BY_DOCS_VERDICT\n",
        "\n",
        "    if score.binary_score == \"yes\":\n",
        "        # print(\"---DECISION: YES. GENERATION IS GROUNDED IN DOCUMENTS---\")\n",
        "        # Check question-answering\n",
        "        # print(\"---GRADE ANSWER GENERATION vs QUESTION---\")\n",
        "        score = answer_grader.invoke({\"question\": question, \"generation\": generation})\n",
        "        # TODO: sometimes llm doesn't structure output to have a binary_score\n",
        "        # grade = score.binary_score\n",
        "\n",
        "        # DEBUG\n",
        "        # print(f\"answer_grader score: '{score}' for whether '{generation}' answers question: '{question}'\")\n",
        "\n",
        "        if score is None:\n",
        "          # print(\"---DECISION: NO SCORE. ANSWER DOES NOT ADDRESS QUESTION---\")\n",
        "          return ANSWER_SUPPORTED_BUT_NOT_USEFUL_VERDICT\n",
        "\n",
        "        if score.binary_score == \"yes\":\n",
        "            # print(\"---DECISION: YES. ANSWER ADDRESSES QUESTION---\")\n",
        "            return ANSWER_SUPPORTED_AND_USEFUL_VERDICT\n",
        "        else:\n",
        "            # print(\"---DECISION: NO. ANSWER DOES NOT ADDRESS QUESTION---\")\n",
        "            return ANSWER_SUPPORTED_BUT_NOT_USEFUL_VERDICT"
      ]
    },
    {
      "cell_type": "markdown",
      "id": "61cd5797-1782-4d78-a277-8196d13f3e1b",
      "metadata": {
        "id": "61cd5797-1782-4d78-a277-8196d13f3e1b"
      },
      "source": [
        "## Build Graph\n",
        "\n",
        "The just follows the flow we outlined in the figure above."
      ]
    },
    {
      "cell_type": "code",
      "execution_count": 87,
      "id": "yDw5VRKmkJGC",
      "metadata": {
        "id": "yDw5VRKmkJGC"
      },
      "outputs": [],
      "source": [
        "from langgraph.graph import END, StateGraph"
      ]
    },
    {
      "cell_type": "markdown",
      "id": "-1mZl5I6kMcY",
      "metadata": {
        "id": "-1mZl5I6kMcY"
      },
      "source": [
        "#### A workflow is a graph of state transitions"
      ]
    },
    {
      "cell_type": "code",
      "execution_count": 88,
      "id": "-DpYTL0LkRJF",
      "metadata": {
        "id": "-DpYTL0LkRJF"
      },
      "outputs": [],
      "source": [
        "workflow = StateGraph(GraphState)"
      ]
    },
    {
      "cell_type": "markdown",
      "id": "YnVPS-RnkUGY",
      "metadata": {
        "id": "YnVPS-RnkUGY"
      },
      "source": [
        "#### 4 Nodes represent the workflow state machine"
      ]
    },
    {
      "cell_type": "code",
      "execution_count": 89,
      "id": "KO5NsdO6kfAr",
      "metadata": {
        "id": "KO5NsdO6kfAr"
      },
      "outputs": [],
      "source": [
        "# 4 nodes\n",
        "workflow.add_node(RETRIEVE_DOCS_NODE, retrieve_docs)\n",
        "workflow.add_node(GRADE_AND_FILTER_DOCS_NODE, grade_and_filter_docs)\n",
        "workflow.add_node(GENERATE_ANS_NODE, generate_ans)\n",
        "workflow.add_node(REWRITE_QUESTION_NODE, rewrite_question)"
      ]
    },
    {
      "cell_type": "markdown",
      "id": "6lgE3bq_kjCF",
      "metadata": {
        "id": "6lgE3bq_kjCF"
      },
      "source": [
        "### Edges describe how state transitions from one state to another state"
      ]
    },
    {
      "cell_type": "code",
      "execution_count": 90,
      "id": "UKHMdwrXkxl4",
      "metadata": {
        "id": "UKHMdwrXkxl4"
      },
      "outputs": [],
      "source": [
        "# 4 edges\n",
        "\n",
        "# Edge 1: retrieval node -> grading node\n",
        "# always transition state to grade docs after retrieving\n",
        "workflow.add_edge(RETRIEVE_DOCS_NODE, GRADE_AND_FILTER_DOCS_NODE)\n",
        "\n",
        "# Edge 2: grading node -> transform_query node |  generate node\n",
        "# conditionally transition state based on eval_graded_docs_v_question\n",
        "workflow.add_conditional_edges(\n",
        "    GRADE_AND_FILTER_DOCS_NODE,\n",
        "    eval_graded_docs_v_question,\n",
        "    {\n",
        "        NO_RELEVANT_DOCS_SHOULD_REWRITE_QUESTION: REWRITE_QUESTION_NODE,\n",
        "        HAS_RELEVANT_DOCS_SHOULD_GENERATE_ANSWER: GENERATE_ANS_NODE,\n",
        "    },\n",
        ")\n",
        "\n",
        "# Edge 3: rewrite question node -> retrieve docs node\n",
        "# always transition state to retrieve docs after rewriting question\n",
        "workflow.add_edge(REWRITE_QUESTION_NODE, RETRIEVE_DOCS_NODE)\n",
        "\n",
        "# Edge 4: generate node -> generate node | rewrite question node | END\n",
        "# conditionally transition state based on grade_generation_v_documents_and_question\n",
        "workflow.add_conditional_edges(\n",
        "    GENERATE_ANS_NODE,\n",
        "    grade_answer_v_documents_and_question,\n",
        "    {\n",
        "        ANSWER_SUPPORTED_AND_USEFUL_VERDICT: END,\n",
        "        ANSWER_SUPPORTED_BUT_NOT_USEFUL_VERDICT: REWRITE_QUESTION_NODE,\n",
        "        ANSWER_HALLUCINATION_NOT_SUPPORTED_BY_DOCS_VERDICT: GENERATE_ANS_NODE\n",
        "    },\n",
        ")"
      ]
    },
    {
      "cell_type": "markdown",
      "id": "SFfnqWDHlCac",
      "metadata": {
        "id": "SFfnqWDHlCac"
      },
      "source": [
        "#### Workflow starts at the retrieval state"
      ]
    },
    {
      "cell_type": "code",
      "execution_count": 91,
      "id": "pTmaqd9PlKq7",
      "metadata": {
        "id": "pTmaqd9PlKq7"
      },
      "outputs": [],
      "source": [
        "# start\n",
        "workflow.set_entry_point(RETRIEVE_DOCS_NODE)"
      ]
    },
    {
      "cell_type": "markdown",
      "id": "3I_bpRf-lNYX",
      "metadata": {
        "id": "3I_bpRf-lNYX"
      },
      "source": [
        "#### Workflow graph of nodes and edges is finally compiled"
      ]
    },
    {
      "cell_type": "code",
      "execution_count": 92,
      "id": "0e09ca9f-e36d-4ef4-a0d5-79fdbada9fe0",
      "metadata": {
        "id": "0e09ca9f-e36d-4ef4-a0d5-79fdbada9fe0"
      },
      "outputs": [],
      "source": [
        "# compile\n",
        "app = workflow.compile()"
      ]
    },
    {
      "cell_type": "markdown",
      "id": "vHp0czrFlkUa",
      "metadata": {
        "id": "vHp0czrFlkUa"
      },
      "source": [
        "## Visualize Graph"
      ]
    },
    {
      "cell_type": "markdown",
      "id": "Ex77FjShlq8W",
      "metadata": {
        "id": "Ex77FjShlq8W"
      },
      "source": [
        "### Mermaid text"
      ]
    },
    {
      "cell_type": "code",
      "execution_count": 93,
      "id": "fapKexYrnbns",
      "metadata": {
        "colab": {
          "base_uri": "https://localhost:8080/"
        },
        "id": "fapKexYrnbns",
        "outputId": "3757f995-7e78-4a7c-991e-1e2a97a754a2"
      },
      "outputs": [
        {
          "output_type": "stream",
          "name": "stdout",
          "text": [
            "%%{init: {'flowchart': {'curve': 'linear'}}}%%\n",
            "graph TD;\n",
            "\t__start__[__start__]:::startclass;\n",
            "\t__end__[__end__]:::endclass;\n",
            "\tretrieve_docs([retrieve_docs]):::otherclass;\n",
            "\tgrade_and_filter_docs([grade_and_filter_docs]):::otherclass;\n",
            "\tgenerate_ans([generate_ans]):::otherclass;\n",
            "\trewrite_question([rewrite_question]):::otherclass;\n",
            "\t__start__ --> retrieve_docs;\n",
            "\tretrieve_docs --> grade_and_filter_docs;\n",
            "\trewrite_question --> retrieve_docs;\n",
            "\tgrade_and_filter_docs -. no_relevant_docs_should_rewrite_question .-> rewrite_question;\n",
            "\tgrade_and_filter_docs -. have_relevant_docs_should_generate_ans .-> generate_ans;\n",
            "\tgenerate_ans -. ans_supported_and_useful .-> __end__;\n",
            "\tgenerate_ans -. ans_supported_but_not_useful .-> rewrite_question;\n",
            "\tgenerate_ans -. ans_hallucination_not_supported_by_docs .-> generate_ans;\n",
            "\tclassDef startclass fill:#ffdfba;\n",
            "\tclassDef endclass fill:#baffc9;\n",
            "\tclassDef otherclass fill:#fad7de;\n",
            "\n"
          ]
        }
      ],
      "source": [
        "print(app.get_graph().draw_mermaid())"
      ]
    },
    {
      "cell_type": "markdown",
      "id": "SbCid1gtn28y",
      "metadata": {
        "id": "SbCid1gtn28y"
      },
      "source": [
        "### Mermaid PNG"
      ]
    },
    {
      "cell_type": "code",
      "execution_count": 94,
      "id": "DlVN28AynhgB",
      "metadata": {
        "colab": {
          "base_uri": "https://localhost:8080/",
          "height": 441
        },
        "id": "DlVN28AynhgB",
        "outputId": "2d22b216-6c46-42fd-f750-1126eeccf036"
      },
      "outputs": [
        {
          "output_type": "display_data",
          "data": {
            "image/jpeg": "[encoded data removed]",
            "text/plain": [
              "<IPython.core.display.Image object>"
            ]
          },
          "metadata": {}
        }
      ],
      "source": [
        "from langchain_core.runnables.graph import CurveStyle, NodeColors, MermaidDrawMethod\n",
        "from IPython.display import display, HTML, Image\n",
        "\n",
        "display(\n",
        "    Image(\n",
        "        app.get_graph().draw_mermaid_png(\n",
        "            draw_method=MermaidDrawMethod.API,\n",
        "        )\n",
        "    )\n",
        ")"
      ]
    },
    {
      "cell_type": "markdown",
      "id": "zATljTBqlYeK",
      "metadata": {
        "id": "zATljTBqlYeK"
      },
      "source": [
        "## Run Graph"
      ]
    },
    {
      "cell_type": "code",
      "source": [
        "from langgraph.pregel import GraphRecursionError\n",
        "from langchain_core.runnables import RunnableConfig"
      ],
      "metadata": {
        "id": "WVwVNg1AtJ0g"
      },
      "id": "WVwVNg1AtJ0g",
      "execution_count": 103,
      "outputs": []
    },
    {
      "cell_type": "code",
      "source": [
        "def run_graph(question, limit=10):\n",
        "  inputs = {\"question\": question}\n",
        "  config = RunnableConfig(recursion_limit=limit)\n",
        "  try:\n",
        "    result = app.invoke(inputs, config)\n",
        "    return result['generation']\n",
        "  except GraphRecursionError:\n",
        "    return \"Sorry I can't answer that yet. Is there anything else I can help you with?\""
      ],
      "metadata": {
        "id": "8N3G40ssr_Ck"
      },
      "id": "8N3G40ssr_Ck",
      "execution_count": 127,
      "outputs": []
    },
    {
      "cell_type": "code",
      "source": [
        "%%time\n",
        "\n",
        "answer = run_graph('agent memory', 25)\n",
        "print(answer)"
      ],
      "metadata": {
        "colab": {
          "base_uri": "https://localhost:8080/"
        },
        "id": "Zv3bHnlkuU3W",
        "outputId": "990281a0-10b1-49a5-994f-ea13ef48ee6d"
      },
      "id": "Zv3bHnlkuU3W",
      "execution_count": 129,
      "outputs": [
        {
          "output_type": "stream",
          "name": "stdout",
          "text": [
            "Language models leverage agent memory to improve their performance in tasks like question answering, summarization, and dialogue generation by retaining and recalling information over extended periods. This allows them to access relevant context and provide more accurate and consistent responses. For example, in question answering, an agent with memory can access previous questions and answers to provide more relevant and informative responses. \n",
            "\n",
            "CPU times: user 1.51 s, sys: 140 ms, total: 1.65 s\n",
            "Wall time: 46.4 s\n"
          ]
        }
      ]
    },
    {
      "cell_type": "code",
      "execution_count": 130,
      "id": "4138bc51-8c84-4b8a-8d24-f7f470721f6f",
      "metadata": {
        "id": "4138bc51-8c84-4b8a-8d24-f7f470721f6f",
        "outputId": "c690ce5a-a16d-47e8-8e16-dea3a3cf0dce",
        "colab": {
          "base_uri": "https://localhost:8080/"
        }
      },
      "outputs": [
        {
          "output_type": "stream",
          "name": "stdout",
          "text": [
            "Sorry I can't answer that yet. Is there anything else I can help you with?\n",
            "CPU times: user 1.66 s, sys: 138 ms, total: 1.8 s\n",
            "Wall time: 46 s\n"
          ]
        }
      ],
      "source": [
        "%%time\n",
        "\n",
        "answer = run_graph('Explain how chain of thought prompting works?', 25)\n",
        "print(answer)"
      ]
    }
  ],
  "metadata": {
    "colab": {
      "provenance": []
    },
    "kernelspec": {
      "display_name": "Python 3 (ipykernel)",
      "language": "python",
      "name": "python3"
    },
    "language_info": {
      "codemirror_mode": {
        "name": "ipython",
        "version": 3
      },
      "file_extension": ".py",
      "mimetype": "text/x-python",
      "name": "python",
      "nbconvert_exporter": "python",
      "pygments_lexer": "ipython3",
      "version": "3.11.8"
    }
  },
  "nbformat": 4,
  "nbformat_minor": 5
}