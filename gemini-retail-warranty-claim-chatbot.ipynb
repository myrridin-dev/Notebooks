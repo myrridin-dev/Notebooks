{
  "cells": [
    {
      "cell_type": "code",
      "execution_count": 1,
      "metadata": {
        "id": "Uq-CsHxA7hjZ"
      },
      "outputs": [],
      "source": [
        "# Copyright 2024 Google LLC\n",
        "#\n",
        "# Licensed under the Apache License, Version 2.0 (the \"License\");\n",
        "# you may not use this file except in compliance with the License.\n",
        "# You may obtain a copy of the License at\n",
        "#\n",
        "#     https://www.apache.org/licenses/LICENSE-2.0\n",
        "#\n",
        "# Unless required by applicable law or agreed to in writing, software\n",
        "# distributed under the License is distributed on an \"AS IS\" BASIS,\n",
        "# WITHOUT WARRANTIES OR CONDITIONS OF ANY KIND, either express or implied.\n",
        "# See the License for the specific language governing permissions and\n",
        "# limitations under the License."
      ]
    },
    {
      "cell_type": "markdown",
      "metadata": {
        "id": "5SqMGIYc5Qvv"
      },
      "source": [
        "# Building a Multimodal Chatbot for Warranty Claims using Gemini and Vector Search in Vertex AI\n",
        "\n",
        "<table align=\"left\">\n",
        "  <td style=\"text-align: center\">\n",
        "    <a href=\"https://colab.research.google.com/github/GoogleCloudPlatform/generative-ai/blob/main/gemini/use-cases/retrieval-augmented-generation/retail_warranty_claim_chatbot.ipynb\">\n",
        "      <img src=\"https://cloud.google.com/ml-engine/images/colab-logo-32px.png\" alt=\"Google Colaboratory logo\"><br> Run in Colab\n",
        "    </a>\n",
        "  </td>\n",
        "  <td style=\"text-align: center\">\n",
        "    <a href=\"https://console.cloud.google.com/vertex-ai/colab/import/https:%2F%2Fraw.githubusercontent.com%2FGoogleCloudPlatform%2Fgenerative-ai%2Fmain%2Fgemini%use-cases%2Fretrieval-augmented-generation%2Fretail_warranty_claim_chatbot.ipynb\">\n",
        "      <img width=\"32px\" src=\"https://lh3.googleusercontent.com/JmcxdQi-qOpctIvWKgPtrzZdJJK-J3sWE1RsfjZNwshCFgE_9fULcNpuXYTilIR2hjwN\" alt=\"Google Cloud Colab Enterprise logo\"><br> Run in Colab Enterprise\n",
        "    </a>\n",
        "  </td>      \n",
        "  <td style=\"text-align: center\">\n",
        "    <a href=\"https://github.com/GoogleCloudPlatform/generative-ai/blob/main/gemini/use-cases/retrieval-augmented-generation/retail_warranty_claim_chatbot.ipynb\">\n",
        "      <img src=\"https://cloud.google.com/ml-engine/images/github-logo-32px.png\" alt=\"GitHub logo\"><br> View on GitHub\n",
        "    </a>\n",
        "  </td>\n",
        "  <td style=\"text-align: center\">\n",
        "    <a href=\"https://console.cloud.google.com/vertex-ai/workbench/deploy-notebook?download_url=https://raw.githubusercontent.com/GoogleCloudPlatform/generative-ai/main/gemini/use-cases/retrieval-augmented-generation/retail_warranty_claim_chatbot.ipynb\">\n",
        "      <img src=\"https://lh3.googleusercontent.com/UiNooY4LUgW_oTvpsNhPpQzsstV5W8F7rYgxgGBD85cWJoLmrOzhVs_ksK_vgx40SHs7jCqkTkCk=e14-rj-sc0xffffff-h130-w32\" alt=\"Vertex AI logo\"><br> Open in Vertex AI Workbench\n",
        "    </a>\n",
        "  </td>\n",
        "</table>"
      ]
    },
    {
      "cell_type": "markdown",
      "metadata": {
        "id": "-3K6twUOR-jD"
      },
      "source": [
        "| | |\n",
        "|-|-|\n",
        "|Author(s) | [Zachary Thorman](https://github.com/zthor5), [Charles Elliott](https://github.com/charleselliott) |"
      ]
    },
    {
      "cell_type": "markdown",
      "metadata": {
        "id": "INIA40pMSYOn"
      },
      "source": [
        "## Overview\n",
        "\n",
        "This notebook walks through the process to build a warranty claims chatbot that utilizes Vector Search and the Gemini API in Vertex AI in Google Cloud. For the purposes of this notebook, we will utilize a ficticious shoe startup called [AquaStride](https://storage.googleapis.com/github-repo/generative-ai/gemini/use-cases/rag/warranty-claim-chatbot/aquastride-company-overview.pdf).\n",
        "\n",
        " - For teaching purposes, you'll ingest the sample data by converting PDFs -> Images -> Text -> Embeddings -> Vector DB.\n",
        " - In this notebook, you will create a custom RAG implementation, deployed on Vector Search. You can also use other managed services like [Vertex AI Search](https://cloud.google.com/enterprise-search?hl=en) as a vector database.\n",
        " - We also used [Function Calling](https://cloud.google.com/vertex-ai/generative-ai/docs/multimodal/function-calling) in the Gemini API to handle driving the user intents towards their intended functions.\n",
        "\n",
        "The sample code shown in this notebook originally appeared in the [Building out code pipelines for your Gen AI customer service app](https://www.youtube.com/live/Zm255g3URpw?feature=shared&t=2845) session at the [Google Startup School](https://startup.google.com/programs/startup-school/) on May 28th, 2024.\n",
        "\n",
        "<img src=\"https://storage.googleapis.com/github-repo/generative-ai/gemini/use-cases/rag/warranty-claim-chatbot/user-flow-diagram.png\" width=\"70%\">"
      ]
    },
    {
      "cell_type": "markdown",
      "metadata": {
        "id": "r11Gu7qNgx1p"
      },
      "source": [
        "## Getting Started\n",
        "\n",
        "In this section, you will install the necessary dependencies and define the Google Cloud project where you want to connect to Vertex AI."
      ]
    },
    {
      "cell_type": "markdown",
      "metadata": {
        "id": "No17Cw5hgx12"
      },
      "source": [
        "### Install Vertex AI SDK and other required packages\n"
      ]
    },
    {
      "cell_type": "code",
      "execution_count": 2,
      "metadata": {
        "colab": {
          "base_uri": "https://localhost:8080/"
        },
        "id": "Hfn_UeXyTHaH",
        "outputId": "a1128fd6-32c1-4cd7-ea22-828c650afcfb"
      },
      "outputs": [],
      "source": [
        "!pip install --upgrade -q pymupdf gradio google-cloud-aiplatform langchain_google_vertexai pillow gradio regex langchain==0.1.20"
      ]
    },
    {
      "cell_type": "markdown",
      "metadata": {
        "id": "jXHfaVS66_01"
      },
      "source": [
        "### Import libraries\n"
      ]
    },
    {
      "cell_type": "code",
      "execution_count": 3,
      "metadata": {
        "id": "lslYAvw37JGQ"
      },
      "outputs": [],
      "source": [
        "# File system operations and displaying images\n",
        "import os\n",
        "\n",
        "# Import utility functions for timing and file handling\n",
        "import time\n",
        "\n",
        "# Libraries for downloading files, data manipulation, and creating a user interface\n",
        "import uuid\n",
        "import fitz\n",
        "import regex as re\n",
        "import pandas as pd\n",
        "from datetime import datetime\n",
        "\n",
        "# Initialize Vertex AI libraries for working with generative s\n",
        "from google.cloud import aiplatform\n",
        "from PIL import Image as PIL_Image\n",
        "from vertexai.generative_models import GenerativeModel, Image\n",
        "import vertexai.preview.generative_models as generative_models\n",
        "from vertexai.language_models import TextEmbeddingModel\n",
        "from vertexai.generative_models import (\n",
        "    Content,\n",
        "    FunctionDeclaration,\n",
        "    GenerationConfig,\n",
        "    GenerativeModel,\n",
        "    Part,\n",
        "    Tool,\n",
        "    Image,\n",
        ")\n",
        "from vertexai.preview.generative_models import ToolConfig\n",
        "\n",
        "# Import LangChain components\n",
        "import langchain\n",
        "from langchain.text_splitter import CharacterTextSplitter\n",
        "from langchain_community.document_loaders import DataFrameLoader\n",
        "\n",
        "## Initialize the Colab Library & sys\n",
        "# from google.colab import userdata\n",
        "import sys\n",
        "import base64\n",
        "\n",
        "# Initialize Vertex AI\n",
        "import vertexai"
      ]
    },
    {
      "cell_type": "markdown",
      "metadata": {
        "id": "DF4l8DTdWgPY"
      },
      "source": [
        "### Define Google Cloud project information, initialize Vertex AI, and add Secrets\n",
        "\n",
        "To get started using Vertex AI, you must have an existing Google Cloud project and [enable the Vertex AI API](https://console.cloud.google.com/flows/enableapi?apiid=aiplatform.googleapis.com).\n",
        "\n",
        "Learn more about [setting up a project and a development environment](https://cloud.google.com/vertex-ai/docs/start/cloud-environment)."
      ]
    },
    {
      "cell_type": "code",
      "execution_count": 4,
      "metadata": {
        "id": "Nqwi-5ufWp_B"
      },
      "outputs": [],
      "source": [
        "# Utilizing Secrets to retrieve sensitive information\n",
        "# You can add your own projectID and location to run in your environment.\n",
        "\n",
        "PROJECT_ID = \"langgraph-graded-rag\"  # @param {type:\"string\"}\n",
        "LOCATION = \"us-central1\"  # @param {type:\"string\"}\n",
        "\n",
        "\n",
        "vertexai.init(project=PROJECT_ID, location=LOCATION)"
      ]
    },
    {
      "cell_type": "markdown",
      "metadata": {
        "id": "lP1EMJL4ddcA"
      },
      "source": [
        "### Initializing Gemini Pro Vision and Text Embedding models\n",
        "\n",
        "Here we initialize the models that will be used for embeddings & answering questions against the PDFs."
      ]
    },
    {
      "cell_type": "code",
      "execution_count": 5,
      "metadata": {
        "id": "sNOqAHc3dbDf"
      },
      "outputs": [
        {
          "name": "stdout",
          "output_type": "stream",
          "text": [
            "--2024-06-08 13:08:07--  https://storage.googleapis.com/github-repo/generative-ai/gemini/use-cases/rag/warranty-claim-chatbot/no-matching-pages.png\n",
            "Resolving storage.googleapis.com (storage.googleapis.com)... 142.250.80.27, 142.251.32.123, 142.250.65.187, ...\n",
            "Connecting to storage.googleapis.com (storage.googleapis.com)|142.250.80.27|:443... connected.\n",
            "HTTP request sent, awaiting response... 200 OK\n",
            "Length: 74696 (73K) [image/png]\n",
            "Saving to: ‘no-matching-pages.png’\n",
            "\n",
            "no-matching-pages.p 100%[===================>]  72.95K  --.-KB/s    in 0.03s   \n",
            "\n",
            "2024-06-08 13:08:07 (2.09 MB/s) - ‘no-matching-pages.png’ saved [74696/74696]\n",
            "\n"
          ]
        }
      ],
      "source": [
        "# Defines the Generative Models Configuration\n",
        "generation_config = {\n",
        "    \"max_output_tokens\": 8192,\n",
        "    \"temperature\": 0,\n",
        "    \"top_p\": 0.95,\n",
        "}\n",
        "\n",
        "# Loading Gemini Pro Vision Model\n",
        "multimodal_model = GenerativeModel(\n",
        "    \"gemini-1.5-pro-001\", generation_config=generation_config\n",
        ")\n",
        "\n",
        "# Initializing embedding model\n",
        "text_embedding_model = TextEmbeddingModel.from_pretrained(\"text-embedding-004\")\n",
        "\n",
        "# Download backup blank file to use if needed when no results (Not Required for RAG)\n",
        "! wget -O no-matching-pages.png https://storage.googleapis.com/github-repo/generative-ai/gemini/use-cases/rag/warranty-claim-chatbot/no-matching-pages.png"
      ]
    },
    {
      "cell_type": "markdown",
      "metadata": {
        "id": "ECB4ixV6VF0B"
      },
      "source": [
        "# Helper Functions for RAG\n",
        "\n",
        "\n",
        "In this section, you will ingest sample data by converting PDFs -> Images -> Text -> Embeddings -> Vector DB.\n",
        "\n",
        "The following cells define helper functions that will be used in the following sections. Feel free to run the group of collapsed cells at once or review at your discretion."
      ]
    },
    {
      "cell_type": "markdown",
      "metadata": {
        "id": "a0nUDhV2ZvUU"
      },
      "source": [
        "### Create and clean images folder"
      ]
    },
    {
      "cell_type": "code",
      "execution_count": 6,
      "metadata": {
        "id": "Pr7J1V06ZtU3"
      },
      "outputs": [],
      "source": [
        "# Pass The folder path for storing the images\n",
        "def create_clean_image_folder(Image_Path):\n",
        "    # Create the directory if it doesn't exist\n",
        "    if not os.path.exists(Image_Path):\n",
        "        os.makedirs(Image_Path)\n",
        "    image_star = Image_Path + \"*\"\n",
        "    !rm -rf {image_star}"
      ]
    },
    {
      "cell_type": "markdown",
      "metadata": {
        "id": "XPQ5eqaTcLP7"
      },
      "source": [
        "### Split PDF to images and extract data using Gemini Pro Vision\n",
        "\n",
        "This module processes a set of images, extracting text and tabular data using a multimodal model (Gemini Pro Vision).\n",
        "It handles potential errors, stores the extracted information in a DataFrame, and saves the results to a CSV file.\n",
        "\n",
        "You can modify this approach in a number of ways, such as to use [Document AI](https://cloud.google.com/blog/products/ai-machine-learning/document-ai-custom-extractor-powered-by-generative-ai-is-now-ga) for OCR Parsing. Feel free to try alternatives!"
      ]
    },
    {
      "cell_type": "code",
      "execution_count": 7,
      "metadata": {
        "id": "pSKL45w4O5ob"
      },
      "outputs": [],
      "source": [
        "def split_pdf_extract_data(pdfList, folder_uri):\n",
        "    # To get better resolution\n",
        "    zoom_x = 2.0  # horizontal zoom\n",
        "    zoom_y = 2.0  # vertical zoom\n",
        "    mat = fitz.Matrix(zoom_x, zoom_y)  # zoom factor 2 in each dimension\n",
        "\n",
        "    for indiv_Pdf in pdfList:\n",
        "        doc = fitz.open(indiv_Pdf)  # open document\n",
        "        for page in doc:  # iterate through the pages\n",
        "            pix = page.get_pixmap(matrix=mat)  # render page to an image\n",
        "            outpath = f\"{folder_uri}{indiv_Pdf}_{page.number}.png\"\n",
        "            pix.save(outpath)  # store image as a PNG\n",
        "\n",
        "    # Define the path where images are located\n",
        "    image_names = os.listdir(folder_uri)\n",
        "    Max_images = len(image_names)\n",
        "\n",
        "    # Create empty lists to store image information\n",
        "    page_source = []\n",
        "    page_content = []\n",
        "    page_id = []\n",
        "\n",
        "    p_id = 0  # Initialize image ID counter\n",
        "    rest_count = 0  # Initialize counter for error handling\n",
        "\n",
        "    while p_id < Max_images:\n",
        "        try:\n",
        "            # Construct the full path to the current image\n",
        "            image_path = folder_uri + image_names[p_id]\n",
        "\n",
        "            # Load the image\n",
        "            image = Image.load_from_file(image_path)\n",
        "\n",
        "            # Generate prompts for text and table extraction\n",
        "            prompt_text = \"Extract all text content in the image\"\n",
        "            prompt_table = (\n",
        "                \"Detect table in this image. Extract content maintaining the structure\"\n",
        "            )\n",
        "            prompt_image = \"Detect images in this image. Extract content in the form of alternative text or subtitles to each sub-image\"\n",
        "\n",
        "            # Extract text using your multimodal model\n",
        "            contents = [image, prompt_text]\n",
        "            response = multimodal_model.generate_content(contents)\n",
        "            text_content = response.text\n",
        "\n",
        "            # Extract table using your multimodal model\n",
        "            contents = [image, prompt_table]\n",
        "            response = multimodal_model.generate_content(contents)\n",
        "            table_content = response.text\n",
        "\n",
        "            # Extract information from images (i.e. Subtitle / Alternative text). | Currently Disabled\n",
        "            # contents = [image, prompt_image]\n",
        "            # response = multimodal_model.generate_content(contents)\n",
        "            # image_content = response.text\n",
        "\n",
        "            # Log progress and store results\n",
        "            print(f\"processed image no: {p_id}\")\n",
        "            page_source.append(image_path)\n",
        "            page_content.append(\n",
        "                text_content + \"\\n\" + table_content\n",
        "            )  # + \"\\n\" + image_content)\n",
        "            page_id.append(p_id)\n",
        "            p_id += 1\n",
        "\n",
        "        except Exception as err:\n",
        "            # Handle errors during processing\n",
        "            print(err)\n",
        "            print(\"Taking Some Rest\")\n",
        "            time.sleep(\n",
        "                12\n",
        "            )  # Pause execution for 12 second due to default Quota for Vertex\n",
        "            rest_count += 1\n",
        "            if rest_count == 5:  # Limit consecutive error handling\n",
        "                rest_count = 0\n",
        "                print(f\"Can not process image no: {image_path}\")\n",
        "                p_id += 1  # Move to the next image\n",
        "\n",
        "    # Create a DataFrame to store extracted information\n",
        "    df = pd.DataFrame(\n",
        "        {\"page_id\": page_id, \"page_source\": page_source, \"page_content\": page_content}\n",
        "    )\n",
        "    del page_id, page_source, page_content  # Conserve memory\n",
        "    df.head()  # Preview the DataFrame\n",
        "\n",
        "    return df"
      ]
    },
    {
      "cell_type": "markdown",
      "metadata": {
        "id": "FrqESrwnzUXW"
      },
      "source": [
        "### Create the chunks and embeddings"
      ]
    },
    {
      "cell_type": "code",
      "execution_count": 8,
      "metadata": {
        "id": "7e087QRTVNbz"
      },
      "outputs": [],
      "source": [
        "def generate_text_embedding(text) -> list:\n",
        "    \"\"\"Text embedding with a Large Language Model.\"\"\"\n",
        "    embeddings = text_embedding_model.get_embeddings([text])\n",
        "    vector = embeddings[0].values\n",
        "    return vector"
      ]
    },
    {
      "cell_type": "code",
      "execution_count": 9,
      "metadata": {
        "id": "kHtZhmkYVCFP"
      },
      "outputs": [],
      "source": [
        "# Returns a chunked embeddings dataframe\n",
        "def create_chunked_embeddings(df):\n",
        "    # Create a DataFrameLoader to prepare data for LangChain\n",
        "    loader = DataFrameLoader(df, page_content_column=\"page_content\")\n",
        "\n",
        "    # Load documents from the 'page_content' column of your DataFrame\n",
        "    documents = loader.load()\n",
        "\n",
        "    # Log the number of documents loaded\n",
        "    print(f\"# of documents loaded (pre-chunking) = {len(documents)}\")\n",
        "\n",
        "    # Create a text splitter to divide documents into smaller chunks\n",
        "    text_splitter = CharacterTextSplitter(\n",
        "        chunk_size=10000,  # Target size of approximately 10000 characters per chunk\n",
        "        chunk_overlap=200,  # overlap between chunks\n",
        "    )\n",
        "\n",
        "    # Split the loaded documents\n",
        "    doc_splits = text_splitter.split_documents(documents)\n",
        "\n",
        "    # Add a 'chunk' ID to each document split's metadata for tracking\n",
        "    for idx, split in enumerate(doc_splits):\n",
        "        split.metadata[\"chunk\"] = idx\n",
        "\n",
        "    # Log the number of documents after splitting\n",
        "    print(f\"# of documents = {len(doc_splits)}\")\n",
        "\n",
        "    texts = [doc.page_content for doc in doc_splits]\n",
        "    text_embeddings_list = []\n",
        "    id_list = []\n",
        "    page_source_list = []\n",
        "    for doc in doc_splits:\n",
        "        id = uuid.uuid4()\n",
        "        text_embeddings_list.append(generate_text_embedding(doc.page_content))\n",
        "        id_list.append(str(id))\n",
        "        page_source_list.append(doc.metadata[\"page_source\"])\n",
        "        time.sleep(12)  # So that we don't run into Quota Issue\n",
        "\n",
        "    # Creating a dataframe of ID, embeddings, page_source and text\n",
        "    embedding_df = pd.DataFrame(\n",
        "        {\n",
        "            \"id\": id_list,\n",
        "            \"embedding\": text_embeddings_list,\n",
        "            \"page_source\": page_source_list,\n",
        "            \"text\": texts,\n",
        "        }\n",
        "    )\n",
        "    embedding_df.head()\n",
        "    return embedding_df"
      ]
    },
    {
      "cell_type": "markdown",
      "metadata": {
        "id": "6pu1a3zjfQ0D"
      },
      "source": [
        "### Save the embeddings in a JSON file\n",
        "To load the embeddings into Vector Search, we need to save them in JSON files with JSONL format. See more information in the docs at [Input data format and structure](https://cloud.google.com/vertex-ai/docs/matching-engine/match-eng-setup/format-structure#data-file-formats).\n",
        "\n",
        "First, export the `id` and `embedding` columns from the DataFrame in JSONL format, and save it.\n",
        "\n",
        "Then, create a new Cloud Storage bucket and copy the file to it."
      ]
    },
    {
      "cell_type": "code",
      "execution_count": 10,
      "metadata": {
        "id": "mSqVnRpqh7Yc"
      },
      "outputs": [],
      "source": [
        "def create_json_file(embedding_df, RAG_unique_identifier):\n",
        "    # save id and embedding as a json file\n",
        "    json_file_name = RAG_unique_identifier + \".json\"\n",
        "    jsonl_string = embedding_df[[\"id\", \"embedding\"]].to_json(\n",
        "        orient=\"records\", lines=True\n",
        "    )\n",
        "    with open(json_file_name, \"w\") as f:\n",
        "        f.write(jsonl_string)\n",
        "\n",
        "    # Show the first few lines of the json file\n",
        "    ! head -n 3 {json_file_name}\n",
        "    return json_file_name"
      ]
    },
    {
      "cell_type": "code",
      "execution_count": 19,
      "metadata": {
        "id": "CzwDWJfzAk3n"
      },
      "outputs": [],
      "source": [
        "def upload_file_to_gcs(json_file_name, bucket_location):\n",
        "    # Generates a unique ID for session\n",
        "    UID = datetime.now().strftime(\"%m%d%H%M%S\")\n",
        "    # Creates a GCS bucket\n",
        "    print(f\"Creating GCS bucket at {bucket_location} to store {json_file_name}\")\n",
        "    BUCKET_URI = f\"gs://{bucket_location}--{UID}\"\n",
        "    ! gsutil mb -l $LOCATION -p {PROJECT_ID} {BUCKET_URI}\n",
        "    ! gsutil cp {json_file_name} {BUCKET_URI}\n",
        "    return BUCKET_URI"
      ]
    },
    {
      "cell_type": "markdown",
      "metadata": {
        "id": "xxdbjKw1XDxl"
      },
      "source": [
        "### Create an index in Vector Search\n",
        "\n",
        "Now it's ready to load the embeddings to Vector Search. Its APIs are available under the [aiplatform](https://cloud.google.com/python/docs/reference/aiplatform/latest/google.cloud.aiplatform) package of the SDK."
      ]
    },
    {
      "cell_type": "markdown",
      "metadata": {
        "id": "xpMUXqWQ75uu"
      },
      "source": [
        "Create an [MatchingEngineIndex](https://cloud.google.com/python/docs/reference/aiplatform/latest/google.cloud.aiplatform.MatchingEngineIndex) with its `create_tree_ah_index` function (Matching Engine is the previous name of Vector Search)."
      ]
    },
    {
      "cell_type": "code",
      "execution_count": 12,
      "metadata": {
        "id": "kKDw5VXMkXb3"
      },
      "outputs": [],
      "source": [
        "def create_index(vec_search_index_name, bucket_location):\n",
        "    return aiplatform.MatchingEngineIndex.create_tree_ah_index(\n",
        "        display_name=f\"{vec_search_index_name}\",\n",
        "        contents_delta_uri=bucket_location,\n",
        "        dimensions=768,\n",
        "        approximate_neighbors_count=20,\n",
        "        distance_measure_type=\"DOT_PRODUCT_DISTANCE\",\n",
        "    )"
      ]
    },
    {
      "cell_type": "markdown",
      "metadata": {
        "id": "2rFam_w9U0dI"
      },
      "source": [
        "By calling the `create_tree_ah_index` function, it starts building an Index. This will take under a few minutes if the dataset is small, otherwise about 50 minutes or more depending on the size of the dataset.\n",
        "\n",
        "You can check status of the index creation on [the Vector Search Console > INDEXES tab](https://console.cloud.google.com/vertex-ai/matching-engine/indexes).\n",
        "\n",
        "\n",
        "\n",
        "---\n",
        "\n",
        "See [this document](https://cloud.google.com/vertex-ai/docs/vector-search/create-manage-index) for more details on creating your Index and the parameters.\n"
      ]
    },
    {
      "cell_type": "markdown",
      "metadata": {
        "id": "3fDs-FDS789e"
      },
      "source": [
        "### Create an index endpoint and deploy the index\n",
        "\n",
        "To use the Index, you need to create an [Index Endpoint](https://cloud.google.com/vertex-ai/docs/vector-search/deploy-index-public). It works as a server instance accepting query requests for your Index.\n",
        "\n",
        "You can view your public endpoints [on Google Cloud's Vertex Endpoints](https://console.cloud.google.com/vertex-ai/matching-engine/index-endpoints)"
      ]
    },
    {
      "cell_type": "code",
      "execution_count": 13,
      "metadata": {
        "collapsed": true,
        "id": "peH6WpSj789m",
        "jupyter": {
          "outputs_hidden": true
        }
      },
      "outputs": [],
      "source": [
        "def create_Index_Endpoint(my_index, vec_search_index_name):\n",
        "    my_index_endpoint = aiplatform.MatchingEngineIndexEndpoint.create(\n",
        "        display_name=f\"{vec_search_index_name}\",\n",
        "        public_endpoint_enabled=True,\n",
        "    )\n",
        "\n",
        "    DEPLOYED_INDEX_NAME = vec_search_index_name.replace(\n",
        "        \"-\", \"_\"\n",
        "    )  # Can't have '-' in deployment name, only alphanumeric and _ allowed\n",
        "    UID = datetime.now().strftime(\"%m%d%H%M%S\")\n",
        "    DEPLOYED_INDEX_ID = f\"{DEPLOYED_INDEX_NAME}_{UID}\"\n",
        "    # deploy the Index to the Index Endpoint\n",
        "    my_index_endpoint.deploy_index(index=my_index, deployed_index_id=DEPLOYED_INDEX_ID)\n",
        "\n",
        "    return my_index_endpoint, DEPLOYED_INDEX_ID"
      ]
    },
    {
      "cell_type": "markdown",
      "metadata": {
        "id": "5YtepoMX789m"
      },
      "source": [
        "This demo utilizes a [Public Endpoint](https://cloud.google.com/vertex-ai/docs/vector-search/setup/setup#choose-endpoint) and does not support [Virtual Private Cloud (VPC)](https://cloud.google.com/vpc/docs/private-services-access). Unless you have a specific requirement for VPC, it is recommended to use a Public Endpoint.\n",
        "\n",
        "Despite the term \"public\" in its name, it does not imply open access to the public internet. Without explicit IAM permissions, no one can access the endpoint."
      ]
    },
    {
      "cell_type": "markdown",
      "metadata": {
        "id": "xu9ZmWcpXQ55"
      },
      "source": [
        "If it is the first time to deploy an Index to an Index Endpoint, it will take around 25 minutes to automatically build and initiate the backend for it. After the first deployment, it will finish in seconds. To see the status of the index deployment, open [the Vector Search Console > INDEX ENDPOINTS tab](https://console.cloud.google.com/vertex-ai/matching-engine/index-endpoints) and click the Index Endpoint."
      ]
    },
    {
      "cell_type": "markdown",
      "metadata": {
        "id": "fM3a9RQx4pQO"
      },
      "source": [
        "### Ask Questions to the PDF\n",
        "This code snippet establishes a question-answering (QA) system.  It leverages a vector search engine to find relevant information from a dataset and then uses the LLM to generate and refine the final answer to a user's query."
      ]
    },
    {
      "cell_type": "code",
      "execution_count": 20,
      "metadata": {
        "id": "dRme7I2hhqC8"
      },
      "outputs": [],
      "source": [
        "def Test_LLM_Response(txt):\n",
        "    \"\"\"\n",
        "    Determines whether a given text response generated by an LLM indicates a lack of information.\n",
        "\n",
        "    Args:\n",
        "        txt (str): The text response generated by the LLM.\n",
        "\n",
        "    Returns:\n",
        "        bool: True if the LLM's response suggests it was able to generate a meaningful answer,\n",
        "              False if the response indicates it could not find relevant information.\n",
        "\n",
        "    This function works by presenting a formatted classification prompt to the LLM (`gemini_pro_model`).\n",
        "    The prompt includes the original text and specific categories indicating whether sufficient information was available.\n",
        "    The function analyzes the LLM's classification output to make the determination.\n",
        "    \"\"\"\n",
        "\n",
        "    classification_prompt = f\"\"\" Classify the text as one of the following categories:\n",
        "        -Information Present\n",
        "        -Information Not Present\n",
        "        Text=The provided context does not contain information.\n",
        "        Category:Information Not Present\n",
        "        Text=I cannot answer this question from the provided context.\n",
        "        Category:Information Not Present\n",
        "        Text:{txt}\n",
        "        Category:\"\"\"\n",
        "    classification_response = multimodal_model.generate_content(\n",
        "        classification_prompt\n",
        "    ).text\n",
        "\n",
        "    if \"Not Present\" in classification_response:\n",
        "        return False  # Indicates that the LLM couldn't provide an answer\n",
        "    else:\n",
        "        return True  # Suggests the LLM generated a meaningful response"
      ]
    },
    {
      "cell_type": "code",
      "execution_count": 21,
      "metadata": {},
      "outputs": [],
      "source": [
        "def get_prompt_text(question, context):\n",
        "    \"\"\"\n",
        "    Generates a formatted prompt string suitable for a language model, combining the provided question and context.\n",
        "\n",
        "    Args:\n",
        "        question (str): The user's original question.\n",
        "        context (str): The relevant text to be used as context for the answer.\n",
        "\n",
        "    Returns:\n",
        "        str: A formatted prompt string with placeholders for the question and context, designed to guide the language model's answer generation.\n",
        "    \"\"\"\n",
        "    prompt = \"\"\"\n",
        "      Answer the question using the context below. Respond with only information from the text provided\n",
        "      Question: {question}\n",
        "      Context : {context}\n",
        "      \"\"\".format(\n",
        "        question=question, context=context\n",
        "    )\n",
        "    return prompt"
      ]
    },
    {
      "cell_type": "code",
      "execution_count": 48,
      "metadata": {},
      "outputs": [],
      "source": [
        "from google.api_core.exceptions import ResourceExhausted\n",
        "\n",
        "def get_answer(\n",
        "    embedding_df, my_index_endpoint, DEPLOYED_INDEX_ID, query=\"No Query was provided.\"\n",
        "):\n",
        "    \"\"\"\n",
        "    Retrieves an answer to a provided query using multimodal RAG.\n",
        "\n",
        "    This function leverages a vector search system to find relevant text documents from a\n",
        "    pre-indexed store of multimodal data. Then, it uses a large language model (LLM) to generate\n",
        "    an answer, using the retrieved documents as context.\n",
        "\n",
        "    Args:\n",
        "        query (str): The user's original query.\n",
        "\n",
        "    Returns:\n",
        "        dict: A dictionary containing the following keys:\n",
        "            * 'result' (str): The LLM-generated answer.\n",
        "            * 'neighbor_index' (int): The index of the most relevant document used for generation\n",
        "                                     (for fetching image path).\n",
        "\n",
        "    Raises:\n",
        "        RuntimeError: If no valid answer could be generated within the specified search attempts.\n",
        "    \"\"\"\n",
        "\n",
        "    neighbor_index = 0  # Initialize index for tracking the most relevant document\n",
        "    answer_found_flag = 0  # Flag to signal if an acceptable answer is found\n",
        "    result = \"\"  # Initialize the answer string\n",
        "    # Use a default image if the reference is not found\n",
        "    page_source = \"./no-matching-pages.png\"  # Initialize the blank image\n",
        "    query_embeddings = generate_text_embedding(\n",
        "        query\n",
        "    )  # Generate embeddings for the query\n",
        "\n",
        "    response = my_index_endpoint.find_neighbors(\n",
        "        deployed_index_id=DEPLOYED_INDEX_ID,\n",
        "        queries=[query_embeddings],\n",
        "        num_neighbors=5,\n",
        "    )  # Retrieve up to 5 relevant documents from the vector store\n",
        "\n",
        "    while answer_found_flag == 0 and neighbor_index < 4:\n",
        "        context = embedding_df[\n",
        "            embedding_df[\"id\"] == response[0][neighbor_index].id\n",
        "        ].text.values[\n",
        "            0\n",
        "        ]  # Extract text context from the relevant document\n",
        "\n",
        "        prompt = get_prompt_text(\n",
        "            query, context\n",
        "        )  # Create a prompt using the question and context\n",
        "\n",
        "        try:\n",
        "            result = multimodal_model.generate_content(\n",
        "                prompt\n",
        "            ).text  # Generate an answer with the LLM\n",
        "            print(f\"[DEBUG] Generated result: '{result}'\")\n",
        "\n",
        "            if Test_LLM_Response(result):\n",
        "                answer_found_flag = 1  # Exit loop when getting a valid response\n",
        "                print(f\"[PROGRESS] Test_LLM_Response found result at neighbor_index: {neighbor_index}\")\n",
        "            else:\n",
        "                print(f\"[PROGRESS] Test_LLM_Response *did not* find result at neighbor_index: {neighbor_index}\")\n",
        "                neighbor_index += (\n",
        "                    1  # Try the next retrieved document if the answer is unsatisfactory\n",
        "                )\n",
        "        except ResourceExhausted as rate_limited:\n",
        "            print(f\"[RATE LIMIT] Taking Some Rest at neighbor_index: {neighbor_index}\")\n",
        "            time.sleep(\n",
        "                12\n",
        "            )  # Pause execution for 12 second due to default Quota for Vertex\n",
        "        except Exception as err:\n",
        "            # Handle errors during processing\n",
        "            print(type(err))\n",
        "            print(f\"[ERROR]: {err}\")\n",
        "            break\n",
        "\n",
        "    if answer_found_flag == 1:\n",
        "        page_source = embedding_df[\n",
        "            embedding_df[\"id\"] == response[0][neighbor_index].id\n",
        "        ].page_source.values[\n",
        "            0\n",
        "        ]  # Extract image_path from the relevant document\n",
        "    return result, page_source"
      ]
    },
    {
      "cell_type": "markdown",
      "metadata": {
        "id": "igIvg1yMtJWy"
      },
      "source": [
        "# Create a RAG endpoint\n",
        "\n",
        "In this section, you will load sample data into a Vector Search endpoint. In this example you'll be using PDFs files that contain [a company overview](https://storage.googleapis.com/github-repo/generative-ai/gemini/use-cases/rag/warranty-claim-chatbot/aquastride-company-overview.pdf) and a [list of products SKUs](https://storage.googleapis.com/github-repo/generative-ai/gemini/use-cases/rag/warranty-claim-chatbot/aquastride-sku-sn-database.pdf).\n",
        "\n",
        "It is **recommended** for production workloads to use a managed database for improved performance and efficiency."
      ]
    },
    {
      "cell_type": "markdown",
      "metadata": {
        "id": "85FJ7Fisx_Po"
      },
      "source": [
        "## Create RAG Function"
      ]
    },
    {
      "cell_type": "code",
      "execution_count": 15,
      "metadata": {
        "id": "8PCa3GqAtHnz"
      },
      "outputs": [],
      "source": [
        "def create_RAG(RAG_unique_identifier, rag_list_pdfs):\n",
        "    # Creates a Unique folder for the segmented PDF images. (Each page of the PDF is converted into a .PNG)\n",
        "    folder_url = f\"./{RAG_unique_identifier}_images/\"\n",
        "    create_clean_image_folder(folder_url)\n",
        "\n",
        "    # Creates the embeddings dataframe of the PDF Images.\n",
        "    company_dataframe = split_pdf_extract_data(rag_list_pdfs, folder_url)\n",
        "    company_embeddings_dataframe = create_chunked_embeddings(company_dataframe)\n",
        "\n",
        "    # Creates unique names for the Google Cloud Vector Search & GCS Bucket URL.\n",
        "    vec_search_index_name = f\"vec-search-index-{RAG_unique_identifier}\"\n",
        "    bucket_name = f\"vec-search-bucket-{RAG_unique_identifier}\"\n",
        "\n",
        "    # Uploads the embeddings to GCS as a JSON file.\n",
        "    json_file_name = create_json_file(\n",
        "        company_embeddings_dataframe, RAG_unique_identifier\n",
        "    )\n",
        "    bucket_location = upload_file_to_gcs(json_file_name, bucket_name)\n",
        "\n",
        "    # This function may take up to 25 minutes to run to deploy the custom Vector Search to a Public Endpoint.\n",
        "    index = create_index(vec_search_index_name, bucket_location)\n",
        "    my_index_endpoint, index_id = create_Index_Endpoint(index, vec_search_index_name)\n",
        "\n",
        "    # Create a reusable Object for each Rag Model to call upon\n",
        "    RAG_model_info = {\n",
        "        \"bucket_uri\": bucket_location,\n",
        "        \"index\": index,\n",
        "        \"embeddings_dataframe\": company_embeddings_dataframe,\n",
        "        \"index_id\": index_id,\n",
        "        \"my_index_endpoint\": my_index_endpoint,\n",
        "    }\n",
        "\n",
        "    return RAG_model_info"
      ]
    },
    {
      "cell_type": "markdown",
      "metadata": {},
      "source": [
        "## GCP Auth"
      ]
    },
    {
      "cell_type": "code",
      "execution_count": 16,
      "metadata": {},
      "outputs": [
        {
          "name": "stdout",
          "output_type": "stream",
          "text": [
            "<google.oauth2.credentials.Credentials object at 0x287b64e50>\n"
          ]
        }
      ],
      "source": [
        "import google\n",
        "\n",
        "# authenticate to GCP\n",
        "creds, _ = google.auth.default(quota_project_id=PROJECT_ID)\n",
        "print(creds)"
      ]
    },
    {
      "cell_type": "markdown",
      "metadata": {
        "id": "9XBy4dKWvLgb"
      },
      "source": [
        "## Testing the RAG performance\n"
      ]
    },
    {
      "cell_type": "markdown",
      "metadata": {},
      "source": [
        "#### Deploy RAG index"
      ]
    },
    {
      "cell_type": "code",
      "execution_count": 18,
      "metadata": {
        "id": "SEQa8WoMvLFi"
      },
      "outputs": [
        {
          "name": "stdout",
          "output_type": "stream",
          "text": [
            "processed image no: 0\n",
            "processed image no: 1\n",
            "processed image no: 2\n",
            "429 Quota exceeded for aiplatform.googleapis.com/generate_content_requests_per_minute_per_project_per_base_model with base model: gemini-1.5-pro. Please submit a quota increase request. https://cloud.google.com/vertex-ai/docs/generative-ai/quotas-genai.\n",
            "Taking Some Rest\n",
            "429 Quota exceeded for aiplatform.googleapis.com/generate_content_requests_per_minute_per_project_per_base_model with base model: gemini-1.5-pro. Please submit a quota increase request. https://cloud.google.com/vertex-ai/docs/generative-ai/quotas-genai.\n",
            "Taking Some Rest\n",
            "429 Quota exceeded for aiplatform.googleapis.com/generate_content_requests_per_minute_per_project_per_base_model with base model: gemini-1.5-pro. Please submit a quota increase request. https://cloud.google.com/vertex-ai/docs/generative-ai/quotas-genai.\n",
            "Taking Some Rest\n",
            "processed image no: 3\n",
            "processed image no: 4\n",
            "processed image no: 5\n",
            "429 Quota exceeded for aiplatform.googleapis.com/generate_content_requests_per_minute_per_project_per_base_model with base model: gemini-1.5-pro. Please submit a quota increase request. https://cloud.google.com/vertex-ai/docs/generative-ai/quotas-genai.\n",
            "Taking Some Rest\n",
            "429 Quota exceeded for aiplatform.googleapis.com/generate_content_requests_per_minute_per_project_per_base_model with base model: gemini-1.5-pro. Please submit a quota increase request. https://cloud.google.com/vertex-ai/docs/generative-ai/quotas-genai.\n",
            "Taking Some Rest\n",
            "Can not process image no: ./aquastride_images/aquastride_DB.pdf_1.png\n",
            "429 Quota exceeded for aiplatform.googleapis.com/generate_content_requests_per_minute_per_project_per_base_model with base model: gemini-1.5-pro. Please submit a quota increase request. https://cloud.google.com/vertex-ai/docs/generative-ai/quotas-genai.\n",
            "Taking Some Rest\n",
            "429 Quota exceeded for aiplatform.googleapis.com/generate_content_requests_per_minute_per_project_per_base_model with base model: gemini-1.5-pro. Please submit a quota increase request. https://cloud.google.com/vertex-ai/docs/generative-ai/quotas-genai.\n",
            "Taking Some Rest\n",
            "processed image no: 7\n",
            "processed image no: 8\n",
            "processed image no: 9\n",
            "processed image no: 10\n",
            "processed image no: 11\n",
            "# of documents loaded (pre-chunking) = 11\n",
            "# of documents = 11\n",
            "{\"id\":\"14fb9d34-8bc4-4a32-ae0c-2f283f0e06c5\",\"embedding\":[-0.0049402616,0.0079869647,-0.0186727196,0.0256520845,0.0498212501,0.0214205589,0.0760702118,-0.0084253326,-0.030551305,-0.0135696242,-0.0447093993,0.0467588529,0.040789634,-0.0034393652,0.0207976159,-0.0467184335,0.0183589198,0.0555357523,-0.0521761701,-0.0003380837,0.0269587822,0.0050934954,0.029855391,-0.0104815848,-0.0059526516,-0.0509721935,0.0548180342,0.0216599591,-0.0023892627,-0.0366194993,0.0230670962,-0.0467121825,-0.0086960141,-0.0222959109,0.0337370671,-0.0253065992,-0.0185876358,-0.0249709133,0.0226936303,-0.0071166279,-0.0388972312,-0.0209211651,-0.0537761264,-0.0050965482,-0.0238377228,0.0645489097,-0.051222492,-0.010158875,-0.0311752465,0.042939689,-0.0086524514,-0.0251717921,0.0385930501,0.026364632,-0.0314542018,-0.0226489361,-0.0520404242,-0.0548238121,0.0424151421,-0.0333848447,-0.0030725414,-0.039864704,0.0305954572,-0.055211924,-0.0366128944,-0.005935722,-0.0189296082,-0.0137871392,0.0025507617,-0.0193090439,-0.0454870164,0.0645293519,0.0115800165,0.0127489278,0.0220139492,-0.0072702388,-0.0284800176,-0.0132828439,0.0302984007,0.0438001491,-0.0007380329,0.0061644195,0.1020265222,0.0146189537,0.0753520504,-0.0184158962,0.027395336,-0.0321004465,-0.0083098654,-0.0772759691,0.0407093428,0.0642528981,-0.015068897,0.0199005865,0.1070379838,-0.015407024,-0.1012486815,-0.0885689631,0.0651427954,0.018325299,-0.0310742296,0.0235732552,0.0024411231,-0.0020507504,0.0367592871,0.0102012791,0.055433128,-0.0136429332,-0.0975314081,0.049939584,-0.0177353285,-0.0447418243,-0.0384812541,-0.0592605621,-0.0102406135,-0.0150369033,0.031316556,0.0302323643,-0.0373683572,-0.011241667,0.0046193236,0.0166005176,-0.0143379811,0.0726900324,0.0486912467,0.0063976911,0.0156389922,-0.0158249289,-0.0962136686,-0.0240628272,-0.0318318084,-0.0436528102,0.0044066519,0.0106388088,-0.0518175885,0.0375357419,0.0319119878,0.0082509303,0.0351621732,0.0198354684,0.0009247275,-0.0317454636,-0.0554115139,-0.0046379589,0.0002395865,-0.041267775,-0.0022707297,0.0635087267,0.0248869043,-0.0211315192,0.0336663537,-0.0292083044,-0.0043161297,-0.0024603482,-0.0021203733,-0.030285392,0.0310867373,-0.0910236016,0.071966961,-0.0266126301,0.0878087431,-0.0173710026,0.0378427245,0.0023225849,-0.0293063615,-0.0392277166,0.0000195536,-0.0413066708,0.041830007,-0.0015270693,-0.0215946753,-0.0036263145,0.004141706,-0.0572463721,-0.0090358611,-0.0004049528,0.0314291529,-0.0228352416,0.0175741073,0.0113636972,0.024829546,0.0499522686,0.0088153807,-0.0552192815,0.0440525934,0.0362526774,-0.0882466659,-0.0437328443,0.0505462699,0.1074651778,-0.0080745276,-0.0494667143,0.0504880436,0.0447411835,0.0747900084,0.0136821605,0.0046234513,-0.01633518,0.0226973873,-0.0436430387,0.0234290082,-0.0119973626,0.0022731028,0.0006930909,0.0515292361,-0.0401566774,-0.0164900236,-0.0425932221,0.0194001701,-0.0231337883,-0.0224949885,0.0062814588,-0.0493687391,-0.0409461223,0.0483860932,-0.0293665007,0.06340307,-0.0012682199,0.0481174551,-0.04034134,0.0343338922,-0.0098644057,0.0317000225,0.0120877819,0.0095627541,0.0403169505,-0.0084579829,0.0232021119,0.0051485905,-0.0437527336,-0.018439047,0.052203998,0.0605203249,0.0215681512,-0.0006959987,0.0398272835,-0.0160638224,-0.0456662923,-0.004141083,-0.0114672547,-0.0287946407,0.0124156084,0.0426352695,-0.0606682226,-0.0224324837,0.0127560543,0.0037008806,0.007510432,0.0239293389,-0.0643529445,0.0206064302,0.0004889456,0.0632991046,0.0741497278,-0.0648149177,0.0196621921,0.0408198498,-0.0562026501,0.0206926782,0.0260175131,0.0592408106,-0.0457306132,0.0082617924,-0.0263926182,-0.0687703863,-0.0268789697,-0.0837897956,0.0088990228,0.0337022394,-0.0590899661,-0.010284001,-0.0191125087,-0.0718457028,-0.035391327,-0.0327450559,0.0332599841,0.0239302684,0.0015753583,-0.0104094986,-0.0667587966,0.0063497187,-0.019436961,0.0476162173,0.0355943739,0.0124609834,-0.0277799759,-0.0330730267,0.0134783974,0.0162768979,-0.048792433,0.0197677035,-0.0014200677,-0.0251307748,-0.0173482858,0.0304140579,0.0120022846,0.0474495739,0.0560034029,-0.0627801269,-0.0601454973,0.0183822587,0.0290550459,-0.0314687304,0.0274235029,-0.0266681165,-0.0370459519,-0.0211887136,-0.0095595941,-0.0240077209,-0.0095658703,0.023481736,-0.0031231605,-0.0065652751,-0.0286170356,-0.0299946722,0.007376201,-0.0970211998,0.0084348973,0.0177469216,0.0000333943,0.0330188833,-0.0225712098,-0.0188134946,0.0179127902,0.0670727715,-0.058104679,0.0061529754,-0.0099189356,0.056022428,-0.0052505308,0.0228399504,0.0145192295,-0.0117328167,-0.0786599368,-0.0159057789,0.0538707674,-0.101328209,0.0330596305,0.0559422113,0.0366311409,0.0343638137,0.0611623824,0.026111301,-0.0386835746,-0.0293488484,-0.0186330415,-0.0033158595,0.0198967196,0.0108779427,-0.0359090641,0.0233289283,0.0246818159,0.0201438535,-0.0020933477,-0.072070688,0.0150577975,0.0797208399,0.0245593991,0.0133636165,0.0099140769,-0.0645038933,-0.0303747188,0.0174942091,0.0853672326,0.0392408222,0.0405161157,-0.017853301,0.0232907515,-0.0297603011,-0.0821734667,-0.0243880376,0.0083679026,0.0583418757,-0.0179961156,0.0078039868,0.0098268287,-0.0219604857,0.037393745,0.0089422716,-0.0478597358,-0.0403623506,-0.0425645113,-0.0237795264,0.0024337699,-0.0435300544,0.0948886424,-0.078110829,-0.0288800504,-0.0249257237,-0.0108679812,-0.0292402841,-0.0017814904,0.0220347084,0.0205328129,-0.008344247,0.0099392105,-0.024983054,0.0313087851,-0.0186104644,0.009305804,-0.017142579,-0.0684008747,0.0567223765,-0.0209825356,-0.0106238285,-0.0325194933,0.0287747812,0.0142602427,-0.017365329,0.0496268719,0.0336113572,-0.02473161,0.012759448,0.0770798028,-0.0013670631,0.0111209452,0.0313859694,0.0436553396,0.0269065481,0.0026223357,0.0489700176,0.0371519513,0.0014198296,-0.009348752,0.0014136892,-0.0470488705,-0.0035820974,0.0049786195,0.0296393577,-0.0054302774,-0.0096483501,0.0509674177,-0.0088059781,-0.0065569198,0.0030855755,0.0195374377,0.0182978604,-0.0051476066,0.0288545657,0.031201046,-0.0135388104,-0.0067973151,0.0215617698,-0.0371004157,0.0050626062,0.0257897228,-0.011599848,0.0262051523,-0.0074144555,-0.0029940859,0.0476516187,0.0118049243,0.0668740869,0.0126477489,-0.0952063948,0.017636288,0.0072472789,0.0526992232,-0.0381802283,-0.0219306573,-0.0306182764,-0.0451059379,-0.0059400876,0.0077075618,0.0194845963,-0.0205895007,-0.0611873753,0.0485956036,-0.0194580425,0.0646084622,0.0305669196,0.024738105,0.0363252684,0.0378878973,-0.0113690086,0.0488305502,0.0264715254,-0.0308116078,-0.022422038,-0.023158513,-0.05732999,0.0292124152,0.0217642859,0.0521495938,0.0177199319,0.0232460052,-0.0033747866,0.0070985481,-0.0082372846,-0.0253766254,0.0174614824,-0.0046995869,0.002384752,-0.0053384076,-0.0249262173,-0.0529776514,0.056894388,0.0418112241,-0.0133816786,0.0478573143,0.0466357321,0.0170313008,0.0100187268,-0.0925984383,-0.0011622773,0.0082256077,-0.007927944,0.0263653342,0.0512228049,-0.0134640643,0.0023740323,-0.0439351052,0.0001358688,0.0507272221,-0.0622357838,-0.0232312568,-0.0282801706,0.0280451756,0.0008778701,0.0699487627,0.0248729568,-0.0459709316,0.0192215759,-0.080845505,0.0229285322,-0.0091212001,0.0313537866,0.0187567268,0.0296156891,0.0330095664,0.0146893244,0.0748433918,0.0333129019,0.0454829894,0.0254235361,0.0255812053,0.0276359729,0.0177387111,0.02819236,0.0332986675,0.0243290123,-0.0230770335,-0.0156400613,0.0565071404,0.0521170311,-0.0142634362,-0.0116843963,-0.0025309992,-0.0412362292,0.027526157,-0.0343170874,-0.0218353923,-0.021498682,0.0270346869,0.0193066914,-0.0084523642,0.0309717134,0.0338379182,-0.0455118529,-0.0602647141,0.0341525078,0.0161509626,-0.0033484227,0.0095532732,-0.054069899,-0.0182808843,0.0009544939,0.0573310442,0.0116723711,-0.0173680801,0.03337745,-0.0101546301,0.0062651085,-0.015077576,0.0425208919,-0.0037753854,-0.0102770058,0.0075843162,0.0537250526,-0.0261274204,-0.012838738,0.0050678356,0.0556180775,0.0265048034,-0.0196512509,0.0208583791,0.0069641354,0.002675008,-0.0041285371,-0.0037739195,0.0525966659,-0.0450368337,-0.001802205,-0.0336002819,-0.0295251105,0.0021070272,0.0049336399,0.0467242934,0.0062153875,0.0420402959,0.0078249788,-0.010545834,0.0519222431,0.0470380113,-0.040982198,-0.0454364084,-0.0121735111,-0.041848328,0.0267106947,-0.0219952874,-0.0440430269,0.0553220809,0.0294481367,0.0537713021,-0.0152668757,0.0041301842,-0.0066687232,0.0079762759,0.0223902296,0.0239345245,-0.0145666609,-0.0400699899,0.0284070019,-0.0259565059,-0.0541917793,-0.027330989,0.004765349,0.0295069404,0.0103362491,0.0176193286,-0.0057382076,-0.001525642,0.0384482704,-0.0283235554,-0.0470236354,-0.0155123007,0.0289790407,0.0618068278,-0.017692063,-0.0197944678,0.0196631402,0.0516397804,0.0379180536,-0.0321300961,-0.0493785851,0.0516858697,0.00538101,0.018869875,-0.020968372,-0.0254877768,0.0239796489,0.0118587678,-0.0559006408,0.044541765,-0.0350612029,-0.051473055,0.0063552675,0.0319112688,0.010283486,0.0218806807,-0.0110233482,-0.0322138108,-0.0114701288,0.0416555256,-0.0968012735,-0.0073493919,0.0008830251,-0.0066845221,0.0361317731,0.0221778303,-0.0136514083,-0.0457999669,0.0096038552,0.0037471843,-0.0209306907,-0.0053766882,-0.0037382501,-0.0139363352,-0.0108066993,0.0085981162,0.0388976336,-0.0005441605,0.027610749,-0.0156496726,0.0110717984,-0.0049986714,-0.0075186263,-0.008220112,0.0105548538,-0.0029176765,-0.0152483722,-0.0343581848,0.0284644626,0.083370544,-0.0464963168,-0.0076925703,-0.0136182057,0.0383722857,-0.0220141038,-0.0083280811,-0.0280747488,-0.0191883966,-0.0517033115,0.0222637858,0.0079217628,0.0063632643,0.0331709124,-0.0060924836,-0.0293231644,0.0595134757,-0.0263645481,-0.0177150685,0.0111420164,0.0329805389,0.0557628013,0.0049251113,0.0086809658,0.0181338415,0.0761440396,0.0491992496,-0.0180890411,-0.0122154765,-0.0037202984,0.0650926903,0.0061228811,-0.0145698534,-0.0305687152,-0.0004013808,-0.0500452146,0.0609435774,0.0169687681,0.0260186475,-0.0596188605,0.0100876642,0.0117693553,0.0822697803,-0.0247688033,0.0005284722,-0.0241110623,0.0190851446,0.0025346221,-0.0123578543,-0.0629568696,-0.0007544055,0.0207296088,0.0186724551,0.0087567344,-0.0263033155,-0.0039937412,-0.0152376508,-0.0994843096,0.014947487,0.0112951221,-0.0310678817,0.0586533882,0.0129396105,0.0461448953,0.0065947953,0.0123138065,-0.0174081139,-0.0205754712,0.0821683481,0.0083248038,0.0059125931,-0.0566514172,-0.053581737,0.089700453,-0.0594845004]}\n",
            "{\"id\":\"3be255d1-c48a-495a-be87-9f3e2328c8b4\",\"embedding\":[0.0165907294,0.0160011109,-0.0496381409,0.0278929267,0.0663777813,0.0255097989,0.0451100729,0.0339277349,-0.0095499223,-0.0332304947,-0.0250145774,0.0611941852,0.0159138739,-0.0031473693,0.0122620529,-0.0201786309,-0.0095406584,0.0648130327,-0.0721307769,-0.0056200204,0.0281669665,-0.0354571044,0.0528930537,-0.0287175868,0.003546935,-0.0528395735,0.0425456837,-0.0155733926,0.01649772,-0.0447557233,0.0164242703,-0.0023954548,-0.0345208049,-0.0571051762,0.0107389688,0.0266584251,-0.0486264341,-0.0028708698,0.004899791,-0.0255818069,-0.0511847436,0.0061846003,-0.0642079189,0.0049758353,-0.045682434,0.0279484577,-0.0658294633,-0.0028952602,-0.0043796706,0.039539393,0.0031981862,-0.0080167614,0.0406933427,0.0005780514,-0.0152473385,0.0114642363,-0.0288202967,-0.044154685,0.0716146827,-0.0373935886,0.0231578536,-0.0202990267,0.0406301878,-0.0672408193,-0.0153929647,-0.0546227396,-0.0020108218,0.0179227386,0.0022851885,-0.0077772476,-0.0889505297,0.0717293024,-0.0132341729,0.0240217242,0.0478816405,-0.0120837335,-0.0491901152,-0.0097114211,0.041162841,0.0447253026,-0.0154212527,0.0107507799,0.0952222347,0.0138840117,0.0483936295,-0.0249566343,0.0217641573,-0.0113021759,-0.0298209284,-0.0605849661,0.0484060571,0.0331215374,-0.041533377,0.0301986933,0.0880654454,-0.0134655628,-0.1357353032,-0.0744888633,0.0573468842,0.0103934212,-0.0480852835,0.0062049413,0.0115592275,0.0059630834,0.0366984867,0.0108608892,0.0068502771,-0.0118105998,-0.0697185919,0.0365806632,-0.0594483949,-0.0157033429,-0.0564803295,-0.0235707611,-0.0248371791,-0.0121388137,0.0009994784,0.0337415114,-0.0449519008,-0.0121713039,-0.0073554209,0.0003611448,0.0142521225,0.0662931576,0.0136955278,-0.0010878185,0.0159671083,-0.0262349453,-0.0767304301,-0.0259234346,-0.004560804,-0.0650000349,0.0160077978,0.0111097442,-0.0505932458,0.0345490761,0.0355752297,0.0083122812,0.0348349027,0.0095241694,0.0299703125,-0.0280678179,-0.0527998731,-0.0218152162,-0.0040706294,-0.0506182127,0.0049714763,0.0285139401,-0.0081419861,-0.0529732108,0.0200031009,-0.0226276256,0.0243031848,0.0013924014,-0.005684515,0.03205112,0.0372062102,-0.0912310034,0.0701874271,0.0087502366,0.0270595644,-0.0248899516,0.0440324582,-0.0107130902,-0.0064877709,-0.0204505753,0.0305272061,-0.0376087986,0.0499893241,-0.0086651621,-0.0465022027,-0.0101810964,-0.0335244834,-0.0723352209,-0.0207802448,0.0057465928,0.0151672885,-0.0352126509,-0.0025588493,0.0406565741,0.0172073748,0.0585191697,0.0077997195,-0.0628863573,0.0406072214,0.0108394278,-0.07530424,-0.0424900651,0.0505348854,0.0637664124,-0.0340292864,-0.033452753,0.0628558248,0.0234261807,0.026750613,-0.0170188919,0.0196174979,-0.0279486943,0.0030309556,-0.019518014,0.0361884944,-0.0113947345,0.0492362007,0.0077852467,0.0443485528,-0.0290418491,-0.0411981381,-0.0391771458,-0.0034153592,-0.0124241505,0.0164997261,0.0234039016,-0.0123283425,-0.0748850405,0.0679060593,-0.0303000491,0.0691313893,0.0375554077,0.0613668598,-0.0383768715,0.0355477072,0.0056723263,0.0546176396,0.0039877286,0.0013099497,-0.0078880759,-0.0365030393,-0.0093326559,-0.0393328331,-0.0593367592,-0.0078375628,0.0185316261,0.052533336,0.0282178968,-0.0464532711,0.0391352251,-0.0207301918,-0.0347059332,-0.0098817982,-0.0351641327,0.029179614,-0.0186449848,0.0284172464,-0.0275594201,-0.0159955937,0.000134277,0.0246115252,0.0373323672,0.0182817038,-0.0631482154,0.010695965,0.0102898693,-0.0039508678,0.069546476,-0.0763484761,-0.0206580386,0.0442474596,-0.0387544855,-0.0185526237,0.0236884225,0.0798637196,-0.0445605293,0.0427743793,-0.0038978534,-0.0266767796,-0.0586372539,-0.0870269835,-0.0051676515,0.0562941842,-0.0602411926,-0.0093089817,0.0020536298,-0.0720736384,-0.0292604398,-0.0617455505,0.0423414297,0.0162407421,0.0088510821,0.0202984512,-0.038173344,0.0198812131,-0.033050824,0.0033153035,0.0189527515,0.0484796092,-0.0083125858,-0.0529057309,0.0159256943,0.0046161027,-0.0534849018,0.0074607483,0.0301686823,-0.0319698825,-0.0128238136,0.0375316814,0.0363325067,0.0434554443,0.053174302,-0.0370896719,-0.0442030504,-0.0077539552,0.0449282937,-0.0394750908,0.0536239445,-0.0294513684,-0.0220232662,-0.0140577033,-0.005098891,-0.0277614463,-0.0260346811,0.0581424646,-0.0244898982,0.0169210527,-0.0466439426,-0.0362289324,-0.0457066186,-0.1170999408,-0.0062052282,0.003426489,0.0173701774,0.0282842331,-0.0225616135,-0.0047805961,0.0352299996,0.0826248527,-0.0434871428,-0.017089555,-0.0179314539,0.0693355873,-0.0061982372,0.0059419833,-0.0120820859,0.0326931216,-0.0772773027,-0.0104602687,0.0538381189,-0.0975378156,0.0206680261,0.0423937663,0.0602679588,0.0534742735,0.0299324766,-0.0046343203,-0.0323199518,-0.0480517559,-0.0337628908,0.0052946056,-0.0011251355,-0.0112636685,-0.0041328329,0.0076222438,0.0100961365,-0.0111905681,-0.0150320502,-0.0693026483,-0.006996491,0.0621892363,0.0463580899,0.0070827287,0.0018259421,-0.0641201362,-0.0023010557,-0.0111428248,0.0760321468,0.0557735786,0.0373931788,-0.013468693,0.0304172114,-0.0374134071,-0.0328479595,0.0085631367,0.0153156668,0.0441252738,-0.0410320126,0.0133986408,0.0098158699,-0.03078462,0.049150724,-0.011131946,-0.0409559272,-0.0202162303,-0.0138392607,-0.0364702418,0.0024771637,-0.0293788482,0.0713995025,-0.0754458532,0.0176657829,-0.001917546,0.0173426624,-0.0297464896,-0.0205485597,0.0157340914,0.0214686207,-0.0215362832,0.0175684597,0.0089511136,0.0112953316,-0.01512626,0.0048631169,-0.0538242348,-0.043138992,0.0304866228,-0.0379689336,0.0064063515,-0.0292785484,0.0297920778,0.0179690998,0.0051166122,0.05689824,0.0427107327,-0.0228160229,0.0199333113,0.0251787305,-0.0005724865,0.0160919968,0.0194453802,0.0392183624,-0.0094491839,0.0122420033,0.0384791717,0.0233763494,0.0223388635,0.0010040228,0.0034066658,-0.0415070727,-0.0190158188,-0.0247207377,0.0117121069,0.0117044393,-0.0084335608,0.054694213,0.0129207326,-0.0083275381,0.0286901109,0.0006044322,0.0288901664,-0.0179198459,0.0070971996,0.0131074255,-0.0057254285,0.027139388,-0.0031716041,-0.0296584386,0.0077480986,0.0094419196,-0.0095878793,0.0214017462,-0.0033446518,0.0120708589,0.0347683989,-0.0093145166,0.0187788848,-0.0138702346,-0.1101062074,0.0140255522,0.0101299854,0.0376014076,-0.0406382605,-0.0444367863,-0.0219409782,-0.0651622564,0.0184318218,0.0484532267,-0.0040373895,-0.0335850641,-0.0334278606,0.0894751996,-0.0422235429,0.0459404476,0.0565050319,0.0315848626,0.0396535732,0.0614608638,-0.0352079831,0.0633770153,0.0267671458,0.0070571951,0.0036951294,0.00033239,-0.0607891716,0.0300090853,-0.0009109213,0.0177793577,0.0389218517,0.0159927849,-0.0162363611,0.021537751,0.0173022598,-0.0284583606,0.07200782,0.0129929297,0.0168575402,0.0279500987,-0.0201614276,-0.024264235,0.0461788699,-0.0016825715,0.010124715,0.0435080118,0.0694054365,0.019888049,0.027309129,-0.0890317708,0.0110999346,0.0055235857,-0.0414583124,-0.0046335463,0.0408069566,0.0068526645,0.0434499122,-0.0514751188,0.0057562995,0.0359353684,-0.0310162269,0.004320031,-0.0594433174,0.0364440307,-0.0072758119,0.0830997378,0.0085470406,-0.029715836,0.0131925186,-0.046664346,0.0030630874,-0.0107672391,0.0250549279,0.0066914335,0.0196570717,0.0107085053,-0.015128606,0.0630227476,0.0281224865,0.0320060402,0.0349614844,0.0376431011,0.004189081,0.0265529882,0.0012711935,0.0357974693,0.008640877,-0.0247764457,0.0078162504,0.0462510921,0.0744008794,0.0164176021,-0.0224085264,0.0179576557,-0.0156216472,0.0248847976,-0.0682551712,-0.030659508,-0.0347515345,-0.0172388703,-0.0051211077,-0.013683564,0.0325856581,-0.0105930027,-0.0692088008,-0.0405129604,0.022904953,0.0215910487,0.0262343343,0.0187512413,-0.0428860709,-0.0049828021,0.0393701643,0.0256570075,-0.007118891,-0.0356237702,0.0310801957,-0.0234604515,-0.0065726773,-0.0197474118,0.0404037014,-0.0152580068,-0.0179082435,-0.0010715823,0.048104044,0.0209573824,-0.0244584661,0.0026059048,0.0507533066,0.0116238156,-0.003725651,0.018909717,-0.0052295448,0.0131994449,-0.0210648701,0.0016709543,0.0588499047,-0.0177957956,0.0146104759,-0.0312186051,-0.0585404374,0.0279700179,-0.0178988203,0.0432901271,0.0014243157,0.0379656069,-0.0027069801,-0.0070314007,0.0578011423,0.0158092659,-0.0268620048,-0.0578939542,-0.0482168458,0.0003087374,0.0093632247,-0.0094525442,-0.041527994,0.080468908,0.0211052094,-0.0093511511,-0.0282235872,0.017518077,-0.0109551856,0.0447932072,0.0341447666,0.0114314007,-0.0272650309,-0.0124098714,0.0110695977,-0.0083761662,-0.0406086296,0.0098220725,-0.0089358948,-0.0203488003,-0.0155786341,0.0303125028,0.0126656704,-0.0336636528,0.0089918524,0.006168711,-0.0395878516,-0.0042117387,0.0308716651,0.0558921844,-0.0009954836,-0.0285614431,0.0195168536,0.0222714059,0.0535806157,-0.0630034283,-0.0209265035,0.0313478075,-0.0158442352,0.0119674923,-0.0212874599,-0.0245670211,0.0039618546,0.0417421497,-0.0621595345,0.0647731125,-0.0387915224,-0.0623420291,0.012630024,0.0099760201,-0.007184349,0.0105573721,-0.0023687372,-0.0310872681,-0.0461194739,0.0452502258,-0.0850155726,-0.0391525216,-0.0061606518,-0.0240427721,0.0223353468,-0.0074345721,-0.0114849275,-0.0338438526,0.00445608,-0.0031235148,-0.0155114755,-0.0176413674,0.0522030555,-0.016784437,0.009305696,0.0155554116,0.0048637548,-0.0252775997,0.0210550427,-0.0299297664,0.0365452208,-0.0070394971,0.01327122,-0.039460171,-0.0059329453,0.0296338145,-0.0209363308,-0.0077802027,-0.0215429999,0.0737287402,-0.027905114,0.0034434428,-0.029618565,0.0235842373,-0.0417707153,-0.0212080274,-0.0192411579,-0.0342960693,-0.0357975177,-0.0079819402,0.0481892675,-0.037171755,0.0210992601,0.009548205,-0.0474409163,0.0550850555,-0.0632272288,-0.0196786523,0.0724116042,0.03380711,0.0590218939,0.007115948,0.0103247827,0.0041853194,0.0496777669,0.0111442087,0.0329721645,-0.0348203219,0.0322389193,0.0553315207,0.0227262378,-0.0055616642,-0.048458498,0.0138433445,-0.063562125,0.0324687921,0.0160463061,-0.0051691527,-0.0464155339,0.0152966594,0.0133957164,0.0901383534,-0.0212450568,0.0171391089,-0.0348981693,-0.0135326739,0.022010617,-0.0026764174,-0.0268304478,-0.0123955877,0.0114349788,0.019325776,0.0010822271,-0.0357486345,-0.0153453983,-0.0213230718,-0.1067798734,0.0284869149,0.0040045474,-0.0115838181,0.0561351888,0.0014606341,0.0433870517,-0.0006020817,0.0255620051,-0.0358012654,-0.0319164544,0.0926861688,-0.0104647949,0.0102071455,-0.0644818246,-0.0151252244,0.0463651642,-0.0666316524]}\n",
            "{\"id\":\"f4e12907-ca1a-4776-a679-6aae3d44c255\",\"embedding\":[-0.0112140561,-0.008543618,-0.0187381189,0.036619816,0.0045279521,0.0020826652,0.0311653558,-0.0505258478,-0.0264126305,-0.0343123525,-0.0345194489,0.0379758887,0.0203699488,-0.0013110727,-0.0515524298,-0.0467487164,0.0035253656,-0.0169246327,-0.0729525164,0.0068548932,0.0351205021,0.0088385595,0.0427488871,-0.0093754046,0.024520224,-0.0398902446,0.0374848321,-0.0136804245,0.0243704841,-0.0802090392,0.0102915047,-0.0239601005,-0.0132780317,-0.0238356199,0.0353393555,-0.004572018,0.0167751312,0.0052021868,0.0052252989,-0.0516866185,-0.0312837511,-0.0071416073,-0.0381773263,0.0051959674,0.002009945,0.0718331039,-0.0826783851,0.0325656608,-0.0557754487,0.0415781885,0.0048821592,0.012113343,0.0360619612,-0.0113639031,-0.0369926542,-0.0226340722,-0.0387201272,-0.0337477513,0.0287751574,-0.0133147845,-0.0037479296,-0.0608393252,0.032625515,-0.027189482,-0.0319533944,-0.0563962236,-0.0189800151,-0.012841153,0.0239755809,-0.0096505946,-0.025722634,0.0302952882,-0.0223743226,0.0070074662,0.0250412636,-0.0172807965,-0.0180272236,-0.0084301187,0.001030573,0.0005603053,0.0262566805,-0.0035441781,0.1107714921,-0.0022672785,0.0789078474,-0.0366329849,0.0517681018,-0.0434761606,-0.0338211507,-0.0887263417,0.0265502185,0.0382293165,0.0007440454,0.0180973429,0.073320955,-0.0598050728,-0.0915511549,-0.0533910245,0.0262950808,0.0187557861,-0.0400344059,0.0485709272,0.0259171836,-0.0261667464,0.0341321789,0.0058055483,0.0317338072,0.00693641,-0.1120852977,0.0115801943,-0.0008627474,0.0038780638,-0.0205741059,-0.0498946682,-0.020295307,-0.0196149461,0.0291003548,0.0197214242,-0.0215174928,0.0206859466,0.0038451173,0.0071248263,0.0157464724,0.0574035235,0.0614856556,0.0294289701,0.0465334132,-0.0168962199,-0.1117729917,-0.0304564796,-0.0136351315,-0.0657619908,-0.0134142153,-0.0072772028,-0.0615514368,0.0464011058,0.0322812162,-0.0116543258,0.0367816165,0.0450761095,0.0074854293,-0.0392652228,-0.0890678093,-0.004132268,0.0028595952,-0.050321497,-0.0080195768,0.0422262661,-0.025949955,-0.0226747729,0.0467278026,-0.0404595993,0.0185650941,-0.0196335819,0.0107111624,-0.0244341381,0.0594962649,-0.0753822625,0.0469038039,0.0320602134,0.042793721,-0.0266037937,0.0300399009,-0.0031193546,-0.0177039653,-0.0207599886,0.0356839411,-0.0218071509,0.0334488861,-0.0268464442,-0.0062660868,-0.0224506613,0.0221400298,-0.0962733179,0.0064843129,0.0130315404,0.0473442487,-0.060426984,0.0050491234,-0.000901313,0.025338348,0.0391455367,-0.0052333605,-0.0257900599,0.0643690228,-0.0285518914,-0.0828283131,-0.0499434471,0.0470801443,0.0804841965,-0.0770586655,-0.0392837003,0.0302720517,0.0660601482,0.0474594124,0.0319359861,-0.004867136,-0.000883316,0.061706081,-0.0328742005,0.0372822993,0.0221538749,-0.0180817153,0.0117649445,0.0287554897,-0.0414247215,-0.0311373435,-0.0589565821,-0.0005979924,-0.0145081189,-0.0023591435,0.0056903679,-0.1001583859,-0.0081050014,0.0461602435,-0.0649452209,0.0325831287,0.0171154626,0.0269728787,-0.0090456558,0.0276414435,-0.0042287502,0.0649105236,0.0105077289,-0.0021358137,0.0353443436,-0.0161147006,0.0233265106,-0.017640736,-0.0393662676,0.0304391049,0.0092433635,0.0488426611,0.0350730643,0.0334356576,0.0685500428,-0.0191422105,-0.0306895152,-0.0103281299,-0.0080413586,-0.0117522022,-0.0447264686,0.0449460372,-0.0560868271,-0.017773632,-0.0144990887,-0.0092646787,-0.0002051974,-0.0046644043,-0.0634510517,-0.0096512567,-0.0001065388,0.0498524159,0.0617862828,-0.0576807112,0.0252705608,0.0165441874,-0.0358699076,-0.0417755507,0.0450654961,0.0397624224,-0.0251380559,0.0007135858,0.0013318993,-0.0367474183,-0.0611743741,-0.0696040913,0.0214014947,0.0342923217,-0.0647689775,-0.0051798089,0.02291191,-0.0618983321,-0.0255905557,-0.0246681497,0.043610692,0.0116527621,0.0027887074,0.0045951908,-0.0483564064,-0.0282074325,0.045429565,0.0446190648,0.012942153,0.021613175,-0.0476137288,-0.0298218522,0.0135793583,0.0031998104,-0.0280088875,0.0392152444,-0.0271003861,-0.0303669497,-0.0070253136,0.0332168266,0.0104602631,0.0483139157,0.032518737,-0.017549891,-0.060513895,0.0160555691,0.0673332363,-0.0319991671,0.0518091619,-0.0280819163,-0.0144748027,-0.0317035876,-0.006825387,-0.0626986921,-0.0317572691,0.042717658,-0.0091561219,0.0088718599,-0.0361536033,-0.0324345529,0.0232247487,-0.1036025807,0.0124890776,0.0304005481,-0.0326557159,0.0053416612,-0.0396650545,-0.0111902747,0.026908638,0.0557623729,-0.0639397427,-0.013711093,-0.023932023,0.0718902126,-0.007079124,0.0263021998,0.0070857862,-0.0064614969,-0.0424138047,-0.0314351209,0.0417435393,-0.1022246927,-0.0020838676,0.0517796054,0.0514505282,0.0084019601,0.0591595285,0.0030062089,-0.044634819,-0.0192942061,-0.0393293835,0.0159181133,0.0518138818,-0.0474687666,-0.0363124572,-0.026811298,0.0386439152,-0.0112560745,-0.0137984678,-0.0262842942,-0.0104033528,0.0197849367,0.0530370362,0.040008042,0.0156144863,-0.0297011156,-0.0148985181,-0.0037538679,0.0688936636,0.0590500832,0.0113704707,-0.0354976133,0.0084284917,-0.0282528531,-0.0515467487,-0.0080361282,-0.0105959708,0.0498394296,-0.0338600315,-0.0068746884,0.029918002,-0.0373128206,-0.0039324421,0.0063960776,-0.0324175544,-0.065631941,-0.0493561812,-0.0168159641,-0.0033215063,-0.0339199156,0.0997134447,-0.0629635379,0.0130878296,-0.0043066973,-0.0166273825,-0.0398607105,0.034489125,-0.0186888296,-0.0009931242,-0.0152591979,0.0139376381,-0.0302156713,0.0012684618,-0.0165169314,0.0320213139,-0.0267160032,-0.0515253246,0.0571212918,-0.0413443744,-0.0050920388,0.0209092796,0.0135286544,-0.0107368063,-0.0099432478,0.0385751352,0.0132789612,-0.0033380177,-0.0068146391,0.0656036884,0.0166044775,-0.0032436256,0.0214040782,0.0446289219,0.0272022765,-0.0107371146,0.0309512466,0.0593407378,0.0030239734,-0.0045847567,0.0281827655,-0.0891505256,-0.0206311438,0.0047750915,0.0281950254,-0.0369376577,-0.0164665021,0.037385948,-0.0055882195,0.0395656899,0.0069645345,0.0415045843,0.0195349306,-0.0047619464,0.0396629609,0.0065242448,-0.0588161908,0.0210501458,0.0372488052,0.0051286798,0.0113626122,0.0544772185,0.0392981693,0.0547390841,-0.0281288605,0.0140969371,0.0437081531,-0.014410424,0.033233881,0.0233622342,-0.0639973655,-0.0018763604,-0.0104960799,0.0256617274,-0.0491900109,-0.0214887876,-0.0265876763,-0.0799545422,0.005376617,0.0272770897,-0.0346448869,-0.0308788437,-0.0171794202,0.0299980342,-0.0441064872,0.0399931148,0.0519475862,0.0213164575,0.0170468558,0.017342614,-0.0231748931,0.0405199826,0.0516434908,-0.0369666368,-0.0233609173,0.019498622,-0.027365027,0.036475949,0.0445524044,0.029438151,0.0228113029,0.0372284278,-0.012995231,0.0096934978,-0.0430833064,-0.0238243882,0.0069623403,0.0263825115,0.0595508888,-0.0167245287,-0.0410710089,-0.0448617488,0.0803739503,0.0117584784,-0.0051382892,0.0695228651,0.0372877792,-0.014320299,0.0250831023,-0.0692429021,0.024896875,0.01421622,-0.0355045572,0.0353155583,0.0503193066,0.0465508625,0.0096735414,-0.0337885655,-0.0093371542,0.0223830063,0.0151862213,0.0003036813,-0.0111495266,0.014586458,0.0024140193,0.0773448497,0.005964383,-0.0397736356,0.0216010977,-0.0138526326,0.0074227056,-0.0101608196,0.0738186613,-0.0100030862,0.0556663647,0.0224042051,0.0055396617,0.0277750604,-0.0049464852,-0.0000602075,0.0259017721,0.0055482998,0.0057738782,0.0153125487,-0.0065830094,0.0242459141,0.0020387555,-0.0319170058,-0.0389952548,0.0121209566,0.0672726184,-0.0255293231,-0.0023360197,0.000455766,-0.02962327,-0.0033074024,-0.0496147312,-0.0151497917,-0.0461360253,0.0263195056,0.0122427819,-0.0110558709,-0.0039233598,0.0660649762,-0.0405316986,-0.0392051265,0.0423048176,0.0137293395,0.0220184177,0.0343453139,-0.0340509415,-0.0187350549,0.0262544546,0.0323865823,-0.0161855333,-0.0089915516,0.0477831513,-0.0180345401,-0.0105336308,-0.0144833075,0.0307577234,-0.0043388894,0.0349790305,0.0054399595,0.0384705439,-0.0220880136,-0.0129170353,0.0111529958,0.03601145,0.0239997804,0.0178397465,0.0309127998,0.0026074273,0.0085448138,-0.0008070879,-0.0217381306,0.004434051,-0.0541278124,0.0087350821,-0.0107250148,-0.0873453468,-0.0064470377,-0.0023834982,0.0678818524,0.0021159363,-0.0181707814,-0.0274835154,-0.017039204,0.0448842496,0.0182517525,-0.0454564802,-0.0612938926,-0.0159675777,-0.0346498452,0.0076452536,-0.0416277014,-0.0330547206,0.048827704,0.0393529534,0.0438562185,0.0470247194,-0.0298219547,-0.0153151602,0.0556741841,0.0087015843,0.015474692,-0.0082124881,-0.0140948268,0.0402769931,-0.004568629,-0.0909859464,-0.0468177721,-0.0191794876,0.0255169254,-0.0049611675,0.0517376512,0.0020185949,-0.0078113792,0.0309432112,0.001648361,-0.0273990594,-0.0250183791,-0.0001258933,0.065582566,-0.0166185852,-0.0278683845,0.0208616517,0.0387834013,0.0038903002,-0.0555039011,-0.0781886652,0.0283073708,0.0543578491,-0.0203085393,-0.0085551701,-0.0139878094,-0.003516054,0.0059217913,-0.0483567156,0.0776673779,-0.0617546625,-0.0635058954,-0.0195716899,0.0730174333,0.0050713215,-0.0143613284,0.0188475493,-0.0416614413,-0.0157208852,0.0189550612,-0.0644874126,-0.0231344774,-0.0360051282,0.0055429097,0.0162007064,0.0046481555,-0.0511119701,-0.0316664055,0.0358664207,-0.0124106891,-0.0117996978,0.0034186763,-0.0201883428,-0.0185723044,-0.0006894258,0.0105627095,0.0145442421,-0.0110832285,0.0138323819,-0.011146293,-0.0058442904,-0.0152946729,-0.0074166683,-0.0183562282,0.0066004768,0.0041491301,-0.0340619013,-0.0425995775,0.0421208777,0.0593127348,-0.0349640809,0.0053357626,0.0053722882,0.0525930449,-0.0240178276,-0.0255684126,0.014550522,-0.0266742837,-0.057245221,0.0495603234,0.0061481488,0.0093860626,0.0378268026,-0.0436744168,-0.0407571159,0.0540986657,-0.0578668006,0.0235501174,0.0107301958,0.0272173826,0.0098156398,0.0197862629,-0.0132585894,0.0399331637,0.0464315265,0.0092679774,0.0494861603,0.0156769082,0.0180495791,0.0508869849,0.0321195051,0.003615285,-0.0570575446,-0.002682681,-0.0181710441,0.0579704605,0.0243204739,0.0161890518,-0.0304794479,-0.0309500098,0.0263331905,0.0693707839,0.0036587669,-0.0021550038,-0.0211528242,0.010821145,-0.0025825733,-0.0304909181,-0.064447321,-0.0359642245,0.0323065892,0.0361269787,0.008207147,-0.0373893529,-0.031995777,0.0041263192,-0.1014971063,0.0256778263,0.0158538856,-0.0312931649,0.0233476255,-0.0125573641,0.0307271518,0.0162194148,0.0213094112,-0.0132427439,-0.0115576508,0.0644738525,-0.0094182296,-0.009354325,-0.0805918127,-0.0407178774,0.0545659177,-0.0127623314]}\n",
            "Creating gs://vec-search-bucket-aquastride--0608140951/...\n",
            "Copying file://aquastride.json [Content-Type=application/json]...\n",
            "/ [1 files][110.9 KiB/110.9 KiB]                                                \n",
            "Operation completed over 1 objects/110.9 KiB.                                    \n",
            "Creating MatchingEngineIndex\n",
            "Create MatchingEngineIndex backing LRO: projects/809718717452/locations/us-central1/indexes/3662116990354456576/operations/9089954306643197952\n",
            "MatchingEngineIndex created. Resource name: projects/809718717452/locations/us-central1/indexes/3662116990354456576\n",
            "To use this MatchingEngineIndex in another session:\n",
            "index = aiplatform.MatchingEngineIndex('projects/809718717452/locations/us-central1/indexes/3662116990354456576')\n",
            "Creating MatchingEngineIndexEndpoint\n",
            "Create MatchingEngineIndexEndpoint backing LRO: projects/809718717452/locations/us-central1/indexEndpoints/2141378059930959872/operations/3159839497303097344\n",
            "MatchingEngineIndexEndpoint created. Resource name: projects/809718717452/locations/us-central1/indexEndpoints/2141378059930959872\n",
            "To use this MatchingEngineIndexEndpoint in another session:\n",
            "index_endpoint = aiplatform.MatchingEngineIndexEndpoint('projects/809718717452/locations/us-central1/indexEndpoints/2141378059930959872')\n",
            "Deploying index MatchingEngineIndexEndpoint index_endpoint: projects/809718717452/locations/us-central1/indexEndpoints/2141378059930959872\n",
            "Deploy index MatchingEngineIndexEndpoint index_endpoint backing LRO: projects/809718717452/locations/us-central1/indexEndpoints/2141378059930959872/operations/8483094256855023616\n",
            "MatchingEngineIndexEndpoint index_endpoint Deployed index. Resource name: projects/809718717452/locations/us-central1/indexEndpoints/2141378059930959872\n"
          ]
        }
      ],
      "source": [
        "# Download your PDFs here using the wget command.\n",
        "! wget -q -O aquastride_company.pdf 'https://storage.googleapis.com/github-repo/generative-ai/gemini/use-cases/rag/warranty-claim-chatbot/aquastride-company-overview.pdf'\n",
        "! wget -q -O aquastride_DB.pdf 'https://storage.googleapis.com/github-repo/generative-ai/gemini/use-cases/rag/warranty-claim-chatbot/aquastride-sku-sn-database.pdf'\n",
        "\n",
        "# Needs to be lowercase characters with no spaces; e.g. \"test\", \"aquastride\".\n",
        "RAG_unique_identifier = \"aquastride\"  # @param {type: \"string\"}\n",
        "\n",
        "# List the PDFs to be processed via the RAG Endpoint.\n",
        "pdf_list = [\"aquastride_company.pdf\", \"aquastride_DB.pdf\"]\n",
        "\n",
        "# Creates the RAG model endpoint on Vertex Vector Search.\n",
        "rag_info = create_RAG(RAG_unique_identifier, pdf_list)"
      ]
    },
    {
      "cell_type": "markdown",
      "metadata": {},
      "source": [
        "#### Test deployed index"
      ]
    },
    {
      "cell_type": "code",
      "execution_count": 50,
      "metadata": {
        "id": "DFIuF4ki7ajE"
      },
      "outputs": [
        {
          "name": "stdout",
          "output_type": "stream",
          "text": [
            "[DEBUG] Generated result: 'The provided text does not contain information about the serial number CZV2W3X4. Therefore, I cannot answer your question. \n",
            "'\n",
            "[PROGRESS] Test_LLM_Response *did not* find result at neighbor_index: 0\n",
            "[DEBUG] Generated result: 'The provided text does not contain information about Serial_No CZV2W3X4. Therefore, I cannot answer your question. \n",
            "'\n",
            "[PROGRESS] Test_LLM_Response *did not* find result at neighbor_index: 1\n",
            "[RATE LIMIT] Taking Some Rest at neighbor_index: 2\n",
            "[RATE LIMIT] Taking Some Rest at neighbor_index: 2\n",
            "[DEBUG] Generated result: 'The provided text does not contain information about Serial_No (CZV2W3X4). Therefore, I cannot answer your question. \n",
            "      '\n",
            "[PROGRESS] Test_LLM_Response *did not* find result at neighbor_index: 2\n",
            "[DEBUG] Generated result: 'Thank you Patricia Qien for your purchase! We have you on file at 3030 Peachtree St, Atlanta, GA, 30308. \n",
            "'\n",
            "[PROGRESS] Test_LLM_Response found result at neighbor_index: 3\n",
            "Response: Thank you Patricia Qien for your purchase! We have you on file at 3030 Peachtree St, Atlanta, GA, 30308. \n",
            "\n",
            "Page Source: ./aquastride_images/aquastride_DB.pdf_3.png\n"
          ]
        }
      ],
      "source": [
        "# Provide a Query to test the deployed endpoint.\n",
        "# Highly recommended to use a call to a Database (i.e. Cloud SQL) with the extracted Serial number.\n",
        "query = \"Provided the Serial_No (CZV2W3X4) and SKU (TrailBlazer_22_Maroon_Norm), Determine the cx_name who purchased this serial number.\\\\n Output the Owner (cx_name) and the address (cx_address) in this format: \\\\nThank you [cx_name] for your purchase! We have you on file at [cx_address].\"  # @param {type: \"string\"}\n",
        "\n",
        "# Responds with the result of the query against the RAG endpoint & its source.\n",
        "result, page_source = get_answer(\n",
        "    rag_info[\"embeddings_dataframe\"],\n",
        "    rag_info[\"my_index_endpoint\"],\n",
        "    rag_info[\"index_id\"],\n",
        "    query,\n",
        ")\n",
        "\n",
        "# If the endpoint returns irrelevant context to the LLM, respond with the below.\n",
        "if page_source == \"./no-matching-pages.png\":\n",
        "    result = (\n",
        "        \"I could not find your answer within the Data. Can you rephrase your question?\"\n",
        "    )\n",
        "\n",
        "# Print the results and it's page source.\n",
        "print(f\"Response: {result}\\nPage Source: {page_source}\")"
      ]
    },
    {
      "cell_type": "markdown",
      "metadata": {
        "id": "C0nOkTLPf0x4"
      },
      "source": [
        "# Implement application logic and function calling\n",
        "\n",
        "In this section, you will implement logic with [Gemini Function Calling](https://cloud.google.com/vertex-ai/generative-ai/docs/multimodal/function-calling) to handle tasks related to warranty claim support such as extracting information from images of shoe tags or inspecting pictures of shoes for physical damage."
      ]
    },
    {
      "cell_type": "markdown",
      "metadata": {
        "id": "XiAPlcx9JQCa"
      },
      "source": [
        "## Initialize and configure the Gemini model"
      ]
    },
    {
      "cell_type": "code",
      "execution_count": 54,
      "metadata": {
        "id": "koLU4OYFt7rt"
      },
      "outputs": [],
      "source": [
        "image_determination_prompt = \"\"\"\n",
        "You will be provided with an image. Analyze the image and perform the following:\n",
        "\n",
        "**Image Classification:**\n",
        "\n",
        "* **Shoe Tag:** If the image is a shoe tag, extract the following information and generate a corresponding JSON schema:\n",
        "\n",
        "    ```json\n",
        "    {\n",
        "        \"brand\": \"[Brand Name/Website]\",\n",
        "        \"product\": \"[Product Name/SKU]\",\n",
        "        \"serialNumber\": \"[Serial Number]\",\n",
        "        \"sizing\": {\n",
        "            \"us\": \"[US Size]\",\n",
        "            \"uk\": \"[UK Size]\",\n",
        "            \"eur\": \"[EUR Size]\",\n",
        "            \"chn\": \"[CHN Size]\"\n",
        "        },\n",
        "        \"madeIn\": \"[Manufacturing Location]\"\n",
        "    }\n",
        "    ```\n",
        "\n",
        "* **Damaged Shoe:** If the image shows a shoe with visible damage, assess the damage and generate a JSON schema for damage reporting:\n",
        "\n",
        "    ```json\n",
        "    {\n",
        "        \"damagedAreas\": [\"[Area 1]\", \"[Area 2]\", ...],\n",
        "        \"damageType\": \"[Damage Type]\",\n",
        "        \"severity\": \"[Severity Level]\",\n",
        "        \"additionalNotes\": \"[Optional Additional Notes]\"\n",
        "    }\n",
        "    ```\n",
        "\n",
        "* **Other:** If the image is neither a shoe tag nor a damaged shoe, respond with: \"I am unable to help you with that image because it does not help with warranty evaluations.\"\n",
        "\n",
        "**Damage Assessment (if applicable):**\n",
        "\n",
        "* **Identify Damaged Areas:** Pinpoint the specific locations of the damage on the shoe (e.g., sole, upper, laces).\n",
        "* **Describe Damage Type:** Classify the type of damage (e.g., wear and tear, tear, stain, discoloration, structural damage).\n",
        "* **Assess Severity:** Estimate the severity of the damage (e.g., minor, moderate, severe).\n",
        "\n",
        "**Additional Notes:**\n",
        "\n",
        "* **Clarity and Detail:** Be as specific as possible when describing the damage.\n",
        "* **Image Quality:** If the image quality is too poor to assess the damage or extract information, indicate this in the output.\n",
        "* **Human Intervention:** For complex or ambiguous cases, suggest that the customer contact a human agent for further assistance.\n",
        "* **Missing Data Handling:** If any piece of information is not present, include the corresponding key in the JSON schema but leave the value as an empty string (\"\").\n",
        "\"\"\""
      ]
    },
    {
      "cell_type": "code",
      "execution_count": 55,
      "metadata": {},
      "outputs": [],
      "source": [
        "image_analysis_model = GenerativeModel(\n",
        "    \"gemini-1.5-pro-preview-0514\", system_instruction=[image_determination_prompt]\n",
        ")"
      ]
    },
    {
      "cell_type": "code",
      "execution_count": 56,
      "metadata": {},
      "outputs": [],
      "source": [
        "system_prompt = \"\"\"\n",
        "**Persona:** You are Bubbles, AquaStride's friendly and helpful AI assistant, here to help with warranty claims. Your tone is positive and upbeat, but also efficient and clear.\n",
        "\n",
        "**ReACT Framework:**\n",
        "\n",
        "**Remember:** Keep track of the conversation history to know which step the customer is on.\n",
        "**Evaluate:** Based on the customer's response, determine if they have provided the necessary information to move to the next step.\n",
        "**Act:** Provide the appropriate response:\n",
        "If the customer provides the required information, move to the next step.\n",
        "If the customer is missing information, politely prompt them again.\n",
        "If the customer is struggling, offer alternative solutions like contacting the call center.\n",
        "**Confirm:** Before moving to the next step, ensure the customer understands and is ready to proceed.\n",
        "\n",
        "**Return Process Dialogue Flow:**\n",
        "\n",
        "**Step 1: Introduction and Explanation**\n",
        "\n",
        "> Hey there! 👋 I'm Bubbles, your friendly AquaStride assistant! It sounds like you might need to make a warranty claim on a pair of our awesome shoes. That's no problem, I'm here to help you dive right into the process! 🌊 First things first, could you please share a picture of the inner shoe tag? This helps us quickly identify your shoes and get started. 👍\n",
        "\n",
        "**Step 2: Image Upload and Verification (Secret Step)**\n",
        "\n",
        "> (Upon receiving the image, extract the SKU, Serial Number, and Manufacturing Date. Verify this information against the customer database to confirm the purchase was from a legitimate retailer and check for existing customer details.)\n",
        "\n",
        "**Step 3: Purchase Detail Confirmation**\n",
        "\n",
        "> Thanks for sharing that! 😊 Based on the tag information, it looks like these shoes were purchased on [Date] from [Retailer/Website]. Is that correct? Please confirm your full name and email address associated with the purchase so we can access your information quickly.\n",
        "\n",
        "**Step 4: Handling Missing Information or Errors**\n",
        "\n",
        "**If information is missing or incorrect:**\n",
        "> Hmmm, something seems a bit off. 🤔 Could you please double-check the information you provided? If you're still having trouble, no worries! You can reach out to our super helpful contact center at 1-800-AquaOops, and they'll be happy to assist you further.\n",
        "**If information is verified and correct:**\n",
        "> Perfect! Now that we have all the details, let's move on to the next step… (Continue with the return process according to AquaStride's specific procedures).\n",
        "\n",
        "**Throughout the interaction:**\n",
        "\n",
        "Maintain a friendly and helpful tone.\n",
        "Use emojis to enhance the lighthearted personality.\n",
        "Keep responses concise and easy to understand.\n",
        "Offer reassurance and support throughout the process.\n",
        "        \"\"\""
      ]
    },
    {
      "cell_type": "code",
      "execution_count": 57,
      "metadata": {
        "id": "Ls93Za_kJaR-"
      },
      "outputs": [],
      "source": [
        "generation_config = {\n",
        "    \"max_output_tokens\": 2048,\n",
        "    \"temperature\": 0.4,\n",
        "    \"top_p\": 1,\n",
        "    \"top_k\": 32,\n",
        "}\n",
        "\n",
        "safety_config = [\n",
        "    generative_models.SafetySetting(\n",
        "        category=generative_models.HarmCategory.HARM_CATEGORY_DANGEROUS_CONTENT,\n",
        "        threshold=generative_models.HarmBlockThreshold.BLOCK_LOW_AND_ABOVE,\n",
        "    ),\n",
        "    generative_models.SafetySetting(\n",
        "        category=generative_models.HarmCategory.HARM_CATEGORY_HARASSMENT,\n",
        "        threshold=generative_models.HarmBlockThreshold.BLOCK_LOW_AND_ABOVE,\n",
        "    ),\n",
        "]\n",
        "\n",
        "text_model = GenerativeModel(\n",
        "    \"gemini-1.5-pro-preview-0514\",\n",
        "    generation_config=generation_config,\n",
        "    safety_settings=safety_config,\n",
        "    system_instruction=[system_prompt],\n",
        ")"
      ]
    },
    {
      "cell_type": "markdown",
      "metadata": {
        "id": "n6bzsw0vFJM8"
      },
      "source": [
        "## Creating function declarations\n",
        "\n",
        "[Function Calling in Gemini](https://cloud.google.com/vertex-ai/generative-ai/docs/multimodal/function-calling#function-declarations) allows the generative model to output structured data objects that can be used to interact with external systems and return the context to Gemini.\n",
        "\n",
        "Here you'll write function declarations to extract information from images of shoe tags, inspect pictures of shoes for damage, or inform the user that the image is not of a shoe tag or damaged shoe."
      ]
    },
    {
      "cell_type": "markdown",
      "metadata": {},
      "source": [
        "#### 1. Function to clean JSON packages from text, that contains: brand, product, serialNumber, sizing, and madeIn"
      ]
    },
    {
      "cell_type": "code",
      "execution_count": 58,
      "metadata": {
        "id": "8Lxbv8GigrOv"
      },
      "outputs": [],
      "source": [
        "fn_json_from_tag = FunctionDeclaration(\n",
        "    name=\"extract_json_from_tag\",\n",
        "    description=\"This function is used to clean JSON packages from text, that contains: brand, product, serialNumber, sizing, and madeIn.\",\n",
        "    parameters={\n",
        "        \"type\": \"object\",\n",
        "        \"properties\": {\n",
        "            \"records\": {\n",
        "                \"type\": \"array\",\n",
        "                \"description\": \"A shoe tag\",\n",
        "                \"items\": {\n",
        "                    \"description\": \"Data for a querying the database on found information\",\n",
        "                    \"type\": \"object\",\n",
        "                    \"properties\": {\n",
        "                        \"brand\": {\"type\": \"string\", \"description\": \"The brand website\"},\n",
        "                        \"product\": {\n",
        "                            \"type\": \"string\",\n",
        "                            \"description\": \"The SKU of the shoe tag. i.e.: TrailBlazer_23_Orange_Norm\",\n",
        "                        },\n",
        "                        \"serialNumber\": {\n",
        "                            \"type\": \"string\",\n",
        "                            \"description\": \"The Serial Number of the shoe tag, commonly denoted as: SN\",\n",
        "                        },\n",
        "                        \"sizing\": {\n",
        "                            \"type\": \"string\",\n",
        "                            \"description\": \"The shoe sizes from the shoe tag. i.e. ['us: 7'], ['uk: 2.5'], ...\",\n",
        "                        },\n",
        "                        \"madeIn\": {\n",
        "                            \"type\": \"string\",\n",
        "                            \"description\": \"The location the shoe was made in\",\n",
        "                        },\n",
        "                    },\n",
        "                    \"required\": [\n",
        "                        \"serialNumber\",\n",
        "                        \"sizing\",\n",
        "                    ],  # Defines what is required to for a successful call.\n",
        "                },\n",
        "            }\n",
        "        },\n",
        "    },\n",
        ")"
      ]
    },
    {
      "cell_type": "markdown",
      "metadata": {},
      "source": [
        "#### 2. Function to clean JSON packages from text, that contains: damagedAreas, damageType, severity, additionalNotes"
      ]
    },
    {
      "cell_type": "code",
      "execution_count": 61,
      "metadata": {},
      "outputs": [],
      "source": [
        "fn_json_shoe_damage = FunctionDeclaration(\n",
        "    name=\"extract_json_shoe_damage\",\n",
        "    description=\"This function is used to clean JSON packages from text, that contains: damagedAreas, damageType, severity, additionalNotes.\",\n",
        "    parameters={\n",
        "        \"type\": \"object\",\n",
        "        \"properties\": {\n",
        "            \"records\": {\n",
        "                \"type\": \"array\",\n",
        "                \"description\": \"A damaged shoe\",\n",
        "                \"items\": {\n",
        "                    \"description\": \"Data for a querying the database on found information\",\n",
        "                    \"type\": \"object\",\n",
        "                    \"properties\": {\n",
        "                        \"damagedAreas\": {\n",
        "                            \"type\": \"string\",\n",
        "                            \"description\": \"The areas of damage found on the shoe. i.e. ('[Area 1]', '[Area 2]', ...)\",\n",
        "                        },\n",
        "                        \"damageType\": {\n",
        "                            \"type\": \"string\",\n",
        "                            \"description\": \"The type of damage\",\n",
        "                        },\n",
        "                        \"severity\": {\n",
        "                            \"type\": \"string\",\n",
        "                            \"description\": \"The Severity Level\",\n",
        "                        },\n",
        "                        \"additionalNotes\": {\n",
        "                            \"type\": \"string\",\n",
        "                            \"description\": \"Optional Additional Notes\",\n",
        "                        },\n",
        "                    },\n",
        "                    \"required\": [\"damagedAreas\", \"damageType\"],\n",
        "                },\n",
        "            }\n",
        "        },\n",
        "    },\n",
        ")"
      ]
    },
    {
      "cell_type": "markdown",
      "metadata": {},
      "source": [
        "#### 3. Function to use when there is no json format. Respond whenever there is text about warranty evaluations"
      ]
    },
    {
      "cell_type": "code",
      "execution_count": 62,
      "metadata": {},
      "outputs": [],
      "source": [
        "fn_not_related = FunctionDeclaration(\n",
        "    name=\"catch_text_regarding_warranty\",\n",
        "    description=\"This function is used when there is no json format. Respond whenever there is text about warranty evaluations.\",\n",
        "    parameters={\n",
        "        \"type\": \"object\",\n",
        "        \"properties\": {\n",
        "            \"records\": {\n",
        "                \"type\": \"array\",\n",
        "                \"description\": \"A sentence similar to this: I am unable to help you with that image because it does not help with warranty evaluations.\",\n",
        "                \"items\": {\n",
        "                    \"description\": \"A simple sentence\",\n",
        "                    \"type\": \"object\",\n",
        "                    \"properties\": {\n",
        "                        \"sentence\": {\"type\": \"string\", \"description\": \"A sentence.\"}\n",
        "                    },\n",
        "                    \"required\": [\"sentence\"],\n",
        "                },\n",
        "            }\n",
        "        },\n",
        "    },\n",
        ")"
      ]
    },
    {
      "cell_type": "markdown",
      "metadata": {},
      "source": [
        "## Setup helpers\n",
        "\n",
        "**Note**: `flow_manager` can instead by used in an agent setting with conditional edges"
      ]
    },
    {
      "cell_type": "code",
      "execution_count": 63,
      "metadata": {
        "id": "R1GYUe6dS02U"
      },
      "outputs": [],
      "source": [
        "# Will be passed the function name to handle.\n",
        "def flow_manager(current_function_call):\n",
        "    global current_step\n",
        "    response = \"\"\n",
        "    function_call_name = current_function_call.name\n",
        "    print(f\"[DEBUG] flow_manager got function name '{function_call_name}'\")\n",
        "    match function_call_name:\n",
        "        case \"catch_text_regarding_warranty\":\n",
        "            return \"Please respond to the recent question 🥹\"\n",
        "        case \"extract_json_shoe_damage\":\n",
        "            damage_area = current_function_call.args[\"records\"][0].get(\"damagedAreas\")\n",
        "            damage_type = current_function_call.args[\"records\"][0].get(\"damageType\")\n",
        "            print(f\"[DEBUG] flow_manager '{function_call_name}' damage_area: {damage_area} damage_type: {damage_type}\")\n",
        "            prompt_DB = f\"\"\"\n",
        "**Context:** You are a warranty analyst assisting with a claim for Aquastrides shoes. Your role is to provide a preliminary assessment based on the warranty policy.\n",
        "\n",
        "**Information Provided:**\n",
        "\n",
        "**Damaged area:** {damage_area}\n",
        "**Type of damage:** {damage_type}\n",
        "\n",
        "**Task:**\n",
        "\n",
        "1. **Analyze** the provided damage information in relation to the Aquastrides Warranty Policy.\n",
        "2. **Identify** if this type of damage, in the specified area, is typically covered or excluded under the warranty. Be lenient in claims.\n",
        "3. **Provide a concise decision:**\n",
        "    * \"Covered\" - If the damage appears consistent with warranty coverage.\n",
        "    * \"Not Covered\" - If the damage appears inconsistent with warranty coverage. Only when it is very obvious that it should not apply.\n",
        "\n",
        "**Important:** Provide a definitive approval or denial. Your assessment guides the next steps in the workflow.\n",
        "\"\"\"\n",
        "            result, page_source = get_answer(\n",
        "                rag_info[\"embeddings_dataframe\"],\n",
        "                rag_info[\"my_index_endpoint\"],\n",
        "                rag_info[\"index_id\"],\n",
        "                prompt_DB,\n",
        "            )\n",
        "            current_step = 2\n",
        "            return result + \"\\n Are you okay with this decision? 🤔\"\n",
        "\n",
        "        case \"extract_json_from_tag\":\n",
        "            sn = current_function_call.args[\"records\"][0].get(\"serialNumber\")\n",
        "            sku = current_function_call.args[\"records\"][0].get(\"product\")\n",
        "            print(f\"[DEBUG] flow_manager '{function_call_name}' serial_number: {sn} SKU: {sku}\")\n",
        "            prompt_DB = f\"Provided the Serial_No ({sn}) and SKU ({sku}), Determine the cx_name who purchased this serial number.\\n Output the Owner (cx_name) and the address (cx_address) in this format: \\nThank you [cx_name] for your purchase! We have you on file at [cx_address].\"\n",
        "            result, page_source = get_answer(\n",
        "                rag_info[\"embeddings_dataframe\"],\n",
        "                rag_info[\"my_index_endpoint\"],\n",
        "                rag_info[\"index_id\"],\n",
        "                prompt_DB,\n",
        "            )\n",
        "            # response = response + f\"{result}(The following was based on: {page_source}. SN: {sn} / SKU: {sku})\"\n",
        "            response = (\n",
        "                result\n",
        "                + f\"\\n\\n Now that we have handled verification 🥳, can you please submit an image of the damaged component of your shoe? 🤔\"\n",
        "            )\n",
        "            current_step = 1\n",
        "\n",
        "            return response\n",
        "        case _:\n",
        "            return \"Called Default. No Function Call Found\""
      ]
    },
    {
      "cell_type": "code",
      "execution_count": 65,
      "metadata": {},
      "outputs": [],
      "source": [
        "def is_valid_email(email):\n",
        "    pattern = r\"^[a-zA-Z0-9._%+-]+@[a-zA-Z0-9.-]+\\.[a-zA-Z]{2,}$\"\n",
        "    return re.match(pattern, email.strip()) is not None"
      ]
    },
    {
      "cell_type": "code",
      "execution_count": 64,
      "metadata": {
        "id": "199THhxAv0S2"
      },
      "outputs": [],
      "source": [
        "def convert_image_for_analysis(image):\n",
        "    image = PIL_Image.open(image)\n",
        "    image_path = os.path.join(\"\", \"uploaded_image.png\")\n",
        "    image.save(image_path, format=\"PNG\")\n",
        "\n",
        "    # Encode image to base64\n",
        "    with open(image_path, \"rb\") as image_file:\n",
        "        encoded_image = base64.b64encode(image_file.read()).decode(\"utf-8\")\n",
        "        # Use Part.from_data instead of Part.from_uri\n",
        "        image_part = Part.from_data(mime_type=\"image/png\", data=encoded_image)\n",
        "        return image_part"
      ]
    },
    {
      "cell_type": "markdown",
      "metadata": {},
      "source": [
        "## Setup tools"
      ]
    },
    {
      "cell_type": "code",
      "execution_count": 66,
      "metadata": {},
      "outputs": [],
      "source": [
        "# Function and variables\n",
        "warranty_tool = Tool(\n",
        "    function_declarations=[fn_json_from_tag, fn_json_shoe_damage, fn_not_related]\n",
        ")\n",
        "\n",
        "# Enables Forced Function Calling to make sure that it selects a function every time\n",
        "tool_config = ToolConfig(\n",
        "    function_calling_config=ToolConfig.FunctionCallingConfig(\n",
        "        mode=ToolConfig.FunctionCallingConfig.Mode.ANY,\n",
        "        allowed_function_names=[\n",
        "            \"extract_json_from_tag\",\n",
        "            \"extract_json_shoe_damage\",\n",
        "            \"catch_text_regarding_warranty\",\n",
        "        ],\n",
        "    )\n",
        ")"
      ]
    },
    {
      "cell_type": "markdown",
      "metadata": {},
      "source": [
        "## Create bot that uses helpers (eg. function flow manager), tools\n",
        "\n",
        "**TODO**: instead of a global like `current_step` integers (brittle) and `flow_manager` use conditional edges in an agent graph"
      ]
    },
    {
      "cell_type": "code",
      "execution_count": 68,
      "metadata": {
        "id": "T0aOkvh0WmoP"
      },
      "outputs": [],
      "source": [
        "current_step = 0\n",
        "\n",
        "# Main bot function\n",
        "def bot(message, history):\n",
        "    global current_step\n",
        "\n",
        "    # Previous message should ideally contain the warranty decision\n",
        "    previous_message = history[-1] if history else \"\"\n",
        "    try:\n",
        "        # --- Image Processing ---\n",
        "        if message.get(\"files\"):\n",
        "\n",
        "            # Prepares Image from Gradio into format accepted by Generative Models\n",
        "            converted_image = convert_image_for_analysis(message[\"files\"][0])\n",
        "\n",
        "            # Converts the image into JSON (Text)\n",
        "            image_output = image_analysis_model.generate_content(\n",
        "                [image_determination_prompt, converted_image],\n",
        "                generation_config=generation_config,\n",
        "                safety_settings=safety_config,\n",
        "            ).text\n",
        "\n",
        "            # Gets the Function call for the image\n",
        "            image_analysis_output = image_analysis_model.generate_content(\n",
        "                image_output,\n",
        "                generation_config=generation_config,\n",
        "                safety_settings=safety_config,\n",
        "                tools=[warranty_tool],\n",
        "                tool_config=tool_config,\n",
        "            )\n",
        "\n",
        "            # Passes the Function Call to the Function Manager to handle the image as needed.\n",
        "            current_output = flow_manager(\n",
        "                image_analysis_output.candidates[0].function_calls[0]\n",
        "            )\n",
        "\n",
        "            # Output to User\n",
        "            return current_output\n",
        "\n",
        "        # Generate text response using the model\n",
        "\n",
        "        match current_step:\n",
        "\n",
        "            # Case 0: Handles anything around trying to upload the image of your inner shoe Tag\n",
        "            case 0:\n",
        "                response = text_model.generate_content(\n",
        "                    message[\"text\"],\n",
        "                    generation_config=generation_config,\n",
        "                    safety_settings=safety_config,\n",
        "                )\n",
        "                return response.text  # Needs a Try-catch in case safety filters blocks\n",
        "\n",
        "                # Case 1: \"Focused on responses about the uploaded tag (Anything around [ Now that we have handled verification 🥳, can you please submit an image of the damaged component of your shoe? 🤔])\"\n",
        "            case 1:\n",
        "                test = 1\n",
        "                # \"Issues with Tag image analysis / Uploading their damage to shoe\"\n",
        "                content = f\"Respond to the previous context focusing on helping the user submit a photo of their shoe showing the damaged components: {message['text']}| If there is a history, make your response based on the previous chat messages as well:\\n{str(''.join(chat) for chat in history)}\"\n",
        "                response = text_model.generate_content(\n",
        "                    content,\n",
        "                    generation_config=generation_config,\n",
        "                    safety_settings=safety_config,\n",
        "                )\n",
        "                return response.candidates[0].text\n",
        "\n",
        "            # Case 2: Focused on issues surrounding the Warranty approval process (\"Are you okay with this decision? 🤔\")\n",
        "            case 2:\n",
        "                if not \"not covered\" in previous_message[1].lower() and (\n",
        "                    \"yes\" in message[\"text\"].lower()\n",
        "                    or \"agree\" in message[\"text\"].lower()\n",
        "                ):\n",
        "                    current_step = 3  # Move to shipping details\n",
        "                    response = \"Great! To get your shoes back to us for repair/replacement, please provide me with your email address. We'll send you a prepaid shipping label, box, and instructions right away to the address on file 😌.\"\n",
        "                    return response\n",
        "\n",
        "                if \"not covered\" in previous_message[1].lower() and (\n",
        "                    \"yes\" in message[\"text\"].lower()\n",
        "                    or \"agree\" in message[\"text\"].lower()\n",
        "                ):\n",
        "                    current_step = 4  # Move to customer support referral\n",
        "                    response = \"Thank you for your understanding. For further assistance with your warranty claim, please contact our Customer Support team at support@aquastrider.com. They'll be happy to help!\\n Is there anything else I can help you with or learn about our other products? 👞\"\n",
        "                    return response\n",
        "\n",
        "                else:  # Handle negative sentiment, concerns, or not covered cases\n",
        "                    current_step = 4  # Move to customer support referral\n",
        "                    response = \"I understand you may have some concerns. For further assistance with your warranty claim, please contact our Customer Support team at support@aquastrider.com. They'll be happy to help!\\n Is there anything else I can help you with or learn about our other products? 👞\"\n",
        "                    return response\n",
        "            case 3:\n",
        "                if is_valid_email(message[\"text\"].lower()):\n",
        "                    current_step = 4\n",
        "                    return f\"Thank you for providing the email! The return box & Label will be sent out immediately! ⚡⚡⚡ Please check your email for confirmation. \\nDo you have any other questions about our products or about Aquastride?\"\n",
        "                else:\n",
        "                    return f\"Please provide a valid email! 🫠\"\n",
        "            case 4:\n",
        "                if \"no\" in message[\"text\"].lower():\n",
        "                    return \"Thank you for chatting with us today. See you next time! 😊\"\n",
        "                response = f\"Help user questions about AquaStrides The Company. User Question: {message['text']} | Chat History: {str(''.join(chat) for chat in history) if history else ''}\"\n",
        "                result, page_source = get_answer(\n",
        "                    rag_info[\"embeddings_dataframe\"],\n",
        "                    rag_info[\"my_index_endpoint\"],\n",
        "                    rag_info[\"index_id\"],\n",
        "                    response,\n",
        "                )\n",
        "                return (\n",
        "                    str(result)\n",
        "                    + \"\\n\\n Feel free to ask me any other questions, if not, Have a wave of a day! 🤠\"\n",
        "                )\n",
        "\n",
        "            case _:\n",
        "                return \"We are in the endgame now. (The Avengers: Infinity War)\"\n",
        "        return \"Something Sneaky happened.\"\n",
        "\n",
        "    except Exception as e:\n",
        "        return f\"A bad error occurred: {str(e)}\""
      ]
    },
    {
      "cell_type": "markdown",
      "metadata": {
        "id": "TnmZZ5dCW0Bl"
      },
      "source": [
        "## Run  demo Gradio app with bot\n",
        "\n",
        "This will instantiate the demo app and allow you to interact with and test your chatbot. Click on the link in the output of this cell to access a live instance of the demo app."
      ]
    },
    {
      "cell_type": "code",
      "execution_count": 70,
      "metadata": {
        "id": "KbkXapGXWzXa"
      },
      "outputs": [
        {
          "name": "stdout",
          "output_type": "stream",
          "text": [
            "Running on local URL:  http://127.0.0.1:7860\n",
            "\n",
            "To create a public link, set `share=True` in `launch()`.\n"
          ]
        },
        {
          "data": {
            "text/html": [
              "<div><iframe src=\"http://127.0.0.1:7860/\" width=\"100%\" height=\"500\" allow=\"autoplay; camera; microphone; clipboard-read; clipboard-write;\" frameborder=\"0\" allowfullscreen></iframe></div>"
            ],
            "text/plain": [
              "<IPython.core.display.HTML object>"
            ]
          },
          "metadata": {},
          "output_type": "display_data"
        },
        {
          "name": "stdout",
          "output_type": "stream",
          "text": [
            "[DEBUG] flow_manager got function name 'extract_json_from_tag'\n",
            "[DEBUG] flow_manager 'extract_json_from_tag' serial_number: CZE5F6G7 SKU: DepthStrider_23_Red_Norm\n",
            "[DEBUG] Generated result: 'The provided text does not contain information about Serial_No CZE5F6G7. Therefore, I cannot answer your question. \n",
            "'\n",
            "[PROGRESS] Test_LLM_Response *did not* find result at neighbor_index: 0\n",
            "[DEBUG] Generated result: 'The provided text does not include Serial_No (CZE5F6G7). Therefore, I cannot answer your question. \n",
            "'\n",
            "[PROGRESS] Test_LLM_Response *did not* find result at neighbor_index: 1\n",
            "[RATE LIMIT] Taking Some Rest at neighbor_index: 2\n",
            "[DEBUG] Generated result: 'The provided text does not contain information about Serial_No CZE5F6G7. Therefore, I cannot answer your question. \n",
            "'\n",
            "[PROGRESS] Test_LLM_Response *did not* find result at neighbor_index: 2\n",
            "[DEBUG] Generated result: 'Thank you Charles Elliott for your purchase! We have you on file at 34 Akea Pl, Kula, HI, 96790. \n",
            "'\n",
            "[PROGRESS] Test_LLM_Response found result at neighbor_index: 3\n",
            "[DEBUG] flow_manager got function name 'extract_json_shoe_damage'\n",
            "[DEBUG] flow_manager 'extract_json_shoe_damage' damage_area: Upper near the lace holes damage_type: Tear\n",
            "[DEBUG] Generated result: 'Covered \n",
            "\n",
            "**Analysis:** The damage is a tear near the lace holes, which involves the upper portion of the shoe and potentially the hardware. The warranty covers defects in materials and workmanship in these areas. \n",
            "\n",
            "**Decision:** While the specific cause of the tear is unknown, it's reasonable to consider it a potential manufacturing defect at this stage, especially given the lenient claim approach. \n",
            "'\n",
            "[RATE LIMIT] Taking Some Rest at neighbor_index: 0\n",
            "[RATE LIMIT] Taking Some Rest at neighbor_index: 0\n",
            "[DEBUG] Generated result: 'Covered \n",
            "\n",
            "**Reasoning:** The damage is a tear near the lace holes, which affects the upper portion of the shoe. The warranty explicitly covers defects in materials and workmanship in the uppers, including stitching and bonding.  While it could be argued that the tear is due to normal wear and tear, we should be lenient in the claims process. \n",
            "'\n",
            "[PROGRESS] Test_LLM_Response found result at neighbor_index: 0\n"
          ]
        },
        {
          "name": "stderr",
          "output_type": "stream",
          "text": [
            "ERROR:    Exception in ASGI application\n",
            "  + Exception Group Traceback (most recent call last):\n",
            "  |   File \"/opt/homebrew/Caskroom/miniforge/base/lib/python3.11/site-packages/uvicorn/protocols/http/httptools_impl.py\", line 412, in run_asgi\n",
            "  |     result = await app(  # type: ignore[func-returns-value]\n",
            "  |              ^^^^^^^^^^^^^^^^^^^^^^^^^^^^^^^^^^^^^^^^^^^^^^\n",
            "  |   File \"/opt/homebrew/Caskroom/miniforge/base/lib/python3.11/site-packages/uvicorn/middleware/proxy_headers.py\", line 69, in __call__\n",
            "  |     return await self.app(scope, receive, send)\n",
            "  |            ^^^^^^^^^^^^^^^^^^^^^^^^^^^^^^^^^^^^\n",
            "  |   File \"/opt/homebrew/Caskroom/miniforge/base/lib/python3.11/site-packages/fastapi/applications.py\", line 292, in __call__\n",
            "  |     await super().__call__(scope, receive, send)\n",
            "  |   File \"/opt/homebrew/Caskroom/miniforge/base/lib/python3.11/site-packages/starlette/applications.py\", line 122, in __call__\n",
            "  |     await self.middleware_stack(scope, receive, send)\n",
            "  |   File \"/opt/homebrew/Caskroom/miniforge/base/lib/python3.11/site-packages/starlette/middleware/errors.py\", line 184, in __call__\n",
            "  |     raise exc\n",
            "  |   File \"/opt/homebrew/Caskroom/miniforge/base/lib/python3.11/site-packages/starlette/middleware/errors.py\", line 162, in __call__\n",
            "  |     await self.app(scope, receive, _send)\n",
            "  |   File \"/opt/homebrew/Caskroom/miniforge/base/lib/python3.11/site-packages/gradio/route_utils.py\", line 714, in __call__\n",
            "  |     await self.app(scope, receive, send)\n",
            "  |   File \"/opt/homebrew/Caskroom/miniforge/base/lib/python3.11/site-packages/starlette/middleware/exceptions.py\", line 79, in __call__\n",
            "  |     raise exc\n",
            "  |   File \"/opt/homebrew/Caskroom/miniforge/base/lib/python3.11/site-packages/starlette/middleware/exceptions.py\", line 68, in __call__\n",
            "  |     await self.app(scope, receive, sender)\n",
            "  |   File \"/opt/homebrew/Caskroom/miniforge/base/lib/python3.11/site-packages/fastapi/middleware/asyncexitstack.py\", line 20, in __call__\n",
            "  |     raise e\n",
            "  |   File \"/opt/homebrew/Caskroom/miniforge/base/lib/python3.11/site-packages/fastapi/middleware/asyncexitstack.py\", line 17, in __call__\n",
            "  |     await self.app(scope, receive, send)\n",
            "  |   File \"/opt/homebrew/Caskroom/miniforge/base/lib/python3.11/site-packages/starlette/routing.py\", line 718, in __call__\n",
            "  |     await route.handle(scope, receive, send)\n",
            "  |   File \"/opt/homebrew/Caskroom/miniforge/base/lib/python3.11/site-packages/starlette/routing.py\", line 276, in handle\n",
            "  |     await self.app(scope, receive, send)\n",
            "  |   File \"/opt/homebrew/Caskroom/miniforge/base/lib/python3.11/site-packages/starlette/routing.py\", line 69, in app\n",
            "  |     await response(scope, receive, send)\n",
            "  |   File \"/opt/homebrew/Caskroom/miniforge/base/lib/python3.11/site-packages/starlette/responses.py\", line 270, in __call__\n",
            "  |     async with anyio.create_task_group() as task_group:\n",
            "  |   File \"/opt/homebrew/Caskroom/miniforge/base/lib/python3.11/site-packages/anyio/_backends/_asyncio.py\", line 678, in __aexit__\n",
            "  |     raise BaseExceptionGroup(\n",
            "  | ExceptionGroup: unhandled errors in a TaskGroup (1 sub-exception)\n",
            "  +-+---------------- 1 ----------------\n",
            "    | Traceback (most recent call last):\n",
            "    |   File \"/opt/homebrew/Caskroom/miniforge/base/lib/python3.11/site-packages/starlette/responses.py\", line 273, in wrap\n",
            "    |     await func()\n",
            "    |   File \"/opt/homebrew/Caskroom/miniforge/base/lib/python3.11/site-packages/starlette/responses.py\", line 267, in stream_response\n",
            "    |     await send({\"type\": \"http.response.body\", \"body\": b\"\", \"more_body\": False})\n",
            "    |   File \"/opt/homebrew/Caskroom/miniforge/base/lib/python3.11/site-packages/starlette/middleware/exceptions.py\", line 65, in sender\n",
            "    |     await send(message)\n",
            "    |   File \"/opt/homebrew/Caskroom/miniforge/base/lib/python3.11/site-packages/starlette/middleware/errors.py\", line 159, in _send\n",
            "    |     await send(message)\n",
            "    |   File \"/opt/homebrew/Caskroom/miniforge/base/lib/python3.11/site-packages/uvicorn/protocols/http/httptools_impl.py\", line 465, in send\n",
            "    |     raise ClientDisconnected\n",
            "    | uvicorn.protocols.utils.ClientDisconnected\n",
            "    +------------------------------------\n",
            "ERROR:    Exception in ASGI application\n",
            "  + Exception Group Traceback (most recent call last):\n",
            "  |   File \"/opt/homebrew/Caskroom/miniforge/base/lib/python3.11/site-packages/uvicorn/protocols/http/httptools_impl.py\", line 412, in run_asgi\n",
            "  |     result = await app(  # type: ignore[func-returns-value]\n",
            "  |              ^^^^^^^^^^^^^^^^^^^^^^^^^^^^^^^^^^^^^^^^^^^^^^\n",
            "  |   File \"/opt/homebrew/Caskroom/miniforge/base/lib/python3.11/site-packages/uvicorn/middleware/proxy_headers.py\", line 69, in __call__\n",
            "  |     return await self.app(scope, receive, send)\n",
            "  |            ^^^^^^^^^^^^^^^^^^^^^^^^^^^^^^^^^^^^\n",
            "  |   File \"/opt/homebrew/Caskroom/miniforge/base/lib/python3.11/site-packages/fastapi/applications.py\", line 292, in __call__\n",
            "  |     await super().__call__(scope, receive, send)\n",
            "  |   File \"/opt/homebrew/Caskroom/miniforge/base/lib/python3.11/site-packages/starlette/applications.py\", line 122, in __call__\n",
            "  |     await self.middleware_stack(scope, receive, send)\n",
            "  |   File \"/opt/homebrew/Caskroom/miniforge/base/lib/python3.11/site-packages/starlette/middleware/errors.py\", line 184, in __call__\n",
            "  |     raise exc\n",
            "  |   File \"/opt/homebrew/Caskroom/miniforge/base/lib/python3.11/site-packages/starlette/middleware/errors.py\", line 162, in __call__\n",
            "  |     await self.app(scope, receive, _send)\n",
            "  |   File \"/opt/homebrew/Caskroom/miniforge/base/lib/python3.11/site-packages/gradio/route_utils.py\", line 714, in __call__\n",
            "  |     await self.app(scope, receive, send)\n",
            "  |   File \"/opt/homebrew/Caskroom/miniforge/base/lib/python3.11/site-packages/starlette/middleware/exceptions.py\", line 79, in __call__\n",
            "  |     raise exc\n",
            "  |   File \"/opt/homebrew/Caskroom/miniforge/base/lib/python3.11/site-packages/starlette/middleware/exceptions.py\", line 68, in __call__\n",
            "  |     await self.app(scope, receive, sender)\n",
            "  |   File \"/opt/homebrew/Caskroom/miniforge/base/lib/python3.11/site-packages/fastapi/middleware/asyncexitstack.py\", line 20, in __call__\n",
            "  |     raise e\n",
            "  |   File \"/opt/homebrew/Caskroom/miniforge/base/lib/python3.11/site-packages/fastapi/middleware/asyncexitstack.py\", line 17, in __call__\n",
            "  |     await self.app(scope, receive, send)\n",
            "  |   File \"/opt/homebrew/Caskroom/miniforge/base/lib/python3.11/site-packages/starlette/routing.py\", line 718, in __call__\n",
            "  |     await route.handle(scope, receive, send)\n",
            "  |   File \"/opt/homebrew/Caskroom/miniforge/base/lib/python3.11/site-packages/starlette/routing.py\", line 276, in handle\n",
            "  |     await self.app(scope, receive, send)\n",
            "  |   File \"/opt/homebrew/Caskroom/miniforge/base/lib/python3.11/site-packages/starlette/routing.py\", line 69, in app\n",
            "  |     await response(scope, receive, send)\n",
            "  |   File \"/opt/homebrew/Caskroom/miniforge/base/lib/python3.11/site-packages/starlette/responses.py\", line 270, in __call__\n",
            "  |     async with anyio.create_task_group() as task_group:\n",
            "  |   File \"/opt/homebrew/Caskroom/miniforge/base/lib/python3.11/site-packages/anyio/_backends/_asyncio.py\", line 678, in __aexit__\n",
            "  |     raise BaseExceptionGroup(\n",
            "  | ExceptionGroup: unhandled errors in a TaskGroup (1 sub-exception)\n",
            "  +-+---------------- 1 ----------------\n",
            "    | Traceback (most recent call last):\n",
            "    |   File \"/opt/homebrew/Caskroom/miniforge/base/lib/python3.11/site-packages/starlette/responses.py\", line 273, in wrap\n",
            "    |     await func()\n",
            "    |   File \"/opt/homebrew/Caskroom/miniforge/base/lib/python3.11/site-packages/starlette/responses.py\", line 267, in stream_response\n",
            "    |     await send({\"type\": \"http.response.body\", \"body\": b\"\", \"more_body\": False})\n",
            "    |   File \"/opt/homebrew/Caskroom/miniforge/base/lib/python3.11/site-packages/starlette/middleware/exceptions.py\", line 65, in sender\n",
            "    |     await send(message)\n",
            "    |   File \"/opt/homebrew/Caskroom/miniforge/base/lib/python3.11/site-packages/starlette/middleware/errors.py\", line 159, in _send\n",
            "    |     await send(message)\n",
            "    |   File \"/opt/homebrew/Caskroom/miniforge/base/lib/python3.11/site-packages/uvicorn/protocols/http/httptools_impl.py\", line 465, in send\n",
            "    |     raise ClientDisconnected\n",
            "    | uvicorn.protocols.utils.ClientDisconnected\n",
            "    +------------------------------------\n",
            "ERROR:    Exception in ASGI application\n",
            "  + Exception Group Traceback (most recent call last):\n",
            "  |   File \"/opt/homebrew/Caskroom/miniforge/base/lib/python3.11/site-packages/uvicorn/protocols/http/httptools_impl.py\", line 412, in run_asgi\n",
            "  |     result = await app(  # type: ignore[func-returns-value]\n",
            "  |              ^^^^^^^^^^^^^^^^^^^^^^^^^^^^^^^^^^^^^^^^^^^^^^\n",
            "  |   File \"/opt/homebrew/Caskroom/miniforge/base/lib/python3.11/site-packages/uvicorn/middleware/proxy_headers.py\", line 69, in __call__\n",
            "  |     return await self.app(scope, receive, send)\n",
            "  |            ^^^^^^^^^^^^^^^^^^^^^^^^^^^^^^^^^^^^\n",
            "  |   File \"/opt/homebrew/Caskroom/miniforge/base/lib/python3.11/site-packages/fastapi/applications.py\", line 292, in __call__\n",
            "  |     await super().__call__(scope, receive, send)\n",
            "  |   File \"/opt/homebrew/Caskroom/miniforge/base/lib/python3.11/site-packages/starlette/applications.py\", line 122, in __call__\n",
            "  |     await self.middleware_stack(scope, receive, send)\n",
            "  |   File \"/opt/homebrew/Caskroom/miniforge/base/lib/python3.11/site-packages/starlette/middleware/errors.py\", line 184, in __call__\n",
            "  |     raise exc\n",
            "  |   File \"/opt/homebrew/Caskroom/miniforge/base/lib/python3.11/site-packages/starlette/middleware/errors.py\", line 162, in __call__\n",
            "  |     await self.app(scope, receive, _send)\n",
            "  |   File \"/opt/homebrew/Caskroom/miniforge/base/lib/python3.11/site-packages/gradio/route_utils.py\", line 714, in __call__\n",
            "  |     await self.app(scope, receive, send)\n",
            "  |   File \"/opt/homebrew/Caskroom/miniforge/base/lib/python3.11/site-packages/starlette/middleware/exceptions.py\", line 79, in __call__\n",
            "  |     raise exc\n",
            "  |   File \"/opt/homebrew/Caskroom/miniforge/base/lib/python3.11/site-packages/starlette/middleware/exceptions.py\", line 68, in __call__\n",
            "  |     await self.app(scope, receive, sender)\n",
            "  |   File \"/opt/homebrew/Caskroom/miniforge/base/lib/python3.11/site-packages/fastapi/middleware/asyncexitstack.py\", line 20, in __call__\n",
            "  |     raise e\n",
            "  |   File \"/opt/homebrew/Caskroom/miniforge/base/lib/python3.11/site-packages/fastapi/middleware/asyncexitstack.py\", line 17, in __call__\n",
            "  |     await self.app(scope, receive, send)\n",
            "  |   File \"/opt/homebrew/Caskroom/miniforge/base/lib/python3.11/site-packages/starlette/routing.py\", line 718, in __call__\n",
            "  |     await route.handle(scope, receive, send)\n",
            "  |   File \"/opt/homebrew/Caskroom/miniforge/base/lib/python3.11/site-packages/starlette/routing.py\", line 276, in handle\n",
            "  |     await self.app(scope, receive, send)\n",
            "  |   File \"/opt/homebrew/Caskroom/miniforge/base/lib/python3.11/site-packages/starlette/routing.py\", line 69, in app\n",
            "  |     await response(scope, receive, send)\n",
            "  |   File \"/opt/homebrew/Caskroom/miniforge/base/lib/python3.11/site-packages/starlette/responses.py\", line 270, in __call__\n",
            "  |     async with anyio.create_task_group() as task_group:\n",
            "  |   File \"/opt/homebrew/Caskroom/miniforge/base/lib/python3.11/site-packages/anyio/_backends/_asyncio.py\", line 678, in __aexit__\n",
            "  |     raise BaseExceptionGroup(\n",
            "  | ExceptionGroup: unhandled errors in a TaskGroup (1 sub-exception)\n",
            "  +-+---------------- 1 ----------------\n",
            "    | Traceback (most recent call last):\n",
            "    |   File \"/opt/homebrew/Caskroom/miniforge/base/lib/python3.11/site-packages/starlette/responses.py\", line 273, in wrap\n",
            "    |     await func()\n",
            "    |   File \"/opt/homebrew/Caskroom/miniforge/base/lib/python3.11/site-packages/starlette/responses.py\", line 267, in stream_response\n",
            "    |     await send({\"type\": \"http.response.body\", \"body\": b\"\", \"more_body\": False})\n",
            "    |   File \"/opt/homebrew/Caskroom/miniforge/base/lib/python3.11/site-packages/starlette/middleware/exceptions.py\", line 65, in sender\n",
            "    |     await send(message)\n",
            "    |   File \"/opt/homebrew/Caskroom/miniforge/base/lib/python3.11/site-packages/starlette/middleware/errors.py\", line 159, in _send\n",
            "    |     await send(message)\n",
            "    |   File \"/opt/homebrew/Caskroom/miniforge/base/lib/python3.11/site-packages/uvicorn/protocols/http/httptools_impl.py\", line 465, in send\n",
            "    |     raise ClientDisconnected\n",
            "    | uvicorn.protocols.utils.ClientDisconnected\n",
            "    +------------------------------------\n",
            "ERROR:    Exception in ASGI application\n",
            "  + Exception Group Traceback (most recent call last):\n",
            "  |   File \"/opt/homebrew/Caskroom/miniforge/base/lib/python3.11/site-packages/uvicorn/protocols/http/httptools_impl.py\", line 412, in run_asgi\n",
            "  |     result = await app(  # type: ignore[func-returns-value]\n",
            "  |              ^^^^^^^^^^^^^^^^^^^^^^^^^^^^^^^^^^^^^^^^^^^^^^\n",
            "  |   File \"/opt/homebrew/Caskroom/miniforge/base/lib/python3.11/site-packages/uvicorn/middleware/proxy_headers.py\", line 69, in __call__\n",
            "  |     return await self.app(scope, receive, send)\n",
            "  |            ^^^^^^^^^^^^^^^^^^^^^^^^^^^^^^^^^^^^\n",
            "  |   File \"/opt/homebrew/Caskroom/miniforge/base/lib/python3.11/site-packages/fastapi/applications.py\", line 292, in __call__\n",
            "  |     await super().__call__(scope, receive, send)\n",
            "  |   File \"/opt/homebrew/Caskroom/miniforge/base/lib/python3.11/site-packages/starlette/applications.py\", line 122, in __call__\n",
            "  |     await self.middleware_stack(scope, receive, send)\n",
            "  |   File \"/opt/homebrew/Caskroom/miniforge/base/lib/python3.11/site-packages/starlette/middleware/errors.py\", line 184, in __call__\n",
            "  |     raise exc\n",
            "  |   File \"/opt/homebrew/Caskroom/miniforge/base/lib/python3.11/site-packages/starlette/middleware/errors.py\", line 162, in __call__\n",
            "  |     await self.app(scope, receive, _send)\n",
            "  |   File \"/opt/homebrew/Caskroom/miniforge/base/lib/python3.11/site-packages/gradio/route_utils.py\", line 714, in __call__\n",
            "  |     await self.app(scope, receive, send)\n",
            "  |   File \"/opt/homebrew/Caskroom/miniforge/base/lib/python3.11/site-packages/starlette/middleware/exceptions.py\", line 79, in __call__\n",
            "  |     raise exc\n",
            "  |   File \"/opt/homebrew/Caskroom/miniforge/base/lib/python3.11/site-packages/starlette/middleware/exceptions.py\", line 68, in __call__\n",
            "  |     await self.app(scope, receive, sender)\n",
            "  |   File \"/opt/homebrew/Caskroom/miniforge/base/lib/python3.11/site-packages/fastapi/middleware/asyncexitstack.py\", line 20, in __call__\n",
            "  |     raise e\n",
            "  |   File \"/opt/homebrew/Caskroom/miniforge/base/lib/python3.11/site-packages/fastapi/middleware/asyncexitstack.py\", line 17, in __call__\n",
            "  |     await self.app(scope, receive, send)\n",
            "  |   File \"/opt/homebrew/Caskroom/miniforge/base/lib/python3.11/site-packages/starlette/routing.py\", line 718, in __call__\n",
            "  |     await route.handle(scope, receive, send)\n",
            "  |   File \"/opt/homebrew/Caskroom/miniforge/base/lib/python3.11/site-packages/starlette/routing.py\", line 276, in handle\n",
            "  |     await self.app(scope, receive, send)\n",
            "  |   File \"/opt/homebrew/Caskroom/miniforge/base/lib/python3.11/site-packages/starlette/routing.py\", line 69, in app\n",
            "  |     await response(scope, receive, send)\n",
            "  |   File \"/opt/homebrew/Caskroom/miniforge/base/lib/python3.11/site-packages/starlette/responses.py\", line 270, in __call__\n",
            "  |     async with anyio.create_task_group() as task_group:\n",
            "  |   File \"/opt/homebrew/Caskroom/miniforge/base/lib/python3.11/site-packages/anyio/_backends/_asyncio.py\", line 678, in __aexit__\n",
            "  |     raise BaseExceptionGroup(\n",
            "  | ExceptionGroup: unhandled errors in a TaskGroup (1 sub-exception)\n",
            "  +-+---------------- 1 ----------------\n",
            "    | Traceback (most recent call last):\n",
            "    |   File \"/opt/homebrew/Caskroom/miniforge/base/lib/python3.11/site-packages/starlette/responses.py\", line 273, in wrap\n",
            "    |     await func()\n",
            "    |   File \"/opt/homebrew/Caskroom/miniforge/base/lib/python3.11/site-packages/starlette/responses.py\", line 267, in stream_response\n",
            "    |     await send({\"type\": \"http.response.body\", \"body\": b\"\", \"more_body\": False})\n",
            "    |   File \"/opt/homebrew/Caskroom/miniforge/base/lib/python3.11/site-packages/starlette/middleware/exceptions.py\", line 65, in sender\n",
            "    |     await send(message)\n",
            "    |   File \"/opt/homebrew/Caskroom/miniforge/base/lib/python3.11/site-packages/starlette/middleware/errors.py\", line 159, in _send\n",
            "    |     await send(message)\n",
            "    |   File \"/opt/homebrew/Caskroom/miniforge/base/lib/python3.11/site-packages/uvicorn/protocols/http/httptools_impl.py\", line 465, in send\n",
            "    |     raise ClientDisconnected\n",
            "    | uvicorn.protocols.utils.ClientDisconnected\n",
            "    +------------------------------------\n"
          ]
        },
        {
          "name": "stdout",
          "output_type": "stream",
          "text": [
            "Keyboard interruption in main thread... closing server.\n"
          ]
        },
        {
          "data": {
            "text/plain": []
          },
          "execution_count": 70,
          "metadata": {},
          "output_type": "execute_result"
        },
        {
          "name": "stderr",
          "output_type": "stream",
          "text": [
            "ERROR:    Exception in ASGI application\n",
            "  + Exception Group Traceback (most recent call last):\n",
            "  |   File \"/opt/homebrew/Caskroom/miniforge/base/lib/python3.11/site-packages/uvicorn/protocols/http/httptools_impl.py\", line 412, in run_asgi\n",
            "  |     result = await app(  # type: ignore[func-returns-value]\n",
            "  |              ^^^^^^^^^^^^^^^^^^^^^^^^^^^^^^^^^^^^^^^^^^^^^^\n",
            "  |   File \"/opt/homebrew/Caskroom/miniforge/base/lib/python3.11/site-packages/uvicorn/middleware/proxy_headers.py\", line 69, in __call__\n",
            "  |     return await self.app(scope, receive, send)\n",
            "  |            ^^^^^^^^^^^^^^^^^^^^^^^^^^^^^^^^^^^^\n",
            "  |   File \"/opt/homebrew/Caskroom/miniforge/base/lib/python3.11/site-packages/fastapi/applications.py\", line 292, in __call__\n",
            "  |     await super().__call__(scope, receive, send)\n",
            "  |   File \"/opt/homebrew/Caskroom/miniforge/base/lib/python3.11/site-packages/starlette/applications.py\", line 122, in __call__\n",
            "  |     await self.middleware_stack(scope, receive, send)\n",
            "  |   File \"/opt/homebrew/Caskroom/miniforge/base/lib/python3.11/site-packages/starlette/middleware/errors.py\", line 184, in __call__\n",
            "  |     raise exc\n",
            "  |   File \"/opt/homebrew/Caskroom/miniforge/base/lib/python3.11/site-packages/starlette/middleware/errors.py\", line 162, in __call__\n",
            "  |     await self.app(scope, receive, _send)\n",
            "  |   File \"/opt/homebrew/Caskroom/miniforge/base/lib/python3.11/site-packages/gradio/route_utils.py\", line 714, in __call__\n",
            "  |     await self.app(scope, receive, send)\n",
            "  |   File \"/opt/homebrew/Caskroom/miniforge/base/lib/python3.11/site-packages/starlette/middleware/exceptions.py\", line 79, in __call__\n",
            "  |     raise exc\n",
            "  |   File \"/opt/homebrew/Caskroom/miniforge/base/lib/python3.11/site-packages/starlette/middleware/exceptions.py\", line 68, in __call__\n",
            "  |     await self.app(scope, receive, sender)\n",
            "  |   File \"/opt/homebrew/Caskroom/miniforge/base/lib/python3.11/site-packages/fastapi/middleware/asyncexitstack.py\", line 20, in __call__\n",
            "  |     raise e\n",
            "  |   File \"/opt/homebrew/Caskroom/miniforge/base/lib/python3.11/site-packages/fastapi/middleware/asyncexitstack.py\", line 17, in __call__\n",
            "  |     await self.app(scope, receive, send)\n",
            "  |   File \"/opt/homebrew/Caskroom/miniforge/base/lib/python3.11/site-packages/starlette/routing.py\", line 718, in __call__\n",
            "  |     await route.handle(scope, receive, send)\n",
            "  |   File \"/opt/homebrew/Caskroom/miniforge/base/lib/python3.11/site-packages/starlette/routing.py\", line 276, in handle\n",
            "  |     await self.app(scope, receive, send)\n",
            "  |   File \"/opt/homebrew/Caskroom/miniforge/base/lib/python3.11/site-packages/starlette/routing.py\", line 69, in app\n",
            "  |     await response(scope, receive, send)\n",
            "  |   File \"/opt/homebrew/Caskroom/miniforge/base/lib/python3.11/site-packages/starlette/responses.py\", line 270, in __call__\n",
            "  |     async with anyio.create_task_group() as task_group:\n",
            "  |   File \"/opt/homebrew/Caskroom/miniforge/base/lib/python3.11/site-packages/anyio/_backends/_asyncio.py\", line 678, in __aexit__\n",
            "  |     raise BaseExceptionGroup(\n",
            "  | ExceptionGroup: unhandled errors in a TaskGroup (1 sub-exception)\n",
            "  +-+---------------- 1 ----------------\n",
            "    | Traceback (most recent call last):\n",
            "    |   File \"/opt/homebrew/Caskroom/miniforge/base/lib/python3.11/site-packages/starlette/responses.py\", line 273, in wrap\n",
            "    |     await func()\n",
            "    |   File \"/opt/homebrew/Caskroom/miniforge/base/lib/python3.11/site-packages/starlette/responses.py\", line 267, in stream_response\n",
            "    |     await send({\"type\": \"http.response.body\", \"body\": b\"\", \"more_body\": False})\n",
            "    |   File \"/opt/homebrew/Caskroom/miniforge/base/lib/python3.11/site-packages/starlette/middleware/exceptions.py\", line 65, in sender\n",
            "    |     await send(message)\n",
            "    |   File \"/opt/homebrew/Caskroom/miniforge/base/lib/python3.11/site-packages/starlette/middleware/errors.py\", line 159, in _send\n",
            "    |     await send(message)\n",
            "    |   File \"/opt/homebrew/Caskroom/miniforge/base/lib/python3.11/site-packages/uvicorn/protocols/http/httptools_impl.py\", line 465, in send\n",
            "    |     raise ClientDisconnected\n",
            "    | uvicorn.protocols.utils.ClientDisconnected\n",
            "    +------------------------------------\n"
          ]
        }
      ],
      "source": [
        "import gradio as gr\n",
        "\n",
        "# Downloading Sample Images to use for the Demo\n",
        "! wget -q -O my_shoe_tag.png 'https://storage.googleapis.com/github-repo/generative-ai/gemini/use-cases/rag/warranty-claim-chatbot/my-aquastride-shoe-tag.png'\n",
        "! wget -q -O damaged_shoe.png 'https://storage.googleapis.com/github-repo/generative-ai/gemini/use-cases/rag/warranty-claim-chatbot/shoe-damaged.png'\n",
        "\n",
        "# Set the Current Step that the user flow is on to zero. A diagram is referenced in the section above to help understand the flow.\n",
        "current_step = 0\n",
        "\n",
        "demo = gr.ChatInterface(\n",
        "    fn=bot,\n",
        "    examples=[\n",
        "        {\"text\": \"Hello!\", \"files\": []},\n",
        "        {\"text\": \"Here is my tag!\", \"files\": [\"my_shoe_tag.png\"]},\n",
        "        {\"text\": \"Sure! Here is my damaged shoe!\", \"files\": [\"damaged_shoe.png\"]},\n",
        "    ],\n",
        "    title=\"AquaStride Warranty Claim Bot!\",\n",
        "    multimodal=True,\n",
        "    textbox=gr.MultimodalTextbox(interactive=True, file_types=[\"image\"]),\n",
        ")\n",
        "\n",
        "demo.launch(debug=True)"
      ]
    },
    {
      "cell_type": "markdown",
      "metadata": {
        "id": "hoNcNFhCgwkb"
      },
      "source": [
        "# Clean Up\n",
        "\n",
        "Delete the Google Cloud Assets and clean up your environment:\n",
        "\n",
        "- Shut down the Gradio Instance\n",
        "- Delete the [Public Endpoint](https://cloud.google.com/python/docs/reference/aiplatform/1.20.0/google.cloud.aiplatform.MatchingEngineIndexEndpoint) / GCS Bucket / [Index](https://cloud.google.com/python/docs/reference/aiplatform/1.23.0/google.cloud.aiplatform.MatchingEngineIndex)\n",
        "- If preferred, you can do this via the console:\n",
        "  - You can navigate to [Google Cloud Vector Search](https://console.cloud.google.com/vertex-ai/matching-engine/index-endpoints) and undeploy and delete your endpoint here\n",
        "  - You can navigate to the [Google Cloud Storage Bucket](https://console.cloud.google.com/storage/browser) and delete the bucket here"
      ]
    },
    {
      "cell_type": "code",
      "execution_count": null,
      "metadata": {
        "id": "ekz_lwAalg17"
      },
      "outputs": [],
      "source": [
        "# Delete your GCS Bucket\n",
        "! gcloud alpha storage rm --recursive {rag_info[\"bucket_uri\"]}\n",
        "\n",
        "# Undeploy your Index Endpoint\n",
        "rag_info[\"my_index_endpoint\"].delete(force=True)\n",
        "\n",
        "# Delete your Index. This command will take 15-25 minutes to delete.\n",
        "rag_info[\"index\"].delete()"
      ]
    },
    {
      "cell_type": "markdown",
      "metadata": {
        "id": "5AdZWRaKB0NW"
      },
      "source": [
        "For the final step, delete your index from [the Google Cloud Vector Search UI](https://console.cloud.google.com/vertex-ai/matching-engine/indexes)."
      ]
    }
  ],
  "metadata": {
    "colab": {
      "collapsed_sections": [
        "ECB4ixV6VF0B"
      ],
      "provenance": [],
      "toc_visible": true
    },
    "environment": {
      "kernel": "python3",
      "name": "tf2-gpu.2-12.m110",
      "type": "gcloud",
      "uri": "gcr.io/deeplearning-platform-release/tf2-gpu.2-12:m110"
    },
    "kernelspec": {
      "display_name": "Python 3 (ipykernel)",
      "language": "python",
      "name": "python3"
    },
    "language_info": {
      "codemirror_mode": {
        "name": "ipython",
        "version": 3
      },
      "file_extension": ".py",
      "mimetype": "text/x-python",
      "name": "python",
      "nbconvert_exporter": "python",
      "pygments_lexer": "ipython3",
      "version": "3.11.8"
    }
  },
  "nbformat": 4,
  "nbformat_minor": 0
}
