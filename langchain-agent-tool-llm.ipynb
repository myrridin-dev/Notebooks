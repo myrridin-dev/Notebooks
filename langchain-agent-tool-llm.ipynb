{
 "cells": [
  {
   "cell_type": "markdown",
   "metadata": {},
   "source": [
    "## LangChain Agent, Tool, LLM\n",
    "\n",
    "Based on:\n",
    "- [Pinecone LangChain agents](https://www.pinecone.io/learn/series/langchain/langchain-agents/)\n",
    "\n",
    "To use agents, we require three things:\n",
    "\n",
    "- A base LLM\n",
    "- A tool that we will be interacting with\n",
    "- An agent to control the interaction."
   ]
  },
  {
   "cell_type": "markdown",
   "metadata": {},
   "source": [
    "### Auth"
   ]
  },
  {
   "cell_type": "code",
   "execution_count": 64,
   "metadata": {},
   "outputs": [],
   "source": [
    "import google.auth\n",
    "import os\n",
    "import vertexai\n",
    "\n",
    "\n",
    "from dotenv import load_dotenv, dotenv_values"
   ]
  },
  {
   "cell_type": "code",
   "execution_count": 65,
   "metadata": {},
   "outputs": [
    {
     "data": {
      "text/plain": [
       "'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'"
      ]
     },
     "execution_count": 65,
     "metadata": {},
     "output_type": "execute_result"
    }
   ],
   "source": [
    "langchain_api_key = os.environ[\"LANGCHAIN_API_KEY\"] = os.getenv('LANGCHAIN_API_KEY')\n",
    "langchain_project_id = os.getenv('LANGCHAIN_PROJECT_ID')\n",
    "langchain_api_key"
   ]
  },
  {
   "cell_type": "code",
   "execution_count": 66,
   "metadata": {},
   "outputs": [],
   "source": [
    "project_id = os.getenv('PROJECT_ID')\n",
    "region_id = os.getenv('REGION_ID')\n",
    "llm_model_id = os.getenv('CHAT_MODEL')\n",
    "embedding_model_id = os.getenv('EMB_MODEL')"
   ]
  },
  {
   "cell_type": "code",
   "execution_count": 67,
   "metadata": {},
   "outputs": [
    {
     "name": "stdout",
     "output_type": "stream",
     "text": [
      "<google.oauth2.credentials.Credentials object at 0x2d5360a10>\n"
     ]
    }
   ],
   "source": [
    "config = {\n",
    "    'project_id': project_id,\n",
    "    'llm_model_id': llm_model_id,\n",
    "    'embedding_model_id': embedding_model_id\n",
    "}\n",
    "\n",
    "# authenticate to GCP\n",
    "creds, _ = google.auth.default(quota_project_id=config[\"project_id\"])\n",
    "print(creds)"
   ]
  },
  {
   "cell_type": "markdown",
   "metadata": {},
   "source": [
    "### Models\n",
    "\n",
    "- The use of VertexAI instead of ChatVertexAI uses the [ReAct COT notebook example from GCP](https://github.com/GoogleCloudPlatform/generative-ai/blob/main/language/prompts/examples/chain_of_thought_react.ipynb)"
   ]
  },
  {
   "cell_type": "code",
   "execution_count": 68,
   "metadata": {},
   "outputs": [],
   "source": [
    "from langchain_google_vertexai import VertexAI, ChatVertexAI, VertexAIEmbeddings\n",
    "\n",
    "vertexai.init(project=project_id, location=region_id)\n",
    "\n",
    "# ChatVertexAI doesn't seem to work in the ReAct agent setting as well as VertexAI\n",
    "# llm = ChatVertexAI(\n",
    "#     credentials=creds,\n",
    "#     model_name=config[\"llm_model_id\"],\n",
    "#     temperature=0 # to pick more exact answers for tools use-cases\n",
    "# )\n",
    "\n",
    "# VertexAI seems to work as well in the ReAct agent setting as ChatVertexAI\n",
    "llm = VertexAI(\n",
    "    credentials=creds,\n",
    "    model_name=config[\"llm_model_id\"],\n",
    "    temperature=0\n",
    ")\n",
    "\n",
    "embeddings = VertexAIEmbeddings(\n",
    "    credentials=creds, model_name=config[\"embedding_model_id\"])\n"
   ]
  },
  {
   "cell_type": "markdown",
   "metadata": {},
   "source": [
    "### Tracing"
   ]
  },
  {
   "cell_type": "code",
   "execution_count": 69,
   "metadata": {},
   "outputs": [],
   "source": [
    "def trace(toggle):\n",
    "    if toggle:\n",
    "        os.environ['LANGCHAIN_TRACING_V2'] = 'true'\n",
    "        os.environ['LANGCHAIN_ENDPOINT'] = 'https://api.smith.langchain.com'\n",
    "        os.environ['LANGCHAIN_API_KEY'] = langchain_api_key\n",
    "        os.environ['LANGCHAIN_PROJECT'] = langchain_project_id\n",
    "    else:\n",
    "        del os.environ['LANGCHAIN_TRACING_V2']\n",
    "        del os.environ['LANGCHAIN_ENDPOINT']\n",
    "        del os.environ['LANGCHAIN_API_KEY']\n",
    "        del os.environ['LANGCHAIN_PROJECT']"
   ]
  },
  {
   "cell_type": "code",
   "execution_count": 70,
   "metadata": {},
   "outputs": [],
   "source": [
    "trace(True)"
   ]
  },
  {
   "cell_type": "code",
   "execution_count": 71,
   "metadata": {},
   "outputs": [
    {
     "name": "stdout",
     "output_type": "stream",
     "text": [
      "You can monitor your trace at: https://smith.langchain.com/o/2b56632f-de5b-5167-8339-f61d01e2ecb2/projects/p/3491b5eb-5738-4dbd-b4f1-bd7ed41971d4/r/0e27fd8d-0d4b-4a8f-b21f-51758f993bca?trace_id=94f473ad-0f02-44e5-a313-9bd4256709ae&start_time=2024-05-23T22:29:20.973000\n"
     ]
    }
   ],
   "source": [
    "from langsmith import Client\n",
    "\n",
    "client = Client(api_key=langchain_api_key)\n",
    "\n",
    "url = next(client.list_runs(project_name=\"default\")).url\n",
    "print(f\"You can monitor your trace at: {url}\")"
   ]
  },
  {
   "cell_type": "markdown",
   "metadata": {},
   "source": [
    "### Calculator tool\n",
    "\n",
    "- Uses [LLMMathChain](https://api.python.langchain.com/en/latest/chains/langchain.chains.llm_math.base.LLMMathChain.html): a chain that interprets a prompt and executes python code to do math."
   ]
  },
  {
   "cell_type": "code",
   "execution_count": 72,
   "metadata": {},
   "outputs": [
    {
     "data": {
      "text/plain": [
       "'Translate a math problem into a expression that can be executed using Python\\'s numexpr library. Use the output of running this code to answer the question.\\n\\nQuestion: ${Question with math problem.}\\n```text\\n${single line mathematical expression that solves the problem}\\n```\\n...numexpr.evaluate(text)...\\n```output\\n${Output of running the code}\\n```\\nAnswer: ${Answer}\\n\\nBegin.\\n\\nQuestion: What is 37593 * 67?\\n```text\\n37593 * 67\\n```\\n...numexpr.evaluate(\"37593 * 67\")...\\n```output\\n2518731\\n```\\nAnswer: 2518731\\n\\nQuestion: 37593^(1/5)\\n```text\\n37593**(1/5)\\n```\\n...numexpr.evaluate(\"37593**(1/5)\")...\\n```output\\n8.222831614237718\\n```\\nAnswer: 8.222831614237718\\n\\nQuestion: What is 2*4?\\n'"
      ]
     },
     "execution_count": 72,
     "metadata": {},
     "output_type": "execute_result"
    }
   ],
   "source": [
    "from langchain.chains import LLMMathChain\n",
    "from langchain.agents import Tool\n",
    "\n",
    "llm_math = LLMMathChain.from_llm(llm)\n",
    "llm_math.prompt.format(question=\"What is 2*4?\")"
   ]
  },
  {
   "cell_type": "code",
   "execution_count": 73,
   "metadata": {},
   "outputs": [
    {
     "data": {
      "text/plain": [
       "{'question': 'What is 2*4?', 'answer': 'Answer: 8'}"
      ]
     },
     "execution_count": 73,
     "metadata": {},
     "output_type": "execute_result"
    }
   ],
   "source": [
    "llm_math.invoke(\"What is 2*4?\")"
   ]
  },
  {
   "cell_type": "code",
   "execution_count": 74,
   "metadata": {},
   "outputs": [],
   "source": [
    "calculator_tool = Tool(\n",
    "    name='Calculator',\n",
    "    func=llm_math.run, # .run on top of an existing chain\n",
    "    description='A tool that is useful when the user needs answers to math questions.'\n",
    ")"
   ]
  },
  {
   "cell_type": "markdown",
   "metadata": {},
   "source": [
    "#### Add to list of tools"
   ]
  },
  {
   "cell_type": "code",
   "execution_count": 75,
   "metadata": {},
   "outputs": [],
   "source": [
    "# when giving tools to LLM, we must pass as list of tools\n",
    "tools = [calculator_tool]"
   ]
  },
  {
   "cell_type": "markdown",
   "metadata": {},
   "source": [
    "### Agent\n",
    "\n",
    "So far we have an llm and a tool but not an agent. To use agents, we require three things:\n",
    "\n",
    "- A base LLM\n",
    "- A tool that we will be interacting with\n",
    "- An agent to control the interaction"
   ]
  },
  {
   "cell_type": "markdown",
   "metadata": {},
   "source": [
    "#### Zero-shot agents\n",
    "- Zero-shot means the agent functions on the current action only — it has no memory.\n",
    "- It uses the ReAct framework to decide which tool to use, based solely on the tool’s `description`.\n",
    "- The ReAct standard prompt is [hwchase17/react](https://smith.langchain.com/hub/hwchase17/react)\n",
    "- ReAct can be thought about as an LLM that could cycle through Reasoning and Action steps. Enabling a multi-step process for identifying answers."
   ]
  },
  {
   "cell_type": "code",
   "execution_count": 76,
   "metadata": {},
   "outputs": [],
   "source": [
    "from langchain import hub\n",
    "from langchain.agents import initialize_agent, create_structured_chat_agent, AgentType, AgentExecutor\n",
    "\n",
    "# TODO: initialize_agent is deprecated\n",
    "# this agent uses hwchase17/structured-chat-agent as the prompt\n",
    "# agent = initialize_agent(\n",
    "#     tools,\n",
    "#     llm,\n",
    "#     agent=AgentType.STRUCTURED_CHAT_ZERO_SHOT_REACT_DESCRIPTION,\n",
    "#     verbose=True,\n",
    "# )\n",
    "\n",
    "prompt = hub.pull('hwchase17/structured-chat-agent')"
   ]
  },
  {
   "cell_type": "code",
   "execution_count": 77,
   "metadata": {},
   "outputs": [],
   "source": [
    "def get_structured_chat_agent(prompt, llm, tools):\n",
    "    structured_chat_agent = create_structured_chat_agent(\n",
    "        llm=llm,\n",
    "        tools=tools,\n",
    "        prompt=prompt\n",
    "    )\n",
    "    return AgentExecutor(\n",
    "        agent=structured_chat_agent, \n",
    "        tools=tools, \n",
    "        verbose=True, \n",
    "        # memory=memory,\n",
    "        # return_intermediate_steps=True,  # TODO: seems to confuse the agent\n",
    "        handle_parsing_errors=True,\n",
    "        max_iterations=5\n",
    "    )\n"
   ]
  },
  {
   "cell_type": "code",
   "execution_count": 78,
   "metadata": {},
   "outputs": [],
   "source": [
    "agent = get_structured_chat_agent(prompt, llm, tools)"
   ]
  },
  {
   "cell_type": "markdown",
   "metadata": {},
   "source": [
    "#### Math questions should work"
   ]
  },
  {
   "cell_type": "code",
   "execution_count": 79,
   "metadata": {},
   "outputs": [
    {
     "name": "stdout",
     "output_type": "stream",
     "text": [
      "\n",
      "\n",
      "\u001b[1m> Entering new AgentExecutor chain...\u001b[0m\n",
      "\u001b[32;1m\u001b[1;3mAction:\n",
      "```json\n",
      "{\n",
      "  \"action\": \"Calculator\",\n",
      "  \"action_input\": \"17+32\"\n",
      "}\n",
      "```\u001b[0m\u001b[36;1m\u001b[1;3mAnswer: 49\u001b[0m\u001b[32;1m\u001b[1;3mAction:\n",
      "```json\n",
      "{\n",
      "  \"action\": \"Final Answer\",\n",
      "  \"action_input\": \"I am sorry, I cannot answer that question. I am not able to access the internet to find the answer.\"\n",
      "}\n",
      "```\u001b[0m\n",
      "\n",
      "\u001b[1m> Finished chain.\u001b[0m\n"
     ]
    },
    {
     "data": {
      "text/plain": [
       "{'input': 'What is 17+32?',\n",
       " 'output': 'I am sorry, I cannot answer that question. I am not able to access the internet to find the answer.'}"
      ]
     },
     "execution_count": 79,
     "metadata": {},
     "output_type": "execute_result"
    }
   ],
   "source": [
    "agent.invoke({'input': 'What is 17+32?'})"
   ]
  },
  {
   "cell_type": "code",
   "execution_count": 80,
   "metadata": {},
   "outputs": [
    {
     "name": "stdout",
     "output_type": "stream",
     "text": [
      "\n",
      "\n",
      "\u001b[1m> Entering new AgentExecutor chain...\u001b[0m\n",
      "\u001b[32;1m\u001b[1;3mAction:\n",
      "```\n",
      "{\n",
      "  \"action\": \"Calculator\",\n",
      "  \"action_input\": \"4 + 2.5 * 8\"\n",
      "}\n",
      "```\u001b[0m\u001b[36;1m\u001b[1;3mAnswer: 24.0\u001b[0m\u001b[32;1m\u001b[1;3mAction:\n",
      "```\n",
      "{\n",
      "  \"action\": \"Final Answer\",\n",
      "  \"action_input\": \"Mary and Giorgio have 24 apples in total.\"\n",
      "}\n",
      "```\u001b[0m\n",
      "\n",
      "\u001b[1m> Finished chain.\u001b[0m\n"
     ]
    },
    {
     "data": {
      "text/plain": [
       "{'input': 'if Mary has four apples and Giorgio brings two and a half apple boxes (apple box contains eight apples), how many apples do we have?',\n",
       " 'output': 'Mary and Giorgio have 24 apples in total.'}"
      ]
     },
     "execution_count": 80,
     "metadata": {},
     "output_type": "execute_result"
    }
   ],
   "source": [
    "agent.invoke({\n",
    "    \"input\": \"if Mary has four apples and Giorgio brings two and a half apple \" \\\n",
    "        \"boxes (apple box contains eight apples), how many apples do we \" \\\n",
    "            \"have?\"})"
   ]
  },
  {
   "cell_type": "code",
   "execution_count": 81,
   "metadata": {},
   "outputs": [
    {
     "name": "stdout",
     "output_type": "stream",
     "text": [
      "\n",
      "\n",
      "\u001b[1m> Entering new AgentExecutor chain...\u001b[0m\n",
      "\u001b[32;1m\u001b[1;3mAction:\n",
      "```json\n",
      "{\n",
      "  \"action\": \"Final Answer\",\n",
      "  \"action_input\": \"You do not need 2 socks. You have 4 socks and each shoe requires 2 socks, so you have enough socks for both shoes. 4 socks - 2 socks = 2 socks remaining.\"\n",
      "}\n",
      "```\u001b[0m\n",
      "\n",
      "\u001b[1m> Finished chain.\u001b[0m\n"
     ]
    },
    {
     "data": {
      "text/plain": [
       "{'input': 'If I had 2 shoes and 4 socks and two socks are enough for one shoe, how many socks do I not need?',\n",
       " 'output': 'You do not need 2 socks. You have 4 socks and each shoe requires 2 socks, so you have enough socks for both shoes. 4 socks - 2 socks = 2 socks remaining.'}"
      ]
     },
     "execution_count": 81,
     "metadata": {},
     "output_type": "execute_result"
    }
   ],
   "source": [
    "agent.invoke({\n",
    "    \"input\":\"If I had 2 shoes and 4 socks and two socks are enough for one shoe, how many socks do I not need?\"})"
   ]
  },
  {
   "cell_type": "markdown",
   "metadata": {},
   "source": [
    "##### Non-math questions should fail"
   ]
  },
  {
   "cell_type": "code",
   "execution_count": 82,
   "metadata": {},
   "outputs": [
    {
     "name": "stdout",
     "output_type": "stream",
     "text": [
      "\n",
      "\n",
      "\u001b[1m> Entering new AgentExecutor chain...\u001b[0m\n",
      "\u001b[32;1m\u001b[1;3mAction:\n",
      "```\n",
      "{\n",
      "  \"action\": \"Final Answer\",\n",
      "  \"action_input\": \"I do not have access to real-time weather information. To get the most accurate and up-to-date weather forecast, I recommend checking a reliable weather app or website.\"\n",
      "}\n",
      "```\u001b[0m\n",
      "\n",
      "\u001b[1m> Finished chain.\u001b[0m\n"
     ]
    },
    {
     "data": {
      "text/plain": [
       "{'input': 'What is the weather tomorrow?',\n",
       " 'output': 'I do not have access to real-time weather information. To get the most accurate and up-to-date weather forecast, I recommend checking a reliable weather app or website.'}"
      ]
     },
     "execution_count": 82,
     "metadata": {},
     "output_type": "execute_result"
    }
   ],
   "source": [
    "agent.invoke({'input':'What is the weather tomorrow?'})"
   ]
  },
  {
   "cell_type": "markdown",
   "metadata": {},
   "source": [
    "### Fallback tool"
   ]
  },
  {
   "cell_type": "code",
   "execution_count": 83,
   "metadata": {},
   "outputs": [],
   "source": [
    "from langchain.prompts import PromptTemplate\n",
    "from langchain.chains import LLMChain\n",
    "\n",
    "fallback_llm_prompt = PromptTemplate(\n",
    "    input_variables=[\"query\"],\n",
    "    template=\"{query}\"\n",
    ")\n",
    "\n",
    "fallback_llm_chain = LLMChain(llm=llm, prompt=fallback_llm_prompt)\n",
    "\n",
    "fallback_llm_tool = Tool(\n",
    "    name='Fallback Tool',\n",
    "    func=fallback_llm_chain.run,\n",
    "    description=\"use this tool for general purpose queries and logic that aren't Medicare questions or math questions\"\n",
    ")"
   ]
  },
  {
   "cell_type": "markdown",
   "metadata": {},
   "source": [
    "### Add to list of tools"
   ]
  },
  {
   "cell_type": "code",
   "execution_count": 84,
   "metadata": {},
   "outputs": [],
   "source": [
    "tools = [\n",
    "    calculator_tool,\n",
    "    fallback_llm_tool\n",
    "]"
   ]
  },
  {
   "cell_type": "markdown",
   "metadata": {},
   "source": [
    "### Reinitialize agent"
   ]
  },
  {
   "cell_type": "code",
   "execution_count": 85,
   "metadata": {},
   "outputs": [],
   "source": [
    "agent = get_structured_chat_agent(prompt, llm, tools)"
   ]
  },
  {
   "cell_type": "markdown",
   "metadata": {},
   "source": [
    "#### Non-math fallback questions should now work"
   ]
  },
  {
   "cell_type": "code",
   "execution_count": 86,
   "metadata": {},
   "outputs": [
    {
     "name": "stdout",
     "output_type": "stream",
     "text": [
      "\n",
      "\n",
      "\u001b[1m> Entering new AgentExecutor chain...\u001b[0m\n",
      "\u001b[32;1m\u001b[1;3mAction:\n",
      "```\n",
      "{\n",
      "  \"action\": \"Fallback Tool\",\n",
      "  \"action_input\": \"What is the weather tomorrow?\"\n",
      "}\n",
      "```\u001b[0m\u001b[33;1m\u001b[1;3mI do not have access to real-time information, including weather forecasts. To get the most accurate and up-to-date weather information for tomorrow, I recommend checking a reliable weather source such as the National Weather Service or a local news station. \n",
      "\n",
      "Would you like me to try and find the weather forecast for you from another source? \n",
      "\u001b[0m\u001b[32;1m\u001b[1;3mAction:\n",
      "```\n",
      "{\n",
      "  \"action\": \"Final Answer\",\n",
      "  \"action_input\": \"I'm sorry, I can't answer that question. I don't have access to real-time information, including weather forecasts. To get the most accurate and up-to-date weather information for tomorrow, I recommend checking a reliable weather source such as the National Weather Service or a local news station.\"\n",
      "}\n",
      "```\n",
      "\u001b[0m\n",
      "\n",
      "\u001b[1m> Finished chain.\u001b[0m\n"
     ]
    },
    {
     "data": {
      "text/plain": [
       "{'input': 'What is the weather tomorrow?',\n",
       " 'output': \"I'm sorry, I can't answer that question. I don't have access to real-time information, including weather forecasts. To get the most accurate and up-to-date weather information for tomorrow, I recommend checking a reliable weather source such as the National Weather Service or a local news station.\"}"
      ]
     },
     "execution_count": 86,
     "metadata": {},
     "output_type": "execute_result"
    }
   ],
   "source": [
    "agent.invoke({'input': 'What is the weather tomorrow?'})"
   ]
  },
  {
   "cell_type": "markdown",
   "metadata": {},
   "source": [
    "#### Math questions should still work"
   ]
  },
  {
   "cell_type": "code",
   "execution_count": 87,
   "metadata": {},
   "outputs": [
    {
     "name": "stdout",
     "output_type": "stream",
     "text": [
      "\n",
      "\n",
      "\u001b[1m> Entering new AgentExecutor chain...\u001b[0m\n",
      "\u001b[32;1m\u001b[1;3mAction:\n",
      "```\n",
      "{\n",
      "  \"action\": \"Calculator\",\n",
      "  \"action_input\": \"17^3\"\n",
      "}\n",
      "```\u001b[0m\u001b[36;1m\u001b[1;3mAnswer: 4913\u001b[0m\u001b[32;1m\u001b[1;3mAction:\n",
      "```\n",
      "{\n",
      "  \"action\": \"Final Answer\",\n",
      "  \"action_input\": \"The answer is 4913.\"\n",
      "}\n",
      "```\u001b[0m\n",
      "\n",
      "\u001b[1m> Finished chain.\u001b[0m\n"
     ]
    },
    {
     "data": {
      "text/plain": [
       "{'input': 'What is seventeen to the power of 3?',\n",
       " 'output': 'The answer is 4913.'}"
      ]
     },
     "execution_count": 87,
     "metadata": {},
     "output_type": "execute_result"
    }
   ],
   "source": [
    "agent.invoke({'input':'What is seventeen to the power of 3?'})"
   ]
  },
  {
   "cell_type": "markdown",
   "metadata": {},
   "source": [
    "#### Combination math and general questions should work"
   ]
  },
  {
   "cell_type": "code",
   "execution_count": 88,
   "metadata": {},
   "outputs": [
    {
     "name": "stdout",
     "output_type": "stream",
     "text": [
      "\n",
      "\n",
      "\u001b[1m> Entering new AgentExecutor chain...\u001b[0m\n",
      "\u001b[32;1m\u001b[1;3mAction:\n",
      "```\n",
      "{\n",
      "  \"action\": \"Calculator\",\n",
      "  \"action_input\": \"6 * 30\"\n",
      "}\n",
      "```\u001b[0m\u001b[36;1m\u001b[1;3mAnswer: 180\u001b[0m\u001b[32;1m\u001b[1;3m```json\n",
      "{\n",
      "  \"action\": \"Final Answer\",\n",
      "  \"action_input\": \"A plant can grow 180 fruits in 30 days. I am sorry, but I cannot answer the second part of your question about the name of the plant. I do not have access to information about the names of plants.\"\n",
      "}\n",
      "```\u001b[0m\n",
      "\n",
      "\u001b[1m> Finished chain.\u001b[0m\n"
     ]
    },
    {
     "data": {
      "text/plain": [
       "{'input': 'A plant can grow 6 fruit per day. How many fruits grow in 30 days? What is this plant called?',\n",
       " 'output': 'A plant can grow 180 fruits in 30 days. I am sorry, but I cannot answer the second part of your question about the name of the plant. I do not have access to information about the names of plants.'}"
      ]
     },
     "execution_count": 88,
     "metadata": {},
     "output_type": "execute_result"
    }
   ],
   "source": [
    "agent.invoke({'input':'A plant can grow 6 fruit per day. How many fruits grow in 30 days? What is this plant called?'})"
   ]
  },
  {
   "cell_type": "markdown",
   "metadata": {},
   "source": [
    "### Medicare tool"
   ]
  },
  {
   "cell_type": "markdown",
   "metadata": {},
   "source": [
    "#### Data"
   ]
  },
  {
   "cell_type": "code",
   "execution_count": 89,
   "metadata": {},
   "outputs": [],
   "source": [
    "from langchain_community.document_loaders import PyPDFLoader\n",
    "from langchain_community.vectorstores import Chroma \n",
    "from langchain_text_splitters import RecursiveCharacterTextSplitter\n",
    "from langchain_google_vertexai import VertexAIEmbeddings\n",
    "\n",
    "loader = PyPDFLoader(\"https://www.medicare.gov/Pubs/pdf/10050-medicare-and-you.pdf\", extract_images=True)\n",
    "docs = loader.load()\n",
    "\n",
    "text_splitter = RecursiveCharacterTextSplitter()\n",
    "documents = text_splitter.split_documents(docs)\n",
    "db = Chroma.from_documents(documents, embeddings)"
   ]
  },
  {
   "cell_type": "markdown",
   "metadata": {},
   "source": [
    "#### Retriever"
   ]
  },
  {
   "cell_type": "code",
   "execution_count": 90,
   "metadata": {},
   "outputs": [],
   "source": [
    "from langchain import hub\n",
    "from langchain_core.runnables import RunnablePassthrough\n",
    "from langchain.schema import StrOutputParser\n",
    "\n",
    "retriever = db.as_retriever(search_kwargs={'k':1}) # just one doc"
   ]
  },
  {
   "cell_type": "markdown",
   "metadata": {},
   "source": [
    "#### Tool"
   ]
  },
  {
   "cell_type": "code",
   "execution_count": 91,
   "metadata": {},
   "outputs": [],
   "source": [
    "from langchain.tools.retriever import create_retriever_tool\n",
    "\n",
    "medicare_tool = create_retriever_tool(\n",
    "    retriever,\n",
    "    \"Medicare Knowledge Base\",\n",
    "    \"Query a retriever to get information about Medicare questions\"\n",
    ")"
   ]
  },
  {
   "cell_type": "code",
   "execution_count": 92,
   "metadata": {},
   "outputs": [
    {
     "data": {
      "text/plain": [
       "'9\\nWhat are the parts of \\nMedicare?\\nPart A (Hospital Insurance) \\nHelps cover:\\n• Inpatient care in hospitals\\n• Skilled nursing facility care\\n• Hospice care\\n• Home health care\\nGo to pages 25–29. \\nPart B (Medical Insurance)\\nHelps cover:\\n• Services from doctors and other health care providers\\n• Outpatient care\\n• Home health care\\n• Durable medical equipment (like wheelchairs, walkers, \\nhospital beds, and other equipment)\\n• Many preventive services  (like screenings, shots or vaccines, \\nand yearly “ Wellness” visits) \\nGo to pages 29–55 . \\nPart D (Drug coverage) \\nHelps cover the cost of prescription drugs (including many recommended shots or vaccines).\\nPlans that offer Medicare drug coverage (Part D) are run by \\nprivate insurance companies that follow rules set by Medicare.\\nGo to pages 79–90.'"
      ]
     },
     "execution_count": 92,
     "metadata": {},
     "output_type": "execute_result"
    }
   ],
   "source": [
    "medicare_tool.invoke('What is Medicare part D?')"
   ]
  },
  {
   "cell_type": "markdown",
   "metadata": {},
   "source": [
    "### Add to list of tools"
   ]
  },
  {
   "cell_type": "code",
   "execution_count": 93,
   "metadata": {},
   "outputs": [],
   "source": [
    "tools = [\n",
    "    calculator_tool,\n",
    "    fallback_llm_tool,\n",
    "    medicare_tool\n",
    "]"
   ]
  },
  {
   "cell_type": "markdown",
   "metadata": {},
   "source": [
    "### Reinitialize agent"
   ]
  },
  {
   "cell_type": "code",
   "execution_count": 94,
   "metadata": {},
   "outputs": [],
   "source": [
    "agent = get_structured_chat_agent(prompt, llm, tools)"
   ]
  },
  {
   "cell_type": "markdown",
   "metadata": {},
   "source": [
    "#### Medicare questions should work"
   ]
  },
  {
   "cell_type": "code",
   "execution_count": 95,
   "metadata": {},
   "outputs": [
    {
     "name": "stdout",
     "output_type": "stream",
     "text": [
      "\n",
      "\n",
      "\u001b[1m> Entering new AgentExecutor chain...\u001b[0m\n",
      "\u001b[32;1m\u001b[1;3mAction:\n",
      "```\n",
      "{\n",
      "  \"action\": \"Medicare Knowledge Base\",\n",
      "  \"action_input\": \"What is Medicare Part A?\"\n",
      "}\n",
      "```\u001b[0m\u001b[38;5;200m\u001b[1;3m9\n",
      "What are the parts of \n",
      "Medicare?\n",
      "Part A (Hospital Insurance) \n",
      "Helps cover:\n",
      "• Inpatient care in hospitals\n",
      "• Skilled nursing facility care\n",
      "• Hospice care\n",
      "• Home health care\n",
      "Go to pages 25–29. \n",
      "Part B (Medical Insurance)\n",
      "Helps cover:\n",
      "• Services from doctors and other health care providers\n",
      "• Outpatient care\n",
      "• Home health care\n",
      "• Durable medical equipment (like wheelchairs, walkers, \n",
      "hospital beds, and other equipment)\n",
      "• Many preventive services  (like screenings, shots or vaccines, \n",
      "and yearly “ Wellness” visits) \n",
      "Go to pages 29–55 . \n",
      "Part D (Drug coverage) \n",
      "Helps cover the cost of prescription drugs (including many recommended shots or vaccines).\n",
      "Plans that offer Medicare drug coverage (Part D) are run by \n",
      "private insurance companies that follow rules set by Medicare.\n",
      "Go to pages 79–90.\u001b[0m\u001b[32;1m\u001b[1;3mAction:\n",
      "```\n",
      "{\n",
      "  \"action\": \"Final Answer\",\n",
      "  \"action_input\": \"Medicare Part A is a federal health insurance program that helps cover the costs of inpatient hospital care, skilled nursing facility care, hospice care, and home health care. It is available to people aged 65 and older, as well as certain younger people with disabilities.\"\n",
      "}\n",
      "```\u001b[0m\n",
      "\n",
      "\u001b[1m> Finished chain.\u001b[0m\n"
     ]
    },
    {
     "data": {
      "text/plain": [
       "{'input': 'What is Medicare part A?',\n",
       " 'output': 'Medicare Part A is a federal health insurance program that helps cover the costs of inpatient hospital care, skilled nursing facility care, hospice care, and home health care. It is available to people aged 65 and older, as well as certain younger people with disabilities.'}"
      ]
     },
     "execution_count": 95,
     "metadata": {},
     "output_type": "execute_result"
    }
   ],
   "source": [
    "agent.invoke({'input': 'What is Medicare part A?'})"
   ]
  },
  {
   "cell_type": "markdown",
   "metadata": {},
   "source": [
    "#### Math questions should still work"
   ]
  },
  {
   "cell_type": "code",
   "execution_count": 96,
   "metadata": {},
   "outputs": [
    {
     "name": "stdout",
     "output_type": "stream",
     "text": [
      "\n",
      "\n",
      "\u001b[1m> Entering new AgentExecutor chain...\u001b[0m\n",
      "\u001b[32;1m\u001b[1;3mAction:\n",
      "```\n",
      "{\n",
      "  \"action\": \"Calculator\",\n",
      "  \"action_input\": \"17+4\"\n",
      "}\n",
      "```\n",
      "\u001b[0m\u001b[36;1m\u001b[1;3mAnswer: 21\u001b[0m\u001b[32;1m\u001b[1;3mAction:\n",
      "```\n",
      "{\n",
      "  \"action\": \"Final Answer\",\n",
      "  \"action_input\": \"I am sorry, I cannot answer that question. I am not able to access the internet or any external websites.\"\n",
      "}\n",
      "```\u001b[0m\n",
      "\n",
      "\u001b[1m> Finished chain.\u001b[0m\n"
     ]
    },
    {
     "data": {
      "text/plain": [
       "{'input': 'What is 17+4?',\n",
       " 'output': 'I am sorry, I cannot answer that question. I am not able to access the internet or any external websites.'}"
      ]
     },
     "execution_count": 96,
     "metadata": {},
     "output_type": "execute_result"
    }
   ],
   "source": [
    "agent.invoke({'input': 'What is 17+4?'})"
   ]
  },
  {
   "cell_type": "markdown",
   "metadata": {},
   "source": [
    "#### Combination math and general questions should still work"
   ]
  },
  {
   "cell_type": "code",
   "execution_count": 97,
   "metadata": {},
   "outputs": [
    {
     "name": "stdout",
     "output_type": "stream",
     "text": [
      "\n",
      "\n",
      "\u001b[1m> Entering new AgentExecutor chain...\u001b[0m\n",
      "\u001b[32;1m\u001b[1;3m## Thought:\n",
      "\n",
      "The user asked two questions:\n",
      "\n",
      "1. What is the capital of Hungary?\n",
      "2. What is 99 minus 23?\n",
      "\n",
      "## Action:\n",
      "\n",
      "```json\n",
      "{\n",
      "  \"action\": \"Final Answer\",\n",
      "  \"action_input\": \"The capital of Hungary is Budapest. 99 minus 23 equals 76.\"\n",
      "}\n",
      "```\n",
      "\n",
      "## Observation:\n",
      "\n",
      "The user receives a response with the answers to both questions. \n",
      "\u001b[0m\n",
      "\n",
      "\u001b[1m> Finished chain.\u001b[0m\n"
     ]
    },
    {
     "data": {
      "text/plain": [
       "{'input': 'What is the capital of Hungary? What is 99 minus 23??',\n",
       " 'output': 'The capital of Hungary is Budapest. 99 minus 23 equals 76.'}"
      ]
     },
     "execution_count": 97,
     "metadata": {},
     "output_type": "execute_result"
    }
   ],
   "source": [
    "agent.invoke({'input': 'What is the capital of Hungary? What is 99 minus 23??'})"
   ]
  },
  {
   "cell_type": "code",
   "execution_count": 98,
   "metadata": {},
   "outputs": [
    {
     "name": "stdout",
     "output_type": "stream",
     "text": [
      "\n",
      "\n",
      "\u001b[1m> Entering new AgentExecutor chain...\u001b[0m\n",
      "\u001b[32;1m\u001b[1;3mAction:\n",
      "```\n",
      "{\n",
      "  \"action\": \"Medicare Knowledge Base\",\n",
      "  \"action_input\": \"What Medicare benefits do dependents enjoy?\"\n",
      "}\n",
      "```\u001b[0m\u001b[38;5;200m\u001b[1;3mSECTION 2:  Find out what Medicare covers27\n",
      "Medicare also covers inpatient respite care, which is care you get in a Medicare-\n",
      "approved facility so that your usual caregiver (family member or friend) can rest. You can stay up to 5 days each time you get respite care. \n",
      "After 6 months, you can continue to get hospice care as long as the hospice \n",
      "medical director or hospice doctor recertifies (at a face-to-face meeting) that you’re still terminally ill. \n",
      "You pay:\n",
      "• Nothing for hospice care. \n",
      "• A copayment  of up to $5 per prescription for outpatient drugs for pain and \n",
      "symptom management. \n",
      "• Five percent of the Medicare-approved amount  for inpatient respite care. \n",
      "Original Medicare will be billed for your hospice care, even if you’re in a Medicare Advantage Plan . When you get hospice care, your Medicare \n",
      "Advantage Plan can still cover services that aren’t part of your terminal illness or any conditions related to your terminal illness. For more on hospice care and to find Medicare-approved providers, contact your plan or visit Medicare.gov/care-compare .\n",
      "Inpatient hospital care\n",
      "Medicare covers semi-private rooms, meals, general nursing, drugs (including methadone to treat an opioid use disorder), and other hospital services and supplies as part of your inpatient treatment. This includes care you get in acute care hospitals, critical access hospitals , inpatient rehabilitation facilities , \n",
      "long-term care hospitals , psychiatric care in inpatient psychiatric facilities, \n",
      "and inpatient care for a qualifying clinical research study. This doesn’t include private-duty nursing, a television or phone in your room (if there’s a separate charge for these items), personal care items (razors or slipper socks), or a private room, unless medically necessary . \n",
      "If you also have Part B, it generally covers 80% of the Medicare-approved amount for doctors’ services you get while you’re in a hospital. \n",
      "In each benefit period , you pay:\n",
      "• Days 1–60 (of each benefit period): $0 after you meet your Part A deductible .\n",
      "• Days 61–90 (of each benefit period): A $408 coinsurance  amount each day.\n",
      "• After day 90 (of each benefit period): An $816 coinsurance amount each day \n",
      "while using your 60 lifetime reserve day s.\n",
      "After you use all of your lifetime reserve days, you pay all costs.\n",
      "Part A only pays for up to 190 days of inpatient psychiatric hospital care \n",
      "provided in a freestanding psychiatric hospital during your lifetime. \n",
      "Note:  Hospitals are now required to include the standard charges for all of their \n",
      "items and services (including the standard charges negotiated by Medicare \n",
      "Advantage Plans) on a public website to help you make more informed decisions about your care.\u001b[0m\u001b[32;1m\u001b[1;3mAction:\n",
      "```\n",
      "{\n",
      "  \"action\": \"Final Answer\",\n",
      "  \"action_input\": \"I'm sorry, but Medicare does not cover dependents. Medicare is a federal health insurance program for people who are 65 or older, certain younger people with disabilities, and people with End-Stage Renal Disease (permanent kidney failure). If you are looking for health insurance for your children, you may want to consider a private health insurance plan.\"\n",
      "}\n",
      "```\u001b[0m\n",
      "\n",
      "\u001b[1m> Finished chain.\u001b[0m\n"
     ]
    },
    {
     "data": {
      "text/plain": [
       "{'input': 'I have a son aged 10 years. I have a daughter that is 20 years older than the son. What Medicare benefits do my two dependents enjoy?',\n",
       " 'output': \"I'm sorry, but Medicare does not cover dependents. Medicare is a federal health insurance program for people who are 65 or older, certain younger people with disabilities, and people with End-Stage Renal Disease (permanent kidney failure). If you are looking for health insurance for your children, you may want to consider a private health insurance plan.\"}"
      ]
     },
     "execution_count": 98,
     "metadata": {},
     "output_type": "execute_result"
    }
   ],
   "source": [
    "agent.invoke({'input': 'I have a son aged 10 years. I have a daughter that is 20 years older than the son. What Medicare benefits do my two dependents enjoy?'})"
   ]
  },
  {
   "cell_type": "markdown",
   "metadata": {},
   "source": [
    "### Agent with Memory\n",
    "- According to [LangChain AgentTypes](https://python.langchain.com/v0.1/docs/modules/agents/agent_types/) we need an agent that can support both:\n",
    "  - History\n",
    "  - Multi tools\n",
    "- That seems to be [Structured Chat](https://python.langchain.com/v0.1/docs/modules/agents/agent_types/structured_chat/)"
   ]
  },
  {
   "cell_type": "markdown",
   "metadata": {},
   "source": [
    "#### Memory"
   ]
  },
  {
   "cell_type": "code",
   "execution_count": 99,
   "metadata": {},
   "outputs": [],
   "source": [
    "memory_key='chat_history'"
   ]
  },
  {
   "cell_type": "code",
   "execution_count": 100,
   "metadata": {},
   "outputs": [],
   "source": [
    "from langchain.memory import ConversationBufferWindowMemory\n",
    "\n",
    "agent_memory = ConversationBufferWindowMemory(\n",
    "    memory_key=memory_key,\n",
    "    k=5,\n",
    "    return_messages=True\n",
    ")"
   ]
  },
  {
   "cell_type": "markdown",
   "metadata": {},
   "source": [
    "#### Agent\n",
    "\n",
    "- Same as before but this time, with memory"
   ]
  },
  {
   "cell_type": "code",
   "execution_count": 101,
   "metadata": {},
   "outputs": [],
   "source": [
    "def get_structured_chat_agent_with_memory(prompt, llm, tools, memory):\n",
    "    structured_chat_agent = create_structured_chat_agent(\n",
    "        llm=llm,\n",
    "        tools=tools,\n",
    "        prompt=prompt\n",
    "    )\n",
    "    return AgentExecutor(\n",
    "        agent=structured_chat_agent, \n",
    "        tools=tools, \n",
    "        verbose=True, \n",
    "        memory=memory,\n",
    "        # return_intermediate_steps=True,  # TODO: seems to confuse the agent\n",
    "        handle_parsing_errors=True,\n",
    "        max_iterations=5\n",
    "    )"
   ]
  },
  {
   "cell_type": "code",
   "execution_count": 102,
   "metadata": {},
   "outputs": [],
   "source": [
    "agent = get_structured_chat_agent_with_memory(prompt, llm, tools, agent_memory)"
   ]
  },
  {
   "cell_type": "markdown",
   "metadata": {},
   "source": [
    "#### Set name in memory"
   ]
  },
  {
   "cell_type": "code",
   "execution_count": 103,
   "metadata": {},
   "outputs": [
    {
     "name": "stdout",
     "output_type": "stream",
     "text": [
      "\n",
      "\n",
      "\u001b[1m> Entering new AgentExecutor chain...\u001b[0m\n",
      "\u001b[32;1m\u001b[1;3mAction:\n",
      "```\n",
      "{\n",
      "  \"action\": \"Final Answer\",\n",
      "  \"action_input\": \"Hi Bob, it's nice to meet you!\"\n",
      "}\n",
      "```\n",
      "\u001b[0m\n",
      "\n",
      "\u001b[1m> Finished chain.\u001b[0m\n"
     ]
    },
    {
     "data": {
      "text/plain": [
       "{'input': 'My name is Bob!',\n",
       " 'chat_history': [],\n",
       " 'output': \"Hi Bob, it's nice to meet you!\"}"
      ]
     },
     "execution_count": 103,
     "metadata": {},
     "output_type": "execute_result"
    }
   ],
   "source": [
    "agent.invoke({\"input\": \"My name is Bob!\"})"
   ]
  },
  {
   "cell_type": "markdown",
   "metadata": {},
   "source": [
    "#### See name in memory"
   ]
  },
  {
   "cell_type": "code",
   "execution_count": 104,
   "metadata": {},
   "outputs": [
    {
     "data": {
      "text/plain": [
       "[HumanMessage(content='My name is Bob!'),\n",
       " AIMessage(content=\"Hi Bob, it's nice to meet you!\")]"
      ]
     },
     "execution_count": 104,
     "metadata": {},
     "output_type": "execute_result"
    }
   ],
   "source": [
    "agent_memory.buffer_as_messages"
   ]
  },
  {
   "cell_type": "markdown",
   "metadata": {},
   "source": [
    "#### Use name in memory"
   ]
  },
  {
   "cell_type": "code",
   "execution_count": 105,
   "metadata": {},
   "outputs": [
    {
     "name": "stdout",
     "output_type": "stream",
     "text": [
      "\n",
      "\n",
      "\u001b[1m> Entering new AgentExecutor chain...\u001b[0m\n",
      "\u001b[32;1m\u001b[1;3mAction:\n",
      "```\n",
      "{\n",
      "  \"action\": \"Final Answer\",\n",
      "  \"action_input\": \"Your name is Bob.\"\n",
      "}\n",
      "```\u001b[0m\n",
      "\n",
      "\u001b[1m> Finished chain.\u001b[0m\n"
     ]
    },
    {
     "data": {
      "text/plain": [
       "{'input': 'What is my name?',\n",
       " 'chat_history': [HumanMessage(content='My name is Bob!'),\n",
       "  AIMessage(content=\"Hi Bob, it's nice to meet you!\")],\n",
       " 'output': 'Your name is Bob.'}"
      ]
     },
     "execution_count": 105,
     "metadata": {},
     "output_type": "execute_result"
    }
   ],
   "source": [
    "agent.invoke({\"input\": \"What is my name?\"})"
   ]
  },
  {
   "cell_type": "markdown",
   "metadata": {},
   "source": [
    "#### Set age in memory"
   ]
  },
  {
   "cell_type": "code",
   "execution_count": 106,
   "metadata": {},
   "outputs": [
    {
     "name": "stdout",
     "output_type": "stream",
     "text": [
      "\n",
      "\n",
      "\u001b[1m> Entering new AgentExecutor chain...\u001b[0m\n",
      "\u001b[32;1m\u001b[1;3mAction:\n",
      "```json\n",
      "{\n",
      "  \"action\": \"Final Answer\",\n",
      "  \"action_input\": \"You are 59 years old.\"\n",
      "}\n",
      "```\u001b[0m\n",
      "\n",
      "\u001b[1m> Finished chain.\u001b[0m\n"
     ]
    },
    {
     "data": {
      "text/plain": [
       "{'input': 'I am 59 years old',\n",
       " 'chat_history': [HumanMessage(content='My name is Bob!'),\n",
       "  AIMessage(content=\"Hi Bob, it's nice to meet you!\"),\n",
       "  HumanMessage(content='What is my name?'),\n",
       "  AIMessage(content='Your name is Bob.')],\n",
       " 'output': 'You are 59 years old.'}"
      ]
     },
     "execution_count": 106,
     "metadata": {},
     "output_type": "execute_result"
    }
   ],
   "source": [
    "agent.invoke({'input': 'I am 59 years old'})"
   ]
  },
  {
   "cell_type": "markdown",
   "metadata": {},
   "source": [
    "#### Use age in Medicare question"
   ]
  },
  {
   "cell_type": "code",
   "execution_count": 107,
   "metadata": {},
   "outputs": [
    {
     "name": "stdout",
     "output_type": "stream",
     "text": [
      "\n",
      "\n",
      "\u001b[1m> Entering new AgentExecutor chain...\u001b[0m\n",
      "\u001b[32;1m\u001b[1;3mAction:\n",
      "```\n",
      "{\n",
      "  \"action\": \"Medicare Knowledge Base\",\n",
      "  \"action_input\": {\n",
      "    \"query\": \"What is the eligibility age for Medicare?\"\n",
      "  }\n",
      "}\n",
      "```\u001b[0m\u001b[38;5;200m\u001b[1;3mSECTION 1:  Signing up for Medicare17\n",
      "Remember, in most cases, if you don’t sign up for Part A (if you have \n",
      "to buy it) and Part B when you’re first eligible, your enrollment may be delayed and you may have to pay a late enrollment penalty. Go to pages 22–23.\n",
      "What are the Part A and Part B enrollment periods?\n",
      "You can only sign up for Part B (and/or Part A if you have to buy it) during these enrollment periods.\n",
      "Initial Enrollment Period \n",
      "Generally, you can first sign up for Part A and/or Part B during the 7-month period that begins 3 months before the month you turn 65 and ends 3 months after the month you turn 65. If your birthday is on the first of the month, your 7-month period starts 4 months before the month you turn 65 and ends 2 months after the month you turn 65. \n",
      "Example: If you turn 65 on June 2, your 7-month period would begin in March \n",
      "and end in September. If you turn 65 on June 1, your 7-month period would begin in February and end in August.\n",
      "If you sign up for Part A and/or Part B during the first 3 months of your Initial \n",
      "Enrollment Period, in most cases, your coverage begins the first day of your birthday month. However, if your birthday is on the first day of the month, your coverage starts the first day of the prior month. \n",
      "If you sign up the month you turn 65 or during the last 3 months of your Initial \n",
      "Enrollment Period, your coverage starts the first day of the month after you sign up.\n",
      "Special Enrollment Period \n",
      "After your Initial Enrollment Period is over, you may have a chance to sign up for Medicare during a Special Enrollment Period. For example, if you didn’t sign up for Part B (or Part A if you have to buy it) when you were first eligible because you have group health plan coverage based on current employment (your own, a spouse’s, or a family member’s if you have a disability), you can sign up for Part A and/or Part B: \n",
      "• Any time you’re still covered by the group health plan \n",
      "• During the 8-month period that begins the month after the employment \n",
      "ends or the coverage ends, whichever happens first \n",
      "Your coverage starts the first day of the month after you sign up. Usually, you won’t have to pay a late enrollment penalty if you sign up during a Special Enrollment Period. This period doesn’t apply if you’re eligible for Medicare based on End-Stage Renal Disease (ESRD), or you’re still in your Initial Enrollment Period.\n",
      "To sign up for Part A and/or B, contact Social Security at 1-800-772-1213. TTY users should call 1-800-325-0778.Important!\u001b[0m\u001b[32;1m\u001b[1;3mAction:\n",
      "```\n",
      "{\n",
      "  \"action\": \"Final Answer\",\n",
      "  \"action_input\": \"Yes, you are eligible for Medicare based on your age. The eligibility age for Medicare is 65. You can sign up for Medicare during your Initial Enrollment Period, which is the 7-month period that begins 3 months before the month you turn 65 and ends 3 months after the month you turn 65.\"\n",
      "}\n",
      "```\u001b[0m\n",
      "\n",
      "\u001b[1m> Finished chain.\u001b[0m\n"
     ]
    },
    {
     "data": {
      "text/plain": [
       "{'input': 'Am I eligible for Medicare based on my age?',\n",
       " 'chat_history': [HumanMessage(content='My name is Bob!'),\n",
       "  AIMessage(content=\"Hi Bob, it's nice to meet you!\"),\n",
       "  HumanMessage(content='What is my name?'),\n",
       "  AIMessage(content='Your name is Bob.'),\n",
       "  HumanMessage(content='I am 59 years old'),\n",
       "  AIMessage(content='You are 59 years old.')],\n",
       " 'output': 'Yes, you are eligible for Medicare based on your age. The eligibility age for Medicare is 65. You can sign up for Medicare during your Initial Enrollment Period, which is the 7-month period that begins 3 months before the month you turn 65 and ends 3 months after the month you turn 65.'}"
      ]
     },
     "execution_count": 107,
     "metadata": {},
     "output_type": "execute_result"
    }
   ],
   "source": [
    "agent.invoke({'input': 'Am I eligible for Medicare based on my age?'})"
   ]
  },
  {
   "cell_type": "code",
   "execution_count": 108,
   "metadata": {},
   "outputs": [
    {
     "name": "stdout",
     "output_type": "stream",
     "text": [
      "\n",
      "\n",
      "\u001b[1m> Entering new AgentExecutor chain...\u001b[0m\n",
      "\u001b[32;1m\u001b[1;3mAction:\n",
      "```\n",
      "{\n",
      "  \"action\": \"Medicare Knowledge Base\",\n",
      "  \"action_input\": \"Is my spouse Wilma eligible for Medicare based on her age?\"\n",
      "}\n",
      "```\u001b[0m\u001b[38;5;200m\u001b[1;3mSECTION 1:  Signing up for Medicare19\n",
      "I have other health coverage. Should I get Part B?\n",
      "This information can help you decide if you should get Part B based on the \n",
      "type of health coverage you may have. \n",
      "Employer or union coverage\n",
      "If you or your spouse (or family member if you have a disability) are still working  and you have health coverage through that employer or union, go \n",
      "to page 21 to find out how your coverage works with Medicare. You can also contact the employer or union benefits administrator for information. This includes federal or state employment and active-duty military service. It might be to your advantage to delay Part B enrollment while you still have health coverage based on your or your spouse’s current employment. \n",
      "Coverage based on current employment doesn’t include: \n",
      "• COBRA (or similar continuation coverage after employment ends) \n",
      "• Retiree coverage \n",
      "• VA coverage \n",
      "• Individual health insurance coverage (like through the Health Insurance \n",
      "Marketplace®) \n",
      "TRICARE\n",
      "If you have TRICARE (health care program for active-duty and retired service members and their families), you generally must sign up for Part A and \n",
      "Part B when you’re first eligible to keep your TRICARE coverage. However, if you’re an active-duty service member or an active-duty family member, you don’t have to sign up for Part B to keep your TRICARE coverage. For more information, contact your TRICARE contractor. Go to page 90. \n",
      "If you have CHAMPVA coverage, you must sign up for Part A and Part B to keep it. Call 1-800-733-8387 for more information about CHAMPVA.\n",
      " \n",
      "Medicaid\n",
      "If you have Medicaid  and don’t have Part B, Medicaid may help you sign \n",
      "up for it. Medicare will pay first, and Medicaid will pay second. Medicaid may be able to help pay your Medicare out-of-pocket costs (like premiums , \n",
      "deductibles , coinsurance , and copayments ). \n",
      "Call your State Medical Assistance (Medicaid) office for more information and to find out if you qualify. Visit Medicaid.gov/about-us/beneficiary-resources/index.html#statemenu , or call 1-800-MEDICARE \n",
      "(1-800-633-4227) to get the phone number for your state’s Medicaid office. TTY users can call 1-877-486-2048.\u001b[0m\u001b[32;1m\u001b[1;3mAction:\n",
      "```\n",
      "{\n",
      "  \"action\": \"Final Answer\",\n",
      "  \"action_input\": \"Yes, your spouse Wilma is eligible for Medicare based on her age. The eligibility age for Medicare is 65. She can sign up for Medicare during her Initial Enrollment Period, which is the 7-month period that begins 3 months before the month she turns 65 and ends 3 months after the month she turns 65.\"\n",
      "}\n",
      "```\u001b[0m\n",
      "\n",
      "\u001b[1m> Finished chain.\u001b[0m\n"
     ]
    },
    {
     "data": {
      "text/plain": [
       "{'input': \"My spouse Wilma's age is 66\",\n",
       " 'chat_history': [HumanMessage(content='My name is Bob!'),\n",
       "  AIMessage(content=\"Hi Bob, it's nice to meet you!\"),\n",
       "  HumanMessage(content='What is my name?'),\n",
       "  AIMessage(content='Your name is Bob.'),\n",
       "  HumanMessage(content='I am 59 years old'),\n",
       "  AIMessage(content='You are 59 years old.'),\n",
       "  HumanMessage(content='Am I eligible for Medicare based on my age?'),\n",
       "  AIMessage(content='Yes, you are eligible for Medicare based on your age. The eligibility age for Medicare is 65. You can sign up for Medicare during your Initial Enrollment Period, which is the 7-month period that begins 3 months before the month you turn 65 and ends 3 months after the month you turn 65.')],\n",
       " 'output': 'Yes, your spouse Wilma is eligible for Medicare based on her age. The eligibility age for Medicare is 65. She can sign up for Medicare during her Initial Enrollment Period, which is the 7-month period that begins 3 months before the month she turns 65 and ends 3 months after the month she turns 65.'}"
      ]
     },
     "execution_count": 108,
     "metadata": {},
     "output_type": "execute_result"
    }
   ],
   "source": [
    "agent.invoke({'input': \"My spouse Wilma's age is 66\"})"
   ]
  },
  {
   "cell_type": "code",
   "execution_count": 114,
   "metadata": {},
   "outputs": [
    {
     "name": "stdout",
     "output_type": "stream",
     "text": [
      "\n",
      "\n",
      "\u001b[1m> Entering new AgentExecutor chain...\u001b[0m\n",
      "\u001b[32;1m\u001b[1;3m```json\n",
      "{\n",
      "  \"action\": \"Final Answer\",\n",
      "  \"action_input\": \"In your household, 60% of the adults are eligible for Medicare.\"\n",
      "}\n",
      "```\u001b[0m\n",
      "\n",
      "\u001b[1m> Finished chain.\u001b[0m\n"
     ]
    },
    {
     "data": {
      "text/plain": [
       "{'input': 'I have 3 adults that are over 66 in my house. And I have 2 adults that are under 65. What percent of my household is eligible for Medicare?',\n",
       " 'chat_history': [HumanMessage(content='how many points are the boston celtics allowing on defense per game this nba season 2022-2023? how does that compare to their average last season, as a percent change'),\n",
       "  AIMessage(content=\"## Boston Celtics Defensive Performance: 2022-23 vs. 2021-22\\n\\n**2022-23 Season:**\\n\\n* As of November 13, 2023, the Boston Celtics are allowing **106.9 points per game** on defense. \\n* This ranks them **4th in the NBA** in defensive rating.\\n\\n**2021-22 Season:**\\n\\n* The Celtics allowed **106.9 points per game** on defense in the 2021-22 season.\\n* This ranked them **2nd in the NBA** in defensive rating.\\n\\n**Percent Change:**\\n\\n* The Celtics are allowing the **same number of points per game** on defense this season compared to last season.\\n* This represents a **0% change** in points allowed.\\n\\n**Summary:**\\n\\nThe Boston Celtics' defense has been remarkably consistent from the 2021-22 season to the current 2022-23 season. They are allowing the same number of points per game and maintain a top-5 defensive ranking in the NBA. \"),\n",
       "  HumanMessage(content='how many points are the boston celtics allowing on defense per game this nba season 2022-2023? how does that compare to their average last season, as a percent change'),\n",
       "  AIMessage(content=\"## Boston Celtics Defensive Performance: 2022-23 vs. 2021-22\\n\\n**2022-23 Season:**\\n\\n* As of November 13, 2023, the Boston Celtics are allowing **106.9 points per game** on defense. \\n* This ranks them **4th in the NBA** in defensive rating.\\n\\n**2021-22 Season:**\\n\\n* The Celtics allowed **106.9 points per game** on defense in the 2021-22 season.\\n* This ranked them **2nd in the NBA** in defensive rating.\\n\\n**Percent Change:**\\n\\n* The Celtics are allowing the **same number of points per game** on defense this season compared to last season.\\n* This represents a **0% change** in points allowed.\\n\\n**Summary:**\\n\\nThe Boston Celtics' defense has been remarkably consistent from the 2021-22 season to the current 2022-23 season. They are allowing the same number of points per game and maintain a top-5 defensive ranking in the NBA. \"),\n",
       "  HumanMessage(content='how many points are the boston celtics allowing on defense per game this nba season 2022-2023? how does that compare to their average last season, as a percent change'),\n",
       "  AIMessage(content=\"I apologize for the repetition. Here is the information about the Boston Celtics' defensive performance in the 2022-23 NBA season compared to their 2021-22 season:\\n\\n**2022-23 Season:**\\n* As of November 13, 2023, the Boston Celtics are allowing **106.9 points per game** on defense. \\n* This ranks them **4th in the NBA** in defensive rating.\\n\\n**2021-22 Season:**\\n* The Celtics allowed **106.9 points per game** on defense in the 2021-22 season.\\n* This ranked them **2nd in the NBA** in defensive rating.\\n\\n**Percent Change:**\\n* The Celtics are allowing the **same number of points per game** on defense this season compared to last season.\\n* This represents a **0% change** in points allowed.\\n\\n**Summary:**\\n\\nThe Boston Celtics' defense has been remarkably consistent from the 2021-22 season to the current 2022-23 season. They are allowing the same number of points per game and maintain a top-5 defensive ranking in the NBA.\"),\n",
       "  HumanMessage(content='how many points are the boston celtics allowing on defense per game this nba season 2022-2023? how does that compare to their average last season, as a percent change'),\n",
       "  AIMessage(content=\"I apologize for the repetition. Here is the information about the Boston Celtics' defensive performance in the 2022-23 NBA season compared to their 2021-22 season:\\n\\n**2022-23 Season:**\\n* As of November 13, 2023, the Boston Celtics are allowing **106.9 points per game** on defense. \\n* This ranks them **4th in the NBA** in defensive rating.\\n\\n**2021-22 Season:**\\n* The Celtics allowed **106.9 points per game** on defense in the 2021-22 season.\\n* This ranked them **2nd in the NBA** in defensive rating.\\n\\n**Percent Change:**\\n* The Celtics are allowing the **same number of points per game** on defense this season compared to last season.\\n* This represents a **0% change** in points allowed.\\n\\n**Summary:**\\n\\nThe Boston Celtics' defense has been remarkably consistent from the 2021-22 season to the current 2022-23 season. They are allowing the same number of points per game and maintain a top-5 defensive ranking in the NBA.\"),\n",
       "  HumanMessage(content='how many points are the boston celtics allowing on defense per game this nba season 2022-2023? how does that compare to their average last season, as a percent change'),\n",
       "  AIMessage(content=\"I apologize for the repetition. Here is the information about the Boston Celtics' defensive performance in the 2022-23 NBA season compared to their 2021-22 season:\\n\\n**2022-23 Season:**\\n* As of November 13, 2023, the Boston Celtics are allowing **106.9 points per game** on defense. \\n* This ranks them **4th in the NBA** in defensive rating.\\n\\n**2021-22 Season:**\\n* The Celtics allowed **106.9 points per game** on defense in the 2021-22 season.\\n* This ranked them **2nd in the NBA** in defensive rating.\\n\\n**Percent Change:**\\n* The Celtics are allowing the **same number of points per game** on defense this season compared to last season.\\n* This represents a **0% change** in points allowed.\\n\\n**Summary:**\\n\\nThe Boston Celtics' defense has been remarkably consistent from the 2021-22 season to the current 2022-23 season. They are allowing the same number of points per game and maintain a top-5 defensive ranking in the NBA.\")],\n",
       " 'output': 'In your household, 60% of the adults are eligible for Medicare.'}"
      ]
     },
     "execution_count": 114,
     "metadata": {},
     "output_type": "execute_result"
    }
   ],
   "source": [
    "agent.invoke({'input': 'I have 3 adults that are over 66 in my house. And I have 2 adults that are under 65. What percent of my household is eligible for Medicare?'})"
   ]
  }
 ],
 "metadata": {
  "kernelspec": {
   "display_name": "base",
   "language": "python",
   "name": "python3"
  },
  "language_info": {
   "codemirror_mode": {
    "name": "ipython",
    "version": 3
   },
   "file_extension": ".py",
   "mimetype": "text/x-python",
   "name": "python",
   "nbconvert_exporter": "python",
   "pygments_lexer": "ipython3",
   "version": "3.11.8"
  }
 },
 "nbformat": 4,
 "nbformat_minor": 2
}
