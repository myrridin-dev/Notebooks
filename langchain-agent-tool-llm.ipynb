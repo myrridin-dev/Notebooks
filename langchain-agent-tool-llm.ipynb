{
 "cells": [
  {
   "cell_type": "markdown",
   "metadata": {},
   "source": [
    "## LangChain Agent, Tool, LLM\n",
    "\n",
    "Based on:\n",
    "- [Pinecone LangChain agents](https://www.pinecone.io/learn/series/langchain/langchain-agents/)\n",
    "\n",
    "To use agents, we require three things:\n",
    "\n",
    "- A base LLM\n",
    "- A tool that we will be interacting with\n",
    "- An agent to control the interaction."
   ]
  },
  {
   "cell_type": "markdown",
   "metadata": {},
   "source": [
    "### Auth"
   ]
  },
  {
   "cell_type": "code",
   "execution_count": 2,
   "metadata": {},
   "outputs": [],
   "source": [
    "import google.auth\n",
    "import os\n",
    "import vertexai\n",
    "\n",
    "\n",
    "from dotenv import load_dotenv, dotenv_values"
   ]
  },
  {
   "cell_type": "code",
   "execution_count": 3,
   "metadata": {},
   "outputs": [
    {
     "data": {
      "text/plain": [
       "'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'"
      ]
     },
     "execution_count": 3,
     "metadata": {},
     "output_type": "execute_result"
    }
   ],
   "source": [
    "langchain_api_key = os.environ[\"LANGCHAIN_API_KEY\"] = os.getenv('LANGCHAIN_API_KEY')\n",
    "langchain_project_id = os.getenv('LANGCHAIN_PROJECT_ID')\n",
    "langchain_api_key"
   ]
  },
  {
   "cell_type": "code",
   "execution_count": 4,
   "metadata": {},
   "outputs": [],
   "source": [
    "project_id = os.getenv('PROJECT_ID')\n",
    "region_id = os.getenv('REGION_ID')\n",
    "llm_model_id = os.getenv('CHAT_MODEL')\n",
    "embedding_model_id = os.getenv('EMB_MODEL')"
   ]
  },
  {
   "cell_type": "code",
   "execution_count": 5,
   "metadata": {},
   "outputs": [
    {
     "name": "stdout",
     "output_type": "stream",
     "text": [
      "<google.oauth2.credentials.Credentials object at 0x287249cd0>\n"
     ]
    }
   ],
   "source": [
    "config = {\n",
    "    'project_id': project_id,\n",
    "    'llm_model_id': llm_model_id,\n",
    "    'embedding_model_id': embedding_model_id\n",
    "}\n",
    "\n",
    "# authenticate to GCP\n",
    "creds, _ = google.auth.default(quota_project_id=config[\"project_id\"])\n",
    "print(creds)"
   ]
  },
  {
   "cell_type": "markdown",
   "metadata": {},
   "source": [
    "### Models\n",
    "\n",
    "- The use of VertexAI instead of ChatVertexAI uses the [ReAct COT notebook example from GCP](https://github.com/GoogleCloudPlatform/generative-ai/blob/main/language/prompts/examples/chain_of_thought_react.ipynb)"
   ]
  },
  {
   "cell_type": "code",
   "execution_count": 6,
   "metadata": {},
   "outputs": [],
   "source": [
    "from langchain_google_vertexai import VertexAI, ChatVertexAI, VertexAIEmbeddings\n",
    "\n",
    "vertexai.init(project=project_id, location=region_id)\n",
    "\n",
    "# ChatVertexAI doesn't seem to work in the ReAct agent setting as well as VertexAI\n",
    "# llm = ChatVertexAI(\n",
    "#     credentials=creds,\n",
    "#     model_name=config[\"llm_model_id\"],\n",
    "#     temperature=0 # to pick more exact answers for tools use-cases\n",
    "# )\n",
    "\n",
    "# VertexAI seems to work as well in the ReAct agent setting as ChatVertexAI\n",
    "llm = VertexAI(\n",
    "    credentials=creds,\n",
    "    model_name=config[\"llm_model_id\"],\n",
    "    temperature=0\n",
    ")\n",
    "\n",
    "embeddings = VertexAIEmbeddings(\n",
    "    credentials=creds, model_name=config[\"embedding_model_id\"])\n"
   ]
  },
  {
   "cell_type": "markdown",
   "metadata": {},
   "source": [
    "### Tracing"
   ]
  },
  {
   "cell_type": "code",
   "execution_count": 7,
   "metadata": {},
   "outputs": [],
   "source": [
    "def trace(toggle):\n",
    "    if toggle:\n",
    "        os.environ['LANGCHAIN_TRACING_V2'] = 'true'\n",
    "        os.environ['LANGCHAIN_ENDPOINT'] = 'https://api.smith.langchain.com'\n",
    "        os.environ['LANGCHAIN_API_KEY'] = langchain_api_key\n",
    "        os.environ['LANGCHAIN_PROJECT'] = langchain_project_id\n",
    "    else:\n",
    "        del os.environ['LANGCHAIN_TRACING_V2']\n",
    "        del os.environ['LANGCHAIN_ENDPOINT']\n",
    "        del os.environ['LANGCHAIN_API_KEY']\n",
    "        del os.environ['LANGCHAIN_PROJECT']"
   ]
  },
  {
   "cell_type": "code",
   "execution_count": 8,
   "metadata": {},
   "outputs": [],
   "source": [
    "trace(True)"
   ]
  },
  {
   "cell_type": "code",
   "execution_count": 9,
   "metadata": {},
   "outputs": [
    {
     "name": "stdout",
     "output_type": "stream",
     "text": [
      "You can monitor your trace at: https://smith.langchain.com/o/2b56632f-de5b-5167-8339-f61d01e2ecb2/projects/p/3491b5eb-5738-4dbd-b4f1-bd7ed41971d4/r/0e27fd8d-0d4b-4a8f-b21f-51758f993bca?trace_id=94f473ad-0f02-44e5-a313-9bd4256709ae&start_time=2024-05-23T22:29:20.973000\n"
     ]
    }
   ],
   "source": [
    "from langsmith import Client\n",
    "\n",
    "client = Client(api_key=langchain_api_key)\n",
    "\n",
    "url = next(client.list_runs(project_name=\"default\")).url\n",
    "print(f\"You can monitor your trace at: {url}\")"
   ]
  },
  {
   "cell_type": "markdown",
   "metadata": {},
   "source": [
    "### Calculator tool\n",
    "\n",
    "- Uses [LLMMathChain](https://api.python.langchain.com/en/latest/chains/langchain.chains.llm_math.base.LLMMathChain.html): a chain that interprets a prompt and executes python code to do math."
   ]
  },
  {
   "cell_type": "code",
   "execution_count": 10,
   "metadata": {},
   "outputs": [
    {
     "data": {
      "text/plain": [
       "'Translate a math problem into a expression that can be executed using Python\\'s numexpr library. Use the output of running this code to answer the question.\\n\\nQuestion: ${Question with math problem.}\\n```text\\n${single line mathematical expression that solves the problem}\\n```\\n...numexpr.evaluate(text)...\\n```output\\n${Output of running the code}\\n```\\nAnswer: ${Answer}\\n\\nBegin.\\n\\nQuestion: What is 37593 * 67?\\n```text\\n37593 * 67\\n```\\n...numexpr.evaluate(\"37593 * 67\")...\\n```output\\n2518731\\n```\\nAnswer: 2518731\\n\\nQuestion: 37593^(1/5)\\n```text\\n37593**(1/5)\\n```\\n...numexpr.evaluate(\"37593**(1/5)\")...\\n```output\\n8.222831614237718\\n```\\nAnswer: 8.222831614237718\\n\\nQuestion: What is 2*4?\\n'"
      ]
     },
     "execution_count": 10,
     "metadata": {},
     "output_type": "execute_result"
    }
   ],
   "source": [
    "from langchain.chains import LLMMathChain\n",
    "from langchain.agents import Tool\n",
    "\n",
    "llm_math = LLMMathChain.from_llm(llm)\n",
    "llm_math.prompt.format(question=\"What is 2*4?\")"
   ]
  },
  {
   "cell_type": "code",
   "execution_count": 11,
   "metadata": {},
   "outputs": [
    {
     "data": {
      "text/plain": [
       "{'question': 'What is 2*4?', 'answer': 'Answer: 8'}"
      ]
     },
     "execution_count": 11,
     "metadata": {},
     "output_type": "execute_result"
    }
   ],
   "source": [
    "llm_math.invoke(\"What is 2*4?\")"
   ]
  },
  {
   "cell_type": "code",
   "execution_count": 12,
   "metadata": {},
   "outputs": [],
   "source": [
    "calculator_tool = Tool(\n",
    "    name='Calculator',\n",
    "    func=llm_math.run, # .run on top of an existing chain\n",
    "    description='A tool that is useful when the user needs answers to math questions.'\n",
    ")"
   ]
  },
  {
   "cell_type": "markdown",
   "metadata": {},
   "source": [
    "#### Add to list of tools"
   ]
  },
  {
   "cell_type": "code",
   "execution_count": 13,
   "metadata": {},
   "outputs": [],
   "source": [
    "# when giving tools to LLM, we must pass as list of tools\n",
    "tools = [calculator_tool]"
   ]
  },
  {
   "cell_type": "markdown",
   "metadata": {},
   "source": [
    "### Agent\n",
    "\n",
    "So far we have an llm and a tool but not an agent. To use agents, we require three things:\n",
    "\n",
    "- A base LLM\n",
    "- A tool that we will be interacting with\n",
    "- An agent to control the interaction"
   ]
  },
  {
   "cell_type": "markdown",
   "metadata": {},
   "source": [
    "#### Zero-shot agents\n",
    "- Zero-shot means the agent functions on the current action only — it has no memory.\n",
    "- It uses the ReAct framework to decide which tool to use, based solely on the tool’s `description`.\n",
    "- The ReAct standard prompt is [hwchase17/react](https://smith.langchain.com/hub/hwchase17/react)\n",
    "- ReAct can be thought about as an LLM that could cycle through Reasoning and Action steps. Enabling a multi-step process for identifying answers."
   ]
  },
  {
   "cell_type": "code",
   "execution_count": 29,
   "metadata": {},
   "outputs": [],
   "source": [
    "from langchain import hub\n",
    "from langchain.agents import initialize_agent, create_structured_chat_agent, AgentType, AgentExecutor\n",
    "\n",
    "# TODO: initialize_agent is deprecated\n",
    "# this agent uses hwchase17/structured-chat-agent as the prompt\n",
    "# agent = initialize_agent(\n",
    "#     tools,\n",
    "#     llm,\n",
    "#     agent=AgentType.STRUCTURED_CHAT_ZERO_SHOT_REACT_DESCRIPTION,\n",
    "#     verbose=True,\n",
    "# )\n",
    "\n",
    "prompt = hub.pull('hwchase17/structured-chat-agent')"
   ]
  },
  {
   "cell_type": "code",
   "execution_count": 35,
   "metadata": {},
   "outputs": [],
   "source": [
    "def get_structured_chat_agent(prompt, llm, tools):\n",
    "    structured_chat_agent = create_structured_chat_agent(\n",
    "        llm=llm,\n",
    "        tools=tools,\n",
    "        prompt=prompt\n",
    "    )\n",
    "    return AgentExecutor(\n",
    "        agent=structured_chat_agent, \n",
    "        tools=tools, \n",
    "        verbose=True, \n",
    "        # memory=memory,\n",
    "        # return_intermediate_steps=True,  # TODO: seems to confuse the agent\n",
    "        handle_parsing_errors=True,\n",
    "        max_iterations=5\n",
    "    )\n"
   ]
  },
  {
   "cell_type": "code",
   "execution_count": 31,
   "metadata": {},
   "outputs": [],
   "source": [
    "agent = get_structured_chat_agent(prompt, llm, tools)"
   ]
  },
  {
   "cell_type": "markdown",
   "metadata": {},
   "source": [
    "#### Math questions should work"
   ]
  },
  {
   "cell_type": "code",
   "execution_count": 32,
   "metadata": {},
   "outputs": [
    {
     "name": "stdout",
     "output_type": "stream",
     "text": [
      "\n",
      "\n",
      "\u001b[1m> Entering new AgentExecutor chain...\u001b[0m\n",
      "\u001b[32;1m\u001b[1;3mAction:\n",
      "```\n",
      "{\n",
      "  \"action\": \"Calculator\",\n",
      "  \"action_input\": \"17+32\"\n",
      "}\n",
      "```\u001b[0m\u001b[36;1m\u001b[1;3mAnswer: 49\u001b[0m\u001b[32;1m\u001b[1;3mAction:\n",
      "```\n",
      "{\n",
      "  \"action\": \"Final Answer\",\n",
      "  \"action_input\": \"The answer is 49.\"\n",
      "}\n",
      "```\u001b[0m\n",
      "\n",
      "\u001b[1m> Finished chain.\u001b[0m\n"
     ]
    },
    {
     "data": {
      "text/plain": [
       "{'input': 'What is 17+32?', 'output': 'The answer is 49.'}"
      ]
     },
     "execution_count": 32,
     "metadata": {},
     "output_type": "execute_result"
    }
   ],
   "source": [
    "agent.invoke({'input': 'What is 17+32?'})"
   ]
  },
  {
   "cell_type": "code",
   "execution_count": 21,
   "metadata": {},
   "outputs": [
    {
     "name": "stdout",
     "output_type": "stream",
     "text": [
      "\n",
      "\n",
      "\u001b[1m> Entering new AgentExecutor chain...\u001b[0m\n",
      "\u001b[32;1m\u001b[1;3mAction:\n",
      "```json\n",
      "{\n",
      "  \"action\": \"Calculator\",\n",
      "  \"action_input\": \"4 + 2.5 * 8\"\n",
      "}\n",
      "```\u001b[0m\u001b[36;1m\u001b[1;3mAnswer: 24.0\u001b[0m\u001b[32;1m\u001b[1;3mAction:\n",
      "```json\n",
      "{\n",
      "  \"action\": \"Final Answer\",\n",
      "  \"action_input\": \"Mary and Giorgio have 24 apples in total.\"\n",
      "}\n",
      "```\u001b[0m\n",
      "\n",
      "\u001b[1m> Finished chain.\u001b[0m\n"
     ]
    },
    {
     "data": {
      "text/plain": [
       "{'input': 'if Mary has four apples and Giorgio brings two and a half apple boxes (apple box contains eight apples), how many apples do we have?',\n",
       " 'output': 'Mary and Giorgio have 24 apples in total.'}"
      ]
     },
     "execution_count": 21,
     "metadata": {},
     "output_type": "execute_result"
    }
   ],
   "source": [
    "agent.invoke({\n",
    "    \"input\": \"if Mary has four apples and Giorgio brings two and a half apple \" \\\n",
    "        \"boxes (apple box contains eight apples), how many apples do we \" \\\n",
    "            \"have?\"})"
   ]
  },
  {
   "cell_type": "code",
   "execution_count": 22,
   "metadata": {},
   "outputs": [
    {
     "name": "stdout",
     "output_type": "stream",
     "text": [
      "\n",
      "\n",
      "\u001b[1m> Entering new AgentExecutor chain...\u001b[0m\n",
      "\u001b[32;1m\u001b[1;3mAction:\n",
      "```json\n",
      "{\n",
      "  \"action\": \"Calculator\",\n",
      "  \"action_input\": \"4 - 2\"\n",
      "}\n",
      "```\u001b[0m\u001b[36;1m\u001b[1;3mAnswer: 2\u001b[0m\u001b[32;1m\u001b[1;3mAction:\n",
      "```json\n",
      "{\n",
      "  \"action\": \"Final Answer\",\n",
      "  \"action_input\": \"You do not need 2 socks.\"\n",
      "}\n",
      "```\n",
      "\u001b[0m\n",
      "\n",
      "\u001b[1m> Finished chain.\u001b[0m\n"
     ]
    },
    {
     "data": {
      "text/plain": [
       "{'input': 'If I had 2 shoes and 4 socks and two socks are enough for one shoe, how many socks do I not need?',\n",
       " 'output': 'You do not need 2 socks.'}"
      ]
     },
     "execution_count": 22,
     "metadata": {},
     "output_type": "execute_result"
    }
   ],
   "source": [
    "agent.invoke({\n",
    "    \"input\":\"If I had 2 shoes and 4 socks and two socks are enough for one shoe, how many socks do I not need?\"})"
   ]
  },
  {
   "cell_type": "markdown",
   "metadata": {},
   "source": [
    "##### Non-math questions should fail"
   ]
  },
  {
   "cell_type": "code",
   "execution_count": 25,
   "metadata": {},
   "outputs": [
    {
     "name": "stdout",
     "output_type": "stream",
     "text": [
      "\n",
      "\n",
      "\u001b[1m> Entering new AgentExecutor chain...\u001b[0m\n",
      "\u001b[32;1m\u001b[1;3m## Thought:\n",
      "\n",
      "The user is asking about the weather for tomorrow. I can use the \"Weather\" tool to get the weather forecast for the user's location.\n",
      "\n",
      "## Action:\n",
      "\n",
      "```json\n",
      "{\n",
      "  \"action\": \"Weather\",\n",
      "  \"action_input\": {\n",
      "    \"location\": \"user's location\",\n",
      "    \"date\": \"tomorrow\"\n",
      "  }\n",
      "}\n",
      "```\n",
      "\n",
      "## Observation:\n",
      "\n",
      "(This will be filled in with the actual weather forecast once the tool is used.)\n",
      "\u001b[0mWeather is not a valid tool, try one of [Calculator].\u001b[32;1m\u001b[1;3mAction:\n",
      "```json\n",
      "{\n",
      "  \"action\": \"Final Answer\",\n",
      "  \"action_input\": \"I'm sorry, I can't answer that question. I don't have access to the weather tool.\"\n",
      "}\n",
      "```\u001b[0m\n",
      "\n",
      "\u001b[1m> Finished chain.\u001b[0m\n"
     ]
    },
    {
     "data": {
      "text/plain": [
       "{'input': 'What is the weather tomorrow?',\n",
       " 'output': \"I'm sorry, I can't answer that question. I don't have access to the weather tool.\"}"
      ]
     },
     "execution_count": 25,
     "metadata": {},
     "output_type": "execute_result"
    }
   ],
   "source": [
    "agent.invoke({'input':'What is the weather tomorrow?'})"
   ]
  },
  {
   "cell_type": "markdown",
   "metadata": {},
   "source": [
    "### Fallback tool"
   ]
  },
  {
   "cell_type": "code",
   "execution_count": 26,
   "metadata": {},
   "outputs": [],
   "source": [
    "from langchain.prompts import PromptTemplate\n",
    "from langchain.chains import LLMChain\n",
    "\n",
    "fallback_llm_prompt = PromptTemplate(\n",
    "    input_variables=[\"query\"],\n",
    "    template=\"{query}\"\n",
    ")\n",
    "\n",
    "fallback_llm_chain = LLMChain(llm=llm, prompt=fallback_llm_prompt)\n",
    "\n",
    "fallback_llm_tool = Tool(\n",
    "    name='Fallback Tool',\n",
    "    func=fallback_llm_chain.run,\n",
    "    description=\"use this tool for general purpose queries and logic that aren't Medicare questions or math questions\"\n",
    ")"
   ]
  },
  {
   "cell_type": "markdown",
   "metadata": {},
   "source": [
    "### Add to list of tools"
   ]
  },
  {
   "cell_type": "code",
   "execution_count": 27,
   "metadata": {},
   "outputs": [],
   "source": [
    "tools = [\n",
    "    calculator_tool,\n",
    "    fallback_llm_tool\n",
    "]"
   ]
  },
  {
   "cell_type": "markdown",
   "metadata": {},
   "source": [
    "### Reinitialize agent"
   ]
  },
  {
   "cell_type": "code",
   "execution_count": 36,
   "metadata": {},
   "outputs": [],
   "source": [
    "agent = get_structured_chat_agent(prompt, llm, tools)"
   ]
  },
  {
   "cell_type": "markdown",
   "metadata": {},
   "source": [
    "#### Non-math fallback questions should now work"
   ]
  },
  {
   "cell_type": "code",
   "execution_count": 38,
   "metadata": {},
   "outputs": [
    {
     "name": "stdout",
     "output_type": "stream",
     "text": [
      "\n",
      "\n",
      "\u001b[1m> Entering new AgentExecutor chain...\u001b[0m\n",
      "\u001b[32;1m\u001b[1;3mAction:\n",
      "```\n",
      "{\n",
      "  \"action\": \"Fallback Tool\",\n",
      "  \"action_input\": \"What is the weather tomorrow?\"\n",
      "}\n",
      "```\u001b[0m\u001b[33;1m\u001b[1;3mI do not have access to real-time information, including weather forecasts. To get the most accurate and up-to-date weather information for tomorrow, I recommend checking a reliable weather source such as the National Weather Service or a local news station. \n",
      "\u001b[0m\u001b[32;1m\u001b[1;3mAction:\n",
      "```\n",
      "{\n",
      "  \"action\": \"Final Answer\",\n",
      "  \"action_input\": \"I am sorry, I do not have access to real-time information, including weather forecasts. To get the most accurate and up-to-date weather information for tomorrow, I recommend checking a reliable weather source such as the National Weather Service or a local news station.\"\n",
      "}\n",
      "```\u001b[0m\n",
      "\n",
      "\u001b[1m> Finished chain.\u001b[0m\n"
     ]
    },
    {
     "data": {
      "text/plain": [
       "{'input': 'What is the weather tomorrow?',\n",
       " 'output': 'I am sorry, I do not have access to real-time information, including weather forecasts. To get the most accurate and up-to-date weather information for tomorrow, I recommend checking a reliable weather source such as the National Weather Service or a local news station.'}"
      ]
     },
     "execution_count": 38,
     "metadata": {},
     "output_type": "execute_result"
    }
   ],
   "source": [
    "agent.invoke({'input': 'What is the weather tomorrow?'})"
   ]
  },
  {
   "cell_type": "markdown",
   "metadata": {},
   "source": [
    "#### Math questions should still work"
   ]
  },
  {
   "cell_type": "code",
   "execution_count": 39,
   "metadata": {},
   "outputs": [
    {
     "name": "stdout",
     "output_type": "stream",
     "text": [
      "\n",
      "\n",
      "\u001b[1m> Entering new AgentExecutor chain...\u001b[0m\n",
      "\u001b[32;1m\u001b[1;3mAction:\n",
      "```\n",
      "{\n",
      "  \"action\": \"Calculator\",\n",
      "  \"action_input\": \"17^3\"\n",
      "}\n",
      "```\u001b[0m\u001b[36;1m\u001b[1;3mAnswer: 4913\u001b[0m\u001b[32;1m\u001b[1;3mAction:\n",
      "```\n",
      "{\n",
      "  \"action\": \"Final Answer\",\n",
      "  \"action_input\": \"The answer is 4913.\"\n",
      "}\n",
      "```\u001b[0m\n",
      "\n",
      "\u001b[1m> Finished chain.\u001b[0m\n"
     ]
    },
    {
     "data": {
      "text/plain": [
       "{'input': 'What is seventeen to the power of 3?',\n",
       " 'output': 'The answer is 4913.'}"
      ]
     },
     "execution_count": 39,
     "metadata": {},
     "output_type": "execute_result"
    }
   ],
   "source": [
    "agent.invoke({'input':'What is seventeen to the power of 3?'})"
   ]
  },
  {
   "cell_type": "markdown",
   "metadata": {},
   "source": [
    "#### Combination math and general questions should work"
   ]
  },
  {
   "cell_type": "code",
   "execution_count": 40,
   "metadata": {},
   "outputs": [
    {
     "name": "stdout",
     "output_type": "stream",
     "text": [
      "\n",
      "\n",
      "\u001b[1m> Entering new AgentExecutor chain...\u001b[0m\n",
      "\u001b[32;1m\u001b[1;3mThought: The question asks for the number of fruits a plant can grow in 30 days and the name of the plant.\n",
      "Action:\n",
      "```\n",
      "{\n",
      "  \"action\": \"Calculator\",\n",
      "  \"action_input\": \"6 * 30\"\n",
      "}\n",
      "```\u001b[0m\u001b[36;1m\u001b[1;3mAnswer: 180\u001b[0m\u001b[32;1m\u001b[1;3mAction:\n",
      "```\n",
      "{\n",
      "  \"action\": \"Final Answer\",\n",
      "  \"action_input\": \"A plant can grow 180 fruits in 30 days. I am sorry, but I cannot answer the second part of your question about the name of the plant as I do not have access to information about specific plant species.\"\n",
      "}\n",
      "```\u001b[0m\n",
      "\n",
      "\u001b[1m> Finished chain.\u001b[0m\n"
     ]
    },
    {
     "data": {
      "text/plain": [
       "{'input': 'A plant can grow 6 fruit per day. How many fruits grow in 30 days? What is this plant called?',\n",
       " 'output': 'A plant can grow 180 fruits in 30 days. I am sorry, but I cannot answer the second part of your question about the name of the plant as I do not have access to information about specific plant species.'}"
      ]
     },
     "execution_count": 40,
     "metadata": {},
     "output_type": "execute_result"
    }
   ],
   "source": [
    "agent.invoke({'input':'A plant can grow 6 fruit per day. How many fruits grow in 30 days? What is this plant called?'})"
   ]
  },
  {
   "cell_type": "markdown",
   "metadata": {},
   "source": [
    "### Medicare tool"
   ]
  },
  {
   "cell_type": "markdown",
   "metadata": {},
   "source": [
    "#### Data"
   ]
  },
  {
   "cell_type": "code",
   "execution_count": 41,
   "metadata": {},
   "outputs": [],
   "source": [
    "from langchain_community.document_loaders import PyPDFLoader\n",
    "from langchain_community.vectorstores import Chroma \n",
    "from langchain_text_splitters import RecursiveCharacterTextSplitter\n",
    "from langchain_google_vertexai import VertexAIEmbeddings\n",
    "\n",
    "loader = PyPDFLoader(\"https://www.medicare.gov/Pubs/pdf/10050-medicare-and-you.pdf\", extract_images=True)\n",
    "docs = loader.load()\n",
    "\n",
    "text_splitter = RecursiveCharacterTextSplitter()\n",
    "documents = text_splitter.split_documents(docs)\n",
    "db = Chroma.from_documents(documents, embeddings)"
   ]
  },
  {
   "cell_type": "markdown",
   "metadata": {},
   "source": [
    "#### Retriever"
   ]
  },
  {
   "cell_type": "code",
   "execution_count": 42,
   "metadata": {},
   "outputs": [],
   "source": [
    "from langchain import hub\n",
    "from langchain_core.runnables import RunnablePassthrough\n",
    "from langchain.schema import StrOutputParser\n",
    "\n",
    "retriever = db.as_retriever(search_kwargs={'k':1}) # just one doc"
   ]
  },
  {
   "cell_type": "markdown",
   "metadata": {},
   "source": [
    "#### Tool"
   ]
  },
  {
   "cell_type": "code",
   "execution_count": 43,
   "metadata": {},
   "outputs": [],
   "source": [
    "from langchain.tools.retriever import create_retriever_tool\n",
    "\n",
    "medicare_tool = create_retriever_tool(\n",
    "    retriever,\n",
    "    \"Medicare Knowledge Base\",\n",
    "    \"Query a retriever to get information about Medicare questions\"\n",
    ")"
   ]
  },
  {
   "cell_type": "code",
   "execution_count": 44,
   "metadata": {},
   "outputs": [
    {
     "data": {
      "text/plain": [
       "'9\\nWhat are the parts of \\nMedicare?\\nPart A (Hospital Insurance) \\nHelps cover:\\n• Inpatient care in hospitals\\n• Skilled nursing facility care\\n• Hospice care\\n• Home health care\\nGo to pages 25–29. \\nPart B (Medical Insurance)\\nHelps cover:\\n• Services from doctors and other health care providers\\n• Outpatient care\\n• Home health care\\n• Durable medical equipment (like wheelchairs, walkers, \\nhospital beds, and other equipment)\\n• Many preventive services  (like screenings, shots or vaccines, \\nand yearly “ Wellness” visits) \\nGo to pages 29–55 . \\nPart D (Drug coverage) \\nHelps cover the cost of prescription drugs (including many recommended shots or vaccines).\\nPlans that offer Medicare drug coverage (Part D) are run by \\nprivate insurance companies that follow rules set by Medicare.\\nGo to pages 79–90.'"
      ]
     },
     "execution_count": 44,
     "metadata": {},
     "output_type": "execute_result"
    }
   ],
   "source": [
    "medicare_tool.invoke('What is Medicare part D?')"
   ]
  },
  {
   "cell_type": "markdown",
   "metadata": {},
   "source": [
    "### Add to list of tools"
   ]
  },
  {
   "cell_type": "code",
   "execution_count": 45,
   "metadata": {},
   "outputs": [],
   "source": [
    "tools = [\n",
    "    calculator_tool,\n",
    "    fallback_llm_tool,\n",
    "    medicare_tool\n",
    "]"
   ]
  },
  {
   "cell_type": "markdown",
   "metadata": {},
   "source": [
    "### Reinitialize agent"
   ]
  },
  {
   "cell_type": "code",
   "execution_count": 46,
   "metadata": {},
   "outputs": [],
   "source": [
    "agent = get_structured_chat_agent(prompt, llm, tools)"
   ]
  },
  {
   "cell_type": "markdown",
   "metadata": {},
   "source": [
    "#### Medicare questions should work"
   ]
  },
  {
   "cell_type": "code",
   "execution_count": 47,
   "metadata": {},
   "outputs": [
    {
     "name": "stdout",
     "output_type": "stream",
     "text": [
      "\n",
      "\n",
      "\u001b[1m> Entering new AgentExecutor chain...\u001b[0m\n",
      "\u001b[32;1m\u001b[1;3m```json\n",
      "{\n",
      "  \"action\": \"Medicare Knowledge Base\",\n",
      "  \"action_input\": {\n",
      "    \"query\": \"What is Medicare Part A?\"\n",
      "  }\n",
      "}\n",
      "```\u001b[0m\u001b[38;5;200m\u001b[1;3m9\n",
      "What are the parts of \n",
      "Medicare?\n",
      "Part A (Hospital Insurance) \n",
      "Helps cover:\n",
      "• Inpatient care in hospitals\n",
      "• Skilled nursing facility care\n",
      "• Hospice care\n",
      "• Home health care\n",
      "Go to pages 25–29. \n",
      "Part B (Medical Insurance)\n",
      "Helps cover:\n",
      "• Services from doctors and other health care providers\n",
      "• Outpatient care\n",
      "• Home health care\n",
      "• Durable medical equipment (like wheelchairs, walkers, \n",
      "hospital beds, and other equipment)\n",
      "• Many preventive services  (like screenings, shots or vaccines, \n",
      "and yearly “ Wellness” visits) \n",
      "Go to pages 29–55 . \n",
      "Part D (Drug coverage) \n",
      "Helps cover the cost of prescription drugs (including many recommended shots or vaccines).\n",
      "Plans that offer Medicare drug coverage (Part D) are run by \n",
      "private insurance companies that follow rules set by Medicare.\n",
      "Go to pages 79–90.\u001b[0m\u001b[32;1m\u001b[1;3mAction:\n",
      "```json\n",
      "{\n",
      "  \"action\": \"Final Answer\",\n",
      "  \"action_input\": \"Medicare Part A is hospital insurance that helps cover inpatient care in hospitals, skilled nursing facility care, hospice care, and home health care.\"\n",
      "}\n",
      "```\u001b[0m\n",
      "\n",
      "\u001b[1m> Finished chain.\u001b[0m\n"
     ]
    },
    {
     "data": {
      "text/plain": [
       "{'input': 'What is Medicare part A?',\n",
       " 'output': 'Medicare Part A is hospital insurance that helps cover inpatient care in hospitals, skilled nursing facility care, hospice care, and home health care.'}"
      ]
     },
     "execution_count": 47,
     "metadata": {},
     "output_type": "execute_result"
    }
   ],
   "source": [
    "agent.invoke({'input': 'What is Medicare part A?'})"
   ]
  },
  {
   "cell_type": "markdown",
   "metadata": {},
   "source": [
    "#### Math questions should still work"
   ]
  },
  {
   "cell_type": "code",
   "execution_count": 48,
   "metadata": {},
   "outputs": [
    {
     "name": "stdout",
     "output_type": "stream",
     "text": [
      "\n",
      "\n",
      "\u001b[1m> Entering new AgentExecutor chain...\u001b[0m\n",
      "\u001b[32;1m\u001b[1;3mAction:\n",
      "```\n",
      "{\n",
      "  \"action\": \"Calculator\",\n",
      "  \"action_input\": \"17+4\"\n",
      "}\n",
      "```\u001b[0m\u001b[36;1m\u001b[1;3mAnswer: 21\u001b[0m\u001b[32;1m\u001b[1;3mAction:\n",
      "```\n",
      "{\n",
      "  \"action\": \"Final Answer\",\n",
      "  \"action_input\": \"I am sorry, I cannot answer that question. I am not able to access the internet or any external resources.\"\n",
      "}\n",
      "```\u001b[0m\n",
      "\n",
      "\u001b[1m> Finished chain.\u001b[0m\n"
     ]
    },
    {
     "data": {
      "text/plain": [
       "{'input': 'What is 17+4?',\n",
       " 'output': 'I am sorry, I cannot answer that question. I am not able to access the internet or any external resources.'}"
      ]
     },
     "execution_count": 48,
     "metadata": {},
     "output_type": "execute_result"
    }
   ],
   "source": [
    "agent.invoke({'input': 'What is 17+4?'})"
   ]
  },
  {
   "cell_type": "markdown",
   "metadata": {},
   "source": [
    "#### Combination math and general questions should still work"
   ]
  },
  {
   "cell_type": "code",
   "execution_count": 49,
   "metadata": {},
   "outputs": [
    {
     "name": "stdout",
     "output_type": "stream",
     "text": [
      "\n",
      "\n",
      "\u001b[1m> Entering new AgentExecutor chain...\u001b[0m\n",
      "\u001b[32;1m\u001b[1;3mAction:\n",
      "```\n",
      "{\n",
      "  \"action\": \"Final Answer\",\n",
      "  \"action_input\": \"The capital of Hungary is Budapest. 99 minus 23 equals 76.\"\n",
      "}\n",
      "```\u001b[0m\n",
      "\n",
      "\u001b[1m> Finished chain.\u001b[0m\n"
     ]
    },
    {
     "data": {
      "text/plain": [
       "{'input': 'What is the capital of Hungary? What is 99 minus 23??',\n",
       " 'output': 'The capital of Hungary is Budapest. 99 minus 23 equals 76.'}"
      ]
     },
     "execution_count": 49,
     "metadata": {},
     "output_type": "execute_result"
    }
   ],
   "source": [
    "agent.invoke({'input': 'What is the capital of Hungary? What is 99 minus 23??'})"
   ]
  },
  {
   "cell_type": "code",
   "execution_count": 50,
   "metadata": {},
   "outputs": [
    {
     "name": "stdout",
     "output_type": "stream",
     "text": [
      "\n",
      "\n",
      "\u001b[1m> Entering new AgentExecutor chain...\u001b[0m\n",
      "\u001b[32;1m\u001b[1;3mAction:\n",
      "```json\n",
      "{\n",
      "  \"action\": \"Medicare Knowledge Base\",\n",
      "  \"action_input\": {\n",
      "    \"query\": \"What Medicare benefits do dependents enjoy?\"\n",
      "  }\n",
      "}\n",
      "``` \n",
      "\u001b[0m\u001b[38;5;200m\u001b[1;3mSECTION 2:  Find out what Medicare covers27\n",
      "Medicare also covers inpatient respite care, which is care you get in a Medicare-\n",
      "approved facility so that your usual caregiver (family member or friend) can rest. You can stay up to 5 days each time you get respite care. \n",
      "After 6 months, you can continue to get hospice care as long as the hospice \n",
      "medical director or hospice doctor recertifies (at a face-to-face meeting) that you’re still terminally ill. \n",
      "You pay:\n",
      "• Nothing for hospice care. \n",
      "• A copayment  of up to $5 per prescription for outpatient drugs for pain and \n",
      "symptom management. \n",
      "• Five percent of the Medicare-approved amount  for inpatient respite care. \n",
      "Original Medicare will be billed for your hospice care, even if you’re in a Medicare Advantage Plan . When you get hospice care, your Medicare \n",
      "Advantage Plan can still cover services that aren’t part of your terminal illness or any conditions related to your terminal illness. For more on hospice care and to find Medicare-approved providers, contact your plan or visit Medicare.gov/care-compare .\n",
      "Inpatient hospital care\n",
      "Medicare covers semi-private rooms, meals, general nursing, drugs (including methadone to treat an opioid use disorder), and other hospital services and supplies as part of your inpatient treatment. This includes care you get in acute care hospitals, critical access hospitals , inpatient rehabilitation facilities , \n",
      "long-term care hospitals , psychiatric care in inpatient psychiatric facilities, \n",
      "and inpatient care for a qualifying clinical research study. This doesn’t include private-duty nursing, a television or phone in your room (if there’s a separate charge for these items), personal care items (razors or slipper socks), or a private room, unless medically necessary . \n",
      "If you also have Part B, it generally covers 80% of the Medicare-approved amount for doctors’ services you get while you’re in a hospital. \n",
      "In each benefit period , you pay:\n",
      "• Days 1–60 (of each benefit period): $0 after you meet your Part A deductible .\n",
      "• Days 61–90 (of each benefit period): A $408 coinsurance  amount each day.\n",
      "• After day 90 (of each benefit period): An $816 coinsurance amount each day \n",
      "while using your 60 lifetime reserve day s.\n",
      "After you use all of your lifetime reserve days, you pay all costs.\n",
      "Part A only pays for up to 190 days of inpatient psychiatric hospital care \n",
      "provided in a freestanding psychiatric hospital during your lifetime. \n",
      "Note:  Hospitals are now required to include the standard charges for all of their \n",
      "items and services (including the standard charges negotiated by Medicare \n",
      "Advantage Plans) on a public website to help you make more informed decisions about your care.\u001b[0m\u001b[32;1m\u001b[1;3mAction:\n",
      "```json\n",
      "{\n",
      "  \"action\": \"Final Answer\",\n",
      "  \"action_input\": \"I'm sorry, but Medicare does not cover dependents. Medicare is a federal health insurance program for people who are 65 or older, certain younger people with disabilities, and people with End-Stage Renal Disease (permanent kidney failure). If you are looking for health insurance for your children, you may want to consider a private health insurance plan.\"\n",
      "}\n",
      "``` \n",
      "\u001b[0m\n",
      "\n",
      "\u001b[1m> Finished chain.\u001b[0m\n"
     ]
    },
    {
     "data": {
      "text/plain": [
       "{'input': 'I have a son aged 10 years. I have a daughter that is 20 years older than the son. What Medicare benefits do my two dependents enjoy?',\n",
       " 'output': \"I'm sorry, but Medicare does not cover dependents. Medicare is a federal health insurance program for people who are 65 or older, certain younger people with disabilities, and people with End-Stage Renal Disease (permanent kidney failure). If you are looking for health insurance for your children, you may want to consider a private health insurance plan.\"}"
      ]
     },
     "execution_count": 50,
     "metadata": {},
     "output_type": "execute_result"
    }
   ],
   "source": [
    "agent.invoke({'input': 'I have a son aged 10 years. I have a daughter that is 20 years older than the son. What Medicare benefits do my two dependents enjoy?'})"
   ]
  },
  {
   "cell_type": "markdown",
   "metadata": {},
   "source": [
    "### Agent with Memory\n",
    "- According to [LangChain AgentTypes](https://python.langchain.com/v0.1/docs/modules/agents/agent_types/) we need an agent that can support both:\n",
    "  - History\n",
    "  - Multi tools\n",
    "- That seems to be [Structured Chat](https://python.langchain.com/v0.1/docs/modules/agents/agent_types/structured_chat/)"
   ]
  },
  {
   "cell_type": "markdown",
   "metadata": {},
   "source": [
    "#### Memory"
   ]
  },
  {
   "cell_type": "code",
   "execution_count": 51,
   "metadata": {},
   "outputs": [],
   "source": [
    "memory_key='chat_history'"
   ]
  },
  {
   "cell_type": "code",
   "execution_count": 52,
   "metadata": {},
   "outputs": [],
   "source": [
    "from langchain.memory import ConversationBufferWindowMemory\n",
    "\n",
    "agent_memory = ConversationBufferWindowMemory(\n",
    "    memory_key=memory_key,\n",
    "    k=5,\n",
    "    return_messages=True\n",
    ")"
   ]
  },
  {
   "cell_type": "markdown",
   "metadata": {},
   "source": [
    "#### Agent\n",
    "\n",
    "- Same as before but this time, with memory"
   ]
  },
  {
   "cell_type": "code",
   "execution_count": 53,
   "metadata": {},
   "outputs": [],
   "source": [
    "def get_structured_chat_agent_with_memory(prompt, llm, tools, memory):\n",
    "    structured_chat_agent = create_structured_chat_agent(\n",
    "        llm=llm,\n",
    "        tools=tools,\n",
    "        prompt=prompt\n",
    "    )\n",
    "    return AgentExecutor(\n",
    "        agent=structured_chat_agent, \n",
    "        tools=tools, \n",
    "        verbose=True, \n",
    "        memory=memory,\n",
    "        # return_intermediate_steps=True,  # TODO: seems to confuse the agent\n",
    "        handle_parsing_errors=True,\n",
    "        max_iterations=5\n",
    "    )"
   ]
  },
  {
   "cell_type": "code",
   "execution_count": 55,
   "metadata": {},
   "outputs": [],
   "source": [
    "agent = get_structured_chat_agent_with_memory(prompt, llm, tools, agent_memory)"
   ]
  },
  {
   "cell_type": "markdown",
   "metadata": {},
   "source": [
    "#### Set name in memory"
   ]
  },
  {
   "cell_type": "code",
   "execution_count": 56,
   "metadata": {},
   "outputs": [
    {
     "name": "stdout",
     "output_type": "stream",
     "text": [
      "\n",
      "\n",
      "\u001b[1m> Entering new AgentExecutor chain...\u001b[0m\n",
      "\u001b[32;1m\u001b[1;3mAction:\n",
      "```\n",
      "{\n",
      "  \"action\": \"Final Answer\",\n",
      "  \"action_input\": \"Hi Bob, it's nice to meet you!\"\n",
      "}\n",
      "```\n",
      "\u001b[0m\n",
      "\n",
      "\u001b[1m> Finished chain.\u001b[0m\n"
     ]
    },
    {
     "data": {
      "text/plain": [
       "{'input': 'My name is Bob!',\n",
       " 'chat_history': [],\n",
       " 'output': \"Hi Bob, it's nice to meet you!\"}"
      ]
     },
     "execution_count": 56,
     "metadata": {},
     "output_type": "execute_result"
    }
   ],
   "source": [
    "agent.invoke({\"input\": \"My name is Bob!\"})"
   ]
  },
  {
   "cell_type": "markdown",
   "metadata": {},
   "source": [
    "#### See name in memory"
   ]
  },
  {
   "cell_type": "code",
   "execution_count": 57,
   "metadata": {},
   "outputs": [
    {
     "data": {
      "text/plain": [
       "[HumanMessage(content='My name is Bob!'),\n",
       " AIMessage(content=\"Hi Bob, it's nice to meet you!\")]"
      ]
     },
     "execution_count": 57,
     "metadata": {},
     "output_type": "execute_result"
    }
   ],
   "source": [
    "agent_memory.buffer_as_messages"
   ]
  },
  {
   "cell_type": "markdown",
   "metadata": {},
   "source": [
    "#### Use name in memory"
   ]
  },
  {
   "cell_type": "code",
   "execution_count": 58,
   "metadata": {},
   "outputs": [
    {
     "name": "stdout",
     "output_type": "stream",
     "text": [
      "\n",
      "\n",
      "\u001b[1m> Entering new AgentExecutor chain...\u001b[0m\n",
      "\u001b[32;1m\u001b[1;3mAction:\n",
      "```\n",
      "{\n",
      "  \"action\": \"Final Answer\",\n",
      "  \"action_input\": \"Your name is Bob.\"\n",
      "}\n",
      "```\u001b[0m\n",
      "\n",
      "\u001b[1m> Finished chain.\u001b[0m\n"
     ]
    },
    {
     "data": {
      "text/plain": [
       "{'input': 'What is my name?',\n",
       " 'chat_history': [HumanMessage(content='My name is Bob!'),\n",
       "  AIMessage(content=\"Hi Bob, it's nice to meet you!\")],\n",
       " 'output': 'Your name is Bob.'}"
      ]
     },
     "execution_count": 58,
     "metadata": {},
     "output_type": "execute_result"
    }
   ],
   "source": [
    "agent.invoke({\"input\": \"What is my name?\"})"
   ]
  },
  {
   "cell_type": "markdown",
   "metadata": {},
   "source": [
    "#### Set age in memory"
   ]
  },
  {
   "cell_type": "code",
   "execution_count": 59,
   "metadata": {},
   "outputs": [
    {
     "name": "stdout",
     "output_type": "stream",
     "text": [
      "\n",
      "\n",
      "\u001b[1m> Entering new AgentExecutor chain...\u001b[0m\n",
      "\u001b[32;1m\u001b[1;3mAction:\n",
      "```\n",
      "{\n",
      "  \"action\": \"Final Answer\",\n",
      "  \"action_input\": \"You are 59 years old.\"\n",
      "}\n",
      "```\u001b[0m\n",
      "\n",
      "\u001b[1m> Finished chain.\u001b[0m\n"
     ]
    },
    {
     "data": {
      "text/plain": [
       "{'input': 'I am 59 years old',\n",
       " 'chat_history': [HumanMessage(content='My name is Bob!'),\n",
       "  AIMessage(content=\"Hi Bob, it's nice to meet you!\"),\n",
       "  HumanMessage(content='What is my name?'),\n",
       "  AIMessage(content='Your name is Bob.')],\n",
       " 'output': 'You are 59 years old.'}"
      ]
     },
     "execution_count": 59,
     "metadata": {},
     "output_type": "execute_result"
    }
   ],
   "source": [
    "agent.invoke({'input': 'I am 59 years old'})"
   ]
  },
  {
   "cell_type": "markdown",
   "metadata": {},
   "source": [
    "#### Use age in Medicare question"
   ]
  },
  {
   "cell_type": "code",
   "execution_count": 61,
   "metadata": {},
   "outputs": [
    {
     "name": "stdout",
     "output_type": "stream",
     "text": [
      "\n",
      "\n",
      "\u001b[1m> Entering new AgentExecutor chain...\u001b[0m\n",
      "\u001b[32;1m\u001b[1;3mAction:\n",
      "```\n",
      "{\n",
      "  \"action\": \"Medicare Knowledge Base\",\n",
      "  \"action_input\": {\n",
      "    \"query\": \"Am I eligible for Medicare based on my age of 59?\"\n",
      "  }\n",
      "}\n",
      "```\u001b[0m\u001b[38;5;200m\u001b[1;3mSECTION 1:  Signing up for Medicare17\n",
      "Remember, in most cases, if you don’t sign up for Part A (if you have \n",
      "to buy it) and Part B when you’re first eligible, your enrollment may be delayed and you may have to pay a late enrollment penalty. Go to pages 22–23.\n",
      "What are the Part A and Part B enrollment periods?\n",
      "You can only sign up for Part B (and/or Part A if you have to buy it) during these enrollment periods.\n",
      "Initial Enrollment Period \n",
      "Generally, you can first sign up for Part A and/or Part B during the 7-month period that begins 3 months before the month you turn 65 and ends 3 months after the month you turn 65. If your birthday is on the first of the month, your 7-month period starts 4 months before the month you turn 65 and ends 2 months after the month you turn 65. \n",
      "Example: If you turn 65 on June 2, your 7-month period would begin in March \n",
      "and end in September. If you turn 65 on June 1, your 7-month period would begin in February and end in August.\n",
      "If you sign up for Part A and/or Part B during the first 3 months of your Initial \n",
      "Enrollment Period, in most cases, your coverage begins the first day of your birthday month. However, if your birthday is on the first day of the month, your coverage starts the first day of the prior month. \n",
      "If you sign up the month you turn 65 or during the last 3 months of your Initial \n",
      "Enrollment Period, your coverage starts the first day of the month after you sign up.\n",
      "Special Enrollment Period \n",
      "After your Initial Enrollment Period is over, you may have a chance to sign up for Medicare during a Special Enrollment Period. For example, if you didn’t sign up for Part B (or Part A if you have to buy it) when you were first eligible because you have group health plan coverage based on current employment (your own, a spouse’s, or a family member’s if you have a disability), you can sign up for Part A and/or Part B: \n",
      "• Any time you’re still covered by the group health plan \n",
      "• During the 8-month period that begins the month after the employment \n",
      "ends or the coverage ends, whichever happens first \n",
      "Your coverage starts the first day of the month after you sign up. Usually, you won’t have to pay a late enrollment penalty if you sign up during a Special Enrollment Period. This period doesn’t apply if you’re eligible for Medicare based on End-Stage Renal Disease (ESRD), or you’re still in your Initial Enrollment Period.\n",
      "To sign up for Part A and/or B, contact Social Security at 1-800-772-1213. TTY users should call 1-800-325-0778.Important!\u001b[0m\u001b[32;1m\u001b[1;3mAction:\n",
      "```\n",
      "{\n",
      "  \"action\": \"Final Answer\",\n",
      "  \"action_input\": \"I am sorry, but I cannot answer your question about Medicare eligibility based on your age of 59. The information you provided is not sufficient to determine your eligibility. To get accurate information about your Medicare eligibility, please contact Social Security at 1-800-772-1213. TTY users should call 1-800-325-0778.\"\n",
      "}\n",
      "```\u001b[0m\n",
      "\n",
      "\u001b[1m> Finished chain.\u001b[0m\n"
     ]
    },
    {
     "data": {
      "text/plain": [
       "{'input': 'Am I eligible for Medicare based on my age?',\n",
       " 'chat_history': [HumanMessage(content='My name is Bob!'),\n",
       "  AIMessage(content=\"Hi Bob, it's nice to meet you!\"),\n",
       "  HumanMessage(content='What is my name?'),\n",
       "  AIMessage(content='Your name is Bob.'),\n",
       "  HumanMessage(content='I am 59 years old'),\n",
       "  AIMessage(content='You are 59 years old.')],\n",
       " 'output': 'I am sorry, but I cannot answer your question about Medicare eligibility based on your age of 59. The information you provided is not sufficient to determine your eligibility. To get accurate information about your Medicare eligibility, please contact Social Security at 1-800-772-1213. TTY users should call 1-800-325-0778.'}"
      ]
     },
     "execution_count": 61,
     "metadata": {},
     "output_type": "execute_result"
    }
   ],
   "source": [
    "agent.invoke({'input': 'Am I eligible for Medicare based on my age?'})"
   ]
  },
  {
   "cell_type": "code",
   "execution_count": 62,
   "metadata": {},
   "outputs": [
    {
     "name": "stdout",
     "output_type": "stream",
     "text": [
      "\n",
      "\n",
      "\u001b[1m> Entering new AgentExecutor chain...\u001b[0m\n",
      "\u001b[32;1m\u001b[1;3mAction:\n",
      "```\n",
      "{\n",
      "  \"action\": \"Medicare Knowledge Base\",\n",
      "  \"action_input\": {\n",
      "    \"query\": \"Is my spouse Wilma eligible for Medicare based on her age of 66?\"\n",
      "  }\n",
      "}\n",
      "```\u001b[0m\u001b[38;5;200m\u001b[1;3mHealth Insurance Marketplace® is a registered service mark of the U.S. Department of \n",
      "Health & Human Services.\n",
      "“Medicare & You” isn’t a legal document. Official Medicare Program legal guidance is \n",
      "contained in the relevant statutes, regulations, and rulings.\n",
      "This product was produced at U.S. taxpayer expense.\n",
      "Copies of this product are available free of charge at Medicare.gov   \n",
      "or by calling 1-800-MEDICARE.한국어(Korea n) 만약 귀하나 귀하가 돕는 어느 분이 메디케어에 관해서 질문을 가지고\n",
      "있다면 비용 부담이 없이 필요한 도움과 정보를 귀하의 언어로 얻을 수 있는 권리가 귀하에게 \n",
      "있습니다. 통역사와 말씀을 나누시려면 1-800-MEDICARE(1-800-633-4227) 로 전화하십시오.\n",
      "Polsk i (Polish) Jeżeli Państwo lub ktoś komu Państwo pomagają macie pytania dotyczące Medicare, \n",
      "mają Państwo prawo do uzyskania bezpłatnej pomocy i informacji w swoim języku. Aby rozmawiać z \n",
      "tłumaczem, prosimy dzwonić pod numer telefonu 1-800-MEDICARE (1-800-633-4227).\n",
      "Portugu ês (P ortugues e) Se você (ou alguém que você esteja ajudando) tiver dúvidas sobre a \n",
      "Medicare, você tem o direito de obter ajuda e informações em seu idioma, gratuitamente. Para falar \n",
      "com um intérprete, ligue para 1-800-MEDICARE (1-800-633-4227).\n",
      "Русский (R ussia n) Если у вас или лица, которому вы помогаете, возникли вопросы по  \n",
      "поводу программы Медикэр (Medicare), вы имеете право на бесплатную помощь и \n",
      "информацию на вашем языке. Чтобы воспользоваться услугами переводчика, позвоните по телефону 1-800-MEDICARE (1-800-633-4227).\n",
      "Españo l (Spanis h) Si usted, o alguien que está ayudando, tiene preguntas sobre Medicare, usted \n",
      "tiene el derecho a obtener ayuda e información en su idioma sin costo alguno. Para hablar con un \n",
      "intérprete, llame al 1-800-MEDICARE (1-800-633-4227).\n",
      "Tagalo g (Tagalo g) Kung ikaw, o ang isang tinutulungan mo, ay may mga katanungan tungkol sa \n",
      "Medicare, ikaw ay may karapatan na makakuha ng tulong at impormasyon sa iyong lenguwahe ng \n",
      "walang gastos. Upang makipag-usap sa isang tagasalin ng wika, tumawag sa 1-800-MEDICARE  (1-800-633-4227).\n",
      "Tiếng Việt (V ietnames e) Nếu quý vị, hay người mà quý vị đang giúp đỡ, có câu hỏi về Medicare, quý \n",
      "vị sẽ có quyền được giúp và có thêm thông tin bằng ngôn ngữ của mình miễn phí. Để nói chuyện \n",
      "qua thông dịch viên, gọi số 1-800-MEDICARE (1-800-633-4227).\n",
      " 126\u001b[0m\u001b[32;1m\u001b[1;3mAction:\n",
      "```\n",
      "{\n",
      "  \"action\": \"Final Answer\",\n",
      "  \"action_input\": \"Yes, your spouse Wilma is eligible for Medicare based on her age of 66. She can enroll in Medicare three months before her 65th birthday. The initial enrollment period is seven months long, starting three months before the month she turns 65 and ending three months after the month she turns 65. She can also enroll during the General Enrollment Period, which runs from January 1 to March 31 each year. Her coverage would begin on July 1 of that year. If she misses both of these enrollment periods, she may be able to enroll during a Special Enrollment Period if she meets certain conditions. For more information about Medicare eligibility and enrollment, please visit the Medicare website at www.medicare.gov or call 1-800-MEDICARE (1-800-633-4227).\"\n",
      "}\n",
      "```\u001b[0m\n",
      "\n",
      "\u001b[1m> Finished chain.\u001b[0m\n"
     ]
    },
    {
     "data": {
      "text/plain": [
       "{'input': \"My spouse Wilma's age is 66\",\n",
       " 'chat_history': [HumanMessage(content='My name is Bob!'),\n",
       "  AIMessage(content=\"Hi Bob, it's nice to meet you!\"),\n",
       "  HumanMessage(content='What is my name?'),\n",
       "  AIMessage(content='Your name is Bob.'),\n",
       "  HumanMessage(content='I am 59 years old'),\n",
       "  AIMessage(content='You are 59 years old.'),\n",
       "  HumanMessage(content='Am I eligible for Medicare based on my age?'),\n",
       "  AIMessage(content='I am sorry, but I cannot answer your question about Medicare eligibility based on your age of 59. The information you provided is not sufficient to determine your eligibility. To get accurate information about your Medicare eligibility, please contact Social Security at 1-800-772-1213. TTY users should call 1-800-325-0778.')],\n",
       " 'output': 'Yes, your spouse Wilma is eligible for Medicare based on her age of 66. She can enroll in Medicare three months before her 65th birthday. The initial enrollment period is seven months long, starting three months before the month she turns 65 and ending three months after the month she turns 65. She can also enroll during the General Enrollment Period, which runs from January 1 to March 31 each year. Her coverage would begin on July 1 of that year. If she misses both of these enrollment periods, she may be able to enroll during a Special Enrollment Period if she meets certain conditions. For more information about Medicare eligibility and enrollment, please visit the Medicare website at www.medicare.gov or call 1-800-MEDICARE (1-800-633-4227).'}"
      ]
     },
     "execution_count": 62,
     "metadata": {},
     "output_type": "execute_result"
    }
   ],
   "source": [
    "agent.invoke({'input': \"My spouse Wilma's age is 66\"})"
   ]
  }
 ],
 "metadata": {
  "kernelspec": {
   "display_name": "base",
   "language": "python",
   "name": "python3"
  },
  "language_info": {
   "codemirror_mode": {
    "name": "ipython",
    "version": 3
   },
   "file_extension": ".py",
   "mimetype": "text/x-python",
   "name": "python",
   "nbconvert_exporter": "python",
   "pygments_lexer": "ipython3",
   "version": "3.11.8"
  }
 },
 "nbformat": 4,
 "nbformat_minor": 2
}
