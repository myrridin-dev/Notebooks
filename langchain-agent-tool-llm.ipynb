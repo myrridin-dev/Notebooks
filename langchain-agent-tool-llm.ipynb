{
 "cells": [
  {
   "cell_type": "markdown",
   "metadata": {},
   "source": [
    "## LangChain Agent, Tool, LLM\n",
    "\n",
    "Based on:\n",
    "- [Pinecone LangChain agens](https://www.pinecone.io/learn/series/langchain/langchain-agents/)\n",
    "\n",
    "To use agents, we require three things:\n",
    "\n",
    "- A base LLM\n",
    "- A tool that we will be interacting with\n",
    "- An agent to control the interaction."
   ]
  },
  {
   "cell_type": "markdown",
   "metadata": {},
   "source": [
    "### Auth"
   ]
  },
  {
   "cell_type": "code",
   "execution_count": 280,
   "metadata": {},
   "outputs": [],
   "source": [
    "import google.auth\n",
    "import os\n",
    "import vertexai\n",
    "\n",
    "\n",
    "from dotenv import load_dotenv, dotenv_values"
   ]
  },
  {
   "cell_type": "code",
   "execution_count": 281,
   "metadata": {},
   "outputs": [
    {
     "data": {
      "text/plain": [
       "'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'"
      ]
     },
     "execution_count": 281,
     "metadata": {},
     "output_type": "execute_result"
    }
   ],
   "source": [
    "langchain_api_key = os.environ[\"LANGCHAIN_API_KEY\"] = os.getenv('LANGCHAIN_API_KEY')\n",
    "langchain_project_id = os.getenv('LANGCHAIN_PROJECT_ID')\n",
    "langchain_api_key"
   ]
  },
  {
   "cell_type": "code",
   "execution_count": 282,
   "metadata": {},
   "outputs": [],
   "source": [
    "project_id = os.getenv('PROJECT_ID')\n",
    "region_id = os.getenv('REGION_ID')\n",
    "llm_model_id = os.getenv('CHAT_MODEL')\n",
    "embedding_model_id = os.getenv('EMB_MODEL')"
   ]
  },
  {
   "cell_type": "code",
   "execution_count": 284,
   "metadata": {},
   "outputs": [
    {
     "name": "stdout",
     "output_type": "stream",
     "text": [
      "<google.oauth2.credentials.Credentials object at 0x2b3f1b050>\n"
     ]
    }
   ],
   "source": [
    "config = {\n",
    "    'project_id': project_id,\n",
    "    'llm_model_id': llm_model_id,\n",
    "    'embedding_model_id': embedding_model_id\n",
    "}\n",
    "\n",
    "# authenticate to GCP\n",
    "creds, _ = google.auth.default(quota_project_id=config[\"project_id\"])\n",
    "print(creds)"
   ]
  },
  {
   "cell_type": "markdown",
   "metadata": {},
   "source": [
    "### Models\n",
    "\n",
    "- The use of VertexAI instead of ChatVertexAI uses the [ReAct COT notebook example from GCP](https://github.com/GoogleCloudPlatform/generative-ai/blob/main/language/prompts/examples/chain_of_thought_react.ipynb)"
   ]
  },
  {
   "cell_type": "code",
   "execution_count": 285,
   "metadata": {},
   "outputs": [],
   "source": [
    "from langchain_google_vertexai import VertexAI, ChatVertexAI, VertexAIEmbeddings\n",
    "\n",
    "vertexai.init(project=project_id, location=region_id)\n",
    "\n",
    "# ChatVertexAI doesn't seem to work in the ReAct agent setting as well as VertexAI\n",
    "# llm = ChatVertexAI(\n",
    "#     credentials=creds,\n",
    "#     model_name=config[\"llm_model_id\"],\n",
    "#     temperature=0 # to pick more exact answers for tools use-cases\n",
    "# )\n",
    "\n",
    "# VertexAI seems to work as well in the ReAct agent setting as ChatVertexAI\n",
    "llm = VertexAI(\n",
    "    credentials=creds,\n",
    "    model_name=config[\"llm_model_id\"],\n",
    "    temperature=0\n",
    ")\n",
    "\n",
    "embeddings = VertexAIEmbeddings(\n",
    "    credentials=creds, model_name=config[\"embedding_model_id\"])\n"
   ]
  },
  {
   "cell_type": "markdown",
   "metadata": {},
   "source": [
    "### Tracing"
   ]
  },
  {
   "cell_type": "code",
   "execution_count": 217,
   "metadata": {},
   "outputs": [],
   "source": [
    "def trace(toggle):\n",
    "    if toggle:\n",
    "        os.environ['LANGCHAIN_TRACING_V2'] = 'true'\n",
    "        os.environ['LANGCHAIN_ENDPOINT'] = 'https://api.smith.langchain.com'\n",
    "        os.environ['LANGCHAIN_API_KEY'] = langchain_api_key\n",
    "        os.environ['LANGCHAIN_PROJECT'] = langchain_project_id\n",
    "    else:\n",
    "        del os.environ['LANGCHAIN_TRACING_V2']\n",
    "        del os.environ['LANGCHAIN_ENDPOINT']\n",
    "        del os.environ['LANGCHAIN_API_KEY']\n",
    "        del os.environ['LANGCHAIN_PROJECT']"
   ]
  },
  {
   "cell_type": "code",
   "execution_count": 218,
   "metadata": {},
   "outputs": [],
   "source": [
    "trace(True)"
   ]
  },
  {
   "cell_type": "code",
   "execution_count": 219,
   "metadata": {},
   "outputs": [
    {
     "name": "stdout",
     "output_type": "stream",
     "text": [
      "You can monitor your trace at: https://smith.langchain.com/o/2b56632f-de5b-5167-8339-f61d01e2ecb2/projects/p/3491b5eb-5738-4dbd-b4f1-bd7ed41971d4/r/0e27fd8d-0d4b-4a8f-b21f-51758f993bca?trace_id=94f473ad-0f02-44e5-a313-9bd4256709ae&start_time=2024-05-23T22:29:20.973000\n"
     ]
    }
   ],
   "source": [
    "from langsmith import Client\n",
    "\n",
    "client = Client(api_key=langchain_api_key)\n",
    "\n",
    "url = next(client.list_runs(project_name=\"default\")).url\n",
    "print(f\"You can monitor your trace at: {url}\")"
   ]
  },
  {
   "cell_type": "markdown",
   "metadata": {},
   "source": [
    "### Calculator tool\n",
    "\n",
    "- Uses [LLMMathChain](https://api.python.langchain.com/en/latest/chains/langchain.chains.llm_math.base.LLMMathChain.html): a chain that interprets a prompt and executes python code to do math."
   ]
  },
  {
   "cell_type": "code",
   "execution_count": 220,
   "metadata": {},
   "outputs": [
    {
     "data": {
      "text/plain": [
       "'Translate a math problem into a expression that can be executed using Python\\'s numexpr library. Use the output of running this code to answer the question.\\n\\nQuestion: ${Question with math problem.}\\n```text\\n${single line mathematical expression that solves the problem}\\n```\\n...numexpr.evaluate(text)...\\n```output\\n${Output of running the code}\\n```\\nAnswer: ${Answer}\\n\\nBegin.\\n\\nQuestion: What is 37593 * 67?\\n```text\\n37593 * 67\\n```\\n...numexpr.evaluate(\"37593 * 67\")...\\n```output\\n2518731\\n```\\nAnswer: 2518731\\n\\nQuestion: 37593^(1/5)\\n```text\\n37593**(1/5)\\n```\\n...numexpr.evaluate(\"37593**(1/5)\")...\\n```output\\n8.222831614237718\\n```\\nAnswer: 8.222831614237718\\n\\nQuestion: What is 2*4?\\n'"
      ]
     },
     "execution_count": 220,
     "metadata": {},
     "output_type": "execute_result"
    }
   ],
   "source": [
    "from langchain.chains import LLMMathChain\n",
    "from langchain.agents import Tool\n",
    "\n",
    "llm_math = LLMMathChain.from_llm(llm)\n",
    "llm_math.prompt.format(question=\"What is 2*4?\")"
   ]
  },
  {
   "cell_type": "code",
   "execution_count": 221,
   "metadata": {},
   "outputs": [
    {
     "data": {
      "text/plain": [
       "{'question': 'What is 2*4?', 'answer': 'Answer: 8'}"
      ]
     },
     "execution_count": 221,
     "metadata": {},
     "output_type": "execute_result"
    }
   ],
   "source": [
    "llm_math.invoke(\"What is 2*4?\")"
   ]
  },
  {
   "cell_type": "code",
   "execution_count": 222,
   "metadata": {},
   "outputs": [],
   "source": [
    "calculator_tool = Tool(\n",
    "    name='Calculator',\n",
    "    func=llm_math.run, # .run on top of an existing chain\n",
    "    description='A tool that is useful when the user needs answers to math questions.'\n",
    ")"
   ]
  },
  {
   "cell_type": "markdown",
   "metadata": {},
   "source": [
    "#### Add to list of tools"
   ]
  },
  {
   "cell_type": "code",
   "execution_count": 223,
   "metadata": {},
   "outputs": [],
   "source": [
    "# when giving tools to LLM, we must pass as list of tools\n",
    "tools = [calculator_tool]"
   ]
  },
  {
   "cell_type": "markdown",
   "metadata": {},
   "source": [
    "### Agent\n",
    "\n",
    "So far we have an llm and a tool but not an agent. To use agents, we require three things:\n",
    "\n",
    "- A base LLM\n",
    "- A tool that we will be interacting with\n",
    "- An agent to control the interaction"
   ]
  },
  {
   "cell_type": "markdown",
   "metadata": {},
   "source": [
    "#### Zero-shot agents\n",
    "- Zero-shot means the agent functions on the current action only — it has no memory.\n",
    "- It uses the ReAct framework to decide which tool to use, based solely on the tool’s `description`.\n",
    "- The ReAct standard prompt is [hwchase17/react](https://smith.langchain.com/hub/hwchase17/react)\n",
    "- ReAct can be thought about as an LLM that could cycle through Reasoning and Action steps. Enabling a multi-step process for identifying answers."
   ]
  },
  {
   "cell_type": "code",
   "execution_count": 385,
   "metadata": {},
   "outputs": [],
   "source": [
    "from langchain import hub\n",
    "from langchain.agents import initialize_agent, AgentType\n",
    "\n",
    "# this agent uses hwchase17/structured-chat-agent as the prompt\n",
    "agent = initialize_agent(\n",
    "    tools,\n",
    "    llm,\n",
    "    agent=AgentType.STRUCTURED_CHAT_ZERO_SHOT_REACT_DESCRIPTION,\n",
    "    verbose=True,\n",
    ")"
   ]
  },
  {
   "cell_type": "code",
   "execution_count": 386,
   "metadata": {},
   "outputs": [
    {
     "name": "stdout",
     "output_type": "stream",
     "text": [
      "\n",
      "\n",
      "\u001b[1m> Entering new AgentExecutor chain...\u001b[0m\n",
      "\u001b[32;1m\u001b[1;3mAction:\n",
      "```\n",
      "{\n",
      "  \"action\": \"Calculator\",\n",
      "  \"action_input\": \"17+32\"\n",
      "}\n",
      "```\n",
      "\u001b[0m\n",
      "Observation: \u001b[36;1m\u001b[1;3mAnswer: 49\u001b[0m\n",
      "Thought:\u001b[32;1m\u001b[1;3m## Action:\n",
      "\n",
      "```json\n",
      "{\n",
      "  \"action\": \"Final Answer\",\n",
      "  \"action_input\": \"The answer is 49.\"\n",
      "}\n",
      "```\n",
      "\n",
      "## \u001b[0m\n",
      "\n",
      "\u001b[1m> Finished chain.\u001b[0m\n"
     ]
    },
    {
     "data": {
      "text/plain": [
       "{'input': 'What is 17+32?', 'output': 'The answer is 49.'}"
      ]
     },
     "execution_count": 386,
     "metadata": {},
     "output_type": "execute_result"
    }
   ],
   "source": [
    "agent.invoke({'input': 'What is 17+32?'})"
   ]
  },
  {
   "cell_type": "code",
   "execution_count": 288,
   "metadata": {},
   "outputs": [
    {
     "name": "stdout",
     "output_type": "stream",
     "text": [
      "\n",
      "\n",
      "\u001b[1m> Entering new AgentExecutor chain...\u001b[0m\n",
      "\u001b[32;1m\u001b[1;3mAction:\n",
      "```json\n",
      "{\n",
      "  \"action\": \"Calculator\",\n",
      "  \"action_input\": \"4 + 2.5 * 8\"\n",
      "}\n",
      "```\u001b[0m\n",
      "Observation: \u001b[36;1m\u001b[1;3mAnswer: 24.0\u001b[0m\n",
      "Thought:\u001b[32;1m\u001b[1;3mAction:\n",
      "```json\n",
      "{\n",
      "  \"action\": \"Final Answer\",\n",
      "  \"action_input\": \"Mary and Giorgio have 24 apples in total.\"\n",
      "}\n",
      "```\u001b[0m\n",
      "\n",
      "\u001b[1m> Finished chain.\u001b[0m\n"
     ]
    },
    {
     "data": {
      "text/plain": [
       "{'input': 'if Mary has four apples and Giorgio brings two and a half apple boxes (apple box contains eight apples), how many apples do we have?',\n",
       " 'output': 'Mary and Giorgio have 24 apples in total.'}"
      ]
     },
     "execution_count": 288,
     "metadata": {},
     "output_type": "execute_result"
    }
   ],
   "source": [
    "agent.invoke({\n",
    "    \"input\": \"if Mary has four apples and Giorgio brings two and a half apple \" \\\n",
    "        \"boxes (apple box contains eight apples), how many apples do we \" \\\n",
    "            \"have?\"})"
   ]
  },
  {
   "cell_type": "code",
   "execution_count": 244,
   "metadata": {},
   "outputs": [
    {
     "name": "stdout",
     "output_type": "stream",
     "text": [
      "\n",
      "\n",
      "\u001b[1m> Entering new AgentExecutor chain...\u001b[0m\n",
      "\u001b[32;1m\u001b[1;3mAction:\n",
      "```\n",
      "{\n",
      "  \"action\": \"Final Answer\",\n",
      "  \"action_input\": \"You do not need 2 socks. You have 4 socks and you need 2 socks for each of your 2 shoes, so you need 4 socks in total. Therefore, you do not need any socks.\"\n",
      "}\n",
      "```\n",
      "\u001b[0m\n",
      "\n",
      "\u001b[1m> Finished chain.\u001b[0m\n"
     ]
    },
    {
     "data": {
      "text/plain": [
       "{'input': 'If I had 2 shoes and 4 socks and two socks are enough for one shoe, how many socks do I not need?',\n",
       " 'output': 'You do not need 2 socks. You have 4 socks and you need 2 socks for each of your 2 shoes, so you need 4 socks in total. Therefore, you do not need any socks.'}"
      ]
     },
     "execution_count": 244,
     "metadata": {},
     "output_type": "execute_result"
    }
   ],
   "source": [
    "agent.invoke({\n",
    "    \"input\":\"If I had 2 shoes and 4 socks and two socks are enough for one shoe, how many socks do I not need?\"})"
   ]
  },
  {
   "cell_type": "markdown",
   "metadata": {},
   "source": [
    "##### Non-math questions to agent"
   ]
  },
  {
   "cell_type": "code",
   "execution_count": 245,
   "metadata": {},
   "outputs": [
    {
     "name": "stdout",
     "output_type": "stream",
     "text": [
      "\n",
      "\n",
      "\u001b[1m> Entering new AgentExecutor chain...\u001b[0m\n",
      "\u001b[32;1m\u001b[1;3mAction:\n",
      "```\n",
      "{\n",
      "  \"action\": \"Final Answer\",\n",
      "  \"action_input\": \"I am sorry, I cannot answer that question. I do not have access to real-time weather information.\"\n",
      "}\n",
      "```\n",
      "\u001b[0m\n",
      "\n",
      "\u001b[1m> Finished chain.\u001b[0m\n"
     ]
    },
    {
     "data": {
      "text/plain": [
       "{'input': 'What is the weather tomorrow?',\n",
       " 'output': 'I am sorry, I cannot answer that question. I do not have access to real-time weather information.'}"
      ]
     },
     "execution_count": 245,
     "metadata": {},
     "output_type": "execute_result"
    }
   ],
   "source": [
    "agent.invoke({'input':'What is the weather tomorrow?'})"
   ]
  },
  {
   "cell_type": "markdown",
   "metadata": {},
   "source": [
    "### Fallback tool"
   ]
  },
  {
   "cell_type": "code",
   "execution_count": 246,
   "metadata": {},
   "outputs": [],
   "source": [
    "from langchain.prompts import PromptTemplate\n",
    "from langchain.chains import LLMChain\n",
    "\n",
    "fallback_llm_prompt = PromptTemplate(\n",
    "    input_variables=[\"query\"],\n",
    "    template=\"{query}\"\n",
    ")\n",
    "\n",
    "fallback_llm_chain = LLMChain(llm=llm, prompt=fallback_llm_prompt)\n",
    "\n",
    "fallback_llm_tool = Tool(\n",
    "    name='Fallback Tool',\n",
    "    func=fallback_llm_chain.run,\n",
    "    description=\"use this tool for general purpose queries and logic that aren't Medicare questions or math questions\"\n",
    ")"
   ]
  },
  {
   "cell_type": "markdown",
   "metadata": {},
   "source": [
    "### Add to list of tools"
   ]
  },
  {
   "cell_type": "code",
   "execution_count": 247,
   "metadata": {},
   "outputs": [],
   "source": [
    "tools = [\n",
    "    calculator_tool,\n",
    "    fallback_llm_tool\n",
    "]"
   ]
  },
  {
   "cell_type": "markdown",
   "metadata": {},
   "source": [
    "### Reinitialize agent"
   ]
  },
  {
   "cell_type": "code",
   "execution_count": 383,
   "metadata": {},
   "outputs": [],
   "source": [
    "from langchain.agents import AgentExecutor, create_structured_chat_agent\n",
    "\n",
    "# this agent uses hwchase17/structured-chat-agent as the prompt\n",
    "agent = initialize_agent(\n",
    "    tools,\n",
    "    llm,\n",
    "    agent=AgentType.STRUCTURED_CHAT_ZERO_SHOT_REACT_DESCRIPTION,\n",
    "    verbose=True,\n",
    ")"
   ]
  },
  {
   "cell_type": "code",
   "execution_count": 384,
   "metadata": {},
   "outputs": [
    {
     "name": "stdout",
     "output_type": "stream",
     "text": [
      "\n",
      "\n",
      "\u001b[1m> Entering new AgentExecutor chain...\u001b[0m\n",
      "\u001b[32;1m\u001b[1;3mAction:\n",
      "```\n",
      "{\n",
      "  \"action\": \"Fallback Tool\",\n",
      "  \"action_input\": \"What is the weather tomorrow?\"\n",
      "}\n",
      "```\u001b[0m\n",
      "Observation: \u001b[33;1m\u001b[1;3mI do not have access to real-time weather information. To get the most up-to-date weather forecast for your location, I recommend checking a reliable weather app or website. \n",
      "\n",
      "Would you like me to try and find a weather forecast for your location from a different source? \n",
      "\u001b[0m\n",
      "Thought:\u001b[32;1m\u001b[1;3mAction:\n",
      "```\n",
      "{\n",
      "  \"action\": \"Final Answer\",\n",
      "  \"action_input\": \"I do not have access to real-time weather information. To get the most up-to-date weather forecast for your location, I recommend checking a reliable weather app or website. \n",
      "\n",
      "Would you like me to try and find a weather forecast for your location from a different source? \"\n",
      "}\n",
      "```\n",
      "\u001b[0m\n",
      "\n",
      "\u001b[1m> Finished chain.\u001b[0m\n"
     ]
    },
    {
     "data": {
      "text/plain": [
       "{'input': 'What is the weather tomorrow?',\n",
       " 'output': 'I do not have access to real-time weather information. To get the most up-to-date weather forecast for your location, I recommend checking a reliable weather app or website. \\n\\nWould you like me to try and find a weather forecast for your location from a different source? '}"
      ]
     },
     "execution_count": 384,
     "metadata": {},
     "output_type": "execute_result"
    }
   ],
   "source": [
    "agent.invoke({'input': 'What is the weather tomorrow?'})"
   ]
  },
  {
   "cell_type": "markdown",
   "metadata": {},
   "source": [
    "#### Ask fallback questions to agent"
   ]
  },
  {
   "cell_type": "code",
   "execution_count": 290,
   "metadata": {},
   "outputs": [
    {
     "name": "stdout",
     "output_type": "stream",
     "text": [
      "\n",
      "\n",
      "\u001b[1m> Entering new AgentExecutor chain...\u001b[0m\n",
      "\u001b[32;1m\u001b[1;3mAction:\n",
      "```\n",
      "{\n",
      "  \"action\": \"Fallback Tool\",\n",
      "  \"action_input\": \"What is the weather tomorrow?\"\n",
      "}\n",
      "```\u001b[0m\n",
      "Observation: \u001b[33;1m\u001b[1;3mI do not have access to real-time weather information. To get the most accurate and up-to-date weather forecast for tomorrow, I recommend checking a reliable weather source such as the National Weather Service or a local news station. \n",
      "\n",
      "Would you like me to try and find the weather forecast for you from another source? \n",
      "\u001b[0m\n",
      "Thought:\u001b[32;1m\u001b[1;3mAction:\n",
      "```\n",
      "{\n",
      "  \"action\": \"Fallback Tool\",\n",
      "  \"action_input\": \"What is the weather tomorrow?\"\n",
      "}\n",
      "```\u001b[0m\n",
      "Observation: \u001b[33;1m\u001b[1;3mI do not have access to real-time information, including weather forecasts. To get the most accurate and up-to-date weather information for tomorrow, I recommend checking a reliable weather source such as the National Weather Service or a local news station. \n",
      "\n",
      "Would you like me to try and find the weather forecast for you from another source? \n",
      "\u001b[0m\n",
      "Thought:\u001b[32;1m\u001b[1;3mAction:\n",
      "```\n",
      "{\n",
      "  \"action\": \"Fallback Tool\",\n",
      "  \"action_input\": \"What is the weather tomorrow?\"\n",
      "}\n",
      "```\n",
      "\u001b[0m\n",
      "Observation: \u001b[33;1m\u001b[1;3mI do not have access to real-time information, including weather forecasts. To get the most accurate and up-to-date weather information for tomorrow, I recommend checking a reliable weather source such as the National Weather Service or a local news station. \n",
      "\u001b[0m\n",
      "Thought:\u001b[32;1m\u001b[1;3mAction:\n",
      "```\n",
      "{\n",
      "  \"action\": \"Final Answer\",\n",
      "  \"action_input\": \"I am sorry, I do not have access to real-time information, including weather forecasts. To get the most accurate and up-to-date weather information for tomorrow, I recommend checking a reliable weather source such as the National Weather Service or a local news station.\"\n",
      "}\n",
      "```\n",
      "\u001b[0m\n",
      "\n",
      "\u001b[1m> Finished chain.\u001b[0m\n"
     ]
    },
    {
     "data": {
      "text/plain": [
       "{'input': 'What is the weather tomorrow?',\n",
       " 'output': 'I am sorry, I do not have access to real-time information, including weather forecasts. To get the most accurate and up-to-date weather information for tomorrow, I recommend checking a reliable weather source such as the National Weather Service or a local news station.'}"
      ]
     },
     "execution_count": 290,
     "metadata": {},
     "output_type": "execute_result"
    }
   ],
   "source": [
    "agent.invoke({'input': 'What is the weather tomorrow?'})"
   ]
  },
  {
   "cell_type": "markdown",
   "metadata": {},
   "source": [
    "#### Do math questions still work?"
   ]
  },
  {
   "cell_type": "code",
   "execution_count": 291,
   "metadata": {},
   "outputs": [
    {
     "name": "stdout",
     "output_type": "stream",
     "text": [
      "\n",
      "\n",
      "\u001b[1m> Entering new AgentExecutor chain...\u001b[0m\n",
      "\u001b[32;1m\u001b[1;3mAction:\n",
      "```\n",
      "{\n",
      "  \"action\": \"Calculator\",\n",
      "  \"action_input\": \"17^3\"\n",
      "}\n",
      "```\n",
      "\u001b[0m\n",
      "Observation: \u001b[36;1m\u001b[1;3mAnswer: 4913\u001b[0m\n",
      "Thought:\u001b[32;1m\u001b[1;3mAction:\n",
      "```\n",
      "{\n",
      "  \"action\": \"Final Answer\",\n",
      "  \"action_input\": \"17 to the power of 3 is 4913.\"\n",
      "}\n",
      "```\u001b[0m\n",
      "\n",
      "\u001b[1m> Finished chain.\u001b[0m\n"
     ]
    },
    {
     "data": {
      "text/plain": [
       "{'input': 'What is seventeen to the power of 3?',\n",
       " 'output': '17 to the power of 3 is 4913.'}"
      ]
     },
     "execution_count": 291,
     "metadata": {},
     "output_type": "execute_result"
    }
   ],
   "source": [
    "agent.invoke({'input':'What is seventeen to the power of 3?'})"
   ]
  },
  {
   "cell_type": "markdown",
   "metadata": {},
   "source": [
    "#### How about combination math and general questions?"
   ]
  },
  {
   "cell_type": "code",
   "execution_count": 292,
   "metadata": {},
   "outputs": [
    {
     "name": "stdout",
     "output_type": "stream",
     "text": [
      "\n",
      "\n",
      "\u001b[1m> Entering new AgentExecutor chain...\u001b[0m\n",
      "\u001b[32;1m\u001b[1;3mAction:\n",
      "```\n",
      "{\n",
      "  \"action\": \"Calculator\",\n",
      "  \"action_input\": \"6 * 30\"\n",
      "}\n",
      "```\n",
      "\u001b[0m\n",
      "Observation: \u001b[36;1m\u001b[1;3mAnswer: 180\u001b[0m\n",
      "Thought:\u001b[32;1m\u001b[1;3mAction:\n",
      "```\n",
      "{\n",
      "  \"action\": \"Fallback Tool\",\n",
      "  \"action_input\": \"What is this plant called?\"\n",
      "}\n",
      "```\n",
      "\u001b[0m\n",
      "Observation: \u001b[33;1m\u001b[1;3mI am sorry, but I cannot answer your question without an image of the plant. Please provide an image of the plant you are referring to, and I will do my best to identify it for you.\u001b[0m\n",
      "Thought:\u001b[32;1m\u001b[1;3mAction:\n",
      "```\n",
      "{\n",
      "  \"action\": \"Final Answer\",\n",
      "  \"action_input\": \"A plant can grow 180 fruits in 30 days. I am sorry, but I cannot answer your question about the name of the plant without an image of the plant. Please provide an image of the plant you are referring to, and I will do my best to identify it for you.\"\n",
      "}\n",
      "```\u001b[0m\n",
      "\n",
      "\u001b[1m> Finished chain.\u001b[0m\n"
     ]
    },
    {
     "data": {
      "text/plain": [
       "{'input': 'A plant can grow 6 fruit per day. How many fruits grow in 30 days? What is this plant called?',\n",
       " 'output': 'A plant can grow 180 fruits in 30 days. I am sorry, but I cannot answer your question about the name of the plant without an image of the plant. Please provide an image of the plant you are referring to, and I will do my best to identify it for you.'}"
      ]
     },
     "execution_count": 292,
     "metadata": {},
     "output_type": "execute_result"
    }
   ],
   "source": [
    "agent.invoke({'input':'A plant can grow 6 fruit per day. How many fruits grow in 30 days? What is this plant called?'})"
   ]
  },
  {
   "cell_type": "markdown",
   "metadata": {},
   "source": [
    "### Medicare tool"
   ]
  },
  {
   "cell_type": "markdown",
   "metadata": {},
   "source": [
    "#### Data"
   ]
  },
  {
   "cell_type": "code",
   "execution_count": 293,
   "metadata": {},
   "outputs": [],
   "source": [
    "from langchain_community.document_loaders import PyPDFLoader\n",
    "from langchain_community.vectorstores import Chroma \n",
    "from langchain_text_splitters import RecursiveCharacterTextSplitter\n",
    "from langchain_google_vertexai import VertexAIEmbeddings\n",
    "\n",
    "loader = PyPDFLoader(\"https://www.medicare.gov/Pubs/pdf/10050-medicare-and-you.pdf\", extract_images=True)\n",
    "docs = loader.load()\n",
    "\n",
    "text_splitter = RecursiveCharacterTextSplitter()\n",
    "documents = text_splitter.split_documents(docs)\n",
    "db = Chroma.from_documents(documents, embeddings)"
   ]
  },
  {
   "cell_type": "markdown",
   "metadata": {},
   "source": [
    "#### Retriever"
   ]
  },
  {
   "cell_type": "code",
   "execution_count": 294,
   "metadata": {},
   "outputs": [],
   "source": [
    "from langchain import hub\n",
    "from langchain_core.runnables import RunnablePassthrough\n",
    "from langchain.schema import StrOutputParser\n",
    "\n",
    "retriever = db.as_retriever(search_kwargs={'k':1}) # just one doc"
   ]
  },
  {
   "cell_type": "markdown",
   "metadata": {},
   "source": [
    "#### Tool"
   ]
  },
  {
   "cell_type": "code",
   "execution_count": 295,
   "metadata": {},
   "outputs": [],
   "source": [
    "from langchain.tools.retriever import create_retriever_tool\n",
    "\n",
    "medicare_tool = create_retriever_tool(\n",
    "    retriever,\n",
    "    \"Medicare Knowledge Base\",\n",
    "    \"Query a retriever to get information about Medicare questions\"\n",
    ")"
   ]
  },
  {
   "cell_type": "code",
   "execution_count": 296,
   "metadata": {},
   "outputs": [
    {
     "data": {
      "text/plain": [
       "'9\\nWhat are the parts of \\nMedicare?\\nPart A (Hospital Insurance) \\nHelps cover:\\n• Inpatient care in hospitals\\n• Skilled nursing facility care\\n• Hospice care\\n• Home health care\\nGo to pages 25–29. \\nPart B (Medical Insurance)\\nHelps cover:\\n• Services from doctors and other health care providers\\n• Outpatient care\\n• Home health care\\n• Durable medical equipment (like wheelchairs, walkers, \\nhospital beds, and other equipment)\\n• Many preventive services  (like screenings, shots or vaccines, \\nand yearly “ Wellness” visits) \\nGo to pages 29–55 . \\nPart D (Drug coverage) \\nHelps cover the cost of prescription drugs (including many recommended shots or vaccines).\\nPlans that offer Medicare drug coverage (Part D) are run by \\nprivate insurance companies that follow rules set by Medicare.\\nGo to pages 79–90.'"
      ]
     },
     "execution_count": 296,
     "metadata": {},
     "output_type": "execute_result"
    }
   ],
   "source": [
    "medicare_tool.invoke('What is Medicare part D?')"
   ]
  },
  {
   "cell_type": "markdown",
   "metadata": {},
   "source": [
    "#### Structured output\n",
    "\n",
    "- This is important to avoid future steps where agent needs to take directed action\n",
    "- We want the final answer to have two fields: one for the answer, and then another that is a list of sources\n",
    "- TODO"
   ]
  },
  {
   "cell_type": "code",
   "execution_count": 266,
   "metadata": {},
   "outputs": [],
   "source": [
    "from typing import List\n",
    "\n",
    "from langchain_core.pydantic_v1 import BaseModel, Field"
   ]
  },
  {
   "cell_type": "markdown",
   "metadata": {},
   "source": [
    "### Add to list of tools"
   ]
  },
  {
   "cell_type": "code",
   "execution_count": 297,
   "metadata": {},
   "outputs": [],
   "source": [
    "tools = [\n",
    "    calculator_tool,\n",
    "    fallback_llm_tool,\n",
    "    medicare_tool\n",
    "]"
   ]
  },
  {
   "cell_type": "markdown",
   "metadata": {},
   "source": [
    "### Reinitialize agent"
   ]
  },
  {
   "cell_type": "code",
   "execution_count": 339,
   "metadata": {},
   "outputs": [],
   "source": [
    "# this agent uses hwchase17/structured-chat-agent as the prompt\n",
    "agent = initialize_agent(\n",
    "    tools,\n",
    "    llm,\n",
    "    agent=AgentType.STRUCTURED_CHAT_ZERO_SHOT_REACT_DESCRIPTION,\n",
    "    verbose=True,\n",
    ")"
   ]
  },
  {
   "cell_type": "markdown",
   "metadata": {},
   "source": [
    "#### Ask medicare questions to agent"
   ]
  },
  {
   "cell_type": "code",
   "execution_count": 340,
   "metadata": {},
   "outputs": [
    {
     "name": "stdout",
     "output_type": "stream",
     "text": [
      "\n",
      "\n",
      "\u001b[1m> Entering new AgentExecutor chain...\u001b[0m\n",
      "\u001b[32;1m\u001b[1;3mAction:\n",
      "```\n",
      "{\n",
      "  \"action\": \"Medicare Knowledge Base\",\n",
      "  \"action_input\": {\n",
      "    \"query\": \"What is Medicare Part A?\"\n",
      "  }\n",
      "}\n",
      "```\u001b[0m\n",
      "Observation: \u001b[38;5;200m\u001b[1;3m9\n",
      "What are the parts of \n",
      "Medicare?\n",
      "Part A (Hospital Insurance) \n",
      "Helps cover:\n",
      "• Inpatient care in hospitals\n",
      "• Skilled nursing facility care\n",
      "• Hospice care\n",
      "• Home health care\n",
      "Go to pages 25–29. \n",
      "Part B (Medical Insurance)\n",
      "Helps cover:\n",
      "• Services from doctors and other health care providers\n",
      "• Outpatient care\n",
      "• Home health care\n",
      "• Durable medical equipment (like wheelchairs, walkers, \n",
      "hospital beds, and other equipment)\n",
      "• Many preventive services  (like screenings, shots or vaccines, \n",
      "and yearly “ Wellness” visits) \n",
      "Go to pages 29–55 . \n",
      "Part D (Drug coverage) \n",
      "Helps cover the cost of prescription drugs (including many recommended shots or vaccines).\n",
      "Plans that offer Medicare drug coverage (Part D) are run by \n",
      "private insurance companies that follow rules set by Medicare.\n",
      "Go to pages 79–90.\u001b[0m\n",
      "Thought:\u001b[32;1m\u001b[1;3mAction:\n",
      "```\n",
      "{\n",
      "  \"action\": \"Final Answer\",\n",
      "  \"action_input\": \"Medicare Part A is the part of Medicare that helps cover inpatient hospital care, skilled nursing facility care, hospice care, and home health care. It is a valuable resource for people who need these types of care.\"\n",
      "}\n",
      "```\n",
      "\u001b[0m\n",
      "\n",
      "\u001b[1m> Finished chain.\u001b[0m\n"
     ]
    },
    {
     "data": {
      "text/plain": [
       "{'input': 'What is Medicare part A?',\n",
       " 'output': 'Medicare Part A is the part of Medicare that helps cover inpatient hospital care, skilled nursing facility care, hospice care, and home health care. It is a valuable resource for people who need these types of care.'}"
      ]
     },
     "execution_count": 340,
     "metadata": {},
     "output_type": "execute_result"
    }
   ],
   "source": [
    "agent.invoke({'input': 'What is Medicare part A?'})"
   ]
  },
  {
   "cell_type": "markdown",
   "metadata": {},
   "source": [
    "#### Do math questions still work?"
   ]
  },
  {
   "cell_type": "code",
   "execution_count": 341,
   "metadata": {},
   "outputs": [
    {
     "name": "stdout",
     "output_type": "stream",
     "text": [
      "\n",
      "\n",
      "\u001b[1m> Entering new AgentExecutor chain...\u001b[0m\n",
      "\u001b[32;1m\u001b[1;3mAction:\n",
      "```\n",
      "{\n",
      "  \"action\": \"Calculator\",\n",
      "  \"action_input\": \"17+4\"\n",
      "}\n",
      "```\u001b[0m\n",
      "Observation: \u001b[36;1m\u001b[1;3mAnswer: 21\u001b[0m\n",
      "Thought:\u001b[32;1m\u001b[1;3mAction:\n",
      "```\n",
      "{\n",
      "  \"action\": \"Final Answer\",\n",
      "  \"action_input\": \"The answer is 21.\"\n",
      "}\n",
      "```\n",
      "\u001b[0m\n",
      "\n",
      "\u001b[1m> Finished chain.\u001b[0m\n"
     ]
    },
    {
     "data": {
      "text/plain": [
       "{'input': 'What is 17+4?', 'output': 'The answer is 21.'}"
      ]
     },
     "execution_count": 341,
     "metadata": {},
     "output_type": "execute_result"
    }
   ],
   "source": [
    "agent.invoke({'input': 'What is 17+4?'})"
   ]
  },
  {
   "cell_type": "markdown",
   "metadata": {},
   "source": [
    "#### How about combination math and general questions?"
   ]
  },
  {
   "cell_type": "code",
   "execution_count": 342,
   "metadata": {},
   "outputs": [
    {
     "name": "stdout",
     "output_type": "stream",
     "text": [
      "\n",
      "\n",
      "\u001b[1m> Entering new AgentExecutor chain...\u001b[0m\n",
      "\u001b[32;1m\u001b[1;3mAction:\n",
      "```\n",
      "{\n",
      "  \"action\": \"Fallback Tool\",\n",
      "  \"action_input\": \"What is the capital of Hungary?\"\n",
      "}\n",
      "```\n",
      "\u001b[0m\n",
      "Observation: \u001b[33;1m\u001b[1;3mThe capital of Hungary is Budapest.\u001b[0m\n",
      "Thought:\u001b[32;1m\u001b[1;3mAction:\n",
      "```\n",
      "{\n",
      "  \"action\": \"Calculator\",\n",
      "  \"action_input\": \"99 - 23\"\n",
      "}\n",
      "```\u001b[0m\n",
      "Observation: \u001b[36;1m\u001b[1;3mAnswer: 76\u001b[0m\n",
      "Thought:\u001b[32;1m\u001b[1;3mAction:\n",
      "```\n",
      "{\n",
      "  \"action\": \"Final Answer\",\n",
      "  \"action_input\": \"The capital of Hungary is Budapest. 99 minus 23 is 76.\"\n",
      "}\n",
      "```\u001b[0m\n",
      "\n",
      "\u001b[1m> Finished chain.\u001b[0m\n"
     ]
    },
    {
     "data": {
      "text/plain": [
       "{'input': 'What is the capital of Hungary? What is 99 minus 23??',\n",
       " 'output': 'The capital of Hungary is Budapest. 99 minus 23 is 76.'}"
      ]
     },
     "execution_count": 342,
     "metadata": {},
     "output_type": "execute_result"
    }
   ],
   "source": [
    "agent.invoke({'input': 'What is the capital of Hungary? What is 99 minus 23??'})"
   ]
  },
  {
   "cell_type": "code",
   "execution_count": 343,
   "metadata": {},
   "outputs": [
    {
     "name": "stdout",
     "output_type": "stream",
     "text": [
      "\n",
      "\n",
      "\u001b[1m> Entering new AgentExecutor chain...\u001b[0m\n",
      "\u001b[32;1m\u001b[1;3mAction:\n",
      "```\n",
      "{\n",
      "  \"action\": \"Medicare Knowledge Base\",\n",
      "  \"action_input\": {\n",
      "    \"query\": \"What Medicare benefits do dependents enjoy?\"\n",
      "  }\n",
      "}\n",
      "```\u001b[0m\n",
      "Observation: \u001b[38;5;200m\u001b[1;3mSECTION 2:  Find out what Medicare covers27\n",
      "Medicare also covers inpatient respite care, which is care you get in a Medicare-\n",
      "approved facility so that your usual caregiver (family member or friend) can rest. You can stay up to 5 days each time you get respite care. \n",
      "After 6 months, you can continue to get hospice care as long as the hospice \n",
      "medical director or hospice doctor recertifies (at a face-to-face meeting) that you’re still terminally ill. \n",
      "You pay:\n",
      "• Nothing for hospice care. \n",
      "• A copayment  of up to $5 per prescription for outpatient drugs for pain and \n",
      "symptom management. \n",
      "• Five percent of the Medicare-approved amount  for inpatient respite care. \n",
      "Original Medicare will be billed for your hospice care, even if you’re in a Medicare Advantage Plan . When you get hospice care, your Medicare \n",
      "Advantage Plan can still cover services that aren’t part of your terminal illness or any conditions related to your terminal illness. For more on hospice care and to find Medicare-approved providers, contact your plan or visit Medicare.gov/care-compare .\n",
      "Inpatient hospital care\n",
      "Medicare covers semi-private rooms, meals, general nursing, drugs (including methadone to treat an opioid use disorder), and other hospital services and supplies as part of your inpatient treatment. This includes care you get in acute care hospitals, critical access hospitals , inpatient rehabilitation facilities , \n",
      "long-term care hospitals , psychiatric care in inpatient psychiatric facilities, \n",
      "and inpatient care for a qualifying clinical research study. This doesn’t include private-duty nursing, a television or phone in your room (if there’s a separate charge for these items), personal care items (razors or slipper socks), or a private room, unless medically necessary . \n",
      "If you also have Part B, it generally covers 80% of the Medicare-approved amount for doctors’ services you get while you’re in a hospital. \n",
      "In each benefit period , you pay:\n",
      "• Days 1–60 (of each benefit period): $0 after you meet your Part A deductible .\n",
      "• Days 61–90 (of each benefit period): A $408 coinsurance  amount each day.\n",
      "• After day 90 (of each benefit period): An $816 coinsurance amount each day \n",
      "while using your 60 lifetime reserve day s.\n",
      "After you use all of your lifetime reserve days, you pay all costs.\n",
      "Part A only pays for up to 190 days of inpatient psychiatric hospital care \n",
      "provided in a freestanding psychiatric hospital during your lifetime. \n",
      "Note:  Hospitals are now required to include the standard charges for all of their \n",
      "items and services (including the standard charges negotiated by Medicare \n",
      "Advantage Plans) on a public website to help you make more informed decisions about your care.\u001b[0m\n",
      "Thought:\u001b[32;1m\u001b[1;3mAction:\n",
      "```\n",
      "{\n",
      "  \"action\": \"Medicare Knowledge Base\",\n",
      "  \"action_input\": {\n",
      "    \"query\": \"What Medicare benefits do dependents enjoy?\"\n",
      "  }\n",
      "}\n",
      "```\u001b[0m\n",
      "Observation: \u001b[38;5;200m\u001b[1;3mSECTION 2:  Find out what Medicare covers27\n",
      "Medicare also covers inpatient respite care, which is care you get in a Medicare-\n",
      "approved facility so that your usual caregiver (family member or friend) can rest. You can stay up to 5 days each time you get respite care. \n",
      "After 6 months, you can continue to get hospice care as long as the hospice \n",
      "medical director or hospice doctor recertifies (at a face-to-face meeting) that you’re still terminally ill. \n",
      "You pay:\n",
      "• Nothing for hospice care. \n",
      "• A copayment  of up to $5 per prescription for outpatient drugs for pain and \n",
      "symptom management. \n",
      "• Five percent of the Medicare-approved amount  for inpatient respite care. \n",
      "Original Medicare will be billed for your hospice care, even if you’re in a Medicare Advantage Plan . When you get hospice care, your Medicare \n",
      "Advantage Plan can still cover services that aren’t part of your terminal illness or any conditions related to your terminal illness. For more on hospice care and to find Medicare-approved providers, contact your plan or visit Medicare.gov/care-compare .\n",
      "Inpatient hospital care\n",
      "Medicare covers semi-private rooms, meals, general nursing, drugs (including methadone to treat an opioid use disorder), and other hospital services and supplies as part of your inpatient treatment. This includes care you get in acute care hospitals, critical access hospitals , inpatient rehabilitation facilities , \n",
      "long-term care hospitals , psychiatric care in inpatient psychiatric facilities, \n",
      "and inpatient care for a qualifying clinical research study. This doesn’t include private-duty nursing, a television or phone in your room (if there’s a separate charge for these items), personal care items (razors or slipper socks), or a private room, unless medically necessary . \n",
      "If you also have Part B, it generally covers 80% of the Medicare-approved amount for doctors’ services you get while you’re in a hospital. \n",
      "In each benefit period , you pay:\n",
      "• Days 1–60 (of each benefit period): $0 after you meet your Part A deductible .\n",
      "• Days 61–90 (of each benefit period): A $408 coinsurance  amount each day.\n",
      "• After day 90 (of each benefit period): An $816 coinsurance amount each day \n",
      "while using your 60 lifetime reserve day s.\n",
      "After you use all of your lifetime reserve days, you pay all costs.\n",
      "Part A only pays for up to 190 days of inpatient psychiatric hospital care \n",
      "provided in a freestanding psychiatric hospital during your lifetime. \n",
      "Note:  Hospitals are now required to include the standard charges for all of their \n",
      "items and services (including the standard charges negotiated by Medicare \n",
      "Advantage Plans) on a public website to help you make more informed decisions about your care.\u001b[0m\n",
      "Thought:\u001b[32;1m\u001b[1;3mAction:\n",
      "```\n",
      "{\n",
      "  \"action\": \"Final Answer\",\n",
      "  \"action_input\": \"I'm sorry, but I can't answer that question. Medicare benefits for dependents are complex and depend on a variety of factors, including the age of the dependent, their relationship to the beneficiary, and their disability status. I recommend that you contact Medicare directly for more information.\"\n",
      "}\n",
      "```\u001b[0m\n",
      "\n",
      "\u001b[1m> Finished chain.\u001b[0m\n"
     ]
    },
    {
     "data": {
      "text/plain": [
       "{'input': 'I have a son aged 10 years. I have a daughter that is 20 years older than the son. What Medicare benefits do my two dependents enjoy?',\n",
       " 'output': \"I'm sorry, but I can't answer that question. Medicare benefits for dependents are complex and depend on a variety of factors, including the age of the dependent, their relationship to the beneficiary, and their disability status. I recommend that you contact Medicare directly for more information.\"}"
      ]
     },
     "execution_count": 343,
     "metadata": {},
     "output_type": "execute_result"
    }
   ],
   "source": [
    "agent.invoke({'input': 'I have a son aged 10 years. I have a daughter that is 20 years older than the son. What Medicare benefits do my two dependents enjoy?'})"
   ]
  },
  {
   "cell_type": "markdown",
   "metadata": {},
   "source": [
    "### Agent with Memory\n",
    "- According to [LangChain AgentTypes](https://python.langchain.com/v0.1/docs/modules/agents/agent_types/) we need an agent that can support both:\n",
    "  - History\n",
    "  - Multi tools\n",
    "- That seems to be [Structured Chat](https://python.langchain.com/v0.1/docs/modules/agents/agent_types/structured_chat/)"
   ]
  },
  {
   "cell_type": "markdown",
   "metadata": {},
   "source": [
    "#### Memory"
   ]
  },
  {
   "cell_type": "code",
   "execution_count": 344,
   "metadata": {},
   "outputs": [],
   "source": [
    "memory_key='chat_history'"
   ]
  },
  {
   "cell_type": "code",
   "execution_count": 356,
   "metadata": {},
   "outputs": [],
   "source": [
    "from langchain.memory import ConversationBufferWindowMemory\n",
    "\n",
    "agent_memory = ConversationBufferWindowMemory(\n",
    "    memory_key=memory_key,\n",
    "    k=5,\n",
    "    return_messages=True\n",
    ")"
   ]
  },
  {
   "cell_type": "markdown",
   "metadata": {},
   "source": [
    "#### Agent"
   ]
  },
  {
   "cell_type": "code",
   "execution_count": 355,
   "metadata": {},
   "outputs": [],
   "source": [
    "from langchain import hub\n",
    "\n",
    "prompt = hub.pull(\"hwchase17/structured-chat-agent\")"
   ]
  },
  {
   "cell_type": "code",
   "execution_count": 371,
   "metadata": {},
   "outputs": [],
   "source": [
    "from langchain.agents import create_structured_chat_agent, AgentExecutor\n",
    "\n",
    "\n",
    "memory_agent = create_structured_chat_agent(llm, tools, prompt)\n",
    "memory_agent_executor = AgentExecutor(\n",
    "    agent=memory_agent, \n",
    "    tools=tools, \n",
    "    verbose=True, \n",
    "    memory=agent_memory,\n",
    "    return_intermediate_steps=True, \n",
    "    handle_parsing_errors=True\n",
    ")"
   ]
  },
  {
   "cell_type": "code",
   "execution_count": 372,
   "metadata": {},
   "outputs": [
    {
     "name": "stdout",
     "output_type": "stream",
     "text": [
      "\n",
      "\n",
      "\u001b[1m> Entering new AgentExecutor chain...\u001b[0m\n",
      "\u001b[32;1m\u001b[1;3mAction:\n",
      "```\n",
      "{\n",
      "  \"action\": \"Final Answer\",\n",
      "  \"action_input\": \"Hi Bob, it's nice to meet you!\"\n",
      "}\n",
      "```\n",
      "\u001b[0m\n",
      "\n",
      "\u001b[1m> Finished chain.\u001b[0m\n"
     ]
    },
    {
     "name": "stderr",
     "output_type": "stream",
     "text": [
      "/opt/homebrew/Caskroom/miniforge/base/lib/python3.11/site-packages/langchain/memory/chat_memory.py:34: UserWarning: 'ConversationBufferWindowMemory' got multiple output keys: dict_keys(['output', 'intermediate_steps']). The default 'output' key is being used. If this is not desired, please manually set 'output_key'.\n",
      "  warnings.warn(\n"
     ]
    },
    {
     "data": {
      "text/plain": [
       "{'input': 'My name is Bob!',\n",
       " 'chat_history': [HumanMessage(content='Would that be enough money to pay for a busride in the city I live in?'),\n",
       "  AIMessage(content=\"I'm sorry, I don't have enough information to answer that question. Would you like to tell me the cost of a bus ride in your city?\"),\n",
       "  HumanMessage(content='I live in NYC'),\n",
       "  AIMessage(content=\"I'm sorry, I don't have enough information to answer that question. Would you like to tell me the cost of a bus ride in your city?\")],\n",
       " 'output': \"Hi Bob, it's nice to meet you!\",\n",
       " 'intermediate_steps': []}"
      ]
     },
     "execution_count": 372,
     "metadata": {},
     "output_type": "execute_result"
    }
   ],
   "source": [
    "memory_agent_executor.invoke({\"input\": \"My name is Bob!\"})"
   ]
  },
  {
   "cell_type": "code",
   "execution_count": 373,
   "metadata": {},
   "outputs": [
    {
     "name": "stdout",
     "output_type": "stream",
     "text": [
      "\n",
      "\n",
      "\u001b[1m> Entering new AgentExecutor chain...\u001b[0m\n",
      "\u001b[32;1m\u001b[1;3m## Action:\n",
      "\n",
      "```json\n",
      "{\n",
      "  \"action\": \"Final Answer\",\n",
      "  \"action_input\": \"Your name is Bob.\"\n",
      "}\n",
      "``` \n",
      "\u001b[0m\n",
      "\n",
      "\u001b[1m> Finished chain.\u001b[0m\n"
     ]
    },
    {
     "name": "stderr",
     "output_type": "stream",
     "text": [
      "/opt/homebrew/Caskroom/miniforge/base/lib/python3.11/site-packages/langchain/memory/chat_memory.py:34: UserWarning: 'ConversationBufferWindowMemory' got multiple output keys: dict_keys(['output', 'intermediate_steps']). The default 'output' key is being used. If this is not desired, please manually set 'output_key'.\n",
      "  warnings.warn(\n"
     ]
    },
    {
     "data": {
      "text/plain": [
       "{'input': 'What is my name?',\n",
       " 'chat_history': [HumanMessage(content='Would that be enough money to pay for a busride in the city I live in?'),\n",
       "  AIMessage(content=\"I'm sorry, I don't have enough information to answer that question. Would you like to tell me the cost of a bus ride in your city?\"),\n",
       "  HumanMessage(content='I live in NYC'),\n",
       "  AIMessage(content=\"I'm sorry, I don't have enough information to answer that question. Would you like to tell me the cost of a bus ride in your city?\"),\n",
       "  HumanMessage(content='My name is Bob!'),\n",
       "  AIMessage(content=\"Hi Bob, it's nice to meet you!\")],\n",
       " 'output': 'Your name is Bob.',\n",
       " 'intermediate_steps': []}"
      ]
     },
     "execution_count": 373,
     "metadata": {},
     "output_type": "execute_result"
    }
   ],
   "source": [
    "memory_agent_executor.invoke({\"input\": \"What is my name?\"})"
   ]
  }
 ],
 "metadata": {
  "kernelspec": {
   "display_name": "base",
   "language": "python",
   "name": "python3"
  },
  "language_info": {
   "codemirror_mode": {
    "name": "ipython",
    "version": 3
   },
   "file_extension": ".py",
   "mimetype": "text/x-python",
   "name": "python",
   "nbconvert_exporter": "python",
   "pygments_lexer": "ipython3",
   "version": "3.11.8"
  }
 },
 "nbformat": 4,
 "nbformat_minor": 2
}
