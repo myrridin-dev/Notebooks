{
 "cells": [
  {
   "cell_type": "markdown",
   "metadata": {},
   "source": [
    "### TruLens\n",
    "\n",
    "Based on:\n",
    "- [TruLens and Pinecone](https://docs.pinecone.io/integrations/trulens)\n",
    "- [TruLens LangChain quickstart](https://www.trulens.org/trulens_eval/getting_started/quickstarts/langchain_quickstart/#import-from-langchain-and-trulens)\n",
    "- [TruLens + Google Cloud Vertex AI Tutorial: Improve the customers support](https://lablab.ai/t/trulens-google-vertex-ai-tutorial-improve-the-customers-support)"
   ]
  },
  {
   "cell_type": "code",
   "execution_count": 147,
   "metadata": {},
   "outputs": [],
   "source": [
    "import bs4\n",
    "import google\n",
    "import os\n",
    "import numpy as np\n",
    "\n",
    "from dotenv import load_dotenv"
   ]
  },
  {
   "cell_type": "code",
   "execution_count": 148,
   "metadata": {},
   "outputs": [],
   "source": [
    "def trace(toggle):\n",
    "    if toggle:\n",
    "        os.environ['LANGCHAIN_TRACING_V2'] = 'true'\n",
    "        os.environ['LANGCHAIN_ENDPOINT'] = 'https://api.smith.langchain.com'\n",
    "        os.environ['LANGCHAIN_API_KEY'] = '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'\n",
    "        os.environ['LANGCHAIN_PROJECT'] = 'ragas-rag-eval'\n",
    "    else:\n",
    "        del os.environ['LANGCHAIN_TRACING_V2']\n",
    "        del os.environ['LANGCHAIN_ENDPOINT']\n",
    "        del os.environ['LANGCHAIN_API_KEY']\n",
    "        del os.environ['LANGCHAIN_PROJECT']"
   ]
  },
  {
   "cell_type": "code",
   "execution_count": 149,
   "metadata": {},
   "outputs": [],
   "source": [
    "trace(True)"
   ]
  },
  {
   "cell_type": "markdown",
   "metadata": {},
   "source": [
    "### Auth"
   ]
  },
  {
   "cell_type": "code",
   "execution_count": 150,
   "metadata": {},
   "outputs": [],
   "source": [
    "PROJECT_ID='langgraph-graded-rag'\n",
    "REGION_ID='us-central1'\n",
    "CHAT_MODEL='gemini-1.0-pro'\n",
    "EMB_MODEL='textembedding-gecko'"
   ]
  },
  {
   "cell_type": "code",
   "execution_count": 151,
   "metadata": {},
   "outputs": [
    {
     "name": "stdout",
     "output_type": "stream",
     "text": [
      "<google.oauth2.credentials.Credentials object at 0x2f08a07d0>\n"
     ]
    }
   ],
   "source": [
    "config = {\n",
    "    'project_id': PROJECT_ID,\n",
    "    'chat_model_id': CHAT_MODEL,\n",
    "    'embedding_model_id': EMB_MODEL\n",
    "}\n",
    "\n",
    "# authenticate to GCP\n",
    "creds, _ = google.auth.default(quota_project_id=config[\"project_id\"])\n",
    "print(creds)"
   ]
  },
  {
   "cell_type": "code",
   "execution_count": 152,
   "metadata": {},
   "outputs": [],
   "source": [
    "load_dotenv()\n",
    "\n",
    "os.environ[\"HUGGINGFACE_API_KEY\"] = os.getenv(\"HUGGINGFACE_API_KEY\")\n",
    "os.environ[\"OPENAI_API_KEY\"] = os.getenv(\"OPENAI_API_KEY\") # gpt-3.5"
   ]
  },
  {
   "cell_type": "markdown",
   "metadata": {},
   "source": [
    "### Models"
   ]
  },
  {
   "cell_type": "code",
   "execution_count": 153,
   "metadata": {},
   "outputs": [],
   "source": [
    "import vertexai\n",
    "from langchain_google_vertexai import ChatVertexAI, VertexAIEmbeddings\n",
    "\n",
    "vertexai.init(project=PROJECT_ID, location=REGION_ID)\n",
    "\n",
    "llm = ChatVertexAI(\n",
    "    credentials=creds,\n",
    "    model_name=config[\"chat_model_id\"],\n",
    ")\n",
    "\n",
    "embeddings = VertexAIEmbeddings(\n",
    "    credentials=creds, model_name=config[\"embedding_model_id\"]\n",
    ")"
   ]
  },
  {
   "cell_type": "markdown",
   "metadata": {},
   "source": [
    "### Data"
   ]
  },
  {
   "cell_type": "code",
   "execution_count": 154,
   "metadata": {},
   "outputs": [],
   "source": [
    "from langchain_community.document_loaders import PyPDFLoader, WebBaseLoader\n",
    "\n",
    "def medicare_docs():\n",
    "    # uses rapidocr-onnxruntime to extract text from images\n",
    "    loader = PyPDFLoader(\"https://www.medicare.gov/Pubs/pdf/10050-medicare-and-you.pdf\", extract_images=True)\n",
    "    return loader.load()\n",
    "\n",
    "def llm_agent_docs():\n",
    "    loader = WebBaseLoader(\n",
    "        web_paths=(\"https://lilianweng.github.io/posts/2023-06-23-agent/\",),\n",
    "        bs_kwargs=dict(\n",
    "            parse_only=bs4.SoupStrainer(\n",
    "                class_=(\"post-content\", \"post-title\", \"post-header\")\n",
    "            )\n",
    "        ),\n",
    "    )\n",
    "    return loader.load()"
   ]
  },
  {
   "cell_type": "code",
   "execution_count": 155,
   "metadata": {},
   "outputs": [
    {
     "data": {
      "text/plain": [
       "[Document(page_content='2024Medicare\\n& YouThe official U.S. government \\nMedicare handbook \\n', metadata={'source': 'https://www.medicare.gov/Pubs/pdf/10050-medicare-and-you.pdf', 'page': 0})]"
      ]
     },
     "execution_count": 155,
     "metadata": {},
     "output_type": "execute_result"
    }
   ],
   "source": [
    "docs = medicare_docs()\n",
    "docs[:1]"
   ]
  },
  {
   "cell_type": "markdown",
   "metadata": {},
   "source": [
    "### Vector DB"
   ]
  },
  {
   "cell_type": "code",
   "execution_count": 156,
   "metadata": {},
   "outputs": [],
   "source": [
    "from langchain_community.vectorstores import Chroma \n",
    "from langchain_text_splitters import RecursiveCharacterTextSplitter\n",
    "\n",
    "text_splitter = RecursiveCharacterTextSplitter()\n",
    "documents = text_splitter.split_documents(docs)\n",
    "\n",
    "db = Chroma.from_documents(documents, embeddings)"
   ]
  },
  {
   "cell_type": "code",
   "execution_count": 157,
   "metadata": {},
   "outputs": [
    {
     "data": {
      "text/plain": [
       "[Document(page_content='3\\nContents\\nWhat’s new & important? ......................................................................................................... 2\\nIndex of topics .............................................................................................................................. 4\\nWhat are the parts of Medicare? ........................................................................................... 9\\nYour Medicare options ............................................................................................................. 10\\nAt a glance: Original Medicare vs. Medicare Advantage ........................................... 11\\nGet started with Medicare ...................................................................................................... 13\\nGet help finding the right coverage for you ................................................................... 14\\nSection 1: Signing up for Medicare ..................................................................................... 15\\nSection 2: Find out what Medicare covers ..................................................................... 25\\nSection 3: Original Medicare ................................................................................................ 57\\nSection 4: Medicare Advantage Plans & other options ............................................. 61\\nSection 5: Medicare Supplement Insurance (Medigap) ........................................... 75\\nSection 6: Medicare drug coverage (Part D)  ................................................................. 79\\nSection 7: Get help paying your health & drug costs  ................................................ 91\\nSection 8: Your Medicare rights & protections  ............................................................ 97\\nSection 9: Get more information  ..................................................................................... 107\\nSection 10: Definitions  .......................................................................................................... 119\\nNeed information in an accessible format or another language?  \\nGo to pages 123 an d 125–126.\\nSymbol key \\nLook for these symbols to help you understand your Medicare coverage.\\nCompare: Shows \\ncomparisons between Original Medicare and Medicare Advantage Plans .\\nCost & coverage:  Gives you \\ninformation about costs and coverage for services.\\nPreventive service:  \\nGives you details about \\npreventive services .Important! Important: Highlights information that’s important to review.\\nNew! New: Highlights what’s new in this year’s “Medicare & You.”\\nHelps you find important \\ninformation on Medicare.gov .', metadata={'page': 2, 'source': 'https://www.medicare.gov/Pubs/pdf/10050-medicare-and-you.pdf'}),\n",
       " Document(page_content='3\\nContents\\nWhat’s new & important? ......................................................................................................... 2\\nIndex of topics .............................................................................................................................. 4\\nWhat are the parts of Medicare? ........................................................................................... 9\\nYour Medicare options ............................................................................................................. 10\\nAt a glance: Original Medicare vs. Medicare Advantage ........................................... 11\\nGet started with Medicare ...................................................................................................... 13\\nGet help finding the right coverage for you ................................................................... 14\\nSection 1: Signing up for Medicare ..................................................................................... 15\\nSection 2: Find out what Medicare covers ..................................................................... 25\\nSection 3: Original Medicare ................................................................................................ 57\\nSection 4: Medicare Advantage Plans & other options ............................................. 61\\nSection 5: Medicare Supplement Insurance (Medigap) ........................................... 75\\nSection 6: Medicare drug coverage (Part D)  ................................................................. 79\\nSection 7: Get help paying your health & drug costs  ................................................ 91\\nSection 8: Your Medicare rights & protections  ............................................................ 97\\nSection 9: Get more information  ..................................................................................... 107\\nSection 10: Definitions  .......................................................................................................... 119\\nNeed information in an accessible format or another language?  \\nGo to pages 123 an d 125–126.\\nSymbol key \\nLook for these symbols to help you understand your Medicare coverage.\\nCompare: Shows \\ncomparisons between Original Medicare and Medicare Advantage Plans .\\nCost & coverage:  Gives you \\ninformation about costs and coverage for services.\\nPreventive service:  \\nGives you details about \\npreventive services .Important! Important: Highlights information that’s important to review.\\nNew! New: Highlights what’s new in this year’s “Medicare & You.”\\nHelps you find important \\ninformation on Medicare.gov .', metadata={'page': 2, 'source': 'https://www.medicare.gov/Pubs/pdf/10050-medicare-and-you.pdf'}),\n",
       " Document(page_content='10\\nYour Medicare options\\nWhen you first sign up for Medicare, and during certain times of the year, you can \\nchoose how you get your Medicare coverage. There are 2 main ways to get Medicare:\\nOriginal Medicare\\n• Original Medicare includes Medicare Part A (Hospital Insurance) and Part B (Medical Insurance).\\n• You can join a separate Medicare drug plan to get Medicare drug coverage (Part D).\\n• You can use any doctor or hospital that takes Medicare, anywhere in the U.S.\\n• To help pay your out-of-pocket costs in Original Medicare (like your 20% coinsurance ), you can also shop for \\nand buy supplemental coverage.Medicare Advantage  \\n(also known as Part C)\\n• Medicare Advantage is a Medicare-approved plan from a private company that offers an alternative to Original Medicare for your health and drug coverage. These “bundled” plans include Part A, Part B, and usually Part D.\\n• In many cases, you can only use doctors who are in the plan’s network.\\n• In many cases, you may need to get approval from your plan before it covers certain drugs or services. \\n• Plans may have lower or higher out-of-pocket costs than Original Medicare. You may also have an additional premium .\\n• Plans may offer some extra benefits that Original Medicare doesn’t cover—like certain vision, hearing, and dental services.\\n Part A\\n Part B\\nYou can add:\\n Part D\\nYou can also add:\\n Supplemental  \\n coverage\\nThis includes Medicare Supplement Insurance (Medigap ). Go to Section 5 \\n(starting on page 75 ) to learn \\nmore about Medigap. Or, you can use coverage from a current or former employer or union, or Medicaid . Part A\\n Part B\\nMost plans include:\\n Part D\\n Some extra benefits\\nSome plans also include:\\n Lower out-of-pocket  \\n costsGo to Section 3 (starting on page 57 ) to learn more about \\nOriginal Medicare.Go to Section 4 (starting on page 61 ) to learn more about \\nMedicare Advantage.', metadata={'page': 9, 'source': 'https://www.medicare.gov/Pubs/pdf/10050-medicare-and-you.pdf'}),\n",
       " Document(page_content='10\\nYour Medicare options\\nWhen you first sign up for Medicare, and during certain times of the year, you can \\nchoose how you get your Medicare coverage. There are 2 main ways to get Medicare:\\nOriginal Medicare\\n• Original Medicare includes Medicare Part A (Hospital Insurance) and Part B (Medical Insurance).\\n• You can join a separate Medicare drug plan to get Medicare drug coverage (Part D).\\n• You can use any doctor or hospital that takes Medicare, anywhere in the U.S.\\n• To help pay your out-of-pocket costs in Original Medicare (like your 20% coinsurance ), you can also shop for \\nand buy supplemental coverage.Medicare Advantage  \\n(also known as Part C)\\n• Medicare Advantage is a Medicare-approved plan from a private company that offers an alternative to Original Medicare for your health and drug coverage. These “bundled” plans include Part A, Part B, and usually Part D.\\n• In many cases, you can only use doctors who are in the plan’s network.\\n• In many cases, you may need to get approval from your plan before it covers certain drugs or services. \\n• Plans may have lower or higher out-of-pocket costs than Original Medicare. You may also have an additional premium .\\n• Plans may offer some extra benefits that Original Medicare doesn’t cover—like certain vision, hearing, and dental services.\\n Part A\\n Part B\\nYou can add:\\n Part D\\nYou can also add:\\n Supplemental  \\n coverage\\nThis includes Medicare Supplement Insurance (Medigap ). Go to Section 5 \\n(starting on page 75 ) to learn \\nmore about Medigap. Or, you can use coverage from a current or former employer or union, or Medicaid . Part A\\n Part B\\nMost plans include:\\n Part D\\n Some extra benefits\\nSome plans also include:\\n Lower out-of-pocket  \\n costsGo to Section 3 (starting on page 57 ) to learn more about \\nOriginal Medicare.Go to Section 4 (starting on page 61 ) to learn more about \\nMedicare Advantage.', metadata={'page': 9, 'source': 'https://www.medicare.gov/Pubs/pdf/10050-medicare-and-you.pdf'})]"
      ]
     },
     "execution_count": 157,
     "metadata": {},
     "output_type": "execute_result"
    }
   ],
   "source": [
    "db.similarity_search('Medicare Overview')"
   ]
  },
  {
   "cell_type": "markdown",
   "metadata": {},
   "source": [
    "### RAG"
   ]
  },
  {
   "cell_type": "code",
   "execution_count": 158,
   "metadata": {},
   "outputs": [],
   "source": [
    "from langchain import hub"
   ]
  },
  {
   "cell_type": "markdown",
   "metadata": {},
   "source": [
    "#### Prompt"
   ]
  },
  {
   "cell_type": "code",
   "execution_count": 159,
   "metadata": {},
   "outputs": [
    {
     "data": {
      "text/plain": [
       "\"Human: You are an assistant for question-answering tasks. Use the following pieces of retrieved context to answer the question. If you don't know the answer, just say that you don't know. Use three sentences maximum and keep the answer concise.\\nQuestion: <QUESTION> \\nContext: <CONTEXT> \\nAnswer:\""
      ]
     },
     "execution_count": 159,
     "metadata": {},
     "output_type": "execute_result"
    }
   ],
   "source": [
    "prompt = hub.pull(\"rlm/rag-prompt\")\n",
    "prompt.format(question='<QUESTION>', context='<CONTEXT>')"
   ]
  },
  {
   "cell_type": "code",
   "execution_count": 175,
   "metadata": {},
   "outputs": [],
   "source": [
    "from langchain_core.runnables import RunnablePassthrough\n",
    "from langchain.schema import StrOutputParser\n",
    "\n",
    "# only 1 doc\n",
    "retriever = db.as_retriever(search_kwargs={'k': 1})\n",
    "\n",
    "def format_docs(docs):\n",
    "    return \"\\n\\n\".join(doc.page_content for doc in docs)\n",
    "\n",
    "rag_chain = (\n",
    "    {\"context\": retriever | format_docs, \"question\": RunnablePassthrough()}\n",
    "    | prompt\n",
    "    | llm\n",
    "    | StrOutputParser()\n",
    ")"
   ]
  },
  {
   "cell_type": "code",
   "execution_count": 176,
   "metadata": {},
   "outputs": [
    {
     "data": {
      "text/plain": [
       "'Medicare Part A is a hospital insurance plan that helps cover the costs of inpatient care in hospitals, skilled nursing facility care, hospice care, and home health care. \\nPart A is typically free for those aged 65 and over who have worked and paid Medicare taxes for at least 10 years. '"
      ]
     },
     "execution_count": 176,
     "metadata": {},
     "output_type": "execute_result"
    }
   ],
   "source": [
    "rag_chain.invoke(\"What is Medicare part A?\")"
   ]
  },
  {
   "cell_type": "markdown",
   "metadata": {},
   "source": [
    "### Metrics\n",
    "\n",
    "- TruLens comes with some [stock feedback functions](https://www.trulens.org/trulens_eval/evaluation/feedback_implementations/stock/)\n",
    "- TruLens allows feedback providers. The [current list of feedback providers are here](https://github.com/truera/trulens/tree/main/trulens_eval/trulens_eval/feedback/provider)\n",
    "- For this notebook, we're using Huggingface as feedback provider ([hugs.py](https://github.com/truera/trulens/blob/main/trulens_eval/trulens_eval/feedback/provider/hugs.py))"
   ]
  },
  {
   "cell_type": "code",
   "execution_count": 162,
   "metadata": {},
   "outputs": [],
   "source": [
    "# Imports main tools for eval\n",
    "from trulens_eval import Huggingface, Feedback, Tru, feedback, Select, TruChain\n",
    "from trulens_eval.feedback.provider.hugs import Huggingface"
   ]
  },
  {
   "cell_type": "code",
   "execution_count": 163,
   "metadata": {},
   "outputs": [],
   "source": [
    "tru = Tru()\n",
    "# Huggingface as feedback provider\n",
    "hf_feedback_provider = Huggingface()\n",
    "\n",
    "# OpenAI as feedback provider\n",
    "openai_feedback_provider = feedback.OpenAI()\n",
    "\n",
    "# standard definitions \n",
    "query = Select.Record.app.retriever._get_relevant_documents.args.query  \n",
    "context = Select.Record.app.retriever.get_relevant_documents.rets[:].page_content"
   ]
  },
  {
   "cell_type": "code",
   "execution_count": 179,
   "metadata": {},
   "outputs": [
    {
     "ename": "RuntimeError",
     "evalue": "Endpoint openai request failed 4 time(s): \n\tError code: 429 - {'error': {'message': 'You exceeded your current quota, please check your plan and billing details. For more information on this error, read the docs: https://platform.openai.com/docs/guides/error-codes/api-errors.', 'type': 'insufficient_quota', 'param': None, 'code': 'insufficient_quota'}}\n\tError code: 429 - {'error': {'message': 'You exceeded your current quota, please check your plan and billing details. For more information on this error, read the docs: https://platform.openai.com/docs/guides/error-codes/api-errors.', 'type': 'insufficient_quota', 'param': None, 'code': 'insufficient_quota'}}\n\tError code: 429 - {'error': {'message': 'You exceeded your current quota, please check your plan and billing details. For more information on this error, read the docs: https://platform.openai.com/docs/guides/error-codes/api-errors.', 'type': 'insufficient_quota', 'param': None, 'code': 'insufficient_quota'}}\n\tError code: 429 - {'error': {'message': 'You exceeded your current quota, please check your plan and billing details. For more information on this error, read the docs: https://platform.openai.com/docs/guides/error-codes/api-errors.', 'type': 'insufficient_quota', 'param': None, 'code': 'insufficient_quota'}}",
     "output_type": "error",
     "traceback": [
      "\u001b[0;31m---------------------------------------------------------------------------\u001b[0m",
      "\u001b[0;31mRuntimeError\u001b[0m                              Traceback (most recent call last)",
      "Cell \u001b[0;32mIn[179], line 1\u001b[0m\n\u001b[0;32m----> 1\u001b[0m \u001b[43mopenai_feedback_provider\u001b[49m\u001b[38;5;241;43m.\u001b[39;49m\u001b[43mrelevance\u001b[49m\u001b[43m(\u001b[49m\n\u001b[1;32m      2\u001b[0m \u001b[43m    \u001b[49m\u001b[43mprompt\u001b[49m\u001b[38;5;241;43m=\u001b[39;49m\u001b[38;5;124;43m\"\u001b[39;49m\u001b[38;5;124;43mWhere is Germany?\u001b[39;49m\u001b[38;5;124;43m\"\u001b[39;49m\u001b[43m,\u001b[49m\n\u001b[1;32m      3\u001b[0m \u001b[43m    \u001b[49m\u001b[43mresponse\u001b[49m\u001b[38;5;241;43m=\u001b[39;49m\u001b[38;5;124;43m\"\u001b[39;49m\u001b[38;5;124;43mPoland is in Europe.\u001b[39;49m\u001b[38;5;124;43m\"\u001b[39;49m\n\u001b[1;32m      4\u001b[0m \u001b[43m)\u001b[49m\n",
      "File \u001b[0;32m/opt/homebrew/Caskroom/miniforge/base/lib/python3.11/site-packages/trulens_eval/feedback/provider/base.py:396\u001b[0m, in \u001b[0;36mLLMProvider.relevance\u001b[0;34m(self, prompt, response)\u001b[0m\n\u001b[1;32m    369\u001b[0m \u001b[38;5;28;01mdef\u001b[39;00m \u001b[38;5;21mrelevance\u001b[39m(\u001b[38;5;28mself\u001b[39m, prompt: \u001b[38;5;28mstr\u001b[39m, response: \u001b[38;5;28mstr\u001b[39m) \u001b[38;5;241m-\u001b[39m\u001b[38;5;241m>\u001b[39m \u001b[38;5;28mfloat\u001b[39m:\n\u001b[1;32m    370\u001b[0m \u001b[38;5;250m    \u001b[39m\u001b[38;5;124;03m\"\"\"\u001b[39;00m\n\u001b[1;32m    371\u001b[0m \u001b[38;5;124;03m    Uses chat completion model. A function that completes a\u001b[39;00m\n\u001b[1;32m    372\u001b[0m \u001b[38;5;124;03m    template to check the relevance of the response to a prompt.\u001b[39;00m\n\u001b[0;32m   (...)\u001b[0m\n\u001b[1;32m    394\u001b[0m \u001b[38;5;124;03m            \"relevant\".\u001b[39;00m\n\u001b[1;32m    395\u001b[0m \u001b[38;5;124;03m    \"\"\"\u001b[39;00m\n\u001b[0;32m--> 396\u001b[0m     \u001b[38;5;28;01mreturn\u001b[39;00m \u001b[38;5;28;43mself\u001b[39;49m\u001b[38;5;241;43m.\u001b[39;49m\u001b[43mgenerate_score\u001b[49m\u001b[43m(\u001b[49m\n\u001b[1;32m    397\u001b[0m \u001b[43m        \u001b[49m\u001b[43msystem_prompt\u001b[49m\u001b[38;5;241;43m=\u001b[39;49m\u001b[43mprompts\u001b[49m\u001b[38;5;241;43m.\u001b[39;49m\u001b[43mANSWER_RELEVANCE_SYSTEM\u001b[49m\u001b[43m,\u001b[49m\n\u001b[1;32m    398\u001b[0m \u001b[43m        \u001b[49m\u001b[43muser_prompt\u001b[49m\u001b[38;5;241;43m=\u001b[39;49m\u001b[38;5;28;43mstr\u001b[39;49m\u001b[38;5;241;43m.\u001b[39;49m\u001b[43mformat\u001b[49m\u001b[43m(\u001b[49m\n\u001b[1;32m    399\u001b[0m \u001b[43m            \u001b[49m\u001b[43mprompts\u001b[49m\u001b[38;5;241;43m.\u001b[39;49m\u001b[43mANSWER_RELEVANCE_USER\u001b[49m\u001b[43m,\u001b[49m\u001b[43m \u001b[49m\u001b[43mprompt\u001b[49m\u001b[38;5;241;43m=\u001b[39;49m\u001b[43mprompt\u001b[49m\u001b[43m,\u001b[49m\u001b[43m \u001b[49m\u001b[43mresponse\u001b[49m\u001b[38;5;241;43m=\u001b[39;49m\u001b[43mresponse\u001b[49m\n\u001b[1;32m    400\u001b[0m \u001b[43m        \u001b[49m\u001b[43m)\u001b[49m\n\u001b[1;32m    401\u001b[0m \u001b[43m    \u001b[49m\u001b[43m)\u001b[49m\n",
      "File \u001b[0;32m/opt/homebrew/Caskroom/miniforge/base/lib/python3.11/site-packages/trulens_eval/feedback/provider/base.py:160\u001b[0m, in \u001b[0;36mLLMProvider.generate_score\u001b[0;34m(self, system_prompt, user_prompt, normalize, temperature)\u001b[0m\n\u001b[1;32m    157\u001b[0m \u001b[38;5;28;01mif\u001b[39;00m user_prompt \u001b[38;5;129;01mis\u001b[39;00m \u001b[38;5;129;01mnot\u001b[39;00m \u001b[38;5;28;01mNone\u001b[39;00m:\n\u001b[1;32m    158\u001b[0m     llm_messages\u001b[38;5;241m.\u001b[39mappend({\u001b[38;5;124m\"\u001b[39m\u001b[38;5;124mrole\u001b[39m\u001b[38;5;124m\"\u001b[39m: \u001b[38;5;124m\"\u001b[39m\u001b[38;5;124muser\u001b[39m\u001b[38;5;124m\"\u001b[39m, \u001b[38;5;124m\"\u001b[39m\u001b[38;5;124mcontent\u001b[39m\u001b[38;5;124m\"\u001b[39m: user_prompt})\n\u001b[0;32m--> 160\u001b[0m response \u001b[38;5;241m=\u001b[39m \u001b[38;5;28;43mself\u001b[39;49m\u001b[38;5;241;43m.\u001b[39;49m\u001b[43mendpoint\u001b[49m\u001b[38;5;241;43m.\u001b[39;49m\u001b[43mrun_in_pace\u001b[49m\u001b[43m(\u001b[49m\n\u001b[1;32m    161\u001b[0m \u001b[43m    \u001b[49m\u001b[43mfunc\u001b[49m\u001b[38;5;241;43m=\u001b[39;49m\u001b[38;5;28;43mself\u001b[39;49m\u001b[38;5;241;43m.\u001b[39;49m\u001b[43m_create_chat_completion\u001b[49m\u001b[43m,\u001b[49m\n\u001b[1;32m    162\u001b[0m \u001b[43m    \u001b[49m\u001b[43mmessages\u001b[49m\u001b[38;5;241;43m=\u001b[39;49m\u001b[43mllm_messages\u001b[49m\u001b[43m,\u001b[49m\n\u001b[1;32m    163\u001b[0m \u001b[43m    \u001b[49m\u001b[43mtemperature\u001b[49m\u001b[38;5;241;43m=\u001b[39;49m\u001b[43mtemperature\u001b[49m\n\u001b[1;32m    164\u001b[0m \u001b[43m\u001b[49m\u001b[43m)\u001b[49m\n\u001b[1;32m    166\u001b[0m \u001b[38;5;28;01mreturn\u001b[39;00m mod_generated_utils\u001b[38;5;241m.\u001b[39mre_0_10_rating(response) \u001b[38;5;241m/\u001b[39m normalize\n",
      "File \u001b[0;32m/opt/homebrew/Caskroom/miniforge/base/lib/python3.11/site-packages/trulens_eval/feedback/provider/endpoint/base.py:308\u001b[0m, in \u001b[0;36mEndpoint.run_in_pace\u001b[0;34m(self, func, *args, **kwargs)\u001b[0m\n\u001b[1;32m    305\u001b[0m             sleep(retry_delay)\n\u001b[1;32m    306\u001b[0m             retry_delay \u001b[38;5;241m*\u001b[39m\u001b[38;5;241m=\u001b[39m \u001b[38;5;241m2\u001b[39m\n\u001b[0;32m--> 308\u001b[0m \u001b[38;5;28;01mraise\u001b[39;00m \u001b[38;5;167;01mRuntimeError\u001b[39;00m(\n\u001b[1;32m    309\u001b[0m     \u001b[38;5;124mf\u001b[39m\u001b[38;5;124m\"\u001b[39m\u001b[38;5;124mEndpoint \u001b[39m\u001b[38;5;132;01m{\u001b[39;00m\u001b[38;5;28mself\u001b[39m\u001b[38;5;241m.\u001b[39mname\u001b[38;5;132;01m}\u001b[39;00m\u001b[38;5;124m request failed \u001b[39m\u001b[38;5;132;01m{\u001b[39;00m\u001b[38;5;28mself\u001b[39m\u001b[38;5;241m.\u001b[39mretries\u001b[38;5;241m+\u001b[39m\u001b[38;5;241m1\u001b[39m\u001b[38;5;132;01m}\u001b[39;00m\u001b[38;5;124m time(s): \u001b[39m\u001b[38;5;130;01m\\n\u001b[39;00m\u001b[38;5;130;01m\\t\u001b[39;00m\u001b[38;5;124m\"\u001b[39m\n\u001b[1;32m    310\u001b[0m     \u001b[38;5;241m+\u001b[39m (\u001b[38;5;124m\"\u001b[39m\u001b[38;5;130;01m\\n\u001b[39;00m\u001b[38;5;130;01m\\t\u001b[39;00m\u001b[38;5;124m\"\u001b[39m\u001b[38;5;241m.\u001b[39mjoin(\u001b[38;5;28mmap\u001b[39m(\u001b[38;5;28mstr\u001b[39m, errors)))\n\u001b[1;32m    311\u001b[0m )\n",
      "\u001b[0;31mRuntimeError\u001b[0m: Endpoint openai request failed 4 time(s): \n\tError code: 429 - {'error': {'message': 'You exceeded your current quota, please check your plan and billing details. For more information on this error, read the docs: https://platform.openai.com/docs/guides/error-codes/api-errors.', 'type': 'insufficient_quota', 'param': None, 'code': 'insufficient_quota'}}\n\tError code: 429 - {'error': {'message': 'You exceeded your current quota, please check your plan and billing details. For more information on this error, read the docs: https://platform.openai.com/docs/guides/error-codes/api-errors.', 'type': 'insufficient_quota', 'param': None, 'code': 'insufficient_quota'}}\n\tError code: 429 - {'error': {'message': 'You exceeded your current quota, please check your plan and billing details. For more information on this error, read the docs: https://platform.openai.com/docs/guides/error-codes/api-errors.', 'type': 'insufficient_quota', 'param': None, 'code': 'insufficient_quota'}}\n\tError code: 429 - {'error': {'message': 'You exceeded your current quota, please check your plan and billing details. For more information on this error, read the docs: https://platform.openai.com/docs/guides/error-codes/api-errors.', 'type': 'insufficient_quota', 'param': None, 'code': 'insufficient_quota'}}"
     ]
    }
   ],
   "source": [
    "openai_feedback_provider.relevance(\n",
    "    prompt=\"Where is Germany?\",\n",
    "    response=\"Poland is in Europe.\"\n",
    ")"
   ]
  },
  {
   "cell_type": "code",
   "execution_count": 181,
   "metadata": {},
   "outputs": [
    {
     "ename": "RuntimeError",
     "evalue": "Rate limit reached. You reached free usage limit (reset hourly). Please subscribe to a plan at https://huggingface.co/pricing to use the API at this rate",
     "output_type": "error",
     "traceback": [
      "\u001b[0;31m---------------------------------------------------------------------------\u001b[0m",
      "\u001b[0;31mRuntimeError\u001b[0m                              Traceback (most recent call last)",
      "Cell \u001b[0;32mIn[181], line 1\u001b[0m\n\u001b[0;32m----> 1\u001b[0m \u001b[43mhf_feedback_provider\u001b[49m\u001b[38;5;241;43m.\u001b[39;49m\u001b[43mcontext_relevance\u001b[49m\u001b[43m(\u001b[49m\n\u001b[1;32m      2\u001b[0m \u001b[43m    \u001b[49m\u001b[43mprompt\u001b[49m\u001b[38;5;241;43m=\u001b[39;49m\u001b[38;5;124;43m\"\u001b[39;49m\u001b[38;5;124;43mYou are a Medicare expert\u001b[39;49m\u001b[38;5;124;43m\"\u001b[39;49m\u001b[43m,\u001b[49m\n\u001b[1;32m      3\u001b[0m \u001b[43m    \u001b[49m\u001b[43mcontext\u001b[49m\u001b[38;5;241;43m=\u001b[39;49m\u001b[38;5;124;43m\"\u001b[39;49m\u001b[38;5;124;43m2024 has a lot of cool new things about Medicare\u001b[39;49m\u001b[38;5;124;43m\"\u001b[39;49m\n\u001b[1;32m      4\u001b[0m \u001b[43m)\u001b[49m\n",
      "File \u001b[0;32m/opt/homebrew/Caskroom/miniforge/base/lib/python3.11/site-packages/trulens_eval/feedback/provider/hugs.py:79\u001b[0m, in \u001b[0;36m_tci.<locals>.wrapper\u001b[0;34m(*args, **kwargs)\u001b[0m\n\u001b[1;32m     76\u001b[0m             \u001b[38;5;28;01mif\u001b[39;00m \u001b[38;5;28mlen\u001b[39m(v) \u001b[38;5;241m==\u001b[39m \u001b[38;5;241m0\u001b[39m:\n\u001b[1;32m     77\u001b[0m                 \u001b[38;5;28;01mraise\u001b[39;00m \u001b[38;5;167;01mValueError\u001b[39;00m(\u001b[38;5;124mf\u001b[39m\u001b[38;5;124m\"\u001b[39m\u001b[38;5;132;01m{\u001b[39;00mpident\u001b[38;5;132;01m}\u001b[39;00m\u001b[38;5;124m must be non-empty.\u001b[39m\u001b[38;5;124m\"\u001b[39m)\n\u001b[0;32m---> 79\u001b[0m \u001b[38;5;28;01mreturn\u001b[39;00m \u001b[43mfunc\u001b[49m\u001b[43m(\u001b[49m\u001b[38;5;241;43m*\u001b[39;49m\u001b[43mbindings\u001b[49m\u001b[38;5;241;43m.\u001b[39;49m\u001b[43margs\u001b[49m\u001b[43m,\u001b[49m\u001b[43m \u001b[49m\u001b[38;5;241;43m*\u001b[39;49m\u001b[38;5;241;43m*\u001b[39;49m\u001b[43mbindings\u001b[49m\u001b[38;5;241;43m.\u001b[39;49m\u001b[43mkwargs\u001b[49m\u001b[43m)\u001b[49m\n",
      "File \u001b[0;32m/opt/homebrew/Caskroom/miniforge/base/lib/python3.11/site-packages/trulens_eval/feedback/provider/hugs.py:279\u001b[0m, in \u001b[0;36mHuggingface.context_relevance\u001b[0;34m(self, prompt, context)\u001b[0m\n\u001b[1;32m    277\u001b[0m ctx_relevnace_string \u001b[38;5;241m=\u001b[39m prompt \u001b[38;5;241m+\u001b[39m \u001b[38;5;124m'\u001b[39m\u001b[38;5;124m<eos>\u001b[39m\u001b[38;5;124m'\u001b[39m \u001b[38;5;241m+\u001b[39m context\n\u001b[1;32m    278\u001b[0m payload \u001b[38;5;241m=\u001b[39m {\u001b[38;5;124m\"\u001b[39m\u001b[38;5;124minputs\u001b[39m\u001b[38;5;124m\"\u001b[39m: ctx_relevnace_string}\n\u001b[0;32m--> 279\u001b[0m hf_response \u001b[38;5;241m=\u001b[39m \u001b[38;5;28;43mself\u001b[39;49m\u001b[38;5;241;43m.\u001b[39;49m\u001b[43mendpoint\u001b[49m\u001b[38;5;241;43m.\u001b[39;49m\u001b[43mpost\u001b[49m\u001b[43m(\u001b[49m\n\u001b[1;32m    280\u001b[0m \u001b[43m    \u001b[49m\u001b[43murl\u001b[49m\u001b[38;5;241;43m=\u001b[39;49m\u001b[43mHUGS_CONTEXT_RELEVANCE_API_URL\u001b[49m\u001b[43m,\u001b[49m\u001b[43m \u001b[49m\u001b[43mpayload\u001b[49m\u001b[38;5;241;43m=\u001b[39;49m\u001b[43mpayload\u001b[49m\n\u001b[1;32m    281\u001b[0m \u001b[43m\u001b[49m\u001b[43m)\u001b[49m\n\u001b[1;32m    283\u001b[0m \u001b[38;5;28;01mfor\u001b[39;00m label \u001b[38;5;129;01min\u001b[39;00m hf_response:\n\u001b[1;32m    284\u001b[0m     \u001b[38;5;28;01mif\u001b[39;00m label[\u001b[38;5;124m'\u001b[39m\u001b[38;5;124mlabel\u001b[39m\u001b[38;5;124m'\u001b[39m] \u001b[38;5;241m==\u001b[39m \u001b[38;5;124m'\u001b[39m\u001b[38;5;124mcontext_relevance\u001b[39m\u001b[38;5;124m'\u001b[39m:\n",
      "File \u001b[0;32m/opt/homebrew/Caskroom/miniforge/base/lib/python3.11/site-packages/trulens_eval/feedback/provider/endpoint/base.py:268\u001b[0m, in \u001b[0;36mEndpoint.post\u001b[0;34m(self, url, payload, timeout)\u001b[0m\n\u001b[1;32m    266\u001b[0m         \u001b[38;5;28;01mreturn\u001b[39;00m \u001b[38;5;28mself\u001b[39m\u001b[38;5;241m.\u001b[39mpost(url, payload)\n\u001b[1;32m    267\u001b[0m     \u001b[38;5;28;01melse\u001b[39;00m:\n\u001b[0;32m--> 268\u001b[0m         \u001b[38;5;28;01mraise\u001b[39;00m \u001b[38;5;167;01mRuntimeError\u001b[39;00m(error)\n\u001b[1;32m    270\u001b[0m \u001b[38;5;28;01massert\u001b[39;00m \u001b[38;5;28misinstance\u001b[39m(\n\u001b[1;32m    271\u001b[0m     j, Sequence\n\u001b[1;32m    272\u001b[0m ) \u001b[38;5;129;01mand\u001b[39;00m \u001b[38;5;28mlen\u001b[39m(j) \u001b[38;5;241m>\u001b[39m \u001b[38;5;241m0\u001b[39m, \u001b[38;5;124mf\u001b[39m\u001b[38;5;124m\"\u001b[39m\u001b[38;5;124mPost did not return a sequence: \u001b[39m\u001b[38;5;132;01m{\u001b[39;00mj\u001b[38;5;132;01m}\u001b[39;00m\u001b[38;5;124m\"\u001b[39m\n\u001b[1;32m    274\u001b[0m \u001b[38;5;28;01mif\u001b[39;00m \u001b[38;5;28mlen\u001b[39m(j) \u001b[38;5;241m==\u001b[39m \u001b[38;5;241m1\u001b[39m:\n",
      "\u001b[0;31mRuntimeError\u001b[0m: Rate limit reached. You reached free usage limit (reset hourly). Please subscribe to a plan at https://huggingface.co/pricing to use the API at this rate"
     ]
    }
   ],
   "source": [
    "hf_feedback_provider.context_relevance(\n",
    "    prompt=\"You are a Medicare expert\",\n",
    "    context=\"2024 has a lot of cool new things about Medicare\"\n",
    ")"
   ]
  },
  {
   "cell_type": "markdown",
   "metadata": {},
   "source": [
    "#### Language match\n",
    "\n",
    "`f_lang_match = Feedback(feedback_provider.language_match).on_input_output()`\n",
    "\n",
    "- This feedback mechanism utilizes the feedback provider to check the language match between the user's input and the chatbot's output. Ensuring language consistency is key to maintaining a coherent conversation flow.\n",
    "- For this notebook, we're using Huggingface as feedback provider ([language_match](https://github.com/truera/trulens/blob/main/trulens_eval/trulens_eval/feedback/provider/hugs.py#L134)) which uses [this model](https://huggingface.co/papluca/xlm-roberta-base-language-detection) trained on [this dataset](https://huggingface.co/datasets/papluca/language-identification#additional-information):\n",
    "  - _\"This dataset was built during The Hugging Face Course Community Event, which took place in November 2021, with the goal of collecting a dataset with enough samples for each language to train a robust language detection model.\"_"
   ]
  },
  {
   "cell_type": "code",
   "execution_count": 164,
   "metadata": {},
   "outputs": [
    {
     "name": "stdout",
     "output_type": "stream",
     "text": [
      "✅ In language_match, input text1 will be set to __record__.main_input or `Select.RecordInput` .\n",
      "✅ In language_match, input text2 will be set to __record__.main_output or `Select.RecordOutput` .\n"
     ]
    }
   ],
   "source": [
    "f_lang_match = Feedback(hf_feedback_provider.language_match).on_input_output()"
   ]
  },
  {
   "cell_type": "markdown",
   "metadata": {},
   "source": [
    "#### Toxic content\n",
    "\n",
    "`f_nontoxic = Feedback(feedback_provider.not_toxic).on_output()`\n",
    "\n",
    "- This feedback mechanism ensures that the chatbot's responses are free from toxic content. Maintaining a safe and respectful communication environment is crucial, especially in customer support scenarios.\n",
    "- For this notebook, we're using Huggingface as feedback provider ([toxic](https://github.com/truera/trulens/blob/main/trulens_eval/trulens_eval/feedback/provider/hugs.py#L331)) which uses [this model](https://huggingface.co/martin-ha/toxic-comment-model) trained on 10% of [this dataset](https://www.kaggle.com/c/jigsaw-unintended-bias-in-toxicity-classification/data)"
   ]
  },
  {
   "cell_type": "code",
   "execution_count": 165,
   "metadata": {},
   "outputs": [
    {
     "name": "stdout",
     "output_type": "stream",
     "text": [
      "✅ In toxic, input text will be set to __record__.main_output or `Select.RecordOutput` .\n"
     ]
    }
   ],
   "source": [
    "f_toxic = Feedback(hf_feedback_provider.toxic).on_output()"
   ]
  },
  {
   "cell_type": "markdown",
   "metadata": {},
   "source": [
    "#### PII detection\n",
    "\n",
    "`f_pii_detection = Feedback(feedback_provider.pii_detection).on_input()`\n",
    "\n",
    "- This feedback mechanism detects any Personally Identifiable Information (PII) in the user's input, helping to prevent the chatbot from inadvertently storing or processing sensitive data.\n",
    "- For this notebook, we're using Huggingface as feedback provider ([pii detection](https://github.com/truera/trulens/blob/main/trulens_eval/trulens_eval/feedback/provider/hugs.py#L419)) that uses [this model](https://huggingface.co/bigcode/starpii) trained on [this dataset](https://huggingface.co/bigcode/starpii#dataset).\n",
    "- The model classifies text into 6 target classes: Names, Emails, Keys, Passwords, IP addresses and Usernames."
   ]
  },
  {
   "cell_type": "code",
   "execution_count": 166,
   "metadata": {},
   "outputs": [
    {
     "name": "stdout",
     "output_type": "stream",
     "text": [
      "✅ In pii_detection, input text will be set to __record__.main_input or `Select.RecordInput` .\n"
     ]
    }
   ],
   "source": [
    "f_pii_detection = Feedback(hf_feedback_provider.pii_detection).on_input()"
   ]
  },
  {
   "cell_type": "markdown",
   "metadata": {},
   "source": [
    "#### Sentiment"
   ]
  },
  {
   "cell_type": "markdown",
   "metadata": {},
   "source": [
    "`f_positive_sentiment = Feedback(feedback_provider.positive_sentiment).on_output()`\n",
    "\n",
    "- This monitors the chatbot's output for positive sentiment, which is beneficial for maintaining a friendly and positive interaction with users.\n",
    "- For this notebook, we're using Huggingface as feedback provider ([positive_sentiment](https://github.com/truera/trulens/blob/main/trulens_eval/trulens_eval/feedback/provider/hugs.py#L293)) which uses [this model](https://huggingface.co/cardiffnlp/twitter-roberta-base-sentiment) trained on [this dataset](https://huggingface.co/cardiffnlp/twitter-roberta-base-sentiment#twitter-roberta-base-for-sentiment-analysis):\n",
    "  - ~58M tweets\n",
    "  - finetuned for sentiment analysis with the TweetEval benchmark\n",
    "  - model is suitable for English (for a similar multilingual model, see [XLM-T](https://huggingface.co/cardiffnlp/twitter-xlm-roberta-base-sentiment))."
   ]
  },
  {
   "cell_type": "code",
   "execution_count": 167,
   "metadata": {},
   "outputs": [
    {
     "name": "stdout",
     "output_type": "stream",
     "text": [
      "✅ In positive_sentiment, input text will be set to __record__.main_output or `Select.RecordOutput` .\n"
     ]
    }
   ],
   "source": [
    "f_positive_sentiment = Feedback(hf_feedback_provider.positive_sentiment).on_output()"
   ]
  },
  {
   "cell_type": "markdown",
   "metadata": {},
   "source": [
    "#### Question / Answer Relevance\n",
    "\n",
    "`f_qa_relevance = Feedback(feedback_provider.relevance).on_input_output()`\n",
    "\n",
    "- This checks the question / answer relevance between overall question and answer\n",
    "- The implementation of [relevance](https://github.com/truera/trulens/blob/main/trulens_eval/trulens_eval/feedback/provider/base.py#L369) in the base feedback provider class uses 2 prompts to compute a score:\n",
    "  - [ANSWER_RELEVANCE_SYSTEM](https://github.com/truera/trulens/blob/main/trulens_eval/trulens_eval/feedback/prompts.py#L37) is a [system_prompt](https://github.com/truera/trulens/blob/main/trulens_eval/trulens_eval/feedback/v2/feedback.py#L248) with instructions to the LLM to perform as a relevance grader and grade the relevance of the supplied `response` against the `prompt` on a grade scale of 0 to 10.\n",
    "  - [ANSWER_RELEVANCE_USER](https://github.com/truera/trulens/blob/main/trulens_eval/trulens_eval/feedback/prompts.py#L38) is a [user_prompt](https://github.com/truera/trulens/blob/main/trulens_eval/trulens_eval/feedback/v2/feedback.py#L279) which plugs in the `prompt` and `response`"
   ]
  },
  {
   "cell_type": "code",
   "execution_count": 168,
   "metadata": {},
   "outputs": [
    {
     "name": "stdout",
     "output_type": "stream",
     "text": [
      "✅ In relevance, input prompt will be set to __record__.main_input or `Select.RecordInput` .\n",
      "✅ In relevance, input response will be set to __record__.main_output or `Select.RecordOutput` .\n"
     ]
    }
   ],
   "source": [
    "# Question/answer relevance between overall question and answer.\n",
    "f_qa_relevance = Feedback(openai_feedback_provider.relevance).on_input_output()"
   ]
  },
  {
   "cell_type": "markdown",
   "metadata": {},
   "source": [
    "#### Question / Statement Relevance\n",
    "\n",
    "`f_qs_relevance = Feedback(feedback_provider.qs_relevance).on_input().on(Select.Record.app.combine_documents_chain._call.args.inputs.input_documents[:].page_content).aggregate(np.mean)`\n",
    "\n",
    "- This checks the question / statement relevance between question and RAG statements\n",
    "- The implementation will need to evaluate the context chunks, which are an intermediate step of the LLM app\n",
    "  - The on(Select) references the langchain app object call chain\n",
    "  - The last line aggregate (np.mean) specifies how feedback outputs are to be aggregated. This only applies to cases where the argument specification names more than one value for an input or output."
   ]
  },
  {
   "cell_type": "code",
   "execution_count": 169,
   "metadata": {},
   "outputs": [
    {
     "name": "stdout",
     "output_type": "stream",
     "text": [
      "✅ In qs_relevance, input question will be set to __record__.main_input or `Select.RecordInput` .\n",
      "✅ In qs_relevance, input context will be set to __record__.app.retriever.get_relevant_documents.rets[:].page_content .\n"
     ]
    }
   ],
   "source": [
    "f_qs_relevance = Feedback(openai_feedback_provider.qs_relevance).on_input().on(context).aggregate(np.mean)"
   ]
  },
  {
   "cell_type": "markdown",
   "metadata": {},
   "source": [
    "### Eval"
   ]
  },
  {
   "cell_type": "code",
   "execution_count": 173,
   "metadata": {},
   "outputs": [],
   "source": [
    "# wrap with TruLens\n",
    "chain_recorder = TruChain(\n",
    "    rag_chain,\n",
    "    app_id='Chain1_ChatApplication',\n",
    "    feedbacks=[\n",
    "        # f_lang_match,\n",
    "        # f_toxic,\n",
    "        # f_pii_detection,\n",
    "        # f_positive_sentiment,\n",
    "        f_qa_relevance,\n",
    "        # f_qs_relevance\n",
    "    ]\n",
    ")"
   ]
  },
  {
   "cell_type": "code",
   "execution_count": 178,
   "metadata": {},
   "outputs": [
    {
     "name": "stdout",
     "output_type": "stream",
     "text": [
      "## Medicare Part A: Hospital Insurance\n",
      "\n",
      "Medicare Part A, also known as Hospital Insurance, helps cover the costs of inpatient care in hospitals, skilled nursing facilities, hospice care, and home health care. This means it can help pay for services like:\n",
      "\n",
      "* **Hospital stays**: If you need to be admitted to a hospital, Part A can help cover the costs of your room, meals, nursing care, and other hospital services.\n",
      "* **Skilled nursing facility care**: If you need additional care after a hospital stay, Part A can help cover the costs of a skilled nursing facility. \n",
      "* **Hospice care**: If you have a terminal illness, Part A can help cover the costs of hospice care, which provides comfort and support to patients and their families.\n",
      "* **Home health care**: If you need skilled nursing care or physical therapy at home, Part A can help cover the costs of home health care.\n",
      "\n",
      "It's important to note that Part A has limitations, such as the number of days it will cover for each type of care. It's also important to be aware of the deductibles and coinsurance that may apply. \n",
      "\n"
     ]
    }
   ],
   "source": [
    "try:\n",
    "    with chain_recorder as recording:\n",
    "        response = rag_chain.invoke(\"Tell me about Medicare part A?\")\n",
    "        print(response)\n",
    "except Exception as e:\n",
    "    print(f\"An error exception occured: '{e}\")"
   ]
  },
  {
   "cell_type": "markdown",
   "metadata": {},
   "source": [
    "### Report"
   ]
  },
  {
   "cell_type": "code",
   "execution_count": 172,
   "metadata": {},
   "outputs": [
    {
     "name": "stdout",
     "output_type": "stream",
     "text": [
      "Starting dashboard ...\n",
      "Config file already exists. Skipping writing process.\n",
      "Credentials file already exists. Skipping writing process.\n",
      "Dashboard already running at path:   Network URL: http://192.168.86.25:8501\n",
      "\n"
     ]
    },
    {
     "data": {
      "text/plain": [
       "<Popen: returncode: None args: ['streamlit', 'run', '--server.headless=True'...>"
      ]
     },
     "execution_count": 172,
     "metadata": {},
     "output_type": "execute_result"
    }
   ],
   "source": [
    "tru.run_dashboard()"
   ]
  }
 ],
 "metadata": {
  "kernelspec": {
   "display_name": "base",
   "language": "python",
   "name": "python3"
  },
  "language_info": {
   "codemirror_mode": {
    "name": "ipython",
    "version": 3
   },
   "file_extension": ".py",
   "mimetype": "text/x-python",
   "name": "python",
   "nbconvert_exporter": "python",
   "pygments_lexer": "ipython3",
   "version": "3.11.8"
  }
 },
 "nbformat": 4,
 "nbformat_minor": 2
}
